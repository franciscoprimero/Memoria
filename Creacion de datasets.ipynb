{
 "cells": [
  {
   "cell_type": "markdown",
   "metadata": {},
   "source": [
    "# Estructura de la clase Dataset\n",
    "\n",
    "El dataset puede poseer dos estructuras según el método \"split_dataset\" haya sido ejecutado.\n",
    "\n",
    "* Cuando el método no ha sido ejecutado, la estructura es la siguiente:\n",
    "\n",
    "``` python\n",
    "Dataset = {\n",
    "    domains = ['domain_1',...,'domain_m']\n",
    "    \n",
    "    labeled = {\n",
    "        'domain_1': {'X': X, 'y': y},\n",
    "        .\n",
    "        .\n",
    "        .\n",
    "        'domain_m': {'X': X, 'y': y} \n",
    "    }\n",
    "    unlabeled = {\n",
    "        'domain_1': {'X': X},\n",
    "        .\n",
    "        .\n",
    "        .\n",
    "        'domain_m': {'X': X}\n",
    "    }\n",
    "}\n",
    "\n",
    "\n",
    "```\n",
    "\n",
    "\n",
    "* Cuando el método ha sido ejecutado, la estructura es:\n",
    "\n",
    "``` python\n",
    "Dataset = {\n",
    "    domains = ['domain_1',...,'domain_m']\n",
    "    \n",
    "    labeled = {\n",
    "        'domain_1': {'X_tr': X_tr, 'y_tr': y_tr, 'X_ts': X_ts, 'y_ts': y_ts},\n",
    "        .\n",
    "        .\n",
    "        .\n",
    "        'domain_m': {'X_tr': X_tr, 'y_tr': y_tr, 'X_ts': X_ts, 'y_ts': y_ts} \n",
    "    }\n",
    "    unlabeled = {\n",
    "        'domain_1': {'X_tr': X_tr, 'y_tr': y_tr, 'X_ts': X_ts, 'y_ts': y_ts},\n",
    "        .\n",
    "        .\n",
    "        .\n",
    "        'domain_m': {'X_tr': X_tr, 'y_tr': y_tr, 'X_ts': X_ts, 'y_ts': y_ts}\n",
    "    }\n",
    "}\n",
    "```\n"
   ]
  },
  {
   "cell_type": "code",
   "execution_count": 1,
   "metadata": {
    "collapsed": true
   },
   "outputs": [],
   "source": [
    "%load_ext autoreload\n",
    "%autoreload 2"
   ]
  },
  {
   "cell_type": "code",
   "execution_count": 2,
   "metadata": {
    "collapsed": true
   },
   "outputs": [],
   "source": [
    "#carga de datasets\n",
    "from utils.DatasetStorage import Dataset\n",
    "from utils.paths import *\n",
    "import numpy as np\n",
    "import os\n",
    "import pandas as pd"
   ]
  },
  {
   "cell_type": "code",
   "execution_count": 3,
   "metadata": {},
   "outputs": [
    {
     "name": "stdout",
     "output_type": "stream",
     "text": [
      "['amazon', 'twitter']\n"
     ]
    }
   ],
   "source": [
    "print datasets"
   ]
  },
  {
   "cell_type": "markdown",
   "metadata": {},
   "source": [
    "# Dataset de Amazon"
   ]
  },
  {
   "cell_type": "code",
   "execution_count": 4,
   "metadata": {},
   "outputs": [
    {
     "data": {
      "text/plain": [
       "3000"
      ]
     },
     "execution_count": 4,
     "metadata": {},
     "output_type": "execute_result"
    }
   ],
   "source": [
    "dims = dimensions['amazon']\n",
    "dims"
   ]
  },
  {
   "cell_type": "code",
   "execution_count": 5,
   "metadata": {
    "scrolled": false
   },
   "outputs": [
    {
     "name": "stdout",
     "output_type": "stream",
     "text": [
      "Leyendo directorio raw_data/multi-domain/processed_acl\n",
      "Leyendo dominio: \n",
      "- electronics\n",
      "- dvd\n",
      "- kitchen\n",
      "- books\n",
      "Procesando datos.\n",
      "\n",
      "Etiquetas:\n",
      "\tEtiqueta: positive - Valor: 1\n",
      "\tEtiqueta: negative - Valor: 0\n",
      "\n",
      "Guardando datos en data/amazon.pkl\n",
      "Operacion terminada.\n"
     ]
    }
   ],
   "source": [
    "# Crea el dataset de amazon con 3000 caracteristicas\n",
    "%run ./preprocesamiento.py --dataset amazon --dims $dims"
   ]
  },
  {
   "cell_type": "code",
   "execution_count": 6,
   "metadata": {},
   "outputs": [
    {
     "name": "stdout",
     "output_type": "stream",
     "text": [
      "['electronics', 'dvd', 'kitchen', 'books']\n"
     ]
    }
   ],
   "source": [
    "# Se comprueba que el dataset haya sido creado correctamente\n",
    "dataset_path = os.path.join(data_path, datasets[0]+'.pkl')\n",
    "dataset_object = Dataset().load(dataset_path)\n",
    "\n",
    "domains = dataset_object.domains\n",
    "\n",
    "print domains\n",
    "\n",
    "labeled = dataset_object.labeled\n",
    "unlabeled = dataset_object.unlabeled"
   ]
  },
  {
   "cell_type": "code",
   "execution_count": 7,
   "metadata": {
    "scrolled": true
   },
   "outputs": [
    {
     "name": "stdout",
     "output_type": "stream",
     "text": [
      "(27677, 3000)\n"
     ]
    }
   ],
   "source": [
    "instances = dataset_object.get_all_X()\n",
    "print instances.shape"
   ]
  },
  {
   "cell_type": "code",
   "execution_count": 11,
   "metadata": {},
   "outputs": [
    {
     "name": "stdout",
     "output_type": "stream",
     "text": [
      "Dataset already splitted\n",
      "(27677, 3000)\n"
     ]
    }
   ],
   "source": [
    "dataset_object.split_dataset(test_size=0.2)\n",
    "instances2 = dataset_object.get_all_X(test_data=True)\n",
    "print instances2.shape"
   ]
  },
  {
   "cell_type": "code",
   "execution_count": 9,
   "metadata": {},
   "outputs": [
    {
     "name": "stdout",
     "output_type": "stream",
     "text": [
      "(26077, 3000)\n"
     ]
    }
   ],
   "source": [
    "training_instances = dataset_object.get_all_X()\n",
    "print training_instances.shape"
   ]
  },
  {
   "cell_type": "code",
   "execution_count": 12,
   "metadata": {},
   "outputs": [
    {
     "data": {
      "text/html": [
       "<div>\n",
       "<style>\n",
       "    .dataframe thead tr:only-child th {\n",
       "        text-align: right;\n",
       "    }\n",
       "\n",
       "    .dataframe thead th {\n",
       "        text-align: left;\n",
       "    }\n",
       "\n",
       "    .dataframe tbody tr th {\n",
       "        vertical-align: top;\n",
       "    }\n",
       "</style>\n",
       "<table border=\"1\" class=\"dataframe\">\n",
       "  <thead>\n",
       "    <tr style=\"text-align: right;\">\n",
       "      <th></th>\n",
       "      <th>Dominio</th>\n",
       "      <th>Entrenamiento</th>\n",
       "      <th>% Pos</th>\n",
       "      <th>Prueba</th>\n",
       "      <th>% Pos</th>\n",
       "      <th>Total</th>\n",
       "    </tr>\n",
       "  </thead>\n",
       "  <tbody>\n",
       "    <tr>\n",
       "      <th>0</th>\n",
       "      <td>dvd</td>\n",
       "      <td>1600</td>\n",
       "      <td>50.0</td>\n",
       "      <td>400</td>\n",
       "      <td>49.0</td>\n",
       "      <td>2000</td>\n",
       "    </tr>\n",
       "    <tr>\n",
       "      <th>1</th>\n",
       "      <td>electronics</td>\n",
       "      <td>1600</td>\n",
       "      <td>50.0</td>\n",
       "      <td>400</td>\n",
       "      <td>49.0</td>\n",
       "      <td>2000</td>\n",
       "    </tr>\n",
       "    <tr>\n",
       "      <th>2</th>\n",
       "      <td>books</td>\n",
       "      <td>1600</td>\n",
       "      <td>50.0</td>\n",
       "      <td>400</td>\n",
       "      <td>49.0</td>\n",
       "      <td>2000</td>\n",
       "    </tr>\n",
       "    <tr>\n",
       "      <th>3</th>\n",
       "      <td>kitchen</td>\n",
       "      <td>1600</td>\n",
       "      <td>50.0</td>\n",
       "      <td>400</td>\n",
       "      <td>49.0</td>\n",
       "      <td>2000</td>\n",
       "    </tr>\n",
       "  </tbody>\n",
       "</table>\n",
       "</div>"
      ],
      "text/plain": [
       "       Dominio Entrenamiento % Pos Prueba % Pos Total\n",
       "0          dvd          1600  50.0    400  49.0  2000\n",
       "1  electronics          1600  50.0    400  49.0  2000\n",
       "2        books          1600  50.0    400  49.0  2000\n",
       "3      kitchen          1600  50.0    400  49.0  2000"
      ]
     },
     "execution_count": 12,
     "metadata": {},
     "output_type": "execute_result"
    }
   ],
   "source": [
    "df = pd.DataFrame(columns=['Dominio', 'Entrenamiento', \"% Pos\", 'Prueba', \"% Pos\", 'Total'])\n",
    "labeled = dataset_object.labeled\n",
    "\n",
    "i=0\n",
    "for domain in labeled:\n",
    "    tr = labeled[domain]['X_tr'].shape[0]\n",
    "    ts = labeled[domain]['X_ts'].shape[0]\n",
    "    \n",
    "    y_tr = labeled[domain]['y_tr'].todense().argmax(axis=1)\n",
    "    y_tr_pos = np.sum(y_tr)\n",
    "    y_tr_pos = int(100 * y_tr_pos / float(tr))\n",
    "    y_tr_pos = \"%.1f\" % y_tr_pos\n",
    "    \n",
    "    y_ts = labeled[domain]['y_ts'].todense().argmax(axis=1)\n",
    "    y_ts_pos = np.sum(y_ts)\n",
    "    y_ts_pos = int(100 * y_ts_pos / float(ts))\n",
    "    y_ts_pos = \"%.1f\" % y_ts_pos\n",
    "    \n",
    "    df.loc[i] = [domain,tr, y_tr_pos, ts, y_ts_pos,tr+ts]\n",
    "    i+=1\n",
    "df  "
   ]
  },
  {
   "cell_type": "code",
   "execution_count": 13,
   "metadata": {
    "collapsed": true
   },
   "outputs": [],
   "source": [
    "dataset_object.save(dataset_path)"
   ]
  },
  {
   "cell_type": "markdown",
   "metadata": {},
   "source": [
    "# Dataset de Twitter"
   ]
  },
  {
   "cell_type": "code",
   "execution_count": 14,
   "metadata": {},
   "outputs": [
    {
     "data": {
      "text/plain": [
       "2000"
      ]
     },
     "execution_count": 14,
     "metadata": {},
     "output_type": "execute_result"
    }
   ],
   "source": [
    "dims = dimensions['twitter']\n",
    "dims"
   ]
  },
  {
   "cell_type": "code",
   "execution_count": 15,
   "metadata": {},
   "outputs": [
    {
     "name": "stdout",
     "output_type": "stream",
     "text": [
      "Leyendo directorio raw_data/twitter\n",
      "Leyendo dominio: \n",
      "- rio2016\n",
      "- thevoice\n",
      "- general\n",
      "Procesando datos.\n",
      "\n",
      "Etiquetas:\n",
      "\tEtiqueta: positivo - Valor: 1\n",
      "\tEtiqueta: negativo - Valor: 0\n",
      "\n",
      "Guardando datos en data/twitter.pkl\n",
      "Operacion terminada.\n"
     ]
    }
   ],
   "source": [
    "%run ./preprocesamiento.py --dataset twitter --dims $dims"
   ]
  },
  {
   "cell_type": "code",
   "execution_count": 16,
   "metadata": {},
   "outputs": [
    {
     "name": "stdout",
     "output_type": "stream",
     "text": [
      "['rio2016', 'thevoice', 'general']\n"
     ]
    }
   ],
   "source": [
    "# Se comprueba que el dataset haya sido creado correctamente\n",
    "\n",
    "dataset_path = os.path.join(data_path, datasets[1]+'.pkl')\n",
    "dataset_object = Dataset().load(dataset_path)\n",
    "\n",
    "domains = dataset_object.domains\n",
    "\n",
    "print domains\n",
    "\n",
    "labeled = dataset_object.labeled"
   ]
  },
  {
   "cell_type": "code",
   "execution_count": 17,
   "metadata": {},
   "outputs": [
    {
     "name": "stdout",
     "output_type": "stream",
     "text": [
      "(5796, 2000)\n"
     ]
    }
   ],
   "source": [
    "instances = dataset_object.get_all_X()\n",
    "print instances.shape"
   ]
  },
  {
   "cell_type": "code",
   "execution_count": 18,
   "metadata": {},
   "outputs": [
    {
     "name": "stdout",
     "output_type": "stream",
     "text": [
      "(5796, 2000)\n"
     ]
    }
   ],
   "source": [
    "dataset_object.split_dataset(test_size=0.2)\n",
    "instances2 = dataset_object.get_all_X(test_data=True)\n",
    "print instances2.shape"
   ]
  },
  {
   "cell_type": "code",
   "execution_count": 19,
   "metadata": {},
   "outputs": [
    {
     "name": "stdout",
     "output_type": "stream",
     "text": [
      "(4635, 2000)\n"
     ]
    }
   ],
   "source": [
    "training_instances = dataset_object.get_all_X()\n",
    "print training_instances.shape"
   ]
  },
  {
   "cell_type": "code",
   "execution_count": 20,
   "metadata": {},
   "outputs": [
    {
     "data": {
      "text/html": [
       "<div>\n",
       "<style>\n",
       "    .dataframe thead tr:only-child th {\n",
       "        text-align: right;\n",
       "    }\n",
       "\n",
       "    .dataframe thead th {\n",
       "        text-align: left;\n",
       "    }\n",
       "\n",
       "    .dataframe tbody tr th {\n",
       "        vertical-align: top;\n",
       "    }\n",
       "</style>\n",
       "<table border=\"1\" class=\"dataframe\">\n",
       "  <thead>\n",
       "    <tr style=\"text-align: right;\">\n",
       "      <th></th>\n",
       "      <th>Dominio</th>\n",
       "      <th>Entrenamiento</th>\n",
       "      <th>% Pos</th>\n",
       "      <th>Prueba</th>\n",
       "      <th>% Pos</th>\n",
       "      <th>Total</th>\n",
       "    </tr>\n",
       "  </thead>\n",
       "  <tbody>\n",
       "    <tr>\n",
       "      <th>0</th>\n",
       "      <td>thevoice</td>\n",
       "      <td>519</td>\n",
       "      <td>51.0</td>\n",
       "      <td>130</td>\n",
       "      <td>49.0</td>\n",
       "      <td>649</td>\n",
       "    </tr>\n",
       "    <tr>\n",
       "      <th>1</th>\n",
       "      <td>rio2016</td>\n",
       "      <td>380</td>\n",
       "      <td>53.0</td>\n",
       "      <td>96</td>\n",
       "      <td>60.0</td>\n",
       "      <td>476</td>\n",
       "    </tr>\n",
       "    <tr>\n",
       "      <th>2</th>\n",
       "      <td>general</td>\n",
       "      <td>3736</td>\n",
       "      <td>46.0</td>\n",
       "      <td>935</td>\n",
       "      <td>47.0</td>\n",
       "      <td>4671</td>\n",
       "    </tr>\n",
       "  </tbody>\n",
       "</table>\n",
       "</div>"
      ],
      "text/plain": [
       "    Dominio Entrenamiento % Pos Prueba % Pos Total\n",
       "0  thevoice           519  51.0    130  49.0   649\n",
       "1   rio2016           380  53.0     96  60.0   476\n",
       "2   general          3736  46.0    935  47.0  4671"
      ]
     },
     "execution_count": 20,
     "metadata": {},
     "output_type": "execute_result"
    }
   ],
   "source": [
    "df = pd.DataFrame(columns=['Dominio', 'Entrenamiento', \"% Pos\", 'Prueba', \"% Pos\", 'Total'])\n",
    "labeled = dataset_object.labeled\n",
    "\n",
    "i=0\n",
    "for domain in labeled:\n",
    "    tr = labeled[domain]['X_tr'].shape[0]\n",
    "    ts = labeled[domain]['X_ts'].shape[0]\n",
    "    \n",
    "    y_tr = labeled[domain]['y_tr'].todense().argmax(axis=1)\n",
    "    y_tr_pos = np.sum(y_tr)\n",
    "    y_tr_pos = int(100 * y_tr_pos / float(tr))\n",
    "    y_tr_pos = \"%.1f\" % y_tr_pos\n",
    "    \n",
    "    y_ts = labeled[domain]['y_ts'].todense().argmax(axis=1)\n",
    "    y_ts_pos = np.sum(y_ts)\n",
    "    y_ts_pos = int(100 * y_ts_pos / float(ts))\n",
    "    y_ts_pos = \"%.1f\" % y_ts_pos\n",
    "    \n",
    "    df.loc[i] = [domain,tr, y_tr_pos, ts, y_ts_pos,tr+ts]\n",
    "    i+=1\n",
    "df    "
   ]
  },
  {
   "cell_type": "code",
   "execution_count": 22,
   "metadata": {
    "collapsed": true
   },
   "outputs": [],
   "source": [
    "dataset_object.save(dataset_path)"
   ]
  }
 ],
 "metadata": {
  "kernelspec": {
   "display_name": "Python 2",
   "language": "python",
   "name": "python2"
  },
  "language_info": {
   "codemirror_mode": {
    "name": "ipython",
    "version": 2
   },
   "file_extension": ".py",
   "mimetype": "text/x-python",
   "name": "python",
   "nbconvert_exporter": "python",
   "pygments_lexer": "ipython2",
   "version": "2.7.13"
  }
 },
 "nbformat": 4,
 "nbformat_minor": 1
}
