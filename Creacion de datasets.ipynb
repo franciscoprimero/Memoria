{
 "cells": [
  {
   "cell_type": "markdown",
   "metadata": {},
   "source": [
    "# Estructura de la clase Dataset\n",
    "\n",
    "El dataset puede poseer dos estructuras según el método \"split_dataset\" haya sido ejecutado.\n",
    "\n",
    "* Cuando el método no ha sido ejecutado, la estructura es la siguiente:\n",
    "\n",
    "``` python\n",
    "Dataset = {\n",
    "    domains = ['domain_1',...,'domain_m']\n",
    "    \n",
    "    labeled = {\n",
    "        'domain_1': {'X': X, 'y': y},\n",
    "        .\n",
    "        .\n",
    "        .\n",
    "        'domain_m': {'X': X, 'y': y} \n",
    "    }\n",
    "    unlabeled = {\n",
    "        'domain_1': {'X': X},\n",
    "        .\n",
    "        .\n",
    "        .\n",
    "        'domain_m': {'X': X}\n",
    "    }\n",
    "}\n",
    "\n",
    "\n",
    "```\n",
    "\n",
    "\n",
    "* Cuando el método ha sido ejecutado, la estructura es:\n",
    "\n",
    "``` python\n",
    "Dataset = {\n",
    "    domains = ['domain_1',...,'domain_m']\n",
    "    \n",
    "    labeled = {\n",
    "        'domain_1': {'X_tr': X_tr, 'y_tr': y_tr, 'X_ts': X_ts, 'y_ts': y_ts},\n",
    "        .\n",
    "        .\n",
    "        .\n",
    "        'domain_m': {'X_tr': X_tr, 'y_tr': y_tr, 'X_ts': X_ts, 'y_ts': y_ts} \n",
    "    }\n",
    "    unlabeled = {\n",
    "        'domain_1': {'X_tr': X_tr, 'y_tr': y_tr, 'X_ts': X_ts, 'y_ts': y_ts},\n",
    "        .\n",
    "        .\n",
    "        .\n",
    "        'domain_m': {'X_tr': X_tr, 'y_tr': y_tr, 'X_ts': X_ts, 'y_ts': y_ts}\n",
    "    }\n",
    "}\n",
    "```\n"
   ]
  },
  {
   "cell_type": "code",
   "execution_count": 1,
   "metadata": {
    "collapsed": true
   },
   "outputs": [],
   "source": [
    "#carga de datasets\n",
    "from utils.DatasetStorage import Dataset\n",
    "from utils.paths import *\n",
    "import numpy as np\n",
    "import os\n",
    "import pandas as pd"
   ]
  },
  {
   "cell_type": "code",
   "execution_count": 2,
   "metadata": {},
   "outputs": [
    {
     "name": "stdout",
     "output_type": "stream",
     "text": [
      "['amazon', 'twitter']\n"
     ]
    }
   ],
   "source": [
    "print datasets"
   ]
  },
  {
   "cell_type": "markdown",
   "metadata": {},
   "source": [
    "# Dataset de Amazon"
   ]
  },
  {
   "cell_type": "code",
   "execution_count": null,
   "metadata": {
    "scrolled": false
   },
   "outputs": [
    {
     "name": "stdout",
     "output_type": "stream",
     "text": [
      "Leyendo directorio raw_data/multi-domain/processed_acl\n",
      "Leyendo dominio: \n",
      "- electronics\n",
      "- dvd\n",
      "- kitchen\n",
      "- books\n",
      "Procesando datos.\n"
     ]
    }
   ],
   "source": [
    "# Crea el dataset de amazon con 5000 caracteristicas\n",
    "%run ./preprocesamiento.py --dataset amazon --dims 1000"
   ]
  },
  {
   "cell_type": "code",
   "execution_count": null,
   "metadata": {},
   "outputs": [],
   "source": [
    "# Se comprueba que el dataset haya sido creado correctamente\n",
    "dataset_path = os.path.join(data_path, datasets[0]+'.pkl')\n",
    "dataset_object = Dataset().load(dataset_path)\n",
    "\n",
    "domains = dataset_object.domains\n",
    "\n",
    "print domains\n",
    "\n",
    "labeled = dataset_object.labeled\n",
    "unlabeled = dataset_object.unlabeled"
   ]
  },
  {
   "cell_type": "code",
   "execution_count": null,
   "metadata": {
    "collapsed": true,
    "scrolled": true
   },
   "outputs": [],
   "source": [
    "instances = dataset_object.get_all_X()\n",
    "print instances.shape"
   ]
  },
  {
   "cell_type": "code",
   "execution_count": null,
   "metadata": {
    "collapsed": true
   },
   "outputs": [],
   "source": [
    "dataset_object.split_dataset(test_size=0.2)\n",
    "instances2 = dataset_object.get_all_X()\n",
    "print instances2.shape"
   ]
  },
  {
   "cell_type": "code",
   "execution_count": null,
   "metadata": {
    "collapsed": true
   },
   "outputs": [],
   "source": [
    "dataset_object.save(dataset_path)"
   ]
  },
  {
   "cell_type": "markdown",
   "metadata": {},
   "source": [
    "# Dataset de Twitter"
   ]
  },
  {
   "cell_type": "code",
   "execution_count": null,
   "metadata": {},
   "outputs": [],
   "source": [
    "%run ./preprocesamiento.py --dataset twitter --dims 2000"
   ]
  },
  {
   "cell_type": "code",
   "execution_count": null,
   "metadata": {},
   "outputs": [],
   "source": [
    "# Se comprueba que el dataset haya sido creado correctamente\n",
    "\n",
    "dataset_path = os.path.join(data_path, datasets[1]+'.pkl')\n",
    "dataset_object = Dataset().load(dataset_path)\n",
    "\n",
    "domains = dataset_object.domains\n",
    "\n",
    "print domains\n",
    "\n",
    "labeled = dataset_object.labeled"
   ]
  },
  {
   "cell_type": "code",
   "execution_count": null,
   "metadata": {},
   "outputs": [],
   "source": [
    "instances = dataset_object.get_all_X()\n",
    "print instances.shape"
   ]
  },
  {
   "cell_type": "code",
   "execution_count": null,
   "metadata": {},
   "outputs": [],
   "source": [
    "dataset_object.split_dataset(test_size=0.2)\n",
    "instances2 = dataset_object.get_all_X()\n",
    "print instances2.shape"
   ]
  },
  {
   "cell_type": "code",
   "execution_count": null,
   "metadata": {},
   "outputs": [],
   "source": [
    "df = pd.DataFrame(columns=['Dominio', 'Entrenamiento', 'Prueba', 'Total'])\n",
    "labeled = dataset_object.labeled\n",
    "\n",
    "i=0\n",
    "for domain in labeled:\n",
    "    tr = labeled[domain]['X_tr'].shape[0]\n",
    "    ts = labeled[domain]['X_ts'].shape[0]\n",
    "    df.loc[i] = [domain,tr,ts,tr+ts]\n",
    "    i+=1\n",
    "df    "
   ]
  },
  {
   "cell_type": "code",
   "execution_count": null,
   "metadata": {
    "collapsed": true
   },
   "outputs": [],
   "source": [
    "dataset_object.save(dataset_path)"
   ]
  }
 ],
 "metadata": {
  "kernelspec": {
   "display_name": "Python 2",
   "language": "python",
   "name": "python2"
  },
  "language_info": {
   "codemirror_mode": {
    "name": "ipython",
    "version": 2
   },
   "file_extension": ".py",
   "mimetype": "text/x-python",
   "name": "python",
   "nbconvert_exporter": "python",
   "pygments_lexer": "ipython2",
   "version": "2.7.13"
  }
 },
 "nbformat": 4,
 "nbformat_minor": 1
}
