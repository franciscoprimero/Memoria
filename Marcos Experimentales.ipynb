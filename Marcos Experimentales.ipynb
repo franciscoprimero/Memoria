{
 "cells": [
  {
   "cell_type": "markdown",
   "metadata": {},
   "source": [
    "# Marco 1"
   ]
  },
  {
   "cell_type": "markdown",
   "metadata": {},
   "source": [
    "Marco visto en los papers de SDA y mSDA.\n",
    "\n",
    "Usar todos los datos disponibles para entrenar"
   ]
  },
  {
   "cell_type": "markdown",
   "metadata": {},
   "source": [
    "1. Seleccionar todos los datos disponibles\n",
    "2. Por cada combinación de parámetros posibles entrenar un modelo y guardarlo.\n",
    "    * La ruta de guardado de cada modelo es: models/[dataset]/[metodo]/me1_[numero_de_modelo].pkl\n",
    "    * Todas las rutas son guardadas en un lista, y esta lista es guardada en: models/[dataset]/[metodo]/me1_rutas_modelos.pkl"
   ]
  },
  {
   "cell_type": "markdown",
   "metadata": {},
   "source": [
    "# Marco 2"
   ]
  },
  {
   "cell_type": "markdown",
   "metadata": {},
   "source": [
    "Marco visto en el paper de GFK.\n",
    "\n",
    "Usar solo los datos específicos de cada dominio para entrenar"
   ]
  }
 ],
 "metadata": {
  "kernelspec": {
   "display_name": "Python 2",
   "language": "python",
   "name": "python2"
  },
  "language_info": {
   "codemirror_mode": {
    "name": "ipython",
    "version": 2
   },
   "file_extension": ".py",
   "mimetype": "text/x-python",
   "name": "python",
   "nbconvert_exporter": "python",
   "pygments_lexer": "ipython2",
   "version": "2.7.13"
  }
 },
 "nbformat": 4,
 "nbformat_minor": 2
}
