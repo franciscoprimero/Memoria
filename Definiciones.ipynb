{
 "cells": [
  {
   "cell_type": "markdown",
   "metadata": {},
   "source": [
    "# Datasets"
   ]
  },
  {
   "cell_type": "markdown",
   "metadata": {},
   "source": [
    "## Amazon\n",
    "\n",
    "### El dataset Amazon posee las siguientes características:\n",
    "\n",
    "| Dominio     | Entrenamiento | Prueba |  % Negativos  | No Etiquetados |\n",
    "|-------------|---------------|--------|---------------|----------------|\n",
    "| books       |     1600      | 400    |      50%      |      4465      |\n",
    "| dvd         |     1600      | 400    |      50%      |      5945      |\n",
    "| electronics |     1600      | 400    |      50%      |      5681      |\n",
    "| kitchen     |     1600      | 400    |      50%      |      3586      |\n"
   ]
  },
  {
   "cell_type": "markdown",
   "metadata": {},
   "source": [
    "## Twitter\n",
    "\n",
    "### El dataset Twitter posee las siguientes características:\n",
    "\n",
    "| Dominio  | Entrenamiento | Prueba |  Total  |\n",
    "|----------|---------------|--------|---------|\n",
    "| thevoice |      518      |   130  |   648   |\n",
    "| rio2016  |      380      |   96   |   476   |\n"
   ]
  },
  {
   "cell_type": "code",
   "execution_count": null,
   "metadata": {
    "collapsed": true
   },
   "outputs": [],
   "source": []
  },
  {
   "cell_type": "markdown",
   "metadata": {},
   "source": [
    "# Métricas"
   ]
  },
  {
   "cell_type": "markdown",
   "metadata": {},
   "source": [
    "#### Transfer error ($e(S,T)$): El error de pruebas obtenido al entrenar un modelo en el dominio $S$ y probarlo en el dominio $T$.\n",
    "\n",
    "#### In-domain error ($e(T,T)$): El error de pruebas obtenido al entrenar un modelo en el dominio $T$ y probarlo en el dominio $T$.\n",
    "\n",
    "#### Baseline in-domain error ($e_b(T,T)$): In-domain error obtenido con el método baseline de prueba.\n",
    "\n",
    "#### Transfer loss ($t$): La diferencia entre transfer error e in-domain baseline error.  $t(S,T)=e(S,T)-e_b(T,T)$."
   ]
  }
 ],
 "metadata": {
  "kernelspec": {
   "display_name": "Python 2",
   "language": "python",
   "name": "python2"
  },
  "language_info": {
   "codemirror_mode": {
    "name": "ipython",
    "version": 2
   },
   "file_extension": ".py",
   "mimetype": "text/x-python",
   "name": "python",
   "nbconvert_exporter": "python",
   "pygments_lexer": "ipython2",
   "version": "2.7.13"
  }
 },
 "nbformat": 4,
 "nbformat_minor": 2
}
