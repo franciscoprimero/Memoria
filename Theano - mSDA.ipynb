{
 "cells": [
  {
   "cell_type": "code",
   "execution_count": 2,
   "metadata": {
    "collapsed": true
   },
   "outputs": [],
   "source": [
    "import numpy as np\n",
    "from theano import function\n",
    "import theano.tensor.slinalg\n",
    "import theano.tensor as T\n",
    "\n",
    "from sklearn.model_selection import GridSearchCV\n",
    "from sklearn.svm import SVC\n",
    "import timeit\n",
    "\n",
    "rng = np.random"
   ]
  },
  {
   "cell_type": "code",
   "execution_count": 3,
   "metadata": {
    "collapsed": true
   },
   "outputs": [],
   "source": [
    "class mDA(object):\n",
    "    def __init__(self, input):\n",
    "        self.input = input\n",
    "        \n",
    "        self.W = T.dmatrix(\"W\")\n",
    "        self.Xh = T.dmatrix(\"Xh\")\n",
    "        \n",
    "        self.output = T.tanh(T.dot(self.W, self.Xh))\n",
    "        \n",
    "    \n",
    "    def get_mapping(self, pr):\n",
    "        # X=[X;ones(1,size(X,2))];\n",
    "        X = T.concatenate([self.input, T.ones((1, self.input.shape[1]))], axis=0)\n",
    "        \n",
    "        #d=size(X,1);\n",
    "        d = X.shape[0]\n",
    "        \n",
    "        #q=[ones(d-1,1).*(1-p); 1];\n",
    "        q = T.concatenate([T.ones((d-1,1)) * (1-pr), T.ones((1,1))], axis=0)\n",
    "        \n",
    "        #S=X*X’;\n",
    "        S = T.dot(X, X.T)\n",
    "        \n",
    "        #Q=S.*(q*q’);\n",
    "        Q = S * T.dot(q, q.T)\n",
    "        \n",
    "        #Q(1:d+1:end)=q.*diag(S);\n",
    "        Q -= (T.eye(Q.shape[0]) * Q.diagonal())\n",
    "        Q += T.eye(Q.shape[0]) * T.diagonal(q*S.diagonal())\n",
    "        \n",
    "        #P=S.*repmat(q’,d,1);\n",
    "        P = S * T.extra_ops.repeat(q.T, d, 0)\n",
    "        \n",
    "        #W=P(1:end-1,:)/(Q+1e-5*eye(d));\n",
    "        \n",
    "        A = Q + 10**-5*T.eye(d)\n",
    "        B = P\n",
    "        \n",
    "        self.W = T.slinalg.solve(A.T,B.T)[:-1,:]\n",
    "        self.Xh = T.tanh(T.dot(self.W, X))\n",
    "        \n",
    "        return self.W, self.Xh\n",
    "    \n",
    "    def predict(self, X, W):\n",
    "        X = T.concatenate([X, T.ones((1, X.shape[1]))], axis=0)\n",
    "        #return T.tanh(T.dot(mapping, X))\n",
    "        return T.tanh(T.dot(W, X))\n",
    "\n",
    "\n",
    "class mSDA(object):\n",
    "    def __init__(self, input, l, pr):\n",
    "        self.input = input\n",
    "        self.l = l\n",
    "        self.pr = pr\n",
    "        \n",
    "        self.mDA_layers = []\n",
    "        self.W_layers = []\n",
    "        \n",
    "        for i in xrange(self.l):\n",
    "            if i==0:\n",
    "                layer_input = self.input\n",
    "            else:\n",
    "                layer_input = self.mDA_layers[-1].output\n",
    "        \n",
    "            mda = mDA(layer_input)\n",
    "            \n",
    "            self.mDA_layers.append(mda)\n",
    "    \n",
    "    def train_fns(self):\n",
    "        fns = []\n",
    "        for mda in self.mDA_layers:\n",
    "            W, Xh = mda.get_mapping(self.pr)\n",
    "            train_mda = function(\n",
    "                [mda.input],\n",
    "                [W, Xh]\n",
    "            )\n",
    "            \n",
    "            fns.append(train_mda)\n",
    "        \n",
    "        return fns\n",
    "    \n",
    "    def fit(self, X):\n",
    "        training_fns = self.train_fns()\n",
    "        \n",
    "        start_time = timeit.default_timer()\n",
    "\n",
    "        inputs = [X]\n",
    "\n",
    "        i = 1\n",
    "        for fn in training_fns:\n",
    "            print \"Entrenando capa \", i\n",
    "            W, Xh = fn(inputs[-1].T)\n",
    "\n",
    "            inputs.append(Xh.T)\n",
    "\n",
    "            self.W_layers.append(W)\n",
    "\n",
    "            i += 1\n",
    "\n",
    "        end_time = timeit.default_timer()\n",
    "\n",
    "        tiempo = (end_time - start_time)/60.\n",
    "        print \"Entrenado en %.2fm\\n\" % (tiempo)\n",
    "\n",
    "        return tiempo\n",
    "    \n",
    "    def predict(self, X):\n",
    "        Xhs = [X]\n",
    "        \n",
    "        for i in xrange(self.l):\n",
    "            mda = self.mDA_layers[i]\n",
    "            W = self.W_layers[i]\n",
    "\n",
    "            x2 = T.dmatrix('x')\n",
    "            W2 = T.dmatrix('w')\n",
    "\n",
    "            y = mda.predict(x2, W2)\n",
    "            \n",
    "            \n",
    "            pred = function(\n",
    "                [x2, W2],\n",
    "                y\n",
    "            )\n",
    "            \n",
    "            print \"W: \", W.shape\n",
    "            \n",
    "            Xh = pred(Xhs[i], W)\n",
    "            \n",
    "            print \"Pred: \", Xh.shape\n",
    "            \n",
    "            Xhs.append(Xh)\n",
    "        \n",
    "        return Xhs[-1]"
   ]
  },
  {
   "cell_type": "code",
   "execution_count": 4,
   "metadata": {},
   "outputs": [],
   "source": [
    "x = T.dmatrix('x')\n",
    "# Dataset ficticio formado por 1000 ejemplos de dimension 500\n",
    "\n",
    "samples = 25000\n",
    "n_test = 400\n",
    "features = 2000\n",
    "\n",
    "D_train = (rng.randint(0,2, (samples, features)), rng.randint(0,2,(samples, )))\n",
    "D_test = (rng.randint(0,2, (n_test, features)), rng.randint(0,2,(n_test, )))\n",
    "\n",
    "D_all = np.vstack([D_train[0], D_test[0]])\n",
    "\n",
    "\n",
    "l = 5\n",
    "pr = 0.7\n"
   ]
  },
  {
   "cell_type": "code",
   "execution_count": 5,
   "metadata": {},
   "outputs": [
    {
     "name": "stdout",
     "output_type": "stream",
     "text": [
      "Entrenando capa  1\n"
     ]
    },
    {
     "ename": "MemoryError",
     "evalue": "alloc failed\nApply node that caused the error: Alloc(InplaceDimShuffle{1,x,0}.0, TensorConstant{1}, Elemwise{Add}[(0, 1)].0, Elemwise{Add}[(0, 1)].0)\nToposort index: 17\nInputs types: [TensorType(float64, (True, True, False)), TensorType(int64, scalar), TensorType(int64, scalar), TensorType(int64, scalar)]\nInputs shapes: [(1, 1, 25401), (), (), ()]\nInputs strides: [(203208, 203208, 8), (), (), ()]\nInputs values: ['not shown', array(1), array(25401), array(25401)]\nOutputs clients: [[Reshape{2}(Alloc.0, MakeVector{dtype='int64'}.0)]]\n\nBacktrace when the node is created(use Theano flag traceback.limit=N to make it longer):\n  File \"/home/francisco/miniconda2/envs/env_memoria/lib/python2.7/site-packages/ipykernel/zmqshell.py\", line 533, in run_cell\n    return super(ZMQInteractiveShell, self).run_cell(*args, **kwargs)\n  File \"/home/francisco/miniconda2/envs/env_memoria/lib/python2.7/site-packages/IPython/core/interactiveshell.py\", line 2717, in run_cell\n    interactivity=interactivity, compiler=compiler, result=result)\n  File \"/home/francisco/miniconda2/envs/env_memoria/lib/python2.7/site-packages/IPython/core/interactiveshell.py\", line 2827, in run_ast_nodes\n    if self.run_code(code, result):\n  File \"/home/francisco/miniconda2/envs/env_memoria/lib/python2.7/site-packages/IPython/core/interactiveshell.py\", line 2881, in run_code\n    exec(code_obj, self.user_global_ns, self.user_ns)\n  File \"<ipython-input-5-a545a9246351>\", line 3, in <module>\n    msda.fit(D_all.T)\n  File \"<ipython-input-3-93825bdc2c98>\", line 83, in fit\n    training_fns = self.train_fns()\n  File \"<ipython-input-3-93825bdc2c98>\", line 72, in train_fns\n    W, Xh = mda.get_mapping(self.pr)\n  File \"<ipython-input-3-93825bdc2c98>\", line 32, in get_mapping\n    P = S * T.extra_ops.repeat(q.T, d, 0)\n\nHINT: Use the Theano flag 'exception_verbosity=high' for a debugprint and storage map footprint of this apply node.",
     "output_type": "error",
     "traceback": [
      "\u001b[0;31m---------------------------------------------------------------------------\u001b[0m",
      "\u001b[0;31mMemoryError\u001b[0m                               Traceback (most recent call last)",
      "\u001b[0;32m<ipython-input-5-a545a9246351>\u001b[0m in \u001b[0;36m<module>\u001b[0;34m()\u001b[0m\n\u001b[1;32m      1\u001b[0m \u001b[0mmsda\u001b[0m \u001b[0;34m=\u001b[0m \u001b[0mmSDA\u001b[0m\u001b[0;34m(\u001b[0m\u001b[0mx\u001b[0m\u001b[0;34m,\u001b[0m \u001b[0ml\u001b[0m\u001b[0;34m,\u001b[0m \u001b[0mpr\u001b[0m\u001b[0;34m)\u001b[0m\u001b[0;34m\u001b[0m\u001b[0m\n\u001b[1;32m      2\u001b[0m \u001b[0;31m#training_fns = msda.train_fns()\u001b[0m\u001b[0;34m\u001b[0m\u001b[0;34m\u001b[0m\u001b[0m\n\u001b[0;32m----> 3\u001b[0;31m \u001b[0mmsda\u001b[0m\u001b[0;34m.\u001b[0m\u001b[0mfit\u001b[0m\u001b[0;34m(\u001b[0m\u001b[0mD_all\u001b[0m\u001b[0;34m.\u001b[0m\u001b[0mT\u001b[0m\u001b[0;34m)\u001b[0m\u001b[0;34m\u001b[0m\u001b[0m\n\u001b[0m",
      "\u001b[0;32m<ipython-input-3-93825bdc2c98>\u001b[0m in \u001b[0;36mfit\u001b[0;34m(self, X)\u001b[0m\n\u001b[1;32m     90\u001b[0m         \u001b[0;32mfor\u001b[0m \u001b[0mfn\u001b[0m \u001b[0;32min\u001b[0m \u001b[0mtraining_fns\u001b[0m\u001b[0;34m:\u001b[0m\u001b[0;34m\u001b[0m\u001b[0m\n\u001b[1;32m     91\u001b[0m             \u001b[0;32mprint\u001b[0m \u001b[0;34m\"Entrenando capa \"\u001b[0m\u001b[0;34m,\u001b[0m \u001b[0mi\u001b[0m\u001b[0;34m\u001b[0m\u001b[0m\n\u001b[0;32m---> 92\u001b[0;31m             \u001b[0mW\u001b[0m\u001b[0;34m,\u001b[0m \u001b[0mXh\u001b[0m \u001b[0;34m=\u001b[0m \u001b[0mfn\u001b[0m\u001b[0;34m(\u001b[0m\u001b[0minputs\u001b[0m\u001b[0;34m[\u001b[0m\u001b[0;34m-\u001b[0m\u001b[0;36m1\u001b[0m\u001b[0;34m]\u001b[0m\u001b[0;34m.\u001b[0m\u001b[0mT\u001b[0m\u001b[0;34m)\u001b[0m\u001b[0;34m\u001b[0m\u001b[0m\n\u001b[0m\u001b[1;32m     93\u001b[0m \u001b[0;34m\u001b[0m\u001b[0m\n\u001b[1;32m     94\u001b[0m             \u001b[0minputs\u001b[0m\u001b[0;34m.\u001b[0m\u001b[0mappend\u001b[0m\u001b[0;34m(\u001b[0m\u001b[0mXh\u001b[0m\u001b[0;34m.\u001b[0m\u001b[0mT\u001b[0m\u001b[0;34m)\u001b[0m\u001b[0;34m\u001b[0m\u001b[0m\n",
      "\u001b[0;32m/home/francisco/miniconda2/envs/env_memoria/lib/python2.7/site-packages/theano/compile/function_module.pyc\u001b[0m in \u001b[0;36m__call__\u001b[0;34m(self, *args, **kwargs)\u001b[0m\n\u001b[1;32m    896\u001b[0m                     \u001b[0mnode\u001b[0m\u001b[0;34m=\u001b[0m\u001b[0mself\u001b[0m\u001b[0;34m.\u001b[0m\u001b[0mfn\u001b[0m\u001b[0;34m.\u001b[0m\u001b[0mnodes\u001b[0m\u001b[0;34m[\u001b[0m\u001b[0mself\u001b[0m\u001b[0;34m.\u001b[0m\u001b[0mfn\u001b[0m\u001b[0;34m.\u001b[0m\u001b[0mposition_of_error\u001b[0m\u001b[0;34m]\u001b[0m\u001b[0;34m,\u001b[0m\u001b[0;34m\u001b[0m\u001b[0m\n\u001b[1;32m    897\u001b[0m                     \u001b[0mthunk\u001b[0m\u001b[0;34m=\u001b[0m\u001b[0mthunk\u001b[0m\u001b[0;34m,\u001b[0m\u001b[0;34m\u001b[0m\u001b[0m\n\u001b[0;32m--> 898\u001b[0;31m                     storage_map=getattr(self.fn, 'storage_map', None))\n\u001b[0m\u001b[1;32m    899\u001b[0m             \u001b[0;32melse\u001b[0m\u001b[0;34m:\u001b[0m\u001b[0;34m\u001b[0m\u001b[0m\n\u001b[1;32m    900\u001b[0m                 \u001b[0;31m# old-style linkers raise their own exceptions\u001b[0m\u001b[0;34m\u001b[0m\u001b[0;34m\u001b[0m\u001b[0m\n",
      "\u001b[0;32m/home/francisco/miniconda2/envs/env_memoria/lib/python2.7/site-packages/theano/gof/link.pyc\u001b[0m in \u001b[0;36mraise_with_op\u001b[0;34m(node, thunk, exc_info, storage_map)\u001b[0m\n\u001b[1;32m    323\u001b[0m         \u001b[0;31m# extra long error message in that case.\u001b[0m\u001b[0;34m\u001b[0m\u001b[0;34m\u001b[0m\u001b[0m\n\u001b[1;32m    324\u001b[0m         \u001b[0;32mpass\u001b[0m\u001b[0;34m\u001b[0m\u001b[0m\n\u001b[0;32m--> 325\u001b[0;31m     \u001b[0mreraise\u001b[0m\u001b[0;34m(\u001b[0m\u001b[0mexc_type\u001b[0m\u001b[0;34m,\u001b[0m \u001b[0mexc_value\u001b[0m\u001b[0;34m,\u001b[0m \u001b[0mexc_trace\u001b[0m\u001b[0;34m)\u001b[0m\u001b[0;34m\u001b[0m\u001b[0m\n\u001b[0m\u001b[1;32m    326\u001b[0m \u001b[0;34m\u001b[0m\u001b[0m\n\u001b[1;32m    327\u001b[0m \u001b[0;34m\u001b[0m\u001b[0m\n",
      "\u001b[0;32m/home/francisco/miniconda2/envs/env_memoria/lib/python2.7/site-packages/theano/compile/function_module.pyc\u001b[0m in \u001b[0;36m__call__\u001b[0;34m(self, *args, **kwargs)\u001b[0m\n\u001b[1;32m    882\u001b[0m         \u001b[0;32mtry\u001b[0m\u001b[0;34m:\u001b[0m\u001b[0;34m\u001b[0m\u001b[0m\n\u001b[1;32m    883\u001b[0m             \u001b[0moutputs\u001b[0m \u001b[0;34m=\u001b[0m\u001b[0;31m\\\u001b[0m\u001b[0;34m\u001b[0m\u001b[0m\n\u001b[0;32m--> 884\u001b[0;31m                 \u001b[0mself\u001b[0m\u001b[0;34m.\u001b[0m\u001b[0mfn\u001b[0m\u001b[0;34m(\u001b[0m\u001b[0;34m)\u001b[0m \u001b[0;32mif\u001b[0m \u001b[0moutput_subset\u001b[0m \u001b[0;32mis\u001b[0m \u001b[0mNone\u001b[0m \u001b[0;32melse\u001b[0m\u001b[0;31m\\\u001b[0m\u001b[0;34m\u001b[0m\u001b[0m\n\u001b[0m\u001b[1;32m    885\u001b[0m                 \u001b[0mself\u001b[0m\u001b[0;34m.\u001b[0m\u001b[0mfn\u001b[0m\u001b[0;34m(\u001b[0m\u001b[0moutput_subset\u001b[0m\u001b[0;34m=\u001b[0m\u001b[0moutput_subset\u001b[0m\u001b[0;34m)\u001b[0m\u001b[0;34m\u001b[0m\u001b[0m\n\u001b[1;32m    886\u001b[0m         \u001b[0;32mexcept\u001b[0m \u001b[0mException\u001b[0m\u001b[0;34m:\u001b[0m\u001b[0;34m\u001b[0m\u001b[0m\n",
      "\u001b[0;31mMemoryError\u001b[0m: alloc failed\nApply node that caused the error: Alloc(InplaceDimShuffle{1,x,0}.0, TensorConstant{1}, Elemwise{Add}[(0, 1)].0, Elemwise{Add}[(0, 1)].0)\nToposort index: 17\nInputs types: [TensorType(float64, (True, True, False)), TensorType(int64, scalar), TensorType(int64, scalar), TensorType(int64, scalar)]\nInputs shapes: [(1, 1, 25401), (), (), ()]\nInputs strides: [(203208, 203208, 8), (), (), ()]\nInputs values: ['not shown', array(1), array(25401), array(25401)]\nOutputs clients: [[Reshape{2}(Alloc.0, MakeVector{dtype='int64'}.0)]]\n\nBacktrace when the node is created(use Theano flag traceback.limit=N to make it longer):\n  File \"/home/francisco/miniconda2/envs/env_memoria/lib/python2.7/site-packages/ipykernel/zmqshell.py\", line 533, in run_cell\n    return super(ZMQInteractiveShell, self).run_cell(*args, **kwargs)\n  File \"/home/francisco/miniconda2/envs/env_memoria/lib/python2.7/site-packages/IPython/core/interactiveshell.py\", line 2717, in run_cell\n    interactivity=interactivity, compiler=compiler, result=result)\n  File \"/home/francisco/miniconda2/envs/env_memoria/lib/python2.7/site-packages/IPython/core/interactiveshell.py\", line 2827, in run_ast_nodes\n    if self.run_code(code, result):\n  File \"/home/francisco/miniconda2/envs/env_memoria/lib/python2.7/site-packages/IPython/core/interactiveshell.py\", line 2881, in run_code\n    exec(code_obj, self.user_global_ns, self.user_ns)\n  File \"<ipython-input-5-a545a9246351>\", line 3, in <module>\n    msda.fit(D_all.T)\n  File \"<ipython-input-3-93825bdc2c98>\", line 83, in fit\n    training_fns = self.train_fns()\n  File \"<ipython-input-3-93825bdc2c98>\", line 72, in train_fns\n    W, Xh = mda.get_mapping(self.pr)\n  File \"<ipython-input-3-93825bdc2c98>\", line 32, in get_mapping\n    P = S * T.extra_ops.repeat(q.T, d, 0)\n\nHINT: Use the Theano flag 'exception_verbosity=high' for a debugprint and storage map footprint of this apply node."
     ]
    }
   ],
   "source": [
    "msda = mSDA(x, l, pr)\n",
    "#training_fns = msda.train_fns()\n",
    "msda.fit(D_all.T)"
   ]
  },
  {
   "cell_type": "code",
   "execution_count": 7,
   "metadata": {},
   "outputs": [
    {
     "name": "stdout",
     "output_type": "stream",
     "text": [
      "W:  (2000, 2001)\n",
      "Pred:  (2000, 400)\n",
      "W:  (2000, 2001)\n",
      "Pred:  (2000, 400)\n",
      "W:  (2000, 2001)\n",
      "Pred:  (2000, 400)\n",
      "W:  (2000, 2001)\n",
      "Pred:  (2000, 400)\n",
      "W:  (2000, 2001)\n",
      "Pred:  (2000, 400)\n"
     ]
    }
   ],
   "source": [
    "X_new = msda.predict(D_test[0].T)"
   ]
  },
  {
   "cell_type": "code",
   "execution_count": 8,
   "metadata": {
    "collapsed": true
   },
   "outputs": [],
   "source": [
    "\n",
    "\n",
    "tuned_parameters = [{'kernel': ['linear'], 'C': [1, 10, 100, 1000]}]\n",
    "\n",
    "\n",
    "clf1 = GridSearchCV(SVC(), tuned_parameters, n_jobs=4)\n",
    "clf2 = GridSearchCV(SVC(), tuned_parameters, n_jobs=4)"
   ]
  },
  {
   "cell_type": "code",
   "execution_count": 9,
   "metadata": {},
   "outputs": [
    {
     "name": "stdout",
     "output_type": "stream",
     "text": [
      "(400, 2000)\n",
      "(2000, 400)\n",
      "(400,)\n"
     ]
    }
   ],
   "source": [
    "print D_test[0].shape\n",
    "print X_new.shape\n",
    "print D_test[1].shape"
   ]
  },
  {
   "cell_type": "code",
   "execution_count": 10,
   "metadata": {},
   "outputs": [
    {
     "name": "stdout",
     "output_type": "stream",
     "text": [
      "0.51\n",
      "0.53\n"
     ]
    }
   ],
   "source": [
    "clf1 = clf1.fit(D_test[0], D_test[1])\n",
    "print clf1.best_score_\n",
    "\n",
    "clf2 = clf2.fit(X_new.T, D_test[1])\n",
    "print clf2.best_score_\n",
    "\n"
   ]
  }
 ],
 "metadata": {
  "kernelspec": {
   "display_name": "Python 2",
   "language": "python",
   "name": "python2"
  },
  "language_info": {
   "codemirror_mode": {
    "name": "ipython",
    "version": 2
   },
   "file_extension": ".py",
   "mimetype": "text/x-python",
   "name": "python",
   "nbconvert_exporter": "python",
   "pygments_lexer": "ipython2",
   "version": "2.7.13"
  }
 },
 "nbformat": 4,
 "nbformat_minor": 2
}
