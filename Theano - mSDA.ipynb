{
 "cells": [
  {
   "cell_type": "code",
   "execution_count": 3,
   "metadata": {
    "collapsed": true
   },
   "outputs": [],
   "source": [
    "import numpy as np\n",
    "from theano import function\n",
    "import theano.tensor.slinalg\n",
    "import theano.tensor as T\n",
    "\n",
    "from sklearn.model_selection import GridSearchCV\n",
    "from sklearn.svm import SVC\n",
    "import timeit\n",
    "\n",
    "rng = np.random"
   ]
  },
  {
   "cell_type": "code",
   "execution_count": 86,
   "metadata": {
    "collapsed": true
   },
   "outputs": [],
   "source": [
    "class mDA(object):\n",
    "    def __init__(self, input):\n",
    "        self.input = input\n",
    "        \n",
    "        self.W = T.dmatrix(\"W\")\n",
    "        self.Xh = T.dmatrix(\"Xh\")\n",
    "        \n",
    "        self.output = T.tanh(T.dot(self.W, self.Xh))\n",
    "        \n",
    "    \n",
    "    def get_mapping(self, pr):\n",
    "        X = T.transpose(self.input)\n",
    "        \n",
    "        # X=[X;ones(1,size(X,2))];\n",
    "        X = T.concatenate([X, T.ones((1, X.shape[1]))], axis=0)\n",
    "        \n",
    "        #d=size(X,1);\n",
    "        d = X.shape[0]\n",
    "        \n",
    "        #q=[ones(d-1,1).*(1-p); 1];\n",
    "        q = T.concatenate([T.ones((d-1,1)) * (1-pr), T.ones((1,1))], axis=0)\n",
    "        \n",
    "        #S=X*X’;\n",
    "        S = T.dot(X, X.T)\n",
    "        \n",
    "        #Q=S.*(q*q’);\n",
    "        Q = S * T.dot(q, q.T)\n",
    "        \n",
    "        #Q(1:d+1:end)=q.*diag(S);\n",
    "        Q -= (T.eye(Q.shape[0]) * Q.diagonal())\n",
    "        Q += T.eye(Q.shape[0]) * T.diagonal(q*S.diagonal())\n",
    "        \n",
    "        #P=S.*repmat(q’,d,1);\n",
    "        P = S * T.extra_ops.repeat(q.T, d, 0)\n",
    "        \n",
    "        #W=P(1:end-1,:)/(Q+1e-5*eye(d));\n",
    "        \n",
    "        A = Q + 10**-5*T.eye(d)\n",
    "        B = P\n",
    "        \n",
    "        self.W = T.slinalg.solve(A.T,B.T)[:-1,:]\n",
    "        self.Xh = T.tanh(T.dot(self.W, X)).T\n",
    "        \n",
    "        return self.W, self.Xh\n",
    "    \n",
    "    def predict(self, X, W):\n",
    "        X = T.concatenate([X.T, T.ones((1, X.T.shape[1]))], axis=0)\n",
    "        #return T.tanh(T.dot(mapping, X))\n",
    "        pred = T.tanh(T.dot(W, X))\n",
    "        return pred.T\n",
    "\n",
    "\n",
    "class mSDA(object):\n",
    "    def __init__(self, input, l, pr):\n",
    "        self.input = input\n",
    "        self.l = l\n",
    "        self.pr = pr\n",
    "        \n",
    "        self.mDA_layers = []\n",
    "        self.W_layers = []\n",
    "        \n",
    "        for i in xrange(self.l):\n",
    "            if i==0:\n",
    "                layer_input = self.input\n",
    "            else:\n",
    "                layer_input = self.mDA_layers[-1].output\n",
    "        \n",
    "            mda = mDA(layer_input)\n",
    "            \n",
    "            self.mDA_layers.append(mda)\n",
    "    \n",
    "    def train_fns(self):\n",
    "        fns = []\n",
    "        for mda in self.mDA_layers:\n",
    "            W, Xh = mda.get_mapping(self.pr)\n",
    "            train_mda = function(\n",
    "                [mda.input],\n",
    "                [W, Xh]\n",
    "            )\n",
    "            \n",
    "            fns.append(train_mda)\n",
    "        \n",
    "        return fns\n",
    "    \n",
    "    def fit(self, X):\n",
    "        training_fns = self.train_fns()\n",
    "        \n",
    "        start_time = timeit.default_timer()\n",
    "\n",
    "        inputs = [X]\n",
    "\n",
    "        i = 1\n",
    "        for fn in training_fns:\n",
    "            print \"Entrenando capa \", i\n",
    "            W, Xh = fn(inputs[-1])\n",
    "\n",
    "            inputs.append(Xh)\n",
    "\n",
    "            self.W_layers.append(W)\n",
    "\n",
    "            i += 1\n",
    "\n",
    "        end_time = timeit.default_timer()\n",
    "\n",
    "        tiempo = (end_time - start_time)/60.\n",
    "        print \"Entrenado en %.2fm\\n\" % (tiempo)\n",
    "\n",
    "        return tiempo\n",
    "    \n",
    "    def predict(self, X):\n",
    "        Xhs = [X]\n",
    "        \n",
    "        for i in xrange(self.l):\n",
    "            mda = self.mDA_layers[i]\n",
    "            W = self.W_layers[i]\n",
    "\n",
    "            x2 = T.dmatrix('x')\n",
    "            W2 = T.dmatrix('w')\n",
    "\n",
    "            y = mda.predict(x2, W2)\n",
    "            \n",
    "            \n",
    "            pred = function(\n",
    "                [x2, W2],\n",
    "                y\n",
    "            )\n",
    "            \n",
    "            Xh = pred(Xhs[i], W)\n",
    "            Xhs.append(Xh)\n",
    "        \n",
    "        return Xhs[-1]"
   ]
  },
  {
   "cell_type": "markdown",
   "metadata": {},
   "source": [
    "# Entrenar solo el mda"
   ]
  },
  {
   "cell_type": "code",
   "execution_count": 82,
   "metadata": {},
   "outputs": [],
   "source": [
    "x = T.dmatrix('x')\n",
    "# Dataset ficticio formado por 1000 ejemplos de dimension 500\n",
    "\n",
    "samples = 10000\n",
    "n_test = 400\n",
    "features = 3000\n",
    "\n",
    "D_train = (rng.randint(0,2, (samples, features)), rng.randint(0,2,(samples, )))\n",
    "D_test = (rng.randint(0,2, (n_test, features)), rng.randint(0,2,(n_test, )))\n",
    "\n",
    "D_all = np.vstack([D_train[0], D_test[0]])\n",
    "\n",
    "\n",
    "l = 3\n",
    "pr = 0.7\n"
   ]
  },
  {
   "cell_type": "code",
   "execution_count": 83,
   "metadata": {},
   "outputs": [
    {
     "name": "stdout",
     "output_type": "stream",
     "text": [
      "(10000, 3000)\n",
      "(10400, 3000)\n"
     ]
    }
   ],
   "source": [
    "print D_train[0].shape\n",
    "print D_all.shape"
   ]
  },
  {
   "cell_type": "code",
   "execution_count": 62,
   "metadata": {},
   "outputs": [],
   "source": [
    "mda = mDA(x)\n",
    "\n",
    "W, Xh = mda.get_mapping(0.5)\n",
    "train_mda = function(\n",
    "    [mda.input],\n",
    "    [W, Xh]\n",
    ")\n",
    "\n",
    "\n"
   ]
  },
  {
   "cell_type": "code",
   "execution_count": 63,
   "metadata": {},
   "outputs": [],
   "source": [
    "Wr, Xhr = train_mda(D_train[0])"
   ]
  },
  {
   "cell_type": "code",
   "execution_count": 64,
   "metadata": {},
   "outputs": [
    {
     "data": {
      "text/plain": [
       "(10, 20)"
      ]
     },
     "execution_count": 64,
     "metadata": {},
     "output_type": "execute_result"
    }
   ],
   "source": [
    "\n",
    "Xhr.shape"
   ]
  },
  {
   "cell_type": "code",
   "execution_count": 65,
   "metadata": {},
   "outputs": [],
   "source": [
    "Wn = T.dmatrix('Wn')\n",
    "Xn = T.dmatrix('Xn')\n",
    "\n",
    "y = mda.predict(W=Wn, X=Xn)\n",
    "#y = T.concatenate([Xn.T, T.ones((1, Xn.T.shape[1]))], axis=0)\n",
    "\n",
    "predict = function(\n",
    "    [Xn,Wn],\n",
    "    y\n",
    ")"
   ]
  },
  {
   "cell_type": "code",
   "execution_count": 66,
   "metadata": {},
   "outputs": [
    {
     "name": "stdout",
     "output_type": "stream",
     "text": [
      "(40, 20)\n"
     ]
    },
    {
     "data": {
      "text/plain": [
       "(40, 20)"
      ]
     },
     "execution_count": 66,
     "metadata": {},
     "output_type": "execute_result"
    }
   ],
   "source": [
    "print D_test[0].shape\n",
    "predict(D_test[0], Wr).shape"
   ]
  },
  {
   "cell_type": "markdown",
   "metadata": {},
   "source": [
    "# Entrenar el mSDA"
   ]
  },
  {
   "cell_type": "code",
   "execution_count": 84,
   "metadata": {},
   "outputs": [
    {
     "name": "stdout",
     "output_type": "stream",
     "text": [
      "Entrenando capa  1\n",
      "Entrenando capa  2\n",
      "Entrenando capa  3\n",
      "Entrenado en 7.64m\n",
      "\n"
     ]
    },
    {
     "data": {
      "text/plain": [
       "7.637819584210714"
      ]
     },
     "execution_count": 84,
     "metadata": {},
     "output_type": "execute_result"
    }
   ],
   "source": [
    "msda = mSDA(x, l, pr)\n",
    "#training_fns = msda.train_fns()\n",
    "msda.fit(D_all)"
   ]
  },
  {
   "cell_type": "code",
   "execution_count": 92,
   "metadata": {},
   "outputs": [
    {
     "name": "stdout",
     "output_type": "stream",
     "text": [
      "Entrenando capa  1\n",
      "Entrenando capa  2\n",
      "Entrenando capa  3\n",
      "Entrenado en 7.17m\n",
      "\n"
     ]
    }
   ],
   "source": [
    "training_fns = msda.train_fns()\n",
    "        \n",
    "start_time = timeit.default_timer()\n",
    "\n",
    "inputs = [D_all]\n",
    "\n",
    "i = 1\n",
    "for fn in training_fns:\n",
    "    print \"Entrenando capa \", i\n",
    "    W, Xh = fn(inputs[-1])\n",
    "\n",
    "    inputs.append(Xh)\n",
    "\n",
    "    msda.W_layers.append(W)\n",
    "\n",
    "    i += 1\n",
    "\n",
    "end_time = timeit.default_timer()\n",
    "\n",
    "tiempo = (end_time - start_time)/60.\n",
    "print \"Entrenado en %.2fm\\n\" % (tiempo)"
   ]
  },
  {
   "cell_type": "code",
   "execution_count": 85,
   "metadata": {},
   "outputs": [
    {
     "name": "stdout",
     "output_type": "stream",
     "text": [
      "W:  (3000, 3001)\n",
      "Pred:  (400, 3000)\n",
      "W:  (3000, 3001)\n",
      "Pred:  (400, 3000)\n",
      "W:  (3000, 3001)\n",
      "Pred:  (400, 3000)\n"
     ]
    }
   ],
   "source": [
    "X_new = msda.predict(D_test[0])"
   ]
  },
  {
   "cell_type": "code",
   "execution_count": 87,
   "metadata": {},
   "outputs": [
    {
     "name": "stdout",
     "output_type": "stream",
     "text": [
      "(10400, 3000)\n",
      "(400, 3000)\n"
     ]
    }
   ],
   "source": [
    "print D_all.shape\n",
    "print X_new.shape"
   ]
  },
  {
   "cell_type": "code",
   "execution_count": 88,
   "metadata": {
    "collapsed": true
   },
   "outputs": [],
   "source": [
    "\n",
    "\n",
    "tuned_parameters = [{'kernel': ['linear'], 'C': [1, 10, 100, 1000]}]\n",
    "\n",
    "\n",
    "clf1 = GridSearchCV(SVC(), tuned_parameters, n_jobs=4)\n",
    "clf2 = GridSearchCV(SVC(), tuned_parameters, n_jobs=4)"
   ]
  },
  {
   "cell_type": "code",
   "execution_count": 89,
   "metadata": {},
   "outputs": [
    {
     "name": "stdout",
     "output_type": "stream",
     "text": [
      "(400, 3000)\n",
      "(400, 3000)\n",
      "(400,)\n"
     ]
    }
   ],
   "source": [
    "print D_test[0].shape\n",
    "print X_new.shape\n",
    "print D_test[1].shape"
   ]
  },
  {
   "cell_type": "code",
   "execution_count": 91,
   "metadata": {},
   "outputs": [
    {
     "name": "stdout",
     "output_type": "stream",
     "text": [
      "0.545\n",
      "0.49\n"
     ]
    }
   ],
   "source": [
    "clf1 = clf1.fit(D_test[0], D_test[1])\n",
    "print clf1.best_score_\n",
    "\n",
    "clf2 = clf2.fit(X_new, D_test[1])\n",
    "print clf2.best_score_\n",
    "\n"
   ]
  }
 ],
 "metadata": {
  "kernelspec": {
   "display_name": "Python 2",
   "language": "python",
   "name": "python2"
  },
  "language_info": {
   "codemirror_mode": {
    "name": "ipython",
    "version": 2
   },
   "file_extension": ".py",
   "mimetype": "text/x-python",
   "name": "python",
   "nbconvert_exporter": "python",
   "pygments_lexer": "ipython2",
   "version": "2.7.13"
  }
 },
 "nbformat": 4,
 "nbformat_minor": 2
}
