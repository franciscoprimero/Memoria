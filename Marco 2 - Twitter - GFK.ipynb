{
 "cells": [
  {
   "cell_type": "markdown",
   "metadata": {},
   "source": [
    "# GFK"
   ]
  },
  {
   "cell_type": "code",
   "execution_count": 1,
   "metadata": {
    "collapsed": true
   },
   "outputs": [],
   "source": [
    "%load_ext autoreload\n",
    "%autoreload 2"
   ]
  },
  {
   "cell_type": "code",
   "execution_count": 2,
   "metadata": {},
   "outputs": [
    {
     "name": "stderr",
     "output_type": "stream",
     "text": [
      "Using Theano backend.\n",
      "/home/francisco/miniconda2/envs/env_memoria/lib/python2.7/site-packages/sklearn/cross_validation.py:44: DeprecationWarning: This module was deprecated in version 0.18 in favor of the model_selection module into which all the refactored classes and functions are moved. Also note that the interface of the new CV iterators are different from that of this module. This module will be removed in 0.20.\n",
      "  \"This module will be removed in 0.20.\", DeprecationWarning)\n",
      "/home/francisco/miniconda2/envs/env_memoria/lib/python2.7/site-packages/sklearn/grid_search.py:43: DeprecationWarning: This module was deprecated in version 0.18 in favor of the model_selection module into which all the refactored classes and functions are moved. This module will be removed in 0.20.\n",
      "  DeprecationWarning)\n"
     ]
    }
   ],
   "source": [
    "#adaptacion\n",
    "from utils.adaptacion import gfk_grid_search, transform_gfk\n",
    "\n",
    "#clasificadores\n",
    "from utils.clasificacion import *\n",
    "\n",
    "#carga de datasets\n",
    "from utils.DatasetStorage import Dataset\n",
    "from utils.paths import *\n",
    "\n",
    "#otros\n",
    "import os\n",
    "import numpy as np\n",
    "import pandas as pd\n",
    "from sklearn.externals import joblib\n",
    "\n",
    "#variables para guardar los resultados\n",
    "tipo = pruebas[2]\n",
    "dataset_name = datasets[1]\n",
    "dims = dimensions[dataset_name]"
   ]
  },
  {
   "cell_type": "markdown",
   "metadata": {},
   "source": [
    "## Pruebas con el dataset Twitter"
   ]
  },
  {
   "cell_type": "code",
   "execution_count": 3,
   "metadata": {},
   "outputs": [
    {
     "name": "stdout",
     "output_type": "stream",
     "text": [
      "gfk\n",
      "twitter\n",
      "1000\n",
      "data\n"
     ]
    }
   ],
   "source": [
    "print tipo\n",
    "print dataset_name\n",
    "print dims\n",
    "print data_path"
   ]
  },
  {
   "cell_type": "code",
   "execution_count": 4,
   "metadata": {},
   "outputs": [
    {
     "name": "stdout",
     "output_type": "stream",
     "text": [
      "Dataset already splitted\n"
     ]
    }
   ],
   "source": [
    "# cargando dataset Twitter\n",
    "dataset_path = os.path.join(data_path, dataset_name+'.pkl')\n",
    "dataset_object = Dataset().load(dataset_path)\n",
    "\n",
    "dataset_object.split_dataset(test_size=0.2)\n",
    "\n",
    "labeled = dataset_object.labeled\n",
    "domains = dataset_object.domains"
   ]
  },
  {
   "cell_type": "markdown",
   "metadata": {},
   "source": [
    "# Adaptación\n",
    "\n",
    "## Creación de modelos de adaptación.\n",
    "\n",
    "Por cada par de dominios se entrenan distintos modelos según los parámetros establecidos.\n",
    "Al entrenar cada modelo, este es inmediatamente probado, siendo almacenado o descartado según su desempeño.\n",
    "\n",
    "Cada modelo es guardado en la ruta: models/twitter/gfk/me2\\_[dominio\\_fuente]_[dominio\\_objetivo].pkl\n",
    "\n",
    "### Creación de modelos de adaptación."
   ]
  },
  {
   "cell_type": "code",
   "execution_count": 5,
   "metadata": {},
   "outputs": [
    {
     "name": "stdout",
     "output_type": "stream",
     "text": [
      "Adaptando entre:\n",
      "thevoice - general\n",
      "\tn: 10 - d: 250"
     ]
    },
    {
     "name": "stderr",
     "output_type": "stream",
     "text": [
      "/home/francisco/miniconda2/envs/env_memoria/lib/python2.7/site-packages/sklearn/svm/base.py:220: ConvergenceWarning: Solver terminated early (max_iter=50000).  Consider pre-processing your data with StandardScaler or MinMaxScaler.\n",
      "  % self.max_iter, ConvergenceWarning)\n",
      "/home/francisco/miniconda2/envs/env_memoria/lib/python2.7/site-packages/sklearn/svm/base.py:220: ConvergenceWarning: Solver terminated early (max_iter=50000).  Consider pre-processing your data with StandardScaler or MinMaxScaler.\n",
      "  % self.max_iter, ConvergenceWarning)\n",
      "/home/francisco/miniconda2/envs/env_memoria/lib/python2.7/site-packages/sklearn/svm/base.py:220: ConvergenceWarning: Solver terminated early (max_iter=50000).  Consider pre-processing your data with StandardScaler or MinMaxScaler.\n",
      "  % self.max_iter, ConvergenceWarning)\n",
      "/home/francisco/miniconda2/envs/env_memoria/lib/python2.7/site-packages/sklearn/svm/base.py:220: ConvergenceWarning: Solver terminated early (max_iter=50000).  Consider pre-processing your data with StandardScaler or MinMaxScaler.\n",
      "  % self.max_iter, ConvergenceWarning)\n",
      "/home/francisco/miniconda2/envs/env_memoria/lib/python2.7/site-packages/sklearn/svm/base.py:220: ConvergenceWarning: Solver terminated early (max_iter=50000).  Consider pre-processing your data with StandardScaler or MinMaxScaler.\n",
      "  % self.max_iter, ConvergenceWarning)\n"
     ]
    },
    {
     "name": "stdout",
     "output_type": "stream",
     "text": [
      " 0.794558745316\n",
      "\tn: 20 - d: 250 0.790439926838\n",
      "\tn: 50 - d: 250 0.849876332529\n",
      "\tn: 10 - d: 500 0.795734124481\n",
      "\tn: 20 - d: 500 0.790215256754\n",
      "\tn: 50 - d: 500 0.849876332529\n",
      "\tMejor modelo: 0.850\n",
      "\tGuardando modelo en models/twitter/gfk/me2_thevoice_general.pkl\n",
      "thevoice - rio2016\n",
      "\tn: 10 - d: 250 0.765208586636\n",
      "\tn: 20 - d: 250 0.825013491119\n",
      "\tn: 50 - d: 250 0.86492367441\n",
      "\tn: 10 - d: 500 0.765208586636\n",
      "\tn: 20 - d: 500 0.825013491119\n",
      "\tn: 50 - d: 500 0.86492367441\n",
      "\tMejor modelo: 0.865\n",
      "\tGuardando modelo en models/twitter/gfk/me2_thevoice_rio2016.pkl\n",
      "general - thevoice\n",
      "\tn: 10 - d: 250 0.662931982099\n",
      "\tn: 20 - d: 250 0.685654972825\n",
      "\tn: 50 - d: 250 0.706242949594\n",
      "\tn: 10 - d: 500 0.664104540797\n",
      "\tn: 20 - d: 500 0.685654972825\n",
      "\tn: 50 - d: 500 0.706250155458\n",
      "\tMejor modelo: 0.706\n",
      "\tGuardando modelo en models/twitter/gfk/me2_general_thevoice.pkl\n",
      "general - rio2016\n",
      "\tn: 10 - d: 250 0.665476762275\n",
      "\tn: 20 - d: 250 0.684953211083\n",
      "\tn: 50 - d: 250 0.704330206762\n",
      "\tn: 10 - d: 500 0.665384049608\n",
      "\tn: 20 - d: 500 0.686583098864\n",
      "\tn: 50 - d: 500 0.704330206762\n",
      "\tMejor modelo: 0.704\n",
      "\tGuardando modelo en models/twitter/gfk/me2_general_rio2016.pkl\n",
      "rio2016 - thevoice\n",
      "\tn: 10 - d: 250 0.803344947735\n",
      "\tn: 20 - d: 250 0.865087108014\n",
      "\tn: 50 - d: 250 0.875679442509\n",
      "\tn: 10 - d: 500 0.782299651568\n",
      "\tn: 20 - d: 500 0.851846689895\n",
      "\tn: 50 - d: 500 0.877770034843\n",
      "\tMejor modelo: 0.878\n",
      "\tGuardando modelo en models/twitter/gfk/me2_rio2016_thevoice.pkl\n",
      "rio2016 - general\n",
      "\tn: 10 - d: 250 0.813797909408\n",
      "\tn: 20 - d: 250 0.850592334495\n",
      "\tn: 50 - d: 250 0.875679442509\n",
      "\tn: 10 - d: 500 0.790522648084\n",
      "\tn: 20 - d: 500 0.850034843206\n",
      "\tn: 50 - d: 500 0.883344947735\n",
      "\tMejor modelo: 0.883\n",
      "\tGuardando modelo en models/twitter/gfk/me2_rio2016_general.pkl\n",
      "\n",
      "Adaptaciones completadas\n"
     ]
    }
   ],
   "source": [
    "models_paths = os.path.join(models_path, dataset_name, tipo, 'me2_models_paths.pkl')\n",
    "\n",
    "parameters = {\n",
    "    'dims': [int(dims/4), int(dims/2)],\n",
    "    'n_subs': [10, 20, 50]\n",
    "}\n",
    "\n",
    "#por cada par se entrena un adaptador y se guarda el que mejor resultados entrega\n",
    "print \"Adaptando entre:\"\n",
    "for src in domains:\n",
    "    for tgt in domains:\n",
    "        if src is not tgt:\n",
    "            print \"%s - %s\" % (src, tgt)\n",
    "            X_src = np.asarray(labeled[src]['X_tr'].todense())\n",
    "            y_src = np.asarray(labeled[src]['y_tr'].todense()).argmax(axis=1)\n",
    "\n",
    "            X_tgt = np.asarray(labeled[tgt]['X_tr'].todense())\n",
    "            \n",
    "            \n",
    "            gfk, score = gfk_grid_search(X_src, y_src, X_tgt, parameters, n_jobs=4)\n",
    "            print \"\\tMejor modelo: %.3f\" % score\n",
    "            \n",
    "            folder_path = os.path.join(models_path, dataset_name, tipo)\n",
    "            prefix = \"me2_\" + src + \"_\" + tgt + \".pkl\"\n",
    "            \n",
    "            best_model_save_path = os.path.join(folder_path, prefix)\n",
    "            print \"\\tGuardando modelo en %s\" % best_model_save_path\n",
    "            joblib.dump(gfk, best_model_save_path)\n",
    "\n",
    "print \"\\nAdaptaciones completadas\""
   ]
  },
  {
   "cell_type": "markdown",
   "metadata": {
    "collapsed": true
   },
   "source": [
    "### Pruebas de clasificación"
   ]
  },
  {
   "cell_type": "code",
   "execution_count": 6,
   "metadata": {},
   "outputs": [
    {
     "name": "stdout",
     "output_type": "stream",
     "text": [
      "Tarea 1 de 6\n",
      "Cargando modelo existente.\n",
      "Adaptando dominios...\n",
      "Tarea 2 de 6\n",
      "Cargando modelo existente.\n",
      "Adaptando dominios...\n",
      "Tarea 3 de 6\n",
      "Cargando modelo existente.\n",
      "Adaptando dominios...\n",
      "Tarea 4 de 6\n",
      "Cargando modelo existente.\n",
      "Adaptando dominios...\n",
      "Tarea 5 de 6\n",
      "Cargando modelo existente.\n",
      "Adaptando dominios...\n",
      "Tarea 6 de 6\n",
      "Cargando modelo existente.\n",
      "Adaptando dominios...\n",
      "\n",
      "Pruebas completadas.\n"
     ]
    }
   ],
   "source": [
    "df = pd.DataFrame(columns=dataframe_columns)\n",
    "\n",
    "i=1\n",
    "tareas = len(domains)*(len(domains)-1)\n",
    "\n",
    "# por cada par posible para adaptar\n",
    "for src in domains:\n",
    "    for tgt in domains:\n",
    "        if src is not tgt:\n",
    "            print \"Tarea %d de %d\" % (i, tareas)\n",
    "            \n",
    "            #baseline in-domain error\n",
    "            #e_b(T,T)\n",
    "            #entrenado en dominio tgt y probado en dominio tgt\n",
    "            X_tr = np.asarray(labeled[tgt]['X_tr'].todense())\n",
    "            y_tr = np.asarray(labeled[tgt]['y_tr'].todense()).argmax(axis=1)\n",
    "            \n",
    "            X_ts = np.asarray(labeled[tgt]['X_ts'].todense())\n",
    "            y_ts = np.asarray(labeled[tgt]['y_ts'].todense()).argmax(axis=1)\n",
    "            \n",
    "            # se crean las rutas para cargar o crear los modelos\n",
    "            model_name = \"%s.pkl\" % (tgt)\n",
    "            model_path = os.path.join(models_path, dataset_name, \"indomain\", model_name)\n",
    "            \n",
    "            #Se realiza una clasificacion, estimando los parametros mediante cv\n",
    "            svc = load_best_score(model_path, X_tr, y_tr)\n",
    "            b_error = 1-svc.score(X_ts, y_ts)\n",
    "            \n",
    "            #############\n",
    "            #### GFK ####\n",
    "            #############\n",
    "            # se adaptan los dominios usando GFK\n",
    "            print \"Adaptando dominios...\"\n",
    "            folder_path = os.path.join(models_path, dataset_name, tipo)\n",
    "            prefix = \"me2_\" + src + \"_\" + tgt + \".pkl\"\n",
    "            \n",
    "            best_model_save_path = os.path.join(folder_path, prefix)\n",
    "            \n",
    "            gfk = joblib.load(best_model_save_path)\n",
    "            \n",
    "            \n",
    "            X_tr = np.asarray(labeled[src]['X_tr'].todense())\n",
    "            X_tr_a = transform_gfk(X_tr, gfk)\n",
    "            y_tr = np.asarray(labeled[src]['y_tr'].todense()).argmax(axis=1)\n",
    "            \n",
    "            X_ts = np.asarray(labeled[tgt]['X_ts'].todense())\n",
    "            X_ts_a = transform_gfk(X_ts, gfk)\n",
    "            y_ts = np.asarray(labeled[tgt]['y_ts'].todense()).argmax(axis=1)\n",
    "            \n",
    "            clf = get_best_score(X_tr_a, y_tr, classifier='SVC', n_jobs=4)\n",
    "            t_error = 1-clf.score(X_ts_a, y_ts)\n",
    "            \n",
    "            \n",
    "            # transfer loss t\n",
    "            # t_error - b_error\n",
    "            t_loss = t_error - b_error\n",
    "            \n",
    "            tarea = src[0]+'->'+tgt[0]\n",
    "            df.loc[i] = ['GFK',tarea,src,tgt,b_error*100,t_error*100, t_loss*100]\n",
    "            \n",
    "            i += 1\n",
    "            \n",
    "print \"\\nPruebas completadas.\""
   ]
  },
  {
   "cell_type": "code",
   "execution_count": 7,
   "metadata": {},
   "outputs": [
    {
     "data": {
      "text/html": [
       "<div>\n",
       "<style>\n",
       "    .dataframe thead tr:only-child th {\n",
       "        text-align: right;\n",
       "    }\n",
       "\n",
       "    .dataframe thead th {\n",
       "        text-align: left;\n",
       "    }\n",
       "\n",
       "    .dataframe tbody tr th {\n",
       "        vertical-align: top;\n",
       "    }\n",
       "</style>\n",
       "<table border=\"1\" class=\"dataframe\">\n",
       "  <thead>\n",
       "    <tr style=\"text-align: right;\">\n",
       "      <th></th>\n",
       "      <th>Adaptacion</th>\n",
       "      <th>Tarea</th>\n",
       "      <th>Fuente</th>\n",
       "      <th>Objetivo</th>\n",
       "      <th>Baseline error</th>\n",
       "      <th>Transfer error</th>\n",
       "      <th>Transfer loss</th>\n",
       "    </tr>\n",
       "  </thead>\n",
       "  <tbody>\n",
       "    <tr>\n",
       "      <th>1</th>\n",
       "      <td>GFK</td>\n",
       "      <td>t-&gt;g</td>\n",
       "      <td>thevoice</td>\n",
       "      <td>general</td>\n",
       "      <td>46.524064</td>\n",
       "      <td>40.692161</td>\n",
       "      <td>-5.831903</td>\n",
       "    </tr>\n",
       "    <tr>\n",
       "      <th>2</th>\n",
       "      <td>GFK</td>\n",
       "      <td>t-&gt;r</td>\n",
       "      <td>thevoice</td>\n",
       "      <td>rio2016</td>\n",
       "      <td>58.333333</td>\n",
       "      <td>29.764065</td>\n",
       "      <td>-28.569268</td>\n",
       "    </tr>\n",
       "    <tr>\n",
       "      <th>3</th>\n",
       "      <td>GFK</td>\n",
       "      <td>g-&gt;t</td>\n",
       "      <td>general</td>\n",
       "      <td>thevoice</td>\n",
       "      <td>50.000000</td>\n",
       "      <td>24.431818</td>\n",
       "      <td>-25.568182</td>\n",
       "    </tr>\n",
       "    <tr>\n",
       "      <th>4</th>\n",
       "      <td>GFK</td>\n",
       "      <td>g-&gt;r</td>\n",
       "      <td>general</td>\n",
       "      <td>rio2016</td>\n",
       "      <td>58.333333</td>\n",
       "      <td>21.143376</td>\n",
       "      <td>-37.189958</td>\n",
       "    </tr>\n",
       "    <tr>\n",
       "      <th>5</th>\n",
       "      <td>GFK</td>\n",
       "      <td>r-&gt;t</td>\n",
       "      <td>rio2016</td>\n",
       "      <td>thevoice</td>\n",
       "      <td>50.000000</td>\n",
       "      <td>25.378788</td>\n",
       "      <td>-24.621212</td>\n",
       "    </tr>\n",
       "    <tr>\n",
       "      <th>6</th>\n",
       "      <td>GFK</td>\n",
       "      <td>r-&gt;g</td>\n",
       "      <td>rio2016</td>\n",
       "      <td>general</td>\n",
       "      <td>46.524064</td>\n",
       "      <td>42.678812</td>\n",
       "      <td>-3.845252</td>\n",
       "    </tr>\n",
       "  </tbody>\n",
       "</table>\n",
       "</div>"
      ],
      "text/plain": [
       "  Adaptacion Tarea    Fuente  Objetivo  Baseline error  Transfer error  \\\n",
       "1        GFK  t->g  thevoice   general       46.524064       40.692161   \n",
       "2        GFK  t->r  thevoice   rio2016       58.333333       29.764065   \n",
       "3        GFK  g->t   general  thevoice       50.000000       24.431818   \n",
       "4        GFK  g->r   general   rio2016       58.333333       21.143376   \n",
       "5        GFK  r->t   rio2016  thevoice       50.000000       25.378788   \n",
       "6        GFK  r->g   rio2016   general       46.524064       42.678812   \n",
       "\n",
       "   Transfer loss  \n",
       "1      -5.831903  \n",
       "2     -28.569268  \n",
       "3     -25.568182  \n",
       "4     -37.189958  \n",
       "5     -24.621212  \n",
       "6      -3.845252  "
      ]
     },
     "execution_count": 7,
     "metadata": {},
     "output_type": "execute_result"
    }
   ],
   "source": [
    "df"
   ]
  },
  {
   "cell_type": "code",
   "execution_count": 9,
   "metadata": {},
   "outputs": [
    {
     "name": "stdout",
     "output_type": "stream",
     "text": [
      "Guardando en scores/twitter/gfk/me2_1000.csv\n",
      "Resultados guardados.\n"
     ]
    }
   ],
   "source": [
    "new_scores_path = os.path.join(scores_path,dataset_name, tipo, \"me2_%d.csv\" % (dims))\n",
    "\n",
    "print \"Guardando en %s\" % new_scores_path\n",
    "df.to_csv(new_scores_path, columns=df.columns)\n",
    "print \"Resultados guardados.\""
   ]
  }
 ],
 "metadata": {
  "kernelspec": {
   "display_name": "Python 2",
   "language": "python",
   "name": "python2"
  },
  "language_info": {
   "codemirror_mode": {
    "name": "ipython",
    "version": 2
   },
   "file_extension": ".py",
   "mimetype": "text/x-python",
   "name": "python",
   "nbconvert_exporter": "python",
   "pygments_lexer": "ipython2",
   "version": "2.7.13"
  }
 },
 "nbformat": 4,
 "nbformat_minor": 2
}
