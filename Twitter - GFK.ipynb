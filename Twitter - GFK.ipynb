{
 "cells": [
  {
   "cell_type": "markdown",
   "metadata": {},
   "source": [
    "# GFK"
   ]
  },
  {
   "cell_type": "code",
   "execution_count": 6,
   "metadata": {
    "collapsed": true
   },
   "outputs": [],
   "source": [
    "%load_ext autoreload\n",
    "%autoreload 2"
   ]
  },
  {
   "cell_type": "code",
   "execution_count": 8,
   "metadata": {
    "collapsed": true
   },
   "outputs": [],
   "source": [
    "#adaptacion\n",
    "from utils.adaptacion import *\n",
    "\n",
    "#clasificadores\n",
    "from sklearn.neighbors import KNeighborsClassifier\n",
    "from sklearn.svm import SVC\n",
    "from utils.clasificacion import *\n",
    "\n",
    "#carga de datasets\n",
    "from utils.DatasetStorage import Dataset\n",
    "from utils.paths import *\n",
    "\n",
    "#otros\n",
    "import os\n",
    "import numpy as np\n",
    "import pandas as pd\n",
    "\n",
    "#variables para guardar los resultados\n",
    "tipo = pruebas[2]\n",
    "dataset_name = datasets[1]\n",
    "dims = dimensions[dataset_name]"
   ]
  },
  {
   "cell_type": "markdown",
   "metadata": {},
   "source": [
    "## Pruebas con el dataset Twitter"
   ]
  },
  {
   "cell_type": "code",
   "execution_count": 2,
   "metadata": {},
   "outputs": [
    {
     "name": "stdout",
     "output_type": "stream",
     "text": [
      "gfk\n",
      "twitter\n",
      "2000\n",
      "data\n"
     ]
    }
   ],
   "source": [
    "print tipo\n",
    "print dataset_name\n",
    "print dims\n",
    "print data_path"
   ]
  },
  {
   "cell_type": "code",
   "execution_count": 3,
   "metadata": {
    "collapsed": true
   },
   "outputs": [],
   "source": [
    "# cargando dataset Twitter\n",
    "dataset_path = os.path.join(data_path, dataset_name+'.pkl')\n",
    "dataset_object = Dataset().load(dataset_path)\n",
    "\n",
    "dataset_object.split_dataset(test_size=0.2)\n",
    "\n",
    "labeled = dataset_object.labeled\n",
    "domains = dataset_object.domains"
   ]
  },
  {
   "cell_type": "markdown",
   "metadata": {},
   "source": [
    "### Creación de modelos de adaptación."
   ]
  },
  {
   "cell_type": "code",
   "execution_count": 4,
   "metadata": {},
   "outputs": [
    {
     "name": "stdout",
     "output_type": "stream",
     "text": [
      "Adaptando entre:\n",
      "rio2016 - thevoice\n"
     ]
    },
    {
     "name": "stderr",
     "output_type": "stream",
     "text": [
      "/home/francisco/miniconda2/envs/env_memoria/lib/python2.7/site-packages/sklearn/metrics/classification.py:1113: UndefinedMetricWarning: Precision is ill-defined and being set to 0.0 in labels with no predicted samples.\n",
      "  'precision', 'predicted', average, warn_for)\n"
     ]
    },
    {
     "name": "stdout",
     "output_type": "stream",
     "text": [
      "Mejor modelo: 0.749\n",
      "Guardando modelo en models/gfk/twitter_rio2016_thevoice.pkl\n",
      "thevoice - rio2016\n",
      "Mejor modelo: 0.735\n",
      "Guardando modelo en models/gfk/twitter_thevoice_rio2016.pkl\n",
      "Adaptaciones completadas\n"
     ]
    }
   ],
   "source": [
    "#por cada par se entrena un adaptador y se guarda el que mejor resultados entrega\n",
    "\n",
    "size_dims = [int(dims/4), int(dims/2)]\n",
    "n_subs = [10, 50, 100]\n",
    "\n",
    "parameters = {\n",
    "    'dims': size_dims,\n",
    "    'n_subs': n_subs\n",
    "}\n",
    "\n",
    "\n",
    "print \"Adaptando entre:\"\n",
    "for src in domains:\n",
    "    for tgt in domains:\n",
    "        if src is not tgt:\n",
    "            print \"%s - %s\" % (src, tgt)\n",
    "            X_tr = np.asarray(labeled[src]['X_tr'][:, :dims].todense())\n",
    "            y_tr = np.asarray(labeled[src]['y_tr'].todense()).argmax(axis=1)\n",
    "\n",
    "            X_ts = np.asarray(labeled[tgt]['X_ts'][:, :dims].todense())\n",
    "            y_ts = np.asarray(labeled[tgt]['y_ts'].todense()).argmax(axis=1)\n",
    "            \n",
    "            gfk, score = gfk_grid_search(parameters, X_tr, y_tr, X_ts)\n",
    "            print \"Mejor modelo: %.3f\" % score\n",
    "            \n",
    "            \n",
    "            gfk_save_path = os.path.join(models_path, tipo, \"%s_%s_%s.pkl\" % (dataset_name, src,tgt))\n",
    "            print \"Guardando modelo en %s\" % gfk_save_path\n",
    "            save_adapted_model(gfk, gfk_save_path)\n",
    "\n",
    "print \"Adaptaciones completadas\""
   ]
  },
  {
   "cell_type": "markdown",
   "metadata": {},
   "source": [
    "### Pruebas de clasificación"
   ]
  },
  {
   "cell_type": "code",
   "execution_count": 20,
   "metadata": {},
   "outputs": [
    {
     "name": "stdout",
     "output_type": "stream",
     "text": [
      "Tarea 1 de 2\n",
      "Cargando modelo existente.\n",
      "Adaptando dominios...\n",
      "Tarea 2 de 2\n",
      "Cargando modelo existente.\n",
      "Adaptando dominios...\n",
      "Pruebas completadas.\n"
     ]
    }
   ],
   "source": [
    "df = pd.DataFrame(columns=dataframe_columns)\n",
    "\n",
    "i=0\n",
    "# por cada par posible para adaptar\n",
    "for src in domains:\n",
    "    for tgt in domains:\n",
    "        if src is not tgt:\n",
    "            print \"Tarea %d de 2\" % (i+1)\n",
    "            \n",
    "            \n",
    "            #baseline in-domain error\n",
    "            #e_b(T,T)\n",
    "            #entrenado en dominio tgt y probado en dominio tgt\n",
    "            X_tr = np.asarray(labeled[tgt]['X_tr'][:, :dims].todense())\n",
    "            y_tr = np.asarray(labeled[tgt]['y_tr'].todense()).argmax(axis=1)\n",
    "            \n",
    "            X_ts = np.asarray(labeled[tgt]['X_ts'][:, :dims].todense())\n",
    "            y_ts = np.asarray(labeled[tgt]['y_ts'].todense()).argmax(axis=1)\n",
    "            \n",
    "            # se crean las rutas para cargar o crear los modelos\n",
    "            model_name = \"indomain_%s.pkl\" % (tgt)\n",
    "            model_path = os.path.join(models_path, dataset_name, model_name)\n",
    "            \n",
    "            #Se realiza una clasificacion, estimando los parametros mediante cv\n",
    "            svc = load_best_score(model_path, X_tr, y_tr)\n",
    "            b_error = 1-svc.score(X_ts, y_ts)\n",
    "            \n",
    "            #############\n",
    "            #### GFK ####\n",
    "            #############\n",
    "            # se adaptan los dominios usando GFK\n",
    "            print \"Adaptando dominios...\"\n",
    "            best_model_path = os.path.join(models_path, tipo, \"%s_%s_%s.pkl\" % (dataset_name, src, tgt))\n",
    "            gfk = load_best_model(best_model_path)\n",
    "            \n",
    "            \n",
    "            X_tr = np.asarray(labeled[src]['X_tr'][:, :dims].todense())\n",
    "            X_tr_a = transform_gfk(X_tr, gfk)\n",
    "            y_tr = np.asarray(labeled[src]['y_tr'].todense()).argmax(axis=1)\n",
    "            \n",
    "            X_ts = np.asarray(labeled[tgt]['X_ts'][:, :dims].todense())\n",
    "            X_ts_a = transform_gfk(X_ts, gfk)\n",
    "            y_ts = np.asarray(labeled[tgt]['y_ts'].todense()).argmax(axis=1)\n",
    "            \n",
    "            clf = get_best_score(X_tr_a, y_tr, clasifier='KNeighbors')\n",
    "            t_error = 1-clf.score(X_ts_a, y_ts)\n",
    "            #t_error = gfk_compute_accuracy(gfk.G, X_tr, y_tr, X_ts, y_ts)\n",
    "            \n",
    "            \n",
    "            # transfer loss t\n",
    "            # t_error - b_error\n",
    "            t_loss = t_error - b_error\n",
    "            \n",
    "            tarea = src[0]+'->'+tgt[0]\n",
    "            df.loc[i] = ['GFK',tarea,src,tgt,b_error*100,t_error*100, t_loss*100]\n",
    "            \n",
    "            i += 1\n",
    "            \n",
    "print \"Pruebas completadas.\""
   ]
  },
  {
   "cell_type": "code",
   "execution_count": 21,
   "metadata": {},
   "outputs": [
    {
     "data": {
      "text/html": [
       "<div>\n",
       "<style>\n",
       "    .dataframe thead tr:only-child th {\n",
       "        text-align: right;\n",
       "    }\n",
       "\n",
       "    .dataframe thead th {\n",
       "        text-align: left;\n",
       "    }\n",
       "\n",
       "    .dataframe tbody tr th {\n",
       "        vertical-align: top;\n",
       "    }\n",
       "</style>\n",
       "<table border=\"1\" class=\"dataframe\">\n",
       "  <thead>\n",
       "    <tr style=\"text-align: right;\">\n",
       "      <th></th>\n",
       "      <th>Adaptacion</th>\n",
       "      <th>Tarea</th>\n",
       "      <th>Fuente</th>\n",
       "      <th>Objetivo</th>\n",
       "      <th>Baseline error</th>\n",
       "      <th>Transfer error</th>\n",
       "      <th>Transfer loss</th>\n",
       "    </tr>\n",
       "  </thead>\n",
       "  <tbody>\n",
       "    <tr>\n",
       "      <th>0</th>\n",
       "      <td>GFK</td>\n",
       "      <td>r-&gt;t</td>\n",
       "      <td>rio2016</td>\n",
       "      <td>thevoice</td>\n",
       "      <td>16.081594</td>\n",
       "      <td>43.340164</td>\n",
       "      <td>27.258570</td>\n",
       "    </tr>\n",
       "    <tr>\n",
       "      <th>1</th>\n",
       "      <td>GFK</td>\n",
       "      <td>t-&gt;r</td>\n",
       "      <td>thevoice</td>\n",
       "      <td>rio2016</td>\n",
       "      <td>20.687361</td>\n",
       "      <td>39.784700</td>\n",
       "      <td>19.097339</td>\n",
       "    </tr>\n",
       "  </tbody>\n",
       "</table>\n",
       "</div>"
      ],
      "text/plain": [
       "  Adaptacion Tarea    Fuente  Objetivo  Baseline error  Transfer error  \\\n",
       "0        GFK  r->t   rio2016  thevoice       16.081594       43.340164   \n",
       "1        GFK  t->r  thevoice   rio2016       20.687361       39.784700   \n",
       "\n",
       "   Transfer loss  \n",
       "0      27.258570  \n",
       "1      19.097339  "
      ]
     },
     "execution_count": 21,
     "metadata": {},
     "output_type": "execute_result"
    }
   ],
   "source": [
    "df"
   ]
  },
  {
   "cell_type": "code",
   "execution_count": 22,
   "metadata": {},
   "outputs": [
    {
     "name": "stdout",
     "output_type": "stream",
     "text": [
      "Guardando en scores/gfk/twitter.csv\n",
      "Resultados guardados.\n"
     ]
    }
   ],
   "source": [
    "new_scores_path = os.path.join(scores_path, tipo, dataset_name+\".csv\")\n",
    "\n",
    "print \"Guardando en %s\" % new_scores_path\n",
    "df.to_csv(new_scores_path, columns=df.columns)\n",
    "print \"Resultados guardados.\""
   ]
  }
 ],
 "metadata": {
  "kernelspec": {
   "display_name": "Python 2",
   "language": "python",
   "name": "python2"
  },
  "language_info": {
   "codemirror_mode": {
    "name": "ipython",
    "version": 2
   },
   "file_extension": ".py",
   "mimetype": "text/x-python",
   "name": "python",
   "nbconvert_exporter": "python",
   "pygments_lexer": "ipython2",
   "version": "2.7.13"
  }
 },
 "nbformat": 4,
 "nbformat_minor": 2
}
