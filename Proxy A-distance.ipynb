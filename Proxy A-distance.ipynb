{
 "cells": [
  {
   "cell_type": "code",
   "execution_count": 1,
   "metadata": {
    "collapsed": true
   },
   "outputs": [],
   "source": [
    "%load_ext autoreload\n",
    "%autoreload 2"
   ]
  },
  {
   "cell_type": "code",
   "execution_count": 2,
   "metadata": {
    "collapsed": true
   },
   "outputs": [],
   "source": [
    "from utils.DatasetStorage import Dataset\n",
    "from utils.paths import *\n",
    "\n",
    "import os\n",
    "import itertools\n",
    "\n",
    "import matplotlib.pyplot as plt\n",
    "\n",
    "# clasificador\n",
    "from sklearn.svm import SVC\n",
    "from sklearn.model_selection import train_test_split\n",
    "from sklearn.model_selection import GridSearchCV, cross_val_score\n",
    "import numpy as np\n",
    "import pandas as pd"
   ]
  },
  {
   "cell_type": "code",
   "execution_count": 3,
   "metadata": {
    "collapsed": true
   },
   "outputs": [],
   "source": [
    "def get_dataset_pad(labeled, domains, dims):\n",
    "    df = pd.DataFrame(columns=['Dominio 1', 'Dominio 2', 'PAD'])\n",
    "\n",
    "    i = 0\n",
    "    pairs = list(itertools.combinations(domains, 2))\n",
    "    \n",
    "    for src, tgt in pairs:\n",
    "        print \"%s - %s - \" % (src, tgt),\n",
    "        x_src = labeled[src]['X_tr'].todense()[:, :dims]\n",
    "        x_tgt = labeled[tgt]['X_tr'].todense()[:, :dims]\n",
    "\n",
    "        pad = get_pad(x_src, x_tgt)\n",
    "        print pad\n",
    "\n",
    "        df.loc[i] = [src, tgt, pad]\n",
    "        i = i + 1\n",
    "        \n",
    "    df_full = get_full_dataframe(df)\n",
    "    \n",
    "    df_multiple = pd.DataFrame(columns=['Dominio 1', 'Dominio 2', 'PAD'])\n",
    "    n_domains = list(itertools.combinations(domains, len(domains)-1))\n",
    "\n",
    "    i = 0\n",
    "    for domains_group in n_domains:\n",
    "        print domains_group,\n",
    "\n",
    "        tgt = list(set(domains).difference(domains_group))[0]\n",
    "        x_tgt = labeled[tgt]['X_tr'].todense()[:, :dims]\n",
    "        print \" - %s - \" % tgt,\n",
    "\n",
    "\n",
    "        #se unen los datos de los tres dominios\n",
    "        x_src = None\n",
    "        for domain in domains_group:\n",
    "            if x_src is None:\n",
    "                x_src = labeled[domain]['X_tr'].todense()[:, :dims]\n",
    "            else:\n",
    "                x_src = np.concatenate([x_src, labeled[domain]['X_tr'].todense()[:, :dims]])\n",
    "\n",
    "        pad = get_pad(x_src, x_tgt)\n",
    "        print pad\n",
    "\n",
    "        df_multiple.loc[i] = [tgt, domains_group, pad]\n",
    "        i = i + 1\n",
    "    \n",
    "    df_full = df_full.append(df_multiple, ignore_index=True)\n",
    "    df_full = df_full.sort_values(['Dominio 1', 'PAD'], ascending=[True, True]).reset_index(drop=True)\n",
    "    \n",
    "    return df_full"
   ]
  },
  {
   "cell_type": "code",
   "execution_count": 4,
   "metadata": {
    "collapsed": true
   },
   "outputs": [],
   "source": [
    "#calcula el valor de Proxy A-distance dados dos dominios X1 y X2\n",
    "def get_pad(X1, X2):\n",
    "    X = np.concatenate([X1, X2])\n",
    "    \n",
    "    y1 = np.zeros(X1.shape[0])\n",
    "    y2 = np.ones(X2.shape[0])\n",
    "    y = np.concatenate([y1, y2])\n",
    "    \n",
    "    X_tr, X_ts, y_tr, y_ts = train_test_split(X, y, test_size=0.2, random_state=42)\n",
    "    parametros = [{\n",
    "        'kernel': ['linear'],\n",
    "        'C': [1, 10, 100],\n",
    "        'cache_size': [7000],\n",
    "        'max_iter': [50000],\n",
    "    }]\n",
    "\n",
    "    clf = GridSearchCV(SVC(), parametros, cv=5, n_jobs = 4, scoring='roc_auc')\n",
    "    clf.fit(X_tr, y_tr)\n",
    "    \n",
    "    e = 1 - clf.score(X_ts, y_ts)\n",
    "    pad = 2 * (1 - 2*e)\n",
    "    \n",
    "    return pad"
   ]
  },
  {
   "cell_type": "code",
   "execution_count": 5,
   "metadata": {
    "collapsed": true
   },
   "outputs": [],
   "source": [
    "#agrega al dataframe df los mismos datos con columnas intercambiadas\n",
    "def get_full_dataframe(df):\n",
    "    df2 = df.reindex(columns=['Dominio 2', 'Dominio 1', 'PAD'])\n",
    "    df2.columns = ['Dominio 1', 'Dominio 2', 'PAD']\n",
    "    \n",
    "    df3 = df.append(df2, ignore_index=True)\n",
    "    df3 = df3.sort_values(['Dominio 1', 'PAD'], ascending=[True, True]).reset_index(drop=True)\n",
    "    \n",
    "    return df3"
   ]
  },
  {
   "cell_type": "code",
   "execution_count": 6,
   "metadata": {
    "collapsed": true
   },
   "outputs": [],
   "source": [
    "def get_pad_multiple_dimensions(dimensions, dataset_name):\n",
    "    df = None\n",
    "\n",
    "    for dim in dimensions:\n",
    "        pad_path = os.path.join(scores_path, dataset_name, \"pad_%d.csv\" % (dim))\n",
    "        print pad_path\n",
    "\n",
    "        df_temp = pd.read_csv(pad_path, sep=',', header=0, index_col=0)\n",
    "        df_temp = df_temp.loc[df_temp.groupby('Dominio 1')['PAD'].idxmin()]\n",
    "\n",
    "        df_temp['Dimensiones'] = dim\n",
    "\n",
    "        if df is None:\n",
    "            df = df_temp\n",
    "        else:\n",
    "            df = df.append(df_temp, ignore_index=True)\n",
    "\n",
    "        df = df[['Dominio 1', 'Dimensiones', 'Dominio 2', 'PAD']]\n",
    "        df = df.sort_values(['Dominio 1', 'Dimensiones']).reset_index(drop=True)\n",
    "\n",
    "\n",
    "    return df"
   ]
  },
  {
   "cell_type": "markdown",
   "metadata": {},
   "source": [
    "# Amazon\n",
    "\n",
    "## 3000 Dimensiones"
   ]
  },
  {
   "cell_type": "code",
   "execution_count": 7,
   "metadata": {
    "collapsed": true
   },
   "outputs": [],
   "source": [
    "#variables para guardar los resultados\n",
    "dataset_name = datasets[0]\n",
    "dims = 3000"
   ]
  },
  {
   "cell_type": "code",
   "execution_count": 8,
   "metadata": {},
   "outputs": [
    {
     "name": "stdout",
     "output_type": "stream",
     "text": [
      "amazon\n",
      "3000\n",
      "data\n"
     ]
    }
   ],
   "source": [
    "print dataset_name\n",
    "print dims\n",
    "print data_path"
   ]
  },
  {
   "cell_type": "code",
   "execution_count": 9,
   "metadata": {},
   "outputs": [
    {
     "name": "stdout",
     "output_type": "stream",
     "text": [
      "Dataset already splitted\n"
     ]
    }
   ],
   "source": [
    "# cargando dataset Amazon\n",
    "dataset_path = os.path.join(data_path, dataset_name+'.pkl')\n",
    "dataset_object = Dataset().load(dataset_path)\n",
    "\n",
    "dataset_object.split_dataset(test_size=0.2)\n",
    "\n",
    "labeled = dataset_object.labeled\n",
    "domains = dataset_object.domains"
   ]
  },
  {
   "cell_type": "code",
   "execution_count": 10,
   "metadata": {},
   "outputs": [
    {
     "name": "stdout",
     "output_type": "stream",
     "text": [
      "electronics - dvd -  1.97322103445\n",
      "electronics - kitchen -  1.64480568562\n",
      "electronics - books -  1.98397973908\n",
      "dvd - kitchen -  1.97243572754\n",
      "dvd - books -  1.96627106831\n",
      "kitchen - books -  1.99041925573\n",
      "('electronics', 'dvd', 'kitchen')  - books -  1.94727405091\n",
      "('electronics', 'dvd', 'books')  - kitchen -  1.80810504745\n",
      "('electronics', 'kitchen', 'books')  - dvd -  1.93450711821\n",
      "('dvd', 'kitchen', 'books')  - electronics -  1.81231125971\n"
     ]
    }
   ],
   "source": [
    "df_amazon_3000 = get_dataset_pad(labeled, domains, dims)"
   ]
  },
  {
   "cell_type": "code",
   "execution_count": 11,
   "metadata": {},
   "outputs": [
    {
     "data": {
      "text/html": [
       "<div>\n",
       "<style>\n",
       "    .dataframe thead tr:only-child th {\n",
       "        text-align: right;\n",
       "    }\n",
       "\n",
       "    .dataframe thead th {\n",
       "        text-align: left;\n",
       "    }\n",
       "\n",
       "    .dataframe tbody tr th {\n",
       "        vertical-align: top;\n",
       "    }\n",
       "</style>\n",
       "<table border=\"1\" class=\"dataframe\">\n",
       "  <thead>\n",
       "    <tr style=\"text-align: right;\">\n",
       "      <th></th>\n",
       "      <th>Dominio 1</th>\n",
       "      <th>Dominio 2</th>\n",
       "      <th>PAD</th>\n",
       "    </tr>\n",
       "  </thead>\n",
       "  <tbody>\n",
       "    <tr>\n",
       "      <th>0</th>\n",
       "      <td>books</td>\n",
       "      <td>(electronics, dvd, kitchen)</td>\n",
       "      <td>1.947274</td>\n",
       "    </tr>\n",
       "    <tr>\n",
       "      <th>1</th>\n",
       "      <td>books</td>\n",
       "      <td>dvd</td>\n",
       "      <td>1.966271</td>\n",
       "    </tr>\n",
       "    <tr>\n",
       "      <th>2</th>\n",
       "      <td>books</td>\n",
       "      <td>electronics</td>\n",
       "      <td>1.983980</td>\n",
       "    </tr>\n",
       "    <tr>\n",
       "      <th>3</th>\n",
       "      <td>books</td>\n",
       "      <td>kitchen</td>\n",
       "      <td>1.990419</td>\n",
       "    </tr>\n",
       "    <tr>\n",
       "      <th>4</th>\n",
       "      <td>dvd</td>\n",
       "      <td>(electronics, kitchen, books)</td>\n",
       "      <td>1.934507</td>\n",
       "    </tr>\n",
       "    <tr>\n",
       "      <th>5</th>\n",
       "      <td>dvd</td>\n",
       "      <td>books</td>\n",
       "      <td>1.966271</td>\n",
       "    </tr>\n",
       "    <tr>\n",
       "      <th>6</th>\n",
       "      <td>dvd</td>\n",
       "      <td>kitchen</td>\n",
       "      <td>1.972436</td>\n",
       "    </tr>\n",
       "    <tr>\n",
       "      <th>7</th>\n",
       "      <td>dvd</td>\n",
       "      <td>electronics</td>\n",
       "      <td>1.973221</td>\n",
       "    </tr>\n",
       "    <tr>\n",
       "      <th>8</th>\n",
       "      <td>electronics</td>\n",
       "      <td>kitchen</td>\n",
       "      <td>1.644806</td>\n",
       "    </tr>\n",
       "    <tr>\n",
       "      <th>9</th>\n",
       "      <td>electronics</td>\n",
       "      <td>(dvd, kitchen, books)</td>\n",
       "      <td>1.812311</td>\n",
       "    </tr>\n",
       "    <tr>\n",
       "      <th>10</th>\n",
       "      <td>electronics</td>\n",
       "      <td>dvd</td>\n",
       "      <td>1.973221</td>\n",
       "    </tr>\n",
       "    <tr>\n",
       "      <th>11</th>\n",
       "      <td>electronics</td>\n",
       "      <td>books</td>\n",
       "      <td>1.983980</td>\n",
       "    </tr>\n",
       "    <tr>\n",
       "      <th>12</th>\n",
       "      <td>kitchen</td>\n",
       "      <td>electronics</td>\n",
       "      <td>1.644806</td>\n",
       "    </tr>\n",
       "    <tr>\n",
       "      <th>13</th>\n",
       "      <td>kitchen</td>\n",
       "      <td>(electronics, dvd, books)</td>\n",
       "      <td>1.808105</td>\n",
       "    </tr>\n",
       "    <tr>\n",
       "      <th>14</th>\n",
       "      <td>kitchen</td>\n",
       "      <td>dvd</td>\n",
       "      <td>1.972436</td>\n",
       "    </tr>\n",
       "    <tr>\n",
       "      <th>15</th>\n",
       "      <td>kitchen</td>\n",
       "      <td>books</td>\n",
       "      <td>1.990419</td>\n",
       "    </tr>\n",
       "  </tbody>\n",
       "</table>\n",
       "</div>"
      ],
      "text/plain": [
       "      Dominio 1                      Dominio 2       PAD\n",
       "0         books    (electronics, dvd, kitchen)  1.947274\n",
       "1         books                            dvd  1.966271\n",
       "2         books                    electronics  1.983980\n",
       "3         books                        kitchen  1.990419\n",
       "4           dvd  (electronics, kitchen, books)  1.934507\n",
       "5           dvd                          books  1.966271\n",
       "6           dvd                        kitchen  1.972436\n",
       "7           dvd                    electronics  1.973221\n",
       "8   electronics                        kitchen  1.644806\n",
       "9   electronics          (dvd, kitchen, books)  1.812311\n",
       "10  electronics                            dvd  1.973221\n",
       "11  electronics                          books  1.983980\n",
       "12      kitchen                    electronics  1.644806\n",
       "13      kitchen      (electronics, dvd, books)  1.808105\n",
       "14      kitchen                            dvd  1.972436\n",
       "15      kitchen                          books  1.990419"
      ]
     },
     "execution_count": 11,
     "metadata": {},
     "output_type": "execute_result"
    }
   ],
   "source": [
    "df_amazon_3000"
   ]
  },
  {
   "cell_type": "code",
   "execution_count": 12,
   "metadata": {},
   "outputs": [
    {
     "name": "stdout",
     "output_type": "stream",
     "text": [
      "Guardando en scores/amazon/pad_3000.csv\n",
      "Resultados guardados.\n"
     ]
    }
   ],
   "source": [
    "pad_path = os.path.join(scores_path,dataset_name, \"pad_%d.csv\" % (dims))\n",
    "\n",
    "print \"Guardando en %s\" % pad_path\n",
    "df_amazon_3000.to_csv(pad_path, columns=df_amazon_3000)\n",
    "print \"Resultados guardados.\""
   ]
  },
  {
   "cell_type": "markdown",
   "metadata": {},
   "source": [
    "## 1000 Dimensiones"
   ]
  },
  {
   "cell_type": "code",
   "execution_count": 13,
   "metadata": {},
   "outputs": [
    {
     "name": "stdout",
     "output_type": "stream",
     "text": [
      "amazon\n",
      "1000\n"
     ]
    }
   ],
   "source": [
    "dims = 1000\n",
    "dataset_name = datasets[0]\n",
    "\n",
    "print dataset_name\n",
    "print dims"
   ]
  },
  {
   "cell_type": "code",
   "execution_count": 14,
   "metadata": {},
   "outputs": [
    {
     "name": "stdout",
     "output_type": "stream",
     "text": [
      "Dataset already splitted\n"
     ]
    }
   ],
   "source": [
    "# cargando dataset Amazon\n",
    "dataset_path = os.path.join(data_path, dataset_name+'.pkl')\n",
    "dataset_object = Dataset().load(dataset_path)\n",
    "\n",
    "dataset_object.split_dataset(test_size=0.2)\n",
    "\n",
    "labeled = dataset_object.labeled\n",
    "domains = dataset_object.domains"
   ]
  },
  {
   "cell_type": "code",
   "execution_count": 15,
   "metadata": {},
   "outputs": [
    {
     "name": "stdout",
     "output_type": "stream",
     "text": [
      "electronics - dvd -  1.86834329691\n",
      "electronics - kitchen - "
     ]
    },
    {
     "name": "stderr",
     "output_type": "stream",
     "text": [
      "/home/ubuntu/anaconda2/envs/env_memoria/lib/python2.7/site-packages/sklearn/svm/base.py:220: ConvergenceWarning: Solver terminated early (max_iter=50000).  Consider pre-processing your data with StandardScaler or MinMaxScaler.\n",
      "  % self.max_iter, ConvergenceWarning)\n",
      "/home/ubuntu/anaconda2/envs/env_memoria/lib/python2.7/site-packages/sklearn/svm/base.py:220: ConvergenceWarning: Solver terminated early (max_iter=50000).  Consider pre-processing your data with StandardScaler or MinMaxScaler.\n",
      "  % self.max_iter, ConvergenceWarning)\n",
      "/home/ubuntu/anaconda2/envs/env_memoria/lib/python2.7/site-packages/sklearn/svm/base.py:220: ConvergenceWarning: Solver terminated early (max_iter=50000).  Consider pre-processing your data with StandardScaler or MinMaxScaler.\n",
      "  % self.max_iter, ConvergenceWarning)\n",
      "/home/ubuntu/anaconda2/envs/env_memoria/lib/python2.7/site-packages/sklearn/svm/base.py:220: ConvergenceWarning: Solver terminated early (max_iter=50000).  Consider pre-processing your data with StandardScaler or MinMaxScaler.\n",
      "  % self.max_iter, ConvergenceWarning)\n"
     ]
    },
    {
     "name": "stdout",
     "output_type": "stream",
     "text": [
      " 1.42005084862\n",
      "electronics - books -  1.96772388609\n",
      "dvd - kitchen -  1.88797596961\n",
      "dvd - books -  1.83041297327\n",
      "kitchen - books -  1.9608131853\n",
      "('electronics', 'dvd', 'kitchen')  - books -  1.84743043572\n",
      "('electronics', 'dvd', 'books')  - kitchen - "
     ]
    },
    {
     "name": "stderr",
     "output_type": "stream",
     "text": [
      "/home/ubuntu/anaconda2/envs/env_memoria/lib/python2.7/site-packages/sklearn/svm/base.py:220: ConvergenceWarning: Solver terminated early (max_iter=50000).  Consider pre-processing your data with StandardScaler or MinMaxScaler.\n",
      "  % self.max_iter, ConvergenceWarning)\n",
      "/home/ubuntu/anaconda2/envs/env_memoria/lib/python2.7/site-packages/sklearn/svm/base.py:220: ConvergenceWarning: Solver terminated early (max_iter=50000).  Consider pre-processing your data with StandardScaler or MinMaxScaler.\n",
      "  % self.max_iter, ConvergenceWarning)\n",
      "/home/ubuntu/anaconda2/envs/env_memoria/lib/python2.7/site-packages/sklearn/svm/base.py:220: ConvergenceWarning: Solver terminated early (max_iter=50000).  Consider pre-processing your data with StandardScaler or MinMaxScaler.\n",
      "  % self.max_iter, ConvergenceWarning)\n",
      "/home/ubuntu/anaconda2/envs/env_memoria/lib/python2.7/site-packages/sklearn/svm/base.py:220: ConvergenceWarning: Solver terminated early (max_iter=50000).  Consider pre-processing your data with StandardScaler or MinMaxScaler.\n",
      "  % self.max_iter, ConvergenceWarning)\n",
      "/home/ubuntu/anaconda2/envs/env_memoria/lib/python2.7/site-packages/sklearn/svm/base.py:220: ConvergenceWarning: Solver terminated early (max_iter=50000).  Consider pre-processing your data with StandardScaler or MinMaxScaler.\n",
      "  % self.max_iter, ConvergenceWarning)\n"
     ]
    },
    {
     "name": "stdout",
     "output_type": "stream",
     "text": [
      " 1.63993744607\n",
      "('electronics', 'kitchen', 'books')  - dvd -  1.75575657895\n",
      "('dvd', 'kitchen', 'books')  - electronics -  1.70706158326\n"
     ]
    }
   ],
   "source": [
    "df_amazon_1000 = get_dataset_pad(labeled, domains, dims)"
   ]
  },
  {
   "cell_type": "code",
   "execution_count": 16,
   "metadata": {},
   "outputs": [
    {
     "data": {
      "text/html": [
       "<div>\n",
       "<style>\n",
       "    .dataframe thead tr:only-child th {\n",
       "        text-align: right;\n",
       "    }\n",
       "\n",
       "    .dataframe thead th {\n",
       "        text-align: left;\n",
       "    }\n",
       "\n",
       "    .dataframe tbody tr th {\n",
       "        vertical-align: top;\n",
       "    }\n",
       "</style>\n",
       "<table border=\"1\" class=\"dataframe\">\n",
       "  <thead>\n",
       "    <tr style=\"text-align: right;\">\n",
       "      <th></th>\n",
       "      <th>Dominio 1</th>\n",
       "      <th>Dominio 2</th>\n",
       "      <th>PAD</th>\n",
       "    </tr>\n",
       "  </thead>\n",
       "  <tbody>\n",
       "    <tr>\n",
       "      <th>0</th>\n",
       "      <td>books</td>\n",
       "      <td>dvd</td>\n",
       "      <td>1.830413</td>\n",
       "    </tr>\n",
       "    <tr>\n",
       "      <th>1</th>\n",
       "      <td>books</td>\n",
       "      <td>(electronics, dvd, kitchen)</td>\n",
       "      <td>1.847430</td>\n",
       "    </tr>\n",
       "    <tr>\n",
       "      <th>2</th>\n",
       "      <td>books</td>\n",
       "      <td>kitchen</td>\n",
       "      <td>1.960813</td>\n",
       "    </tr>\n",
       "    <tr>\n",
       "      <th>3</th>\n",
       "      <td>books</td>\n",
       "      <td>electronics</td>\n",
       "      <td>1.967724</td>\n",
       "    </tr>\n",
       "    <tr>\n",
       "      <th>4</th>\n",
       "      <td>dvd</td>\n",
       "      <td>(electronics, kitchen, books)</td>\n",
       "      <td>1.755757</td>\n",
       "    </tr>\n",
       "    <tr>\n",
       "      <th>5</th>\n",
       "      <td>dvd</td>\n",
       "      <td>books</td>\n",
       "      <td>1.830413</td>\n",
       "    </tr>\n",
       "    <tr>\n",
       "      <th>6</th>\n",
       "      <td>dvd</td>\n",
       "      <td>electronics</td>\n",
       "      <td>1.868343</td>\n",
       "    </tr>\n",
       "    <tr>\n",
       "      <th>7</th>\n",
       "      <td>dvd</td>\n",
       "      <td>kitchen</td>\n",
       "      <td>1.887976</td>\n",
       "    </tr>\n",
       "    <tr>\n",
       "      <th>8</th>\n",
       "      <td>electronics</td>\n",
       "      <td>kitchen</td>\n",
       "      <td>1.420051</td>\n",
       "    </tr>\n",
       "    <tr>\n",
       "      <th>9</th>\n",
       "      <td>electronics</td>\n",
       "      <td>(dvd, kitchen, books)</td>\n",
       "      <td>1.707062</td>\n",
       "    </tr>\n",
       "    <tr>\n",
       "      <th>10</th>\n",
       "      <td>electronics</td>\n",
       "      <td>dvd</td>\n",
       "      <td>1.868343</td>\n",
       "    </tr>\n",
       "    <tr>\n",
       "      <th>11</th>\n",
       "      <td>electronics</td>\n",
       "      <td>books</td>\n",
       "      <td>1.967724</td>\n",
       "    </tr>\n",
       "    <tr>\n",
       "      <th>12</th>\n",
       "      <td>kitchen</td>\n",
       "      <td>electronics</td>\n",
       "      <td>1.420051</td>\n",
       "    </tr>\n",
       "    <tr>\n",
       "      <th>13</th>\n",
       "      <td>kitchen</td>\n",
       "      <td>(electronics, dvd, books)</td>\n",
       "      <td>1.639937</td>\n",
       "    </tr>\n",
       "    <tr>\n",
       "      <th>14</th>\n",
       "      <td>kitchen</td>\n",
       "      <td>dvd</td>\n",
       "      <td>1.887976</td>\n",
       "    </tr>\n",
       "    <tr>\n",
       "      <th>15</th>\n",
       "      <td>kitchen</td>\n",
       "      <td>books</td>\n",
       "      <td>1.960813</td>\n",
       "    </tr>\n",
       "  </tbody>\n",
       "</table>\n",
       "</div>"
      ],
      "text/plain": [
       "      Dominio 1                      Dominio 2       PAD\n",
       "0         books                            dvd  1.830413\n",
       "1         books    (electronics, dvd, kitchen)  1.847430\n",
       "2         books                        kitchen  1.960813\n",
       "3         books                    electronics  1.967724\n",
       "4           dvd  (electronics, kitchen, books)  1.755757\n",
       "5           dvd                          books  1.830413\n",
       "6           dvd                    electronics  1.868343\n",
       "7           dvd                        kitchen  1.887976\n",
       "8   electronics                        kitchen  1.420051\n",
       "9   electronics          (dvd, kitchen, books)  1.707062\n",
       "10  electronics                            dvd  1.868343\n",
       "11  electronics                          books  1.967724\n",
       "12      kitchen                    electronics  1.420051\n",
       "13      kitchen      (electronics, dvd, books)  1.639937\n",
       "14      kitchen                            dvd  1.887976\n",
       "15      kitchen                          books  1.960813"
      ]
     },
     "execution_count": 16,
     "metadata": {},
     "output_type": "execute_result"
    }
   ],
   "source": [
    "df_amazon_1000"
   ]
  },
  {
   "cell_type": "code",
   "execution_count": 17,
   "metadata": {},
   "outputs": [
    {
     "name": "stdout",
     "output_type": "stream",
     "text": [
      "Guardando en scores/amazon/pad_1000.csv\n",
      "Resultados guardados.\n"
     ]
    }
   ],
   "source": [
    "pad_path = os.path.join(scores_path,dataset_name, \"pad_%d.csv\" % (dims))\n",
    "\n",
    "print \"Guardando en %s\" % pad_path\n",
    "df_amazon_1000.to_csv(pad_path, columns=df_amazon_1000)\n",
    "print \"Resultados guardados.\""
   ]
  },
  {
   "cell_type": "markdown",
   "metadata": {},
   "source": [
    "## Todas las dimensiones"
   ]
  },
  {
   "cell_type": "code",
   "execution_count": 18,
   "metadata": {},
   "outputs": [
    {
     "name": "stdout",
     "output_type": "stream",
     "text": [
      "scores/amazon/pad_3000.csv\n",
      "scores/amazon/pad_1000.csv\n"
     ]
    }
   ],
   "source": [
    "dataset_name = datasets[0]\n",
    "dimensions = [3000, 1000]\n",
    "df_amazon_multiple = get_pad_multiple_dimensions(dimensions, dataset_name)"
   ]
  },
  {
   "cell_type": "code",
   "execution_count": 19,
   "metadata": {
    "scrolled": true
   },
   "outputs": [
    {
     "data": {
      "text/html": [
       "<div>\n",
       "<style>\n",
       "    .dataframe thead tr:only-child th {\n",
       "        text-align: right;\n",
       "    }\n",
       "\n",
       "    .dataframe thead th {\n",
       "        text-align: left;\n",
       "    }\n",
       "\n",
       "    .dataframe tbody tr th {\n",
       "        vertical-align: top;\n",
       "    }\n",
       "</style>\n",
       "<table border=\"1\" class=\"dataframe\">\n",
       "  <thead>\n",
       "    <tr style=\"text-align: right;\">\n",
       "      <th></th>\n",
       "      <th>Dominio 1</th>\n",
       "      <th>Dimensiones</th>\n",
       "      <th>Dominio 2</th>\n",
       "      <th>PAD</th>\n",
       "    </tr>\n",
       "  </thead>\n",
       "  <tbody>\n",
       "    <tr>\n",
       "      <th>0</th>\n",
       "      <td>books</td>\n",
       "      <td>1000</td>\n",
       "      <td>dvd</td>\n",
       "      <td>1.830413</td>\n",
       "    </tr>\n",
       "    <tr>\n",
       "      <th>1</th>\n",
       "      <td>books</td>\n",
       "      <td>3000</td>\n",
       "      <td>('electronics', 'dvd', 'kitchen')</td>\n",
       "      <td>1.947274</td>\n",
       "    </tr>\n",
       "    <tr>\n",
       "      <th>2</th>\n",
       "      <td>dvd</td>\n",
       "      <td>1000</td>\n",
       "      <td>('electronics', 'kitchen', 'books')</td>\n",
       "      <td>1.755757</td>\n",
       "    </tr>\n",
       "    <tr>\n",
       "      <th>3</th>\n",
       "      <td>dvd</td>\n",
       "      <td>3000</td>\n",
       "      <td>('electronics', 'kitchen', 'books')</td>\n",
       "      <td>1.934507</td>\n",
       "    </tr>\n",
       "    <tr>\n",
       "      <th>4</th>\n",
       "      <td>electronics</td>\n",
       "      <td>1000</td>\n",
       "      <td>kitchen</td>\n",
       "      <td>1.420051</td>\n",
       "    </tr>\n",
       "    <tr>\n",
       "      <th>5</th>\n",
       "      <td>electronics</td>\n",
       "      <td>3000</td>\n",
       "      <td>kitchen</td>\n",
       "      <td>1.644806</td>\n",
       "    </tr>\n",
       "    <tr>\n",
       "      <th>6</th>\n",
       "      <td>kitchen</td>\n",
       "      <td>1000</td>\n",
       "      <td>electronics</td>\n",
       "      <td>1.420051</td>\n",
       "    </tr>\n",
       "    <tr>\n",
       "      <th>7</th>\n",
       "      <td>kitchen</td>\n",
       "      <td>3000</td>\n",
       "      <td>electronics</td>\n",
       "      <td>1.644806</td>\n",
       "    </tr>\n",
       "  </tbody>\n",
       "</table>\n",
       "</div>"
      ],
      "text/plain": [
       "     Dominio 1  Dimensiones                            Dominio 2       PAD\n",
       "0        books         1000                                  dvd  1.830413\n",
       "1        books         3000    ('electronics', 'dvd', 'kitchen')  1.947274\n",
       "2          dvd         1000  ('electronics', 'kitchen', 'books')  1.755757\n",
       "3          dvd         3000  ('electronics', 'kitchen', 'books')  1.934507\n",
       "4  electronics         1000                              kitchen  1.420051\n",
       "5  electronics         3000                              kitchen  1.644806\n",
       "6      kitchen         1000                          electronics  1.420051\n",
       "7      kitchen         3000                          electronics  1.644806"
      ]
     },
     "execution_count": 19,
     "metadata": {},
     "output_type": "execute_result"
    }
   ],
   "source": [
    "df_amazon_multiple"
   ]
  },
  {
   "cell_type": "code",
   "execution_count": 20,
   "metadata": {},
   "outputs": [
    {
     "name": "stdout",
     "output_type": "stream",
     "text": [
      "Guardando en scores/amazon/pad_multiple.csv\n",
      "Resultados guardados.\n"
     ]
    }
   ],
   "source": [
    "pad_path = os.path.join(scores_path,dataset_name, \"pad_multiple.csv\")\n",
    "\n",
    "print \"Guardando en %s\" % pad_path\n",
    "df_amazon_multiple.to_csv(pad_path, columns=df_amazon_multiple)\n",
    "print \"Resultados guardados.\""
   ]
  },
  {
   "cell_type": "markdown",
   "metadata": {},
   "source": [
    "# Twitter\n",
    "## 2000 Dimensiones"
   ]
  },
  {
   "cell_type": "code",
   "execution_count": 22,
   "metadata": {},
   "outputs": [],
   "source": [
    "#variables para guardar los resultados\n",
    "dataset_name = datasets[1]\n",
    "dims = 2000"
   ]
  },
  {
   "cell_type": "code",
   "execution_count": 23,
   "metadata": {},
   "outputs": [
    {
     "name": "stdout",
     "output_type": "stream",
     "text": [
      "twitter\n",
      "2000\n",
      "data\n"
     ]
    }
   ],
   "source": [
    "print dataset_name\n",
    "print dims\n",
    "print data_path"
   ]
  },
  {
   "cell_type": "code",
   "execution_count": 24,
   "metadata": {},
   "outputs": [
    {
     "name": "stdout",
     "output_type": "stream",
     "text": [
      "Dataset already splitted\n"
     ]
    }
   ],
   "source": [
    "# cargando dataset Twitter\n",
    "dataset_path = os.path.join(data_path, dataset_name+'.pkl')\n",
    "dataset_object = Dataset().load(dataset_path)\n",
    "\n",
    "dataset_object.split_dataset(test_size=0.2)\n",
    "\n",
    "labeled = dataset_object.labeled\n",
    "domains = dataset_object.domains"
   ]
  },
  {
   "cell_type": "code",
   "execution_count": 25,
   "metadata": {},
   "outputs": [
    {
     "name": "stdout",
     "output_type": "stream",
     "text": [
      "rio2016 - thevoice -  1.71820541342\n",
      "rio2016 - general -  1.71254286839\n",
      "thevoice - general -  1.60388480445\n",
      "('rio2016', 'thevoice')  - general -  1.74924276688\n",
      "('rio2016', 'general')  - thevoice -  1.69884060703\n",
      "('thevoice', 'general')  - rio2016 -  1.72589763178\n"
     ]
    }
   ],
   "source": [
    "df_twitter_2000 = get_dataset_pad(labeled, domains, dims)"
   ]
  },
  {
   "cell_type": "code",
   "execution_count": 26,
   "metadata": {},
   "outputs": [
    {
     "name": "stdout",
     "output_type": "stream",
     "text": [
      "Guardando en scores/twitter/pad_2000.csv\n",
      "Resultados guardados.\n"
     ]
    }
   ],
   "source": [
    "pad_path = os.path.join(scores_path,dataset_name, \"pad_%d.csv\" % (dims))\n",
    "\n",
    "print \"Guardando en %s\" % pad_path\n",
    "df_twitter_2000.to_csv(pad_path, columns=df_twitter_2000)\n",
    "print \"Resultados guardados.\""
   ]
  },
  {
   "cell_type": "markdown",
   "metadata": {},
   "source": [
    "## 1000 Dimensiones"
   ]
  },
  {
   "cell_type": "code",
   "execution_count": 27,
   "metadata": {
    "collapsed": true
   },
   "outputs": [],
   "source": [
    "#variables para guardar los resultados\n",
    "dataset_name = datasets[1]\n",
    "dims = 1000"
   ]
  },
  {
   "cell_type": "code",
   "execution_count": 28,
   "metadata": {},
   "outputs": [
    {
     "name": "stdout",
     "output_type": "stream",
     "text": [
      "twitter\n",
      "1000\n",
      "data\n"
     ]
    }
   ],
   "source": [
    "print dataset_name\n",
    "print dims\n",
    "print data_path"
   ]
  },
  {
   "cell_type": "code",
   "execution_count": 29,
   "metadata": {},
   "outputs": [
    {
     "name": "stdout",
     "output_type": "stream",
     "text": [
      "Dataset already splitted\n"
     ]
    }
   ],
   "source": [
    "# cargando dataset Twitter\n",
    "dataset_path = os.path.join(data_path, dataset_name+'.pkl')\n",
    "dataset_object = Dataset().load(dataset_path)\n",
    "\n",
    "dataset_object.split_dataset(test_size=0.2)\n",
    "\n",
    "labeled = dataset_object.labeled\n",
    "domains = dataset_object.domains"
   ]
  },
  {
   "cell_type": "code",
   "execution_count": 30,
   "metadata": {},
   "outputs": [
    {
     "name": "stdout",
     "output_type": "stream",
     "text": [
      "rio2016 - thevoice -  1.67692497837\n",
      "rio2016 - general -  1.56389497948\n",
      "thevoice - general -  1.37758298169\n",
      "('rio2016', 'thevoice')  - general -  1.58536518509\n",
      "('rio2016', 'general')  - thevoice -  1.46757470073\n",
      "('thevoice', 'general')  - rio2016 -  1.74854087089\n"
     ]
    }
   ],
   "source": [
    "df_twitter_1000 = get_dataset_pad(labeled, domains, dims)"
   ]
  },
  {
   "cell_type": "code",
   "execution_count": 31,
   "metadata": {},
   "outputs": [
    {
     "name": "stdout",
     "output_type": "stream",
     "text": [
      "Guardando en scores/twitter/pad_1000.csv\n",
      "Resultados guardados.\n"
     ]
    }
   ],
   "source": [
    "pad_path = os.path.join(scores_path,dataset_name, \"pad_%d.csv\" % (dims))\n",
    "\n",
    "print \"Guardando en %s\" % pad_path\n",
    "df_twitter_1000.to_csv(pad_path, columns=df_twitter_1000)\n",
    "print \"Resultados guardados.\""
   ]
  },
  {
   "cell_type": "markdown",
   "metadata": {},
   "source": [
    "## Todas las dimensiones"
   ]
  },
  {
   "cell_type": "code",
   "execution_count": 32,
   "metadata": {},
   "outputs": [
    {
     "name": "stdout",
     "output_type": "stream",
     "text": [
      "scores/twitter/pad_2000.csv\n",
      "scores/twitter/pad_1000.csv\n"
     ]
    }
   ],
   "source": [
    "dataset_name = datasets[1]\n",
    "dimensions = [2000, 1000]\n",
    "df_twitter_multiple = get_pad_multiple_dimensions(dimensions, dataset_name)"
   ]
  },
  {
   "cell_type": "code",
   "execution_count": 33,
   "metadata": {
    "scrolled": true
   },
   "outputs": [
    {
     "data": {
      "text/html": [
       "<div>\n",
       "<style>\n",
       "    .dataframe thead tr:only-child th {\n",
       "        text-align: right;\n",
       "    }\n",
       "\n",
       "    .dataframe thead th {\n",
       "        text-align: left;\n",
       "    }\n",
       "\n",
       "    .dataframe tbody tr th {\n",
       "        vertical-align: top;\n",
       "    }\n",
       "</style>\n",
       "<table border=\"1\" class=\"dataframe\">\n",
       "  <thead>\n",
       "    <tr style=\"text-align: right;\">\n",
       "      <th></th>\n",
       "      <th>Dominio 1</th>\n",
       "      <th>Dimensiones</th>\n",
       "      <th>Dominio 2</th>\n",
       "      <th>PAD</th>\n",
       "    </tr>\n",
       "  </thead>\n",
       "  <tbody>\n",
       "    <tr>\n",
       "      <th>0</th>\n",
       "      <td>general</td>\n",
       "      <td>1000</td>\n",
       "      <td>thevoice</td>\n",
       "      <td>1.377583</td>\n",
       "    </tr>\n",
       "    <tr>\n",
       "      <th>1</th>\n",
       "      <td>general</td>\n",
       "      <td>2000</td>\n",
       "      <td>thevoice</td>\n",
       "      <td>1.603885</td>\n",
       "    </tr>\n",
       "    <tr>\n",
       "      <th>2</th>\n",
       "      <td>rio2016</td>\n",
       "      <td>1000</td>\n",
       "      <td>general</td>\n",
       "      <td>1.563895</td>\n",
       "    </tr>\n",
       "    <tr>\n",
       "      <th>3</th>\n",
       "      <td>rio2016</td>\n",
       "      <td>2000</td>\n",
       "      <td>general</td>\n",
       "      <td>1.712543</td>\n",
       "    </tr>\n",
       "    <tr>\n",
       "      <th>4</th>\n",
       "      <td>thevoice</td>\n",
       "      <td>1000</td>\n",
       "      <td>general</td>\n",
       "      <td>1.377583</td>\n",
       "    </tr>\n",
       "    <tr>\n",
       "      <th>5</th>\n",
       "      <td>thevoice</td>\n",
       "      <td>2000</td>\n",
       "      <td>general</td>\n",
       "      <td>1.603885</td>\n",
       "    </tr>\n",
       "  </tbody>\n",
       "</table>\n",
       "</div>"
      ],
      "text/plain": [
       "  Dominio 1  Dimensiones Dominio 2       PAD\n",
       "0   general         1000  thevoice  1.377583\n",
       "1   general         2000  thevoice  1.603885\n",
       "2   rio2016         1000   general  1.563895\n",
       "3   rio2016         2000   general  1.712543\n",
       "4  thevoice         1000   general  1.377583\n",
       "5  thevoice         2000   general  1.603885"
      ]
     },
     "execution_count": 33,
     "metadata": {},
     "output_type": "execute_result"
    }
   ],
   "source": [
    "df_twitter_multiple"
   ]
  },
  {
   "cell_type": "code",
   "execution_count": 34,
   "metadata": {},
   "outputs": [
    {
     "name": "stdout",
     "output_type": "stream",
     "text": [
      "Guardando en scores/twitter/pad_multiple.csv\n",
      "Resultados guardados.\n"
     ]
    }
   ],
   "source": [
    "pad_path = os.path.join(scores_path,dataset_name, \"pad_multiple.csv\")\n",
    "\n",
    "print \"Guardando en %s\" % pad_path\n",
    "df_twitter_multiple.to_csv(pad_path, columns=df_twitter_multiple)\n",
    "print \"Resultados guardados.\""
   ]
  }
 ],
 "metadata": {
  "kernelspec": {
   "display_name": "Python 2",
   "language": "python",
   "name": "python2"
  },
  "language_info": {
   "codemirror_mode": {
    "name": "ipython",
    "version": 2
   },
   "file_extension": ".py",
   "mimetype": "text/x-python",
   "name": "python",
   "nbconvert_exporter": "python",
   "pygments_lexer": "ipython2",
   "version": "2.7.13"
  }
 },
 "nbformat": 4,
 "nbformat_minor": 2
}
