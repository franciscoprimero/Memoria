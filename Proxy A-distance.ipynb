{
 "cells": [
  {
   "cell_type": "code",
   "execution_count": 1,
   "metadata": {
    "collapsed": true
   },
   "outputs": [],
   "source": [
    "%load_ext autoreload\n",
    "%autoreload 2"
   ]
  },
  {
   "cell_type": "code",
   "execution_count": 14,
   "metadata": {
    "collapsed": true
   },
   "outputs": [],
   "source": [
    "from utils.DatasetStorage import Dataset\n",
    "from utils.paths import *\n",
    "\n",
    "import os\n",
    "import itertools\n",
    "\n",
    "import matplotlib.pyplot as plt\n",
    "\n",
    "# clasificador\n",
    "from sklearn.svm import SVC\n",
    "from sklearn.model_selection import train_test_split\n",
    "from sklearn.model_selection import GridSearchCV, cross_val_score\n",
    "import numpy as np\n",
    "import pandas as pd"
   ]
  },
  {
   "cell_type": "code",
   "execution_count": 3,
   "metadata": {
    "collapsed": true
   },
   "outputs": [],
   "source": [
    "def get_dataset_pad(labeled, domains, dims):\n",
    "    df = pd.DataFrame(columns=['Dominio 1', 'Dominio 2', 'PAD'])\n",
    "\n",
    "    i = 0\n",
    "    pairs = list(itertools.combinations(domains, 2))\n",
    "    \n",
    "    for src, tgt in pairs:\n",
    "        print \"%s - %s - \" % (src, tgt),\n",
    "        x_src = labeled[src]['X_tr'].todense()[:, :dims]\n",
    "        x_tgt = labeled[tgt]['X_tr'].todense()[:, :dims]\n",
    "\n",
    "        pad = get_pad(x_src, x_tgt)\n",
    "        print pad\n",
    "\n",
    "        df.loc[i] = [src, tgt, pad]\n",
    "        i = i + 1\n",
    "        \n",
    "    df_full = get_full_dataframe(df)\n",
    "    \n",
    "    df_multiple = pd.DataFrame(columns=['Dominio 1', 'Dominio 2', 'PAD'])\n",
    "    n_domains = list(itertools.combinations(domains, len(domains)-1))\n",
    "\n",
    "    i = 0\n",
    "    for domains_group in n_domains:\n",
    "        print domains_group,\n",
    "\n",
    "        tgt = list(set(domains).difference(domains_group))[0]\n",
    "        x_tgt = labeled[tgt]['X_tr'].todense()[:, :dims]\n",
    "        print \" - %s - \" % tgt,\n",
    "\n",
    "\n",
    "        #se unen los datos de los tres dominios\n",
    "        x_src = None\n",
    "        for domain in domains_group:\n",
    "            if x_src is None:\n",
    "                x_src = labeled[domain]['X_tr'].todense()[:, :dims]\n",
    "            else:\n",
    "                x_src = np.concatenate([x_src, labeled[domain]['X_tr'].todense()[:, :dims]])\n",
    "\n",
    "        pad = get_pad(x_src, x_tgt)\n",
    "        print pad\n",
    "\n",
    "        df_multiple.loc[i] = [tgt, domains_group, pad]\n",
    "        i = i + 1\n",
    "    \n",
    "    df_full = df_full.append(df_multiple, ignore_index=True)\n",
    "    df_full = df_full.sort_values(['Dominio 1', 'PAD'], ascending=[True, True]).reset_index(drop=True)\n",
    "    \n",
    "    return df_full"
   ]
  },
  {
   "cell_type": "code",
   "execution_count": 4,
   "metadata": {
    "collapsed": true
   },
   "outputs": [],
   "source": [
    "#calcula el valor de Proxy A-distance dados dos dominios X1 y X2\n",
    "def get_pad(X1, X2):\n",
    "    X = np.concatenate([X1, X2])\n",
    "    \n",
    "    y1 = np.zeros(X1.shape[0])\n",
    "    y2 = np.ones(X2.shape[0])\n",
    "    y = np.concatenate([y1, y2])\n",
    "    \n",
    "    X_tr, X_ts, y_tr, y_ts = train_test_split(X, y, test_size=0.2, random_state=42)\n",
    "    parametros = [{\n",
    "        'kernel': ['linear'],\n",
    "        'C': [1, 10, 100],\n",
    "        'cache_size': [7000],\n",
    "        'max_iter': [50000],\n",
    "    }]\n",
    "\n",
    "    clf = GridSearchCV(SVC(), parametros, cv=5, n_jobs = 3, scoring='roc_auc')\n",
    "    clf.fit(X_tr, y_tr)\n",
    "    \n",
    "    e = 1 - clf.score(X_ts, y_ts)\n",
    "    pad = 2 * (1 - 2*e)\n",
    "    \n",
    "    return pad"
   ]
  },
  {
   "cell_type": "code",
   "execution_count": 5,
   "metadata": {
    "collapsed": true
   },
   "outputs": [],
   "source": [
    "#agrega al dataframe df los mismos datos con columnas intercambiadas\n",
    "def get_full_dataframe(df):\n",
    "    df2 = df.reindex(columns=['Dominio 2', 'Dominio 1', 'PAD'])\n",
    "    df2.columns = ['Dominio 1', 'Dominio 2', 'PAD']\n",
    "    \n",
    "    df3 = df.append(df2, ignore_index=True)\n",
    "    df3 = df3.sort_values(['Dominio 1', 'PAD'], ascending=[True, True]).reset_index(drop=True)\n",
    "    \n",
    "    return df3"
   ]
  },
  {
   "cell_type": "code",
   "execution_count": 72,
   "metadata": {
    "collapsed": true
   },
   "outputs": [],
   "source": [
    "def get_pad_multiple_dimensions(dimensions, dataset_name):\n",
    "    df = None\n",
    "\n",
    "    for dim in dimensions:\n",
    "        pad_path = os.path.join(scores_path, dataset_name, \"pad_%d.csv\" % (dim))\n",
    "        print pad_path\n",
    "\n",
    "        df_temp = pd.read_csv(pad_path, sep=',', header=0, index_col=0)\n",
    "        df_temp = df_temp.loc[df_temp.groupby('Dominio 1')['PAD'].idxmin()]\n",
    "\n",
    "        df_temp['Dimensiones'] = dim\n",
    "\n",
    "        if df is None:\n",
    "            df = df_temp\n",
    "        else:\n",
    "            df = df.append(df_temp, ignore_index=True)\n",
    "\n",
    "        df = df[['Dominio 1', 'Dimensiones', 'Dominio 2', 'PAD']]\n",
    "        df = df.sort_values(['Dominio 1', 'Dimensiones']).reset_index(drop=True)\n",
    "\n",
    "\n",
    "    return df"
   ]
  },
  {
   "cell_type": "markdown",
   "metadata": {},
   "source": [
    "# Amazon\n",
    "\n",
    "## 3000 Dimensiones"
   ]
  },
  {
   "cell_type": "code",
   "execution_count": 5,
   "metadata": {
    "collapsed": true
   },
   "outputs": [],
   "source": [
    "#variables para guardar los resultados\n",
    "dataset_name = datasets[0]\n",
    "dims = 3000"
   ]
  },
  {
   "cell_type": "code",
   "execution_count": 6,
   "metadata": {},
   "outputs": [
    {
     "name": "stdout",
     "output_type": "stream",
     "text": [
      "amazon\n",
      "3000\n",
      "data\n"
     ]
    }
   ],
   "source": [
    "print dataset_name\n",
    "print dims\n",
    "print data_path"
   ]
  },
  {
   "cell_type": "code",
   "execution_count": 7,
   "metadata": {},
   "outputs": [
    {
     "name": "stdout",
     "output_type": "stream",
     "text": [
      "Dataset already splitted\n"
     ]
    }
   ],
   "source": [
    "# cargando dataset Amazon\n",
    "dataset_path = os.path.join(data_path, dataset_name+'.pkl')\n",
    "dataset_object = Dataset().load(dataset_path)\n",
    "\n",
    "dataset_object.split_dataset(test_size=0.2)\n",
    "\n",
    "labeled = dataset_object.labeled\n",
    "domains = dataset_object.domains"
   ]
  },
  {
   "cell_type": "code",
   "execution_count": null,
   "metadata": {
    "collapsed": true
   },
   "outputs": [],
   "source": [
    "df_amazon_3000 = get_dataset_pad(labeled, domains, dims)"
   ]
  },
  {
   "cell_type": "code",
   "execution_count": null,
   "metadata": {
    "collapsed": true
   },
   "outputs": [],
   "source": [
    "df_amazon_3000"
   ]
  },
  {
   "cell_type": "code",
   "execution_count": 32,
   "metadata": {},
   "outputs": [
    {
     "name": "stdout",
     "output_type": "stream",
     "text": [
      "Guardando en scores/amazon/pad_3000.csv\n",
      "Resultados guardados.\n"
     ]
    }
   ],
   "source": [
    "pad_path = os.path.join(scores_path,dataset_name, \"pad_%d.csv\" % (dims))\n",
    "\n",
    "print \"Guardando en %s\" % pad_path\n",
    "df_amazon_3000.to_csv(pad_path, columns=df_amazon_3000)\n",
    "print \"Resultados guardados.\""
   ]
  },
  {
   "cell_type": "markdown",
   "metadata": {},
   "source": [
    "## 1000 Dimensiones"
   ]
  },
  {
   "cell_type": "code",
   "execution_count": 26,
   "metadata": {},
   "outputs": [
    {
     "name": "stdout",
     "output_type": "stream",
     "text": [
      "amazon\n",
      "1000\n"
     ]
    }
   ],
   "source": [
    "dims = 1000\n",
    "dataset_name = datasets[0]\n",
    "\n",
    "print dataset_name\n",
    "print dims"
   ]
  },
  {
   "cell_type": "code",
   "execution_count": 28,
   "metadata": {},
   "outputs": [
    {
     "name": "stdout",
     "output_type": "stream",
     "text": [
      " Dataset already splitted\n"
     ]
    }
   ],
   "source": [
    "# cargando dataset Amazon\n",
    "dataset_path = os.path.join(data_path, dataset_name+'.pkl')\n",
    "dataset_object = Dataset().load(dataset_path)\n",
    "\n",
    "dataset_object.split_dataset(test_size=0.2)\n",
    "\n",
    "labeled = dataset_object.labeled\n",
    "domains = dataset_object.domains"
   ]
  },
  {
   "cell_type": "code",
   "execution_count": 31,
   "metadata": {},
   "outputs": [
    {
     "name": "stdout",
     "output_type": "stream",
     "text": [
      "kitchen - dvd -  1.86390631289\n",
      "kitchen - electronics - "
     ]
    },
    {
     "name": "stderr",
     "output_type": "stream",
     "text": [
      "/home/francisco/miniconda2/envs/env_memoria/lib/python2.7/site-packages/sklearn/svm/base.py:220: ConvergenceWarning: Solver terminated early (max_iter=50000).  Consider pre-processing your data with StandardScaler or MinMaxScaler.\n",
      "  % self.max_iter, ConvergenceWarning)\n",
      "/home/francisco/miniconda2/envs/env_memoria/lib/python2.7/site-packages/sklearn/svm/base.py:220: ConvergenceWarning: Solver terminated early (max_iter=50000).  Consider pre-processing your data with StandardScaler or MinMaxScaler.\n",
      "  % self.max_iter, ConvergenceWarning)\n",
      "/home/francisco/miniconda2/envs/env_memoria/lib/python2.7/site-packages/sklearn/svm/base.py:220: ConvergenceWarning: Solver terminated early (max_iter=50000).  Consider pre-processing your data with StandardScaler or MinMaxScaler.\n",
      "  % self.max_iter, ConvergenceWarning)\n"
     ]
    },
    {
     "name": "stdout",
     "output_type": "stream",
     "text": [
      " 1.49492986228\n",
      "kitchen - books -  1.9608131853\n",
      "dvd - electronics -  1.85770238831\n",
      "dvd - books -  1.83041297327\n",
      "electronics - books -  1.96772388609\n",
      "('kitchen', 'dvd', 'electronics')  - books -  1.8421996333\n",
      "('kitchen', 'dvd', 'books')  - electronics - "
     ]
    },
    {
     "name": "stderr",
     "output_type": "stream",
     "text": [
      "/home/francisco/miniconda2/envs/env_memoria/lib/python2.7/site-packages/sklearn/svm/base.py:220: ConvergenceWarning: Solver terminated early (max_iter=50000).  Consider pre-processing your data with StandardScaler or MinMaxScaler.\n",
      "  % self.max_iter, ConvergenceWarning)\n",
      "/home/francisco/miniconda2/envs/env_memoria/lib/python2.7/site-packages/sklearn/svm/base.py:220: ConvergenceWarning: Solver terminated early (max_iter=50000).  Consider pre-processing your data with StandardScaler or MinMaxScaler.\n",
      "  % self.max_iter, ConvergenceWarning)\n",
      "/home/francisco/miniconda2/envs/env_memoria/lib/python2.7/site-packages/sklearn/svm/base.py:220: ConvergenceWarning: Solver terminated early (max_iter=50000).  Consider pre-processing your data with StandardScaler or MinMaxScaler.\n",
      "  % self.max_iter, ConvergenceWarning)\n",
      "/home/francisco/miniconda2/envs/env_memoria/lib/python2.7/site-packages/sklearn/svm/base.py:220: ConvergenceWarning: Solver terminated early (max_iter=50000).  Consider pre-processing your data with StandardScaler or MinMaxScaler.\n",
      "  % self.max_iter, ConvergenceWarning)\n"
     ]
    },
    {
     "name": "stdout",
     "output_type": "stream",
     "text": [
      " 1.71258897757\n",
      "('kitchen', 'electronics', 'books')  - dvd -  1.74437823555\n",
      "('dvd', 'electronics', 'books')  - kitchen -  1.70060396894\n"
     ]
    }
   ],
   "source": [
    "df_amazon_1000 = get_dataset_pad(labeled, domains, dims)"
   ]
  },
  {
   "cell_type": "code",
   "execution_count": 32,
   "metadata": {},
   "outputs": [
    {
     "data": {
      "text/html": [
       "<div>\n",
       "<style>\n",
       "    .dataframe thead tr:only-child th {\n",
       "        text-align: right;\n",
       "    }\n",
       "\n",
       "    .dataframe thead th {\n",
       "        text-align: left;\n",
       "    }\n",
       "\n",
       "    .dataframe tbody tr th {\n",
       "        vertical-align: top;\n",
       "    }\n",
       "</style>\n",
       "<table border=\"1\" class=\"dataframe\">\n",
       "  <thead>\n",
       "    <tr style=\"text-align: right;\">\n",
       "      <th></th>\n",
       "      <th>Dominio 1</th>\n",
       "      <th>Dominio 2</th>\n",
       "      <th>PAD</th>\n",
       "    </tr>\n",
       "  </thead>\n",
       "  <tbody>\n",
       "    <tr>\n",
       "      <th>0</th>\n",
       "      <td>books</td>\n",
       "      <td>dvd</td>\n",
       "      <td>1.830413</td>\n",
       "    </tr>\n",
       "    <tr>\n",
       "      <th>1</th>\n",
       "      <td>books</td>\n",
       "      <td>(kitchen, dvd, electronics)</td>\n",
       "      <td>1.842200</td>\n",
       "    </tr>\n",
       "    <tr>\n",
       "      <th>2</th>\n",
       "      <td>books</td>\n",
       "      <td>kitchen</td>\n",
       "      <td>1.960813</td>\n",
       "    </tr>\n",
       "    <tr>\n",
       "      <th>3</th>\n",
       "      <td>books</td>\n",
       "      <td>electronics</td>\n",
       "      <td>1.967724</td>\n",
       "    </tr>\n",
       "    <tr>\n",
       "      <th>4</th>\n",
       "      <td>dvd</td>\n",
       "      <td>(kitchen, electronics, books)</td>\n",
       "      <td>1.744378</td>\n",
       "    </tr>\n",
       "    <tr>\n",
       "      <th>5</th>\n",
       "      <td>dvd</td>\n",
       "      <td>books</td>\n",
       "      <td>1.830413</td>\n",
       "    </tr>\n",
       "    <tr>\n",
       "      <th>6</th>\n",
       "      <td>dvd</td>\n",
       "      <td>electronics</td>\n",
       "      <td>1.857702</td>\n",
       "    </tr>\n",
       "    <tr>\n",
       "      <th>7</th>\n",
       "      <td>dvd</td>\n",
       "      <td>kitchen</td>\n",
       "      <td>1.863906</td>\n",
       "    </tr>\n",
       "    <tr>\n",
       "      <th>8</th>\n",
       "      <td>electronics</td>\n",
       "      <td>kitchen</td>\n",
       "      <td>1.494930</td>\n",
       "    </tr>\n",
       "    <tr>\n",
       "      <th>9</th>\n",
       "      <td>electronics</td>\n",
       "      <td>(kitchen, dvd, books)</td>\n",
       "      <td>1.712589</td>\n",
       "    </tr>\n",
       "    <tr>\n",
       "      <th>10</th>\n",
       "      <td>electronics</td>\n",
       "      <td>dvd</td>\n",
       "      <td>1.857702</td>\n",
       "    </tr>\n",
       "    <tr>\n",
       "      <th>11</th>\n",
       "      <td>electronics</td>\n",
       "      <td>books</td>\n",
       "      <td>1.967724</td>\n",
       "    </tr>\n",
       "    <tr>\n",
       "      <th>12</th>\n",
       "      <td>kitchen</td>\n",
       "      <td>electronics</td>\n",
       "      <td>1.494930</td>\n",
       "    </tr>\n",
       "    <tr>\n",
       "      <th>13</th>\n",
       "      <td>kitchen</td>\n",
       "      <td>(dvd, electronics, books)</td>\n",
       "      <td>1.700604</td>\n",
       "    </tr>\n",
       "    <tr>\n",
       "      <th>14</th>\n",
       "      <td>kitchen</td>\n",
       "      <td>dvd</td>\n",
       "      <td>1.863906</td>\n",
       "    </tr>\n",
       "    <tr>\n",
       "      <th>15</th>\n",
       "      <td>kitchen</td>\n",
       "      <td>books</td>\n",
       "      <td>1.960813</td>\n",
       "    </tr>\n",
       "  </tbody>\n",
       "</table>\n",
       "</div>"
      ],
      "text/plain": [
       "      Dominio 1                      Dominio 2       PAD\n",
       "0         books                            dvd  1.830413\n",
       "1         books    (kitchen, dvd, electronics)  1.842200\n",
       "2         books                        kitchen  1.960813\n",
       "3         books                    electronics  1.967724\n",
       "4           dvd  (kitchen, electronics, books)  1.744378\n",
       "5           dvd                          books  1.830413\n",
       "6           dvd                    electronics  1.857702\n",
       "7           dvd                        kitchen  1.863906\n",
       "8   electronics                        kitchen  1.494930\n",
       "9   electronics          (kitchen, dvd, books)  1.712589\n",
       "10  electronics                            dvd  1.857702\n",
       "11  electronics                          books  1.967724\n",
       "12      kitchen                    electronics  1.494930\n",
       "13      kitchen      (dvd, electronics, books)  1.700604\n",
       "14      kitchen                            dvd  1.863906\n",
       "15      kitchen                          books  1.960813"
      ]
     },
     "execution_count": 32,
     "metadata": {},
     "output_type": "execute_result"
    }
   ],
   "source": [
    "df_amazon_1000"
   ]
  },
  {
   "cell_type": "code",
   "execution_count": 33,
   "metadata": {},
   "outputs": [
    {
     "name": "stdout",
     "output_type": "stream",
     "text": [
      "Guardando en scores/amazon/pad_1000.csv\n",
      "Resultados guardados.\n"
     ]
    }
   ],
   "source": [
    "pad_path = os.path.join(scores_path,dataset_name, \"pad_%d.csv\" % (dims))\n",
    "\n",
    "print \"Guardando en %s\" % pad_path\n",
    "df_amazon_1000.to_csv(pad_path, columns=df_amazon_1000)\n",
    "print \"Resultados guardados.\""
   ]
  },
  {
   "cell_type": "markdown",
   "metadata": {},
   "source": [
    "## Todas las dimensiones"
   ]
  },
  {
   "cell_type": "code",
   "execution_count": 75,
   "metadata": {},
   "outputs": [
    {
     "name": "stdout",
     "output_type": "stream",
     "text": [
      "scores/amazon/pad_3000.csv\n",
      "scores/amazon/pad_1000.csv\n"
     ]
    }
   ],
   "source": [
    "dataset_name = datasets[0]\n",
    "dimensions = [3000, 1000]\n",
    "df_amazon_multiple = get_pad_multiple_dimensions(dimensions, dataset_name)"
   ]
  },
  {
   "cell_type": "code",
   "execution_count": 74,
   "metadata": {
    "scrolled": true
   },
   "outputs": [
    {
     "data": {
      "text/html": [
       "<div>\n",
       "<style>\n",
       "    .dataframe thead tr:only-child th {\n",
       "        text-align: right;\n",
       "    }\n",
       "\n",
       "    .dataframe thead th {\n",
       "        text-align: left;\n",
       "    }\n",
       "\n",
       "    .dataframe tbody tr th {\n",
       "        vertical-align: top;\n",
       "    }\n",
       "</style>\n",
       "<table border=\"1\" class=\"dataframe\">\n",
       "  <thead>\n",
       "    <tr style=\"text-align: right;\">\n",
       "      <th></th>\n",
       "      <th>Dominio 1</th>\n",
       "      <th>Dimensiones</th>\n",
       "      <th>Dominio 2</th>\n",
       "      <th>PAD</th>\n",
       "    </tr>\n",
       "  </thead>\n",
       "  <tbody>\n",
       "    <tr>\n",
       "      <th>0</th>\n",
       "      <td>books</td>\n",
       "      <td>1000</td>\n",
       "      <td>dvd</td>\n",
       "      <td>1.830413</td>\n",
       "    </tr>\n",
       "    <tr>\n",
       "      <th>1</th>\n",
       "      <td>books</td>\n",
       "      <td>3000</td>\n",
       "      <td>('kitchen', 'dvd', 'electronics')</td>\n",
       "      <td>1.937379</td>\n",
       "    </tr>\n",
       "    <tr>\n",
       "      <th>2</th>\n",
       "      <td>dvd</td>\n",
       "      <td>1000</td>\n",
       "      <td>('kitchen', 'electronics', 'books')</td>\n",
       "      <td>1.744378</td>\n",
       "    </tr>\n",
       "    <tr>\n",
       "      <th>3</th>\n",
       "      <td>dvd</td>\n",
       "      <td>3000</td>\n",
       "      <td>('kitchen', 'electronics', 'books')</td>\n",
       "      <td>1.924571</td>\n",
       "    </tr>\n",
       "    <tr>\n",
       "      <th>4</th>\n",
       "      <td>electronics</td>\n",
       "      <td>1000</td>\n",
       "      <td>kitchen</td>\n",
       "      <td>1.494930</td>\n",
       "    </tr>\n",
       "    <tr>\n",
       "      <th>5</th>\n",
       "      <td>electronics</td>\n",
       "      <td>3000</td>\n",
       "      <td>kitchen</td>\n",
       "      <td>1.712538</td>\n",
       "    </tr>\n",
       "    <tr>\n",
       "      <th>6</th>\n",
       "      <td>kitchen</td>\n",
       "      <td>1000</td>\n",
       "      <td>electronics</td>\n",
       "      <td>1.494930</td>\n",
       "    </tr>\n",
       "    <tr>\n",
       "      <th>7</th>\n",
       "      <td>kitchen</td>\n",
       "      <td>3000</td>\n",
       "      <td>electronics</td>\n",
       "      <td>1.712538</td>\n",
       "    </tr>\n",
       "  </tbody>\n",
       "</table>\n",
       "</div>"
      ],
      "text/plain": [
       "     Dominio 1  Dimensiones                            Dominio 2       PAD\n",
       "0        books         1000                                  dvd  1.830413\n",
       "1        books         3000    ('kitchen', 'dvd', 'electronics')  1.937379\n",
       "2          dvd         1000  ('kitchen', 'electronics', 'books')  1.744378\n",
       "3          dvd         3000  ('kitchen', 'electronics', 'books')  1.924571\n",
       "4  electronics         1000                              kitchen  1.494930\n",
       "5  electronics         3000                              kitchen  1.712538\n",
       "6      kitchen         1000                          electronics  1.494930\n",
       "7      kitchen         3000                          electronics  1.712538"
      ]
     },
     "execution_count": 74,
     "metadata": {},
     "output_type": "execute_result"
    }
   ],
   "source": [
    "df_amazon_multiple"
   ]
  },
  {
   "cell_type": "code",
   "execution_count": 77,
   "metadata": {},
   "outputs": [
    {
     "name": "stdout",
     "output_type": "stream",
     "text": [
      "Guardando en scores/amazon/pad_multiple.csv\n",
      "Resultados guardados.\n"
     ]
    }
   ],
   "source": [
    "pad_path = os.path.join(scores_path,dataset_name, \"pad_multiple.csv\")\n",
    "\n",
    "print \"Guardando en %s\" % pad_path\n",
    "df_amazon_multiple.to_csv(pad_path, columns=df_amazon_multiple)\n",
    "print \"Resultados guardados.\""
   ]
  },
  {
   "cell_type": "markdown",
   "metadata": {},
   "source": [
    "# Twitter\n",
    "## 2000 Dimensiones"
   ]
  },
  {
   "cell_type": "code",
   "execution_count": 6,
   "metadata": {
    "collapsed": true
   },
   "outputs": [],
   "source": [
    "#variables para guardar los resultados\n",
    "dataset_name = datasets[1]\n",
    "dims = dimensions[dataset_name]"
   ]
  },
  {
   "cell_type": "code",
   "execution_count": 7,
   "metadata": {},
   "outputs": [
    {
     "name": "stdout",
     "output_type": "stream",
     "text": [
      "twitter\n",
      "2000\n",
      "data\n"
     ]
    }
   ],
   "source": [
    "print dataset_name\n",
    "print dims\n",
    "print data_path"
   ]
  },
  {
   "cell_type": "code",
   "execution_count": 8,
   "metadata": {},
   "outputs": [
    {
     "name": "stdout",
     "output_type": "stream",
     "text": [
      "Dataset already splitted\n"
     ]
    }
   ],
   "source": [
    "# cargando dataset Twitter\n",
    "dataset_path = os.path.join(data_path, dataset_name+'.pkl')\n",
    "dataset_object = Dataset().load(dataset_path)\n",
    "\n",
    "dataset_object.split_dataset(test_size=0.2)\n",
    "\n",
    "labeled = dataset_object.labeled\n",
    "domains = dataset_object.domains"
   ]
  },
  {
   "cell_type": "code",
   "execution_count": 20,
   "metadata": {},
   "outputs": [
    {
     "name": "stdout",
     "output_type": "stream",
     "text": [
      "thevoice - general -  1.60388480445\n",
      "thevoice - rio2016 -  1.5818581212\n",
      "general - rio2016 -  1.75551345207\n",
      "('thevoice', 'general')  - rio2016 -  1.72589763178\n",
      "('thevoice', 'rio2016')  - general - "
     ]
    },
    {
     "name": "stderr",
     "output_type": "stream",
     "text": [
      "/home/francisco/miniconda2/envs/env_memoria/lib/python2.7/site-packages/sklearn/svm/base.py:220: ConvergenceWarning: Solver terminated early (max_iter=50000).  Consider pre-processing your data with StandardScaler or MinMaxScaler.\n",
      "  % self.max_iter, ConvergenceWarning)\n"
     ]
    },
    {
     "name": "stdout",
     "output_type": "stream",
     "text": [
      " 1.76542905308\n",
      "('general', 'rio2016')  - thevoice -  1.68177962108\n"
     ]
    }
   ],
   "source": [
    "df_twitter_2000 = get_dataset_pad(labeled, domains, dims)"
   ]
  },
  {
   "cell_type": "code",
   "execution_count": 23,
   "metadata": {},
   "outputs": [
    {
     "name": "stdout",
     "output_type": "stream",
     "text": [
      "Guardando en scores/twitter/pad_2000.csv\n",
      "Resultados guardados.\n"
     ]
    }
   ],
   "source": [
    "pad_path = os.path.join(scores_path,dataset_name, \"pad_%d.csv\" % (dims))\n",
    "\n",
    "print \"Guardando en %s\" % pad_path\n",
    "df_twitter_2000.to_csv(pad_path, columns=df_twitter_2000)\n",
    "print \"Resultados guardados.\""
   ]
  },
  {
   "cell_type": "markdown",
   "metadata": {},
   "source": [
    "## 1000 Dimensiones"
   ]
  },
  {
   "cell_type": "code",
   "execution_count": 8,
   "metadata": {
    "collapsed": true
   },
   "outputs": [],
   "source": [
    "#variables para guardar los resultados\n",
    "dataset_name = datasets[1]\n",
    "dims = 1000"
   ]
  },
  {
   "cell_type": "code",
   "execution_count": 9,
   "metadata": {},
   "outputs": [
    {
     "name": "stdout",
     "output_type": "stream",
     "text": [
      "twitter\n",
      "1000\n",
      "data\n"
     ]
    }
   ],
   "source": [
    "print dataset_name\n",
    "print dims\n",
    "print data_path"
   ]
  },
  {
   "cell_type": "code",
   "execution_count": 10,
   "metadata": {},
   "outputs": [
    {
     "name": "stdout",
     "output_type": "stream",
     "text": [
      "Dataset already splitted\n"
     ]
    }
   ],
   "source": [
    "# cargando dataset Twitter\n",
    "dataset_path = os.path.join(data_path, dataset_name+'.pkl')\n",
    "dataset_object = Dataset().load(dataset_path)\n",
    "\n",
    "dataset_object.split_dataset(test_size=0.2)\n",
    "\n",
    "labeled = dataset_object.labeled\n",
    "domains = dataset_object.domains"
   ]
  },
  {
   "cell_type": "code",
   "execution_count": 11,
   "metadata": {},
   "outputs": [
    {
     "name": "stdout",
     "output_type": "stream",
     "text": [
      "thevoice - general - "
     ]
    },
    {
     "name": "stderr",
     "output_type": "stream",
     "text": [
      "/home/francisco/miniconda2/envs/env_memoria/lib/python2.7/site-packages/sklearn/svm/base.py:220: ConvergenceWarning: Solver terminated early (max_iter=50000).  Consider pre-processing your data with StandardScaler or MinMaxScaler.\n",
      "  % self.max_iter, ConvergenceWarning)\n",
      "/home/francisco/miniconda2/envs/env_memoria/lib/python2.7/site-packages/sklearn/svm/base.py:220: ConvergenceWarning: Solver terminated early (max_iter=50000).  Consider pre-processing your data with StandardScaler or MinMaxScaler.\n",
      "  % self.max_iter, ConvergenceWarning)\n",
      "/home/francisco/miniconda2/envs/env_memoria/lib/python2.7/site-packages/sklearn/svm/base.py:220: ConvergenceWarning: Solver terminated early (max_iter=50000).  Consider pre-processing your data with StandardScaler or MinMaxScaler.\n",
      "  % self.max_iter, ConvergenceWarning)\n"
     ]
    },
    {
     "name": "stdout",
     "output_type": "stream",
     "text": [
      " 1.37758298169\n",
      "thevoice - rio2016 -  1.58857733557\n",
      "general - rio2016 - "
     ]
    },
    {
     "name": "stderr",
     "output_type": "stream",
     "text": [
      "/home/francisco/miniconda2/envs/env_memoria/lib/python2.7/site-packages/sklearn/svm/base.py:220: ConvergenceWarning: Solver terminated early (max_iter=50000).  Consider pre-processing your data with StandardScaler or MinMaxScaler.\n",
      "  % self.max_iter, ConvergenceWarning)\n"
     ]
    },
    {
     "name": "stdout",
     "output_type": "stream",
     "text": [
      " 1.87866616142\n",
      "('thevoice', 'general')  - rio2016 - "
     ]
    },
    {
     "name": "stderr",
     "output_type": "stream",
     "text": [
      "/home/francisco/miniconda2/envs/env_memoria/lib/python2.7/site-packages/sklearn/svm/base.py:220: ConvergenceWarning: Solver terminated early (max_iter=50000).  Consider pre-processing your data with StandardScaler or MinMaxScaler.\n",
      "  % self.max_iter, ConvergenceWarning)\n"
     ]
    },
    {
     "name": "stdout",
     "output_type": "stream",
     "text": [
      " 1.74854087089\n",
      "('thevoice', 'rio2016')  - general - "
     ]
    },
    {
     "name": "stderr",
     "output_type": "stream",
     "text": [
      "/home/francisco/miniconda2/envs/env_memoria/lib/python2.7/site-packages/sklearn/svm/base.py:220: ConvergenceWarning: Solver terminated early (max_iter=50000).  Consider pre-processing your data with StandardScaler or MinMaxScaler.\n",
      "  % self.max_iter, ConvergenceWarning)\n",
      "/home/francisco/miniconda2/envs/env_memoria/lib/python2.7/site-packages/sklearn/svm/base.py:220: ConvergenceWarning: Solver terminated early (max_iter=50000).  Consider pre-processing your data with StandardScaler or MinMaxScaler.\n",
      "  % self.max_iter, ConvergenceWarning)\n",
      "/home/francisco/miniconda2/envs/env_memoria/lib/python2.7/site-packages/sklearn/svm/base.py:220: ConvergenceWarning: Solver terminated early (max_iter=50000).  Consider pre-processing your data with StandardScaler or MinMaxScaler.\n",
      "  % self.max_iter, ConvergenceWarning)\n"
     ]
    },
    {
     "name": "stdout",
     "output_type": "stream",
     "text": [
      " 1.60445705358\n",
      "('general', 'rio2016')  - thevoice - "
     ]
    },
    {
     "name": "stderr",
     "output_type": "stream",
     "text": [
      "/home/francisco/miniconda2/envs/env_memoria/lib/python2.7/site-packages/sklearn/svm/base.py:220: ConvergenceWarning: Solver terminated early (max_iter=50000).  Consider pre-processing your data with StandardScaler or MinMaxScaler.\n",
      "  % self.max_iter, ConvergenceWarning)\n",
      "/home/francisco/miniconda2/envs/env_memoria/lib/python2.7/site-packages/sklearn/svm/base.py:220: ConvergenceWarning: Solver terminated early (max_iter=50000).  Consider pre-processing your data with StandardScaler or MinMaxScaler.\n",
      "  % self.max_iter, ConvergenceWarning)\n",
      "/home/francisco/miniconda2/envs/env_memoria/lib/python2.7/site-packages/sklearn/svm/base.py:220: ConvergenceWarning: Solver terminated early (max_iter=50000).  Consider pre-processing your data with StandardScaler or MinMaxScaler.\n",
      "  % self.max_iter, ConvergenceWarning)\n"
     ]
    },
    {
     "name": "stdout",
     "output_type": "stream",
     "text": [
      " 1.48508341974\n"
     ]
    }
   ],
   "source": [
    "df_twitter_1000 = get_dataset_pad(labeled, domains, dims)"
   ]
  },
  {
   "cell_type": "code",
   "execution_count": 12,
   "metadata": {},
   "outputs": [
    {
     "name": "stdout",
     "output_type": "stream",
     "text": [
      "Guardando en scores/twitter/pad_1000.csv\n",
      "Resultados guardados.\n"
     ]
    }
   ],
   "source": [
    "pad_path = os.path.join(scores_path,dataset_name, \"pad_%d.csv\" % (dims))\n",
    "\n",
    "print \"Guardando en %s\" % pad_path\n",
    "df_twitter_1000.to_csv(pad_path, columns=df_twitter_1000)\n",
    "print \"Resultados guardados.\""
   ]
  },
  {
   "cell_type": "markdown",
   "metadata": {},
   "source": [
    "## Todas las dimensiones"
   ]
  },
  {
   "cell_type": "code",
   "execution_count": 67,
   "metadata": {},
   "outputs": [
    {
     "name": "stdout",
     "output_type": "stream",
     "text": [
      "scores/twitter/pad_2000.csv\n",
      "scores/twitter/pad_1000.csv\n"
     ]
    }
   ],
   "source": [
    "dataset_name = datasets[1]\n",
    "dimensions = [2000, 1000]\n",
    "df_twitter_multiple = get_pad_multiple_dimensions(dimensions, dataset_name)"
   ]
  },
  {
   "cell_type": "code",
   "execution_count": 68,
   "metadata": {
    "scrolled": true
   },
   "outputs": [
    {
     "data": {
      "text/html": [
       "<div>\n",
       "<style>\n",
       "    .dataframe thead tr:only-child th {\n",
       "        text-align: right;\n",
       "    }\n",
       "\n",
       "    .dataframe thead th {\n",
       "        text-align: left;\n",
       "    }\n",
       "\n",
       "    .dataframe tbody tr th {\n",
       "        vertical-align: top;\n",
       "    }\n",
       "</style>\n",
       "<table border=\"1\" class=\"dataframe\">\n",
       "  <thead>\n",
       "    <tr style=\"text-align: right;\">\n",
       "      <th></th>\n",
       "      <th>Dominio 1</th>\n",
       "      <th>Dimensiones</th>\n",
       "      <th>Dominio 2</th>\n",
       "      <th>PAD</th>\n",
       "    </tr>\n",
       "  </thead>\n",
       "  <tbody>\n",
       "    <tr>\n",
       "      <th>0</th>\n",
       "      <td>general</td>\n",
       "      <td>1000</td>\n",
       "      <td>thevoice</td>\n",
       "      <td>1.377583</td>\n",
       "    </tr>\n",
       "    <tr>\n",
       "      <th>1</th>\n",
       "      <td>general</td>\n",
       "      <td>2000</td>\n",
       "      <td>thevoice</td>\n",
       "      <td>1.603885</td>\n",
       "    </tr>\n",
       "    <tr>\n",
       "      <th>2</th>\n",
       "      <td>rio2016</td>\n",
       "      <td>1000</td>\n",
       "      <td>thevoice</td>\n",
       "      <td>1.588577</td>\n",
       "    </tr>\n",
       "    <tr>\n",
       "      <th>3</th>\n",
       "      <td>rio2016</td>\n",
       "      <td>2000</td>\n",
       "      <td>thevoice</td>\n",
       "      <td>1.581858</td>\n",
       "    </tr>\n",
       "    <tr>\n",
       "      <th>4</th>\n",
       "      <td>thevoice</td>\n",
       "      <td>1000</td>\n",
       "      <td>general</td>\n",
       "      <td>1.377583</td>\n",
       "    </tr>\n",
       "    <tr>\n",
       "      <th>5</th>\n",
       "      <td>thevoice</td>\n",
       "      <td>2000</td>\n",
       "      <td>rio2016</td>\n",
       "      <td>1.581858</td>\n",
       "    </tr>\n",
       "  </tbody>\n",
       "</table>\n",
       "</div>"
      ],
      "text/plain": [
       "  Dominio 1  Dimensiones Dominio 2       PAD\n",
       "0   general         1000  thevoice  1.377583\n",
       "1   general         2000  thevoice  1.603885\n",
       "2   rio2016         1000  thevoice  1.588577\n",
       "3   rio2016         2000  thevoice  1.581858\n",
       "4  thevoice         1000   general  1.377583\n",
       "5  thevoice         2000   rio2016  1.581858"
      ]
     },
     "execution_count": 68,
     "metadata": {},
     "output_type": "execute_result"
    }
   ],
   "source": [
    "df_twitter_multiple"
   ]
  },
  {
   "cell_type": "code",
   "execution_count": 70,
   "metadata": {},
   "outputs": [
    {
     "name": "stdout",
     "output_type": "stream",
     "text": [
      "Guardando en scores/twitter/pad_multiple.csv\n",
      "Resultados guardados.\n"
     ]
    }
   ],
   "source": [
    "pad_path = os.path.join(scores_path,dataset_name, \"pad_multiple.csv\")\n",
    "\n",
    "print \"Guardando en %s\" % pad_path\n",
    "df_twitter_multiple.to_csv(pad_path, columns=df_twitter_multiple)\n",
    "print \"Resultados guardados.\""
   ]
  }
 ],
 "metadata": {
  "kernelspec": {
   "display_name": "Python 2",
   "language": "python",
   "name": "python2"
  },
  "language_info": {
   "codemirror_mode": {
    "name": "ipython",
    "version": 2
   },
   "file_extension": ".py",
   "mimetype": "text/x-python",
   "name": "python",
   "nbconvert_exporter": "python",
   "pygments_lexer": "ipython2",
   "version": "2.7.13"
  }
 },
 "nbformat": 4,
 "nbformat_minor": 2
}
