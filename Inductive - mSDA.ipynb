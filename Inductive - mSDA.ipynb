{
 "cells": [
  {
   "cell_type": "code",
   "execution_count": 15,
   "metadata": {},
   "outputs": [],
   "source": [
    "#carga de datasets\n",
    "from utils.DatasetStorage import Dataset\n",
    "from utils.paths import *\n",
    "\n",
    "#clasificadores\n",
    "from utils.clasificacion import *\n",
    "\n",
    "#adaptacion\n",
    "from sklearn.model_selection import train_test_split\n",
    "from mSDA.msda_theano import mSDATheano\n",
    "import theano.tensor as T\n",
    "\n",
    "#otros\n",
    "import os\n",
    "import numpy as np\n",
    "import pandas as pd\n",
    "from sklearn.externals import joblib\n",
    "import itertools\n",
    "\n",
    "#variables para guardar los resultados\n",
    "tipo = pruebas[1]"
   ]
  },
  {
   "cell_type": "markdown",
   "metadata": {},
   "source": [
    "# Pruebas con el dataset Amazon (3000 Dimensiones)"
   ]
  },
  {
   "cell_type": "code",
   "execution_count": 2,
   "metadata": {
    "collapsed": true
   },
   "outputs": [],
   "source": [
    "dims = 3000\n",
    "dataset_name = datasets[0]"
   ]
  },
  {
   "cell_type": "code",
   "execution_count": 12,
   "metadata": {},
   "outputs": [
    {
     "name": "stdout",
     "output_type": "stream",
     "text": [
      "msda\n",
      "amazon\n",
      "3000\n",
      "data\n"
     ]
    }
   ],
   "source": [
    "print tipo\n",
    "print dataset_name\n",
    "print dims\n",
    "print data_path"
   ]
  },
  {
   "cell_type": "code",
   "execution_count": 13,
   "metadata": {},
   "outputs": [
    {
     "name": "stdout",
     "output_type": "stream",
     "text": [
      "Dataset already splitted\n"
     ]
    }
   ],
   "source": [
    "# cargando dataset\n",
    "dataset_path = os.path.join(data_path, dataset_name+'.pkl')\n",
    "dataset_object = Dataset().load(dataset_path)\n",
    "\n",
    "dataset_object.split_dataset(test_size=0.2)\n",
    "\n",
    "labeled = dataset_object.labeled\n",
    "domains = dataset_object.domains"
   ]
  },
  {
   "cell_type": "code",
   "execution_count": 14,
   "metadata": {},
   "outputs": [],
   "source": [
    "parametros = {\n",
    "    'noises': [0.3, 0.5, 0.8],\n",
    "    'layers': [1, 3, 5]\n",
    "}\n",
    "\n",
    "noise_layer_pair =  list(itertools.product(parametros['noises'], parametros['layers']))\n",
    "\n",
    "x = T.dmatrix('x')"
   ]
  },
  {
   "cell_type": "code",
   "execution_count": null,
   "metadata": {
    "collapsed": true
   },
   "outputs": [],
   "source": [
    "df = pd.DataFrame(columns=dataframe_columns+'Porcentaje')\n",
    "\n",
    "porcentajes = [25, 50, 100]\n",
    "\n",
    "i=0\n",
    "tareas = len(domains)*(len(domains)-1)\n",
    "pairs = list(itertools.permutations(domains, 2))\n",
    "\n",
    "for src, tgt in pairs:\n",
    "    #datos de entrenamiento\n",
    "    X_src = labeled[src]['X_tr'][:, :dims].todense()\n",
    "    y_src = np.asarray(labeled[src]['y_tr'].todense()).argmax(axis=1)\n",
    "    \n",
    "    X_tgt = labeled[tgt]['X_tr'][:, :dims].todense()\n",
    "    y_tgt = np.asarray(labeled[tgt]['y_tr'].todense()).argmax(axis=1)\n",
    "    \n",
    "    X_train = np.concatenate((X_src, X_tgt))\n",
    "    \n",
    "    #datos de prueba\n",
    "    X_tgt_ts = labeled[tgt]['X_ts'][:, :dims].todense()\n",
    "    y_tgt_ts = np.asarray(labeled[tgt]['y_ts'].todense()).argmax(axis=1)\n",
    "    \n",
    "    \n",
    "    #baseline in-domain error\n",
    "    model_name = \"%d_%s.pkl\" % (dims, tgt)\n",
    "    model_path = os.path.join(models_path, dataset_name, \"indomain\", model_name)\n",
    "    \n",
    "    #Se realiza una clasificacion, estimando los parametros mediante cv\n",
    "    svc = load_best_score(model_path, X_tgt, y_tgt)\n",
    "    b_error = 1-svc.score(X_tgt_ts, y_tgt_ts)\n",
    "    \n",
    "    \n",
    "    for noise, layer in noise_layer_pair:\n",
    "        # entrenar un modelo de adaptacion\n",
    "        modelo_temp = mSDATheano(x, layer, noise)\n",
    "        t_adaptar = modelo_temp.fit(X_train)\n",
    "        \n",
    "        # entrenar un clasificador con los datos adaptados\n",
    "        # X_src_trans = modelo_temp.predict(X_src)\n",
    "        # clf = svc.fit\n",
    "        \n",
    "        # se prueba con distintos porcentajes\n",
    "        \n",
    "    "
   ]
  }
 ],
 "metadata": {
  "kernelspec": {
   "display_name": "Python 2",
   "language": "python",
   "name": "python2"
  },
  "language_info": {
   "codemirror_mode": {
    "name": "ipython",
    "version": 2
   },
   "file_extension": ".py",
   "mimetype": "text/x-python",
   "name": "python",
   "nbconvert_exporter": "python",
   "pygments_lexer": "ipython2",
   "version": "2.7.13"
  }
 },
 "nbformat": 4,
 "nbformat_minor": 2
}
