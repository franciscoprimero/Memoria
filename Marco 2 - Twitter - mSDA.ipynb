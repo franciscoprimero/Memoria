{
 "cells": [
  {
   "cell_type": "code",
   "execution_count": 1,
   "metadata": {
    "collapsed": true
   },
   "outputs": [],
   "source": [
    "#%load_ext autoreload\n",
    "#%autoreload 2"
   ]
  },
  {
   "cell_type": "code",
   "execution_count": 8,
   "metadata": {},
   "outputs": [],
   "source": [
    "#carga de datasets\n",
    "from utils.DatasetStorage import Dataset\n",
    "from utils.paths import *\n",
    "\n",
    "#clasificadores\n",
    "from utils.clasificacion import *\n",
    "\n",
    "#adaptacion\n",
    "from utils.adaptacion import msda_theano_grid_search\n",
    "\n",
    "#otros\n",
    "import os\n",
    "import numpy as np\n",
    "import pandas as pd\n",
    "from sklearn.externals import joblib\n",
    "import itertools\n",
    "\n",
    "#variables para guardar los resultados\n",
    "tipo = pruebas[1]\n",
    "dataset_name = datasets[1]"
   ]
  },
  {
   "cell_type": "markdown",
   "metadata": {},
   "source": [
    "# Adaptación\n",
    "\n",
    "## Creación de modelos de adaptación.\n",
    "\n",
    "Por cada par de dominios se entrenan distintos modelos según los parámetros establecidos.\n",
    "Al entrenar cada modelo, este es inmediatamente probado, siendo almacenado o descartado según su desempeño.\n",
    "\n",
    "Cada modelo es guardado en la ruta: models/twitter/msda/me2\\_[dimensiones]\\_[dominio\\_fuente]_[dominio\\_objetivo].pkl"
   ]
  },
  {
   "cell_type": "markdown",
   "metadata": {},
   "source": [
    "# Pruebas con el dataset Twitter (2000 Dimensiones)"
   ]
  },
  {
   "cell_type": "code",
   "execution_count": 3,
   "metadata": {
    "collapsed": true
   },
   "outputs": [],
   "source": [
    "dims = 2000"
   ]
  },
  {
   "cell_type": "code",
   "execution_count": 4,
   "metadata": {},
   "outputs": [
    {
     "name": "stdout",
     "output_type": "stream",
     "text": [
      "msda\n",
      "twitter\n",
      "2000\n",
      "data\n"
     ]
    }
   ],
   "source": [
    "print tipo\n",
    "print dataset_name\n",
    "print dims\n",
    "print data_path"
   ]
  },
  {
   "cell_type": "code",
   "execution_count": 5,
   "metadata": {},
   "outputs": [
    {
     "name": "stdout",
     "output_type": "stream",
     "text": [
      "Dataset already splitted\n"
     ]
    }
   ],
   "source": [
    "# cargando dataset Twitter\n",
    "dataset_path = os.path.join(data_path, dataset_name+'.pkl')\n",
    "dataset_object = Dataset().load(dataset_path)\n",
    "\n",
    "dataset_object.split_dataset(test_size=0.2)\n",
    "\n",
    "labeled = dataset_object.labeled\n",
    "domains = dataset_object.domains"
   ]
  },
  {
   "cell_type": "code",
   "execution_count": null,
   "metadata": {
    "scrolled": true
   },
   "outputs": [
    {
     "name": "stdout",
     "output_type": "stream",
     "text": [
      "Adaptando entre:\n",
      "1) rio2016 - thevoice\n",
      "\tpr: 0.300 - l: 1\n",
      "\tEntrenando capa  1\n",
      "\tEntrenado en 0.63m\n",
      "\n",
      "\t0.891\n",
      "\n",
      "\tpr: 0.300 - l: 3\n",
      "\tEntrenando capa  1\n",
      "\tEntrenando capa  2\n",
      "\tEntrenando capa  3\n",
      "\tEntrenado en 1.93m\n",
      "\n",
      "\t0.872\n",
      "\n",
      "\tpr: 0.300 - l: 5\n",
      "\tEntrenando capa  1\n",
      "\tEntrenando capa  2\n",
      "\tEntrenando capa  3\n",
      "\tEntrenando capa  4\n",
      "\tEntrenando capa  5\n",
      "\tEntrenado en 3.20m\n",
      "\n",
      "\t0.781\n",
      "\n",
      "\tpr: 0.500 - l: 1\n",
      "\tEntrenando capa  1\n",
      "\tEntrenado en 0.70m\n",
      "\n",
      "\t0.888\n",
      "\n",
      "\tpr: 0.500 - l: 3\n",
      "\tEntrenando capa  1\n",
      "\tEntrenando capa  2\n",
      "\tEntrenando capa  3\n",
      "\tEntrenado en 1.93m\n",
      "\n",
      "\t0.818\n",
      "\n",
      "\tpr: 0.500 - l: 5\n",
      "\tEntrenando capa  1\n",
      "\tEntrenando capa  2\n",
      "\tEntrenando capa  3\n",
      "\tEntrenando capa  4\n",
      "\tEntrenando capa  5\n",
      "\tEntrenado en 3.28m\n",
      "\n",
      "\t0.689\n",
      "\n",
      "\tpr: 0.800 - l: 1\n",
      "\tEntrenando capa  1\n",
      "\tEntrenado en 0.65m\n",
      "\n",
      "\t0.877\n",
      "\n",
      "\tpr: 0.800 - l: 3\n",
      "\tEntrenando capa  1\n",
      "\tEntrenando capa  2\n",
      "\tEntrenando capa  3\n",
      "\tEntrenado en 1.98m\n",
      "\n",
      "\t0.697\n",
      "\n",
      "\tpr: 0.800 - l: 5\n",
      "\tEntrenando capa  1\n",
      "\tEntrenando capa  2\n",
      "\tEntrenando capa  3\n",
      "\tEntrenando capa  4\n",
      "\tEntrenando capa  5\n",
      "\tEntrenado en 3.27m\n",
      "\n",
      "\t0.620\n",
      "\n",
      "\tMejor modelo: 0.891\n",
      "\tGuardando modelo en models/twitter/msda/me2_2000_rio2016_thevoice.pkl\n",
      "2) rio2016 - general\n",
      "\tpr: 0.300 - l: 1\n",
      "\tEntrenando capa  1\n",
      "\tEntrenado en 0.76m\n",
      "\n",
      "\t0.889\n",
      "\n",
      "\tpr: 0.300 - l: 3\n",
      "\tEntrenando capa  1\n",
      "\tEntrenando capa  2\n",
      "\tEntrenando capa  3\n",
      "\tEntrenado en 2.00m\n",
      "\n"
     ]
    },
    {
     "name": "stderr",
     "output_type": "stream",
     "text": [
      "/home/ubuntu/anaconda2/envs/env_memoria/lib/python2.7/site-packages/sklearn/svm/base.py:220: ConvergenceWarning: Solver terminated early (max_iter=50000).  Consider pre-processing your data with StandardScaler or MinMaxScaler.\n",
      "  % self.max_iter, ConvergenceWarning)\n",
      "/home/ubuntu/anaconda2/envs/env_memoria/lib/python2.7/site-packages/sklearn/svm/base.py:220: ConvergenceWarning: Solver terminated early (max_iter=50000).  Consider pre-processing your data with StandardScaler or MinMaxScaler.\n",
      "  % self.max_iter, ConvergenceWarning)\n"
     ]
    },
    {
     "name": "stdout",
     "output_type": "stream",
     "text": [
      "\t0.840\n",
      "\n",
      "\tpr: 0.300 - l: 5\n",
      "\tEntrenando capa  1\n",
      "\tEntrenando capa  2\n",
      "\tEntrenando capa  3\n",
      "\tEntrenando capa  4\n",
      "\tEntrenando capa  5\n",
      "\tEntrenado en 3.36m\n",
      "\n"
     ]
    },
    {
     "name": "stderr",
     "output_type": "stream",
     "text": [
      "/home/ubuntu/anaconda2/envs/env_memoria/lib/python2.7/site-packages/sklearn/svm/base.py:220: ConvergenceWarning: Solver terminated early (max_iter=50000).  Consider pre-processing your data with StandardScaler or MinMaxScaler.\n",
      "  % self.max_iter, ConvergenceWarning)\n",
      "/home/ubuntu/anaconda2/envs/env_memoria/lib/python2.7/site-packages/sklearn/svm/base.py:220: ConvergenceWarning: Solver terminated early (max_iter=50000).  Consider pre-processing your data with StandardScaler or MinMaxScaler.\n",
      "  % self.max_iter, ConvergenceWarning)\n",
      "/home/ubuntu/anaconda2/envs/env_memoria/lib/python2.7/site-packages/sklearn/svm/base.py:220: ConvergenceWarning: Solver terminated early (max_iter=50000).  Consider pre-processing your data with StandardScaler or MinMaxScaler.\n",
      "  % self.max_iter, ConvergenceWarning)\n"
     ]
    },
    {
     "name": "stdout",
     "output_type": "stream",
     "text": [
      "\t0.727\n",
      "\n",
      "\tpr: 0.500 - l: 1\n",
      "\tEntrenando capa  1\n",
      "\tEntrenado en 0.69m\n",
      "\n",
      "\t0.887\n",
      "\n",
      "\tpr: 0.500 - l: 3\n",
      "\tEntrenando capa  1\n",
      "\tEntrenando capa  2\n",
      "\tEntrenando capa  3\n",
      "\tEntrenado en 1.96m\n",
      "\n",
      "\t0.748\n",
      "\n",
      "\tpr: 0.500 - l: 5\n",
      "\tEntrenando capa  1\n",
      "\tEntrenando capa  2\n",
      "\tEntrenando capa  3\n",
      "\tEntrenando capa  4\n",
      "\tEntrenando capa  5\n",
      "\tEntrenado en 3.34m\n",
      "\n",
      "\t0.668\n",
      "\n",
      "\tpr: 0.800 - l: 1\n",
      "\tEntrenando capa  1\n",
      "\tEntrenado en 0.66m\n",
      "\n",
      "\t0.883\n",
      "\n",
      "\tpr: 0.800 - l: 3\n",
      "\tEntrenando capa  1\n",
      "\tEntrenando capa  2\n",
      "\tEntrenando capa  3\n",
      "\tEntrenado en 1.96m\n",
      "\n",
      "\t0.632\n",
      "\n",
      "\tpr: 0.800 - l: 5\n",
      "\tEntrenando capa  1\n",
      "\tEntrenando capa  2\n",
      "\tEntrenando capa  3\n",
      "\tEntrenando capa  4\n",
      "\tEntrenando capa  5\n",
      "\tEntrenado en 3.31m\n",
      "\n",
      "\t0.642\n",
      "\n",
      "\tMejor modelo: 0.889\n",
      "\tGuardando modelo en models/twitter/msda/me2_2000_rio2016_general.pkl\n",
      "3) thevoice - rio2016\n",
      "\tpr: 0.300 - l: 1\n",
      "\tEntrenando capa  1\n",
      "\tEntrenado en 0.68m\n",
      "\n",
      "\t0.892\n",
      "\n",
      "\tpr: 0.300 - l: 3\n",
      "\tEntrenando capa  1\n",
      "\tEntrenando capa  2\n",
      "\tEntrenando capa  3\n",
      "\tEntrenado en 2.04m\n",
      "\n"
     ]
    },
    {
     "name": "stderr",
     "output_type": "stream",
     "text": [
      "/home/ubuntu/anaconda2/envs/env_memoria/lib/python2.7/site-packages/sklearn/svm/base.py:220: ConvergenceWarning: Solver terminated early (max_iter=50000).  Consider pre-processing your data with StandardScaler or MinMaxScaler.\n",
      "  % self.max_iter, ConvergenceWarning)\n",
      "/home/ubuntu/anaconda2/envs/env_memoria/lib/python2.7/site-packages/sklearn/svm/base.py:220: ConvergenceWarning: Solver terminated early (max_iter=50000).  Consider pre-processing your data with StandardScaler or MinMaxScaler.\n",
      "  % self.max_iter, ConvergenceWarning)\n",
      "/home/ubuntu/anaconda2/envs/env_memoria/lib/python2.7/site-packages/sklearn/svm/base.py:220: ConvergenceWarning: Solver terminated early (max_iter=50000).  Consider pre-processing your data with StandardScaler or MinMaxScaler.\n",
      "  % self.max_iter, ConvergenceWarning)\n",
      "/home/ubuntu/anaconda2/envs/env_memoria/lib/python2.7/site-packages/sklearn/svm/base.py:220: ConvergenceWarning: Solver terminated early (max_iter=50000).  Consider pre-processing your data with StandardScaler or MinMaxScaler.\n",
      "  % self.max_iter, ConvergenceWarning)\n"
     ]
    },
    {
     "name": "stdout",
     "output_type": "stream",
     "text": [
      "\t0.839\n",
      "\n",
      "\tpr: 0.300 - l: 5\n",
      "\tEntrenando capa  1\n",
      "\tEntrenando capa  2\n",
      "\tEntrenando capa  3\n",
      "\tEntrenando capa  4\n",
      "\tEntrenando capa  5\n",
      "\tEntrenado en 3.27m\n",
      "\n"
     ]
    },
    {
     "name": "stderr",
     "output_type": "stream",
     "text": [
      "/home/ubuntu/anaconda2/envs/env_memoria/lib/python2.7/site-packages/sklearn/svm/base.py:220: ConvergenceWarning: Solver terminated early (max_iter=50000).  Consider pre-processing your data with StandardScaler or MinMaxScaler.\n",
      "  % self.max_iter, ConvergenceWarning)\n",
      "/home/ubuntu/anaconda2/envs/env_memoria/lib/python2.7/site-packages/sklearn/svm/base.py:220: ConvergenceWarning: Solver terminated early (max_iter=50000).  Consider pre-processing your data with StandardScaler or MinMaxScaler.\n",
      "  % self.max_iter, ConvergenceWarning)\n",
      "/home/ubuntu/anaconda2/envs/env_memoria/lib/python2.7/site-packages/sklearn/svm/base.py:220: ConvergenceWarning: Solver terminated early (max_iter=50000).  Consider pre-processing your data with StandardScaler or MinMaxScaler.\n",
      "  % self.max_iter, ConvergenceWarning)\n",
      "/home/ubuntu/anaconda2/envs/env_memoria/lib/python2.7/site-packages/sklearn/svm/base.py:220: ConvergenceWarning: Solver terminated early (max_iter=50000).  Consider pre-processing your data with StandardScaler or MinMaxScaler.\n",
      "  % self.max_iter, ConvergenceWarning)\n"
     ]
    },
    {
     "name": "stdout",
     "output_type": "stream",
     "text": [
      "\t0.770\n",
      "\n",
      "\tpr: 0.500 - l: 1\n",
      "\tEntrenando capa  1\n",
      "\tEntrenado en 0.65m\n",
      "\n",
      "\t0.880\n",
      "\n",
      "\tpr: 0.500 - l: 3\n",
      "\tEntrenando capa  1\n",
      "\tEntrenando capa  2\n",
      "\tEntrenando capa  3\n",
      "\tEntrenado en 2.03m\n",
      "\n",
      "\t0.753\n",
      "\n",
      "\tpr: 0.500 - l: 5\n",
      "\tEntrenando capa  1\n",
      "\tEntrenando capa  2\n",
      "\tEntrenando capa  3\n",
      "\tEntrenando capa  4\n",
      "\tEntrenando capa  5\n",
      "\tEntrenado en 3.37m\n",
      "\n"
     ]
    },
    {
     "name": "stderr",
     "output_type": "stream",
     "text": [
      "/home/ubuntu/anaconda2/envs/env_memoria/lib/python2.7/site-packages/sklearn/svm/base.py:220: ConvergenceWarning: Solver terminated early (max_iter=50000).  Consider pre-processing your data with StandardScaler or MinMaxScaler.\n",
      "  % self.max_iter, ConvergenceWarning)\n",
      "/home/ubuntu/anaconda2/envs/env_memoria/lib/python2.7/site-packages/sklearn/svm/base.py:220: ConvergenceWarning: Solver terminated early (max_iter=50000).  Consider pre-processing your data with StandardScaler or MinMaxScaler.\n",
      "  % self.max_iter, ConvergenceWarning)\n",
      "/home/ubuntu/anaconda2/envs/env_memoria/lib/python2.7/site-packages/sklearn/svm/base.py:220: ConvergenceWarning: Solver terminated early (max_iter=50000).  Consider pre-processing your data with StandardScaler or MinMaxScaler.\n",
      "  % self.max_iter, ConvergenceWarning)\n",
      "/home/ubuntu/anaconda2/envs/env_memoria/lib/python2.7/site-packages/sklearn/svm/base.py:220: ConvergenceWarning: Solver terminated early (max_iter=50000).  Consider pre-processing your data with StandardScaler or MinMaxScaler.\n",
      "  % self.max_iter, ConvergenceWarning)\n"
     ]
    },
    {
     "name": "stdout",
     "output_type": "stream",
     "text": [
      "\t0.714\n",
      "\n",
      "\tpr: 0.800 - l: 1\n",
      "\tEntrenando capa  1\n",
      "\tEntrenado en 0.64m\n",
      "\n",
      "\t0.845\n",
      "\n",
      "\tpr: 0.800 - l: 3\n",
      "\tEntrenando capa  1\n",
      "\tEntrenando capa  2\n",
      "\tEntrenando capa  3\n",
      "\tEntrenado en 1.93m\n",
      "\n",
      "\t0.723\n",
      "\n",
      "\tpr: 0.800 - l: 5\n",
      "\tEntrenando capa  1\n",
      "\tEntrenando capa  2\n",
      "\tEntrenando capa  3\n",
      "\tEntrenando capa  4\n",
      "\tEntrenando capa  5\n",
      "\tEntrenado en 3.29m\n",
      "\n",
      "\t0.685\n",
      "\n",
      "\tMejor modelo: 0.892\n",
      "\tGuardando modelo en models/twitter/msda/me2_2000_thevoice_rio2016.pkl\n",
      "4) thevoice - general\n",
      "\tpr: 0.300 - l: 1\n",
      "\tEntrenando capa  1\n",
      "\tEntrenado en 0.68m\n",
      "\n",
      "\t0.889\n",
      "\n",
      "\tpr: 0.300 - l: 3\n",
      "\tEntrenando capa  1\n",
      "\tEntrenando capa  2\n",
      "\tEntrenando capa  3\n",
      "\tEntrenado en 2.00m\n",
      "\n"
     ]
    },
    {
     "name": "stderr",
     "output_type": "stream",
     "text": [
      "/home/ubuntu/anaconda2/envs/env_memoria/lib/python2.7/site-packages/sklearn/svm/base.py:220: ConvergenceWarning: Solver terminated early (max_iter=50000).  Consider pre-processing your data with StandardScaler or MinMaxScaler.\n",
      "  % self.max_iter, ConvergenceWarning)\n",
      "/home/ubuntu/anaconda2/envs/env_memoria/lib/python2.7/site-packages/sklearn/svm/base.py:220: ConvergenceWarning: Solver terminated early (max_iter=50000).  Consider pre-processing your data with StandardScaler or MinMaxScaler.\n",
      "  % self.max_iter, ConvergenceWarning)\n",
      "/home/ubuntu/anaconda2/envs/env_memoria/lib/python2.7/site-packages/sklearn/svm/base.py:220: ConvergenceWarning: Solver terminated early (max_iter=50000).  Consider pre-processing your data with StandardScaler or MinMaxScaler.\n",
      "  % self.max_iter, ConvergenceWarning)\n",
      "/home/ubuntu/anaconda2/envs/env_memoria/lib/python2.7/site-packages/sklearn/svm/base.py:220: ConvergenceWarning: Solver terminated early (max_iter=50000).  Consider pre-processing your data with StandardScaler or MinMaxScaler.\n",
      "  % self.max_iter, ConvergenceWarning)\n"
     ]
    },
    {
     "name": "stdout",
     "output_type": "stream",
     "text": [
      "\t0.824\n",
      "\n",
      "\tpr: 0.300 - l: 5\n",
      "\tEntrenando capa  1\n",
      "\tEntrenando capa  2\n",
      "\tEntrenando capa  3\n",
      "\tEntrenando capa  4\n",
      "\tEntrenando capa  5\n",
      "\tEntrenado en 3.34m\n",
      "\n"
     ]
    },
    {
     "name": "stderr",
     "output_type": "stream",
     "text": [
      "/home/ubuntu/anaconda2/envs/env_memoria/lib/python2.7/site-packages/sklearn/svm/base.py:220: ConvergenceWarning: Solver terminated early (max_iter=50000).  Consider pre-processing your data with StandardScaler or MinMaxScaler.\n",
      "  % self.max_iter, ConvergenceWarning)\n",
      "/home/ubuntu/anaconda2/envs/env_memoria/lib/python2.7/site-packages/sklearn/svm/base.py:220: ConvergenceWarning: Solver terminated early (max_iter=50000).  Consider pre-processing your data with StandardScaler or MinMaxScaler.\n",
      "  % self.max_iter, ConvergenceWarning)\n",
      "/home/ubuntu/anaconda2/envs/env_memoria/lib/python2.7/site-packages/sklearn/svm/base.py:220: ConvergenceWarning: Solver terminated early (max_iter=50000).  Consider pre-processing your data with StandardScaler or MinMaxScaler.\n",
      "  % self.max_iter, ConvergenceWarning)\n",
      "/home/ubuntu/anaconda2/envs/env_memoria/lib/python2.7/site-packages/sklearn/svm/base.py:220: ConvergenceWarning: Solver terminated early (max_iter=50000).  Consider pre-processing your data with StandardScaler or MinMaxScaler.\n",
      "  % self.max_iter, ConvergenceWarning)\n"
     ]
    },
    {
     "name": "stdout",
     "output_type": "stream",
     "text": [
      "\t0.748\n",
      "\n",
      "\tpr: 0.500 - l: 1\n",
      "\tEntrenando capa  1\n",
      "\tEntrenado en 0.66m\n",
      "\n",
      "\t0.870\n",
      "\n",
      "\tpr: 0.500 - l: 3\n",
      "\tEntrenando capa  1\n",
      "\tEntrenando capa  2\n",
      "\tEntrenando capa  3\n",
      "\tEntrenado en 1.99m\n",
      "\n",
      "\t0.762\n",
      "\n",
      "\tpr: 0.500 - l: 5\n",
      "\tEntrenando capa  1\n",
      "\tEntrenando capa  2\n",
      "\tEntrenando capa  3\n",
      "\tEntrenando capa  4\n",
      "\tEntrenando capa  5\n",
      "\tEntrenado en 3.31m\n",
      "\n"
     ]
    },
    {
     "name": "stderr",
     "output_type": "stream",
     "text": [
      "/home/ubuntu/anaconda2/envs/env_memoria/lib/python2.7/site-packages/sklearn/svm/base.py:220: ConvergenceWarning: Solver terminated early (max_iter=50000).  Consider pre-processing your data with StandardScaler or MinMaxScaler.\n",
      "  % self.max_iter, ConvergenceWarning)\n",
      "/home/ubuntu/anaconda2/envs/env_memoria/lib/python2.7/site-packages/sklearn/svm/base.py:220: ConvergenceWarning: Solver terminated early (max_iter=50000).  Consider pre-processing your data with StandardScaler or MinMaxScaler.\n",
      "  % self.max_iter, ConvergenceWarning)\n",
      "/home/ubuntu/anaconda2/envs/env_memoria/lib/python2.7/site-packages/sklearn/svm/base.py:220: ConvergenceWarning: Solver terminated early (max_iter=50000).  Consider pre-processing your data with StandardScaler or MinMaxScaler.\n",
      "  % self.max_iter, ConvergenceWarning)\n",
      "/home/ubuntu/anaconda2/envs/env_memoria/lib/python2.7/site-packages/sklearn/svm/base.py:220: ConvergenceWarning: Solver terminated early (max_iter=50000).  Consider pre-processing your data with StandardScaler or MinMaxScaler.\n",
      "  % self.max_iter, ConvergenceWarning)\n"
     ]
    },
    {
     "name": "stdout",
     "output_type": "stream",
     "text": [
      "\t0.686\n",
      "\n",
      "\tpr: 0.800 - l: 1\n",
      "\tEntrenando capa  1\n",
      "\tEntrenado en 0.69m\n",
      "\n",
      "\t0.853\n",
      "\n",
      "\tpr: 0.800 - l: 3\n",
      "\tEntrenando capa  1\n",
      "\tEntrenando capa  2\n",
      "\tEntrenando capa  3\n",
      "\tEntrenado en 1.99m\n",
      "\n",
      "\t0.701\n",
      "\n",
      "\tpr: 0.800 - l: 5\n",
      "\tEntrenando capa  1\n",
      "\tEntrenando capa  2\n",
      "\tEntrenando capa  3\n",
      "\tEntrenando capa  4\n",
      "\tEntrenando capa  5\n",
      "\tEntrenado en 3.31m\n",
      "\n",
      "\t0.672\n",
      "\n",
      "\tMejor modelo: 0.889\n",
      "\tGuardando modelo en models/twitter/msda/me2_2000_thevoice_general.pkl\n",
      "5) general - rio2016\n",
      "\tpr: 0.300 - l: 1\n",
      "\tEntrenando capa  1\n",
      "\tEntrenado en 0.62m\n",
      "\n"
     ]
    },
    {
     "name": "stderr",
     "output_type": "stream",
     "text": [
      "/home/ubuntu/anaconda2/envs/env_memoria/lib/python2.7/site-packages/sklearn/svm/base.py:220: ConvergenceWarning: Solver terminated early (max_iter=50000).  Consider pre-processing your data with StandardScaler or MinMaxScaler.\n",
      "  % self.max_iter, ConvergenceWarning)\n",
      "/home/ubuntu/anaconda2/envs/env_memoria/lib/python2.7/site-packages/sklearn/svm/base.py:220: ConvergenceWarning: Solver terminated early (max_iter=50000).  Consider pre-processing your data with StandardScaler or MinMaxScaler.\n",
      "  % self.max_iter, ConvergenceWarning)\n",
      "/home/ubuntu/anaconda2/envs/env_memoria/lib/python2.7/site-packages/sklearn/svm/base.py:220: ConvergenceWarning: Solver terminated early (max_iter=50000).  Consider pre-processing your data with StandardScaler or MinMaxScaler.\n",
      "  % self.max_iter, ConvergenceWarning)\n",
      "/home/ubuntu/anaconda2/envs/env_memoria/lib/python2.7/site-packages/sklearn/svm/base.py:220: ConvergenceWarning: Solver terminated early (max_iter=50000).  Consider pre-processing your data with StandardScaler or MinMaxScaler.\n",
      "  % self.max_iter, ConvergenceWarning)\n",
      "/home/ubuntu/anaconda2/envs/env_memoria/lib/python2.7/site-packages/sklearn/svm/base.py:220: ConvergenceWarning: Solver terminated early (max_iter=50000).  Consider pre-processing your data with StandardScaler or MinMaxScaler.\n",
      "  % self.max_iter, ConvergenceWarning)\n"
     ]
    },
    {
     "name": "stdout",
     "output_type": "stream",
     "text": [
      "\t0.724\n",
      "\n",
      "\tpr: 0.300 - l: 3\n",
      "\tEntrenando capa  1\n",
      "\tEntrenando capa  2\n",
      "\tEntrenando capa  3\n",
      "\tEntrenado en 1.98m\n",
      "\n"
     ]
    }
   ],
   "source": [
    "models_paths = os.path.join(models_path, dataset_name, tipo, 'me2_%d_models_paths.pkl' % dims)\n",
    "\n",
    "parameters = {\n",
    "    'noises': [0.3, 0.5, 0.8],\n",
    "    'layers': [1, 3, 5]\n",
    "}\n",
    "\n",
    "i = 1\n",
    "pairs = list(itertools.permutations(domains, 2))\n",
    "\n",
    "#por cada par se entrena un adaptador y se guarda el que mejor resultados entrega\n",
    "print \"Adaptando entre:\"\n",
    "for src, tgt in pairs:\n",
    "    print \"%d) %s - %s\" % (i, src, tgt)\n",
    "    X_src = labeled[src]['X_tr'][:, :dims].todense()\n",
    "    y_src = np.asarray(labeled[src]['y_tr'].todense()).argmax(axis=1)\n",
    "\n",
    "    X_tgt = labeled[tgt]['X_tr'][:, :dims].todense()\n",
    "\n",
    "    X_train = np.concatenate((X_src, X_tgt))\n",
    "\n",
    "    best_model, score = msda_theano_grid_search(X_train, X_src, y_src, parameters, n_jobs=4)\n",
    "    print \"\\tMejor modelo: %.3f\" % score\n",
    "\n",
    "    folder_path = os.path.join(models_path, dataset_name, tipo)\n",
    "    prefix = \"me2_%d_%s_%s.pkl\" % (dims, src, tgt)\n",
    "\n",
    "    best_model_save_path = os.path.join(folder_path, prefix)\n",
    "    print \"\\tGuardando modelo en %s\" % best_model_save_path\n",
    "    joblib.dump(best_model, best_model_save_path)\n",
    "    i = i+1\n",
    "\n",
    "print \"\\nAdaptaciones completadas\""
   ]
  },
  {
   "cell_type": "markdown",
   "metadata": {},
   "source": [
    "## Pruebas de clasificación"
   ]
  },
  {
   "cell_type": "code",
   "execution_count": null,
   "metadata": {
    "collapsed": true
   },
   "outputs": [],
   "source": [
    "df = pd.DataFrame(columns=dataframe_columns)\n",
    "\n",
    "i=0\n",
    "tareas = len(domains)*(len(domains)-1)\n",
    "pairs = list(itertools.permutations(domains, 2))\n",
    "\n",
    "# por cada par posible para adaptar\n",
    "for src, tgt in pairs:\n",
    "    print \"Tarea %d de %d\" % (i+1, tareas)\n",
    "            \n",
    "    #baseline in-domain error\n",
    "    #e_b(T,T)\n",
    "    #entrenado en dominio tgt y probado en dominio tgt\n",
    "    X_tr = labeled[tgt]['X_tr'][:, :dims].todense()\n",
    "    y_tr = np.asarray(labeled[tgt]['y_tr'].todense()).argmax(axis=1)\n",
    "\n",
    "    X_ts = labeled[tgt]['X_ts'][:, :dims].todense()\n",
    "    y_ts = np.asarray(labeled[tgt]['y_ts'].todense()).argmax(axis=1)\n",
    "\n",
    "    # se crean las rutas para cargar o crear los modelos\n",
    "    model_name = \"%d_%s.pkl\" % (dims, tgt)\n",
    "    model_path = os.path.join(models_path, dataset_name, \"indomain\", model_name)\n",
    "\n",
    "    #Se realiza una clasificacion, estimando los parametros mediante cv\n",
    "    svc = load_best_score(model_path, X_tr, y_tr)\n",
    "    b_error = 1-svc.score(X_ts, y_ts)\n",
    "\n",
    "    #############\n",
    "    #### mSDA ###\n",
    "    #############\n",
    "    # se adaptan los dominios usando mSDA\n",
    "    print \"Adaptando dominios...\"\n",
    "    folder_path = os.path.join(models_path, dataset_name, tipo)\n",
    "    prefix = \"me2_%d_%s_%s.pkl\" % (dims, src, tgt)\n",
    "\n",
    "    best_model_save_path = os.path.join(folder_path, prefix)\n",
    "\n",
    "    best_msda = joblib.load(best_model_save_path)\n",
    "\n",
    "\n",
    "    X_tr = labeled[src]['X_tr'][:, :dims].todense()\n",
    "    X_tr_a = best_msda.predict(X_tr)\n",
    "    y_tr = np.asarray(labeled[src]['y_tr'].todense()).argmax(axis=1)\n",
    "\n",
    "    X_ts = labeled[tgt]['X_ts'][:, :dims].todense()\n",
    "    X_ts_a = best_msda.predict(X_ts)\n",
    "    y_ts = np.asarray(labeled[tgt]['y_ts'].todense()).argmax(axis=1)\n",
    "\n",
    "    clf = get_best_score(X_tr_a, y_tr, classifier='SVC', n_jobs=4)\n",
    "    t_error = 1-clf.score(X_ts_a, y_ts)\n",
    "\n",
    "\n",
    "    # transfer loss t\n",
    "    # t_error - b_error\n",
    "    t_loss = t_error - b_error\n",
    "\n",
    "    tarea = src[0]+'->'+tgt[0]\n",
    "    df.loc[i] = ['mSDA',tarea,src,tgt,b_error*100,t_error*100, t_loss*100]\n",
    "\n",
    "    i += 1\n",
    "            \n",
    "print \"\\nPruebas completadas.\""
   ]
  },
  {
   "cell_type": "code",
   "execution_count": null,
   "metadata": {
    "collapsed": true
   },
   "outputs": [],
   "source": [
    "df"
   ]
  },
  {
   "cell_type": "code",
   "execution_count": null,
   "metadata": {
    "collapsed": true
   },
   "outputs": [],
   "source": [
    "new_scores_path = os.path.join(scores_path,dataset_name, tipo, \"me2_%d.csv\" % (dims))\n",
    "\n",
    "print \"Guardando en %s\" % new_scores_path\n",
    "df.to_csv(new_scores_path, columns=df.columns)\n",
    "print \"Resultados guardados.\""
   ]
  },
  {
   "cell_type": "markdown",
   "metadata": {},
   "source": [
    "# Pruebas con el dataset Twitter (1000 Dimensiones)"
   ]
  },
  {
   "cell_type": "code",
   "execution_count": null,
   "metadata": {
    "collapsed": true
   },
   "outputs": [],
   "source": [
    "dims = 1000"
   ]
  },
  {
   "cell_type": "code",
   "execution_count": null,
   "metadata": {
    "collapsed": true
   },
   "outputs": [],
   "source": [
    "print tipo\n",
    "print dataset_name\n",
    "print dims\n",
    "print data_path"
   ]
  },
  {
   "cell_type": "code",
   "execution_count": null,
   "metadata": {
    "collapsed": true
   },
   "outputs": [],
   "source": [
    "# cargando dataset Twitter\n",
    "dataset_path = os.path.join(data_path, dataset_name+'.pkl')\n",
    "dataset_object = Dataset().load(dataset_path)\n",
    "\n",
    "dataset_object.split_dataset(test_size=0.2)\n",
    "\n",
    "labeled = dataset_object.labeled\n",
    "domains = dataset_object.domains"
   ]
  },
  {
   "cell_type": "code",
   "execution_count": null,
   "metadata": {
    "collapsed": true
   },
   "outputs": [],
   "source": [
    "models_paths = os.path.join(models_path, dataset_name, tipo, 'me2_%d_models_paths.pkl' % dims)\n",
    "\n",
    "parameters = {\n",
    "    'noises': [0.3, 0.5, 0.8],\n",
    "    'layers': [1, 3, 5]\n",
    "}\n",
    "\n",
    "i = 1\n",
    "pairs = list(itertools.permutations(domains, 2))\n",
    "\n",
    "#por cada par se entrena un adaptador y se guarda el que mejor resultados entrega\n",
    "print \"Adaptando entre:\"\n",
    "for src, tgt in pairs:\n",
    "    print \"%d) %s - %s\" % (i, src, tgt)\n",
    "    X_src = labeled[src]['X_tr'][:, :dims].todense()\n",
    "    y_src = np.asarray(labeled[src]['y_tr'].todense()).argmax(axis=1)\n",
    "\n",
    "    X_tgt = labeled[tgt]['X_tr'][:, :dims].todense()\n",
    "\n",
    "    X_train = np.concatenate((X_src, X_tgt))\n",
    "\n",
    "    best_model, score = msda_theano_grid_search(X_train, X_src, y_src, parameters, n_jobs=4)\n",
    "    print \"\\tMejor modelo: %.3f\" % score\n",
    "\n",
    "    folder_path = os.path.join(models_path, dataset_name, tipo)\n",
    "    prefix = \"me2_%d_%s_%s.pkl\" % (dims, src, tgt)\n",
    "\n",
    "    best_model_save_path = os.path.join(folder_path, prefix)\n",
    "    print \"\\tGuardando modelo en %s\" % best_model_save_path\n",
    "    joblib.dump(best_model, best_model_save_path)\n",
    "    i = i+1\n",
    "\n",
    "print \"\\nAdaptaciones completadas\""
   ]
  },
  {
   "cell_type": "markdown",
   "metadata": {},
   "source": [
    "## Pruebas de clasificación"
   ]
  },
  {
   "cell_type": "code",
   "execution_count": null,
   "metadata": {
    "collapsed": true
   },
   "outputs": [],
   "source": [
    "df = pd.DataFrame(columns=dataframe_columns)\n",
    "\n",
    "i=0\n",
    "tareas = len(domains)*(len(domains)-1)\n",
    "pairs = list(itertools.permutations(domains, 2))\n",
    "\n",
    "# por cada par posible para adaptar\n",
    "for src, tgt in pairs:\n",
    "    print \"Tarea %d de %d\" % (i+1, tareas)\n",
    "            \n",
    "    #baseline in-domain error\n",
    "    #e_b(T,T)\n",
    "    #entrenado en dominio tgt y probado en dominio tgt\n",
    "    X_tr = labeled[tgt]['X_tr'][:, :dims].todense()\n",
    "    y_tr = np.asarray(labeled[tgt]['y_tr'].todense()).argmax(axis=1)\n",
    "\n",
    "    X_ts = labeled[tgt]['X_ts'][:, :dims].todense()\n",
    "    y_ts = np.asarray(labeled[tgt]['y_ts'].todense()).argmax(axis=1)\n",
    "\n",
    "    # se crean las rutas para cargar o crear los modelos\n",
    "    model_name = \"%d_%s.pkl\" % (dims, tgt)\n",
    "    model_path = os.path.join(models_path, dataset_name, \"indomain\", model_name)\n",
    "\n",
    "    #Se realiza una clasificacion, estimando los parametros mediante cv\n",
    "    svc = load_best_score(model_path, X_tr, y_tr)\n",
    "    b_error = 1-svc.score(X_ts, y_ts)\n",
    "\n",
    "    #############\n",
    "    #### mSDA ###\n",
    "    #############\n",
    "    # se adaptan los dominios usando mSDA\n",
    "    print \"Adaptando dominios...\"\n",
    "    folder_path = os.path.join(models_path, dataset_name, tipo)\n",
    "    prefix = \"me2_%d_%s_%s.pkl\" % (dims, src, tgt)\n",
    "\n",
    "    best_model_save_path = os.path.join(folder_path, prefix)\n",
    "\n",
    "    best_msda = joblib.load(best_model_save_path)\n",
    "\n",
    "\n",
    "    X_tr = labeled[src]['X_tr'][:, :dims].todense()\n",
    "    X_tr_a = best_msda.predict(X_tr)\n",
    "    y_tr = np.asarray(labeled[src]['y_tr'].todense()).argmax(axis=1)\n",
    "\n",
    "    X_ts = labeled[tgt]['X_ts'][:, :dims].todense()\n",
    "    X_ts_a = best_msda.predict(X_ts)\n",
    "    y_ts = np.asarray(labeled[tgt]['y_ts'].todense()).argmax(axis=1)\n",
    "\n",
    "    clf = get_best_score(X_tr_a, y_tr, classifier='SVC', n_jobs=4)\n",
    "    t_error = 1-clf.score(X_ts_a, y_ts)\n",
    "\n",
    "\n",
    "    # transfer loss t\n",
    "    # t_error - b_error\n",
    "    t_loss = t_error - b_error\n",
    "\n",
    "    tarea = src[0]+'->'+tgt[0]\n",
    "    df.loc[i] = ['mSDA',tarea,src,tgt,b_error*100,t_error*100, t_loss*100]\n",
    "\n",
    "    i += 1\n",
    "            \n",
    "print \"\\nPruebas completadas.\""
   ]
  },
  {
   "cell_type": "code",
   "execution_count": null,
   "metadata": {
    "collapsed": true
   },
   "outputs": [],
   "source": [
    "df"
   ]
  },
  {
   "cell_type": "code",
   "execution_count": null,
   "metadata": {
    "collapsed": true
   },
   "outputs": [],
   "source": [
    "new_scores_path = os.path.join(scores_path,dataset_name, tipo, \"me2_%d.csv\" % (dims))\n",
    "\n",
    "print \"Guardando en %s\" % new_scores_path\n",
    "df.to_csv(new_scores_path, columns=df.columns)\n",
    "print \"Resultados guardados.\""
   ]
  }
 ],
 "metadata": {
  "kernelspec": {
   "display_name": "Python 2",
   "language": "python",
   "name": "python2"
  },
  "language_info": {
   "codemirror_mode": {
    "name": "ipython",
    "version": 2
   },
   "file_extension": ".py",
   "mimetype": "text/x-python",
   "name": "python",
   "nbconvert_exporter": "python",
   "pygments_lexer": "ipython2",
   "version": "2.7.13"
  }
 },
 "nbformat": 4,
 "nbformat_minor": 1
}
