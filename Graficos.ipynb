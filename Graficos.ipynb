{
 "cells": [
  {
   "cell_type": "code",
   "execution_count": 1,
   "metadata": {
    "collapsed": true
   },
   "outputs": [],
   "source": [
    "%matplotlib inline\n",
    "from utils.paths import *\n",
    "\n",
    "import pandas as pd\n",
    "import matplotlib.pyplot as plt\n",
    "import os"
   ]
  },
  {
   "cell_type": "code",
   "execution_count": 2,
   "metadata": {},
   "outputs": [
    {
     "name": "stdout",
     "output_type": "stream",
     "text": [
      "['baseline', 'msda', 'gfk', 'pca', 'sda']\n",
      "['amazon', 'twitter']\n",
      "['Adaptacion', 'Tarea', 'Fuente', 'Objetivo', 'Baseline error', 'Transfer error', 'Transfer loss']\n"
     ]
    }
   ],
   "source": [
    "print pruebas\n",
    "print datasets\n",
    "print dataframe_columns"
   ]
  },
  {
   "cell_type": "code",
   "execution_count": 4,
   "metadata": {
    "collapsed": true
   },
   "outputs": [],
   "source": [
    "def get_scores_dataframe(dataset):\n",
    "    df = None\n",
    "\n",
    "    for prueba in pruebas:\n",
    "        path = os.path.join(scores_path, prueba, dataset+'.csv')\n",
    "                \n",
    "        if os.path.exists(path):\n",
    "            print path\n",
    "            if df is None:\n",
    "                df = pd.read_csv(path, sep=',', header=0)\n",
    "            else:\n",
    "                new_df = pd.read_csv(path, sep=',', header=0)\n",
    "                df = df.append(new_df, ignore_index=True)\n",
    "    \n",
    "    if df is None:\n",
    "        return pd.DataFrame(columns=dataframe_columns)\n",
    "                \n",
    "    #se dejan disponibles solamente la tarea, el tipo de adaptacion y el error\n",
    "    df_a = df[['Adaptacion', 'Tarea', 'Transfer loss']]\n",
    "    \n",
    "    # se manipula el dataframe para dejar la adaptacion como columna \n",
    "    df_a = df_a.groupby(['Tarea', 'Adaptacion'], as_index=True ).max()\n",
    "    df_a = df_a.unstack(level=1)\n",
    "    df_a.columns = df_a.columns.levels[1]\n",
    "    \n",
    "    return df_a"
   ]
  },
  {
   "cell_type": "markdown",
   "metadata": {},
   "source": [
    "# Gráficos del dataset Amazon"
   ]
  },
  {
   "cell_type": "code",
   "execution_count": 5,
   "metadata": {},
   "outputs": [
    {
     "name": "stdout",
     "output_type": "stream",
     "text": [
      "scores/baseline/amazon.csv\n",
      "scores/msda/amazon.csv\n",
      "scores/gfk/amazon.csv\n",
      "scores/pca/amazon.csv\n",
      "scores/sda/amazon.csv\n"
     ]
    },
    {
     "data": {
      "text/html": [
       "<div>\n",
       "<style>\n",
       "    .dataframe thead tr:only-child th {\n",
       "        text-align: right;\n",
       "    }\n",
       "\n",
       "    .dataframe thead th {\n",
       "        text-align: left;\n",
       "    }\n",
       "\n",
       "    .dataframe tbody tr th {\n",
       "        vertical-align: top;\n",
       "    }\n",
       "</style>\n",
       "<table border=\"1\" class=\"dataframe\">\n",
       "  <thead>\n",
       "    <tr style=\"text-align: right;\">\n",
       "      <th>Adaptacion</th>\n",
       "      <th>Baseline</th>\n",
       "      <th>GFK</th>\n",
       "      <th>PCA</th>\n",
       "      <th>SDA</th>\n",
       "      <th>mSDA</th>\n",
       "    </tr>\n",
       "    <tr>\n",
       "      <th>Tarea</th>\n",
       "      <th></th>\n",
       "      <th></th>\n",
       "      <th></th>\n",
       "      <th></th>\n",
       "      <th></th>\n",
       "    </tr>\n",
       "  </thead>\n",
       "  <tbody>\n",
       "    <tr>\n",
       "      <th>b-&gt;d</th>\n",
       "      <td>3.00</td>\n",
       "      <td>12.25</td>\n",
       "      <td>5.50</td>\n",
       "      <td>6.00</td>\n",
       "      <td>13.75</td>\n",
       "    </tr>\n",
       "    <tr>\n",
       "      <th>b-&gt;e</th>\n",
       "      <td>6.75</td>\n",
       "      <td>14.50</td>\n",
       "      <td>11.25</td>\n",
       "      <td>22.50</td>\n",
       "      <td>19.25</td>\n",
       "    </tr>\n",
       "    <tr>\n",
       "      <th>b-&gt;k</th>\n",
       "      <td>10.00</td>\n",
       "      <td>18.50</td>\n",
       "      <td>16.25</td>\n",
       "      <td>20.00</td>\n",
       "      <td>15.50</td>\n",
       "    </tr>\n",
       "    <tr>\n",
       "      <th>d-&gt;b</th>\n",
       "      <td>11.50</td>\n",
       "      <td>13.00</td>\n",
       "      <td>10.75</td>\n",
       "      <td>12.25</td>\n",
       "      <td>19.00</td>\n",
       "    </tr>\n",
       "    <tr>\n",
       "      <th>d-&gt;e</th>\n",
       "      <td>11.75</td>\n",
       "      <td>12.25</td>\n",
       "      <td>12.50</td>\n",
       "      <td>10.00</td>\n",
       "      <td>17.75</td>\n",
       "    </tr>\n",
       "    <tr>\n",
       "      <th>d-&gt;k</th>\n",
       "      <td>7.75</td>\n",
       "      <td>14.75</td>\n",
       "      <td>13.50</td>\n",
       "      <td>15.00</td>\n",
       "      <td>13.50</td>\n",
       "    </tr>\n",
       "    <tr>\n",
       "      <th>e-&gt;b</th>\n",
       "      <td>13.25</td>\n",
       "      <td>17.75</td>\n",
       "      <td>12.25</td>\n",
       "      <td>16.25</td>\n",
       "      <td>26.00</td>\n",
       "    </tr>\n",
       "    <tr>\n",
       "      <th>e-&gt;d</th>\n",
       "      <td>9.00</td>\n",
       "      <td>11.50</td>\n",
       "      <td>11.00</td>\n",
       "      <td>13.25</td>\n",
       "      <td>23.00</td>\n",
       "    </tr>\n",
       "    <tr>\n",
       "      <th>e-&gt;k</th>\n",
       "      <td>2.00</td>\n",
       "      <td>9.25</td>\n",
       "      <td>7.75</td>\n",
       "      <td>8.50</td>\n",
       "      <td>9.25</td>\n",
       "    </tr>\n",
       "    <tr>\n",
       "      <th>k-&gt;b</th>\n",
       "      <td>13.00</td>\n",
       "      <td>12.50</td>\n",
       "      <td>11.75</td>\n",
       "      <td>14.00</td>\n",
       "      <td>25.25</td>\n",
       "    </tr>\n",
       "    <tr>\n",
       "      <th>k-&gt;d</th>\n",
       "      <td>9.50</td>\n",
       "      <td>8.00</td>\n",
       "      <td>8.00</td>\n",
       "      <td>11.25</td>\n",
       "      <td>21.50</td>\n",
       "    </tr>\n",
       "    <tr>\n",
       "      <th>k-&gt;e</th>\n",
       "      <td>1.50</td>\n",
       "      <td>4.75</td>\n",
       "      <td>0.50</td>\n",
       "      <td>6.00</td>\n",
       "      <td>7.50</td>\n",
       "    </tr>\n",
       "  </tbody>\n",
       "</table>\n",
       "</div>"
      ],
      "text/plain": [
       "Adaptacion  Baseline    GFK    PCA    SDA   mSDA\n",
       "Tarea                                           \n",
       "b->d            3.00  12.25   5.50   6.00  13.75\n",
       "b->e            6.75  14.50  11.25  22.50  19.25\n",
       "b->k           10.00  18.50  16.25  20.00  15.50\n",
       "d->b           11.50  13.00  10.75  12.25  19.00\n",
       "d->e           11.75  12.25  12.50  10.00  17.75\n",
       "d->k            7.75  14.75  13.50  15.00  13.50\n",
       "e->b           13.25  17.75  12.25  16.25  26.00\n",
       "e->d            9.00  11.50  11.00  13.25  23.00\n",
       "e->k            2.00   9.25   7.75   8.50   9.25\n",
       "k->b           13.00  12.50  11.75  14.00  25.25\n",
       "k->d            9.50   8.00   8.00  11.25  21.50\n",
       "k->e            1.50   4.75   0.50   6.00   7.50"
      ]
     },
     "execution_count": 5,
     "metadata": {},
     "output_type": "execute_result"
    }
   ],
   "source": [
    "df_amazon = get_scores_dataframe(datasets[0])\n",
    "df_amazon"
   ]
  },
  {
   "cell_type": "code",
   "execution_count": 7,
   "metadata": {},
   "outputs": [
    {
     "data": {
      "text/plain": [
       "<matplotlib.axes._subplots.AxesSubplot at 0x7fe195e21f50>"
      ]
     },
     "execution_count": 7,
     "metadata": {},
     "output_type": "execute_result"
    },
    {
     "data": {
      "image/png": "[encoded data removed]",
      "text/plain": [
       "<matplotlib.figure.Figure at 0x7fe195cbd8d0>"
      ]
     },
     "metadata": {},
     "output_type": "display_data"
    }
   ],
   "source": [
    "df_amazon.plot.bar()"
   ]
  },
  {
   "cell_type": "markdown",
   "metadata": {},
   "source": [
    "# Gráficos del dataset Twitter"
   ]
  },
  {
   "cell_type": "code",
   "execution_count": 8,
   "metadata": {},
   "outputs": [
    {
     "name": "stdout",
     "output_type": "stream",
     "text": [
      "scores/baseline/twitter.csv\n",
      "scores/msda/twitter.csv\n",
      "scores/gfk/twitter.csv\n",
      "scores/pca/twitter.csv\n",
      "scores/sda/twitter.csv\n"
     ]
    },
    {
     "data": {
      "text/html": [
       "<div>\n",
       "<style>\n",
       "    .dataframe thead tr:only-child th {\n",
       "        text-align: right;\n",
       "    }\n",
       "\n",
       "    .dataframe thead th {\n",
       "        text-align: left;\n",
       "    }\n",
       "\n",
       "    .dataframe tbody tr th {\n",
       "        vertical-align: top;\n",
       "    }\n",
       "</style>\n",
       "<table border=\"1\" class=\"dataframe\">\n",
       "  <thead>\n",
       "    <tr style=\"text-align: right;\">\n",
       "      <th>Adaptacion</th>\n",
       "      <th>Baseline</th>\n",
       "      <th>GFK</th>\n",
       "      <th>PCA</th>\n",
       "      <th>SDA</th>\n",
       "      <th>mSDA</th>\n",
       "    </tr>\n",
       "    <tr>\n",
       "      <th>Tarea</th>\n",
       "      <th></th>\n",
       "      <th></th>\n",
       "      <th></th>\n",
       "      <th></th>\n",
       "      <th></th>\n",
       "    </tr>\n",
       "  </thead>\n",
       "  <tbody>\n",
       "    <tr>\n",
       "      <th>r-&gt;t</th>\n",
       "      <td>5.384615</td>\n",
       "      <td>11.538462</td>\n",
       "      <td>6.923077</td>\n",
       "      <td>19.230769</td>\n",
       "      <td>31.538462</td>\n",
       "    </tr>\n",
       "    <tr>\n",
       "      <th>t-&gt;r</th>\n",
       "      <td>2.083333</td>\n",
       "      <td>13.541667</td>\n",
       "      <td>2.083333</td>\n",
       "      <td>20.833333</td>\n",
       "      <td>23.958333</td>\n",
       "    </tr>\n",
       "  </tbody>\n",
       "</table>\n",
       "</div>"
      ],
      "text/plain": [
       "Adaptacion  Baseline        GFK       PCA        SDA       mSDA\n",
       "Tarea                                                          \n",
       "r->t        5.384615  11.538462  6.923077  19.230769  31.538462\n",
       "t->r        2.083333  13.541667  2.083333  20.833333  23.958333"
      ]
     },
     "execution_count": 8,
     "metadata": {},
     "output_type": "execute_result"
    }
   ],
   "source": [
    "df_twitter = get_scores_dataframe(datasets[1])\n",
    "df_twitter"
   ]
  },
  {
   "cell_type": "code",
   "execution_count": 9,
   "metadata": {},
   "outputs": [
    {
     "data": {
      "text/plain": [
       "<matplotlib.axes._subplots.AxesSubplot at 0x7fe195a040d0>"
      ]
     },
     "execution_count": 9,
     "metadata": {},
     "output_type": "execute_result"
    },
    {
     "data": {
      "image/png": "[encoded data removed]",
      "text/plain": [
       "<matplotlib.figure.Figure at 0x7fe1c3df4390>"
      ]
     },
     "metadata": {},
     "output_type": "display_data"
    }
   ],
   "source": [
    "df_twitter.plot.bar()"
   ]
  }
 ],
 "metadata": {
  "kernelspec": {
   "display_name": "Python 2",
   "language": "python",
   "name": "python2"
  },
  "language_info": {
   "codemirror_mode": {
    "name": "ipython",
    "version": 2
   },
   "file_extension": ".py",
   "mimetype": "text/x-python",
   "name": "python",
   "nbconvert_exporter": "python",
   "pygments_lexer": "ipython2",
   "version": "2.7.13"
  }
 },
 "nbformat": 4,
 "nbformat_minor": 2
}
