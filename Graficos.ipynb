{
 "cells": [
  {
   "cell_type": "code",
   "execution_count": 1,
   "metadata": {
    "collapsed": true
   },
   "outputs": [],
   "source": [
    "%load_ext autoreload\n",
    "%autoreload 2"
   ]
  },
  {
   "cell_type": "code",
   "execution_count": 2,
   "metadata": {
    "collapsed": true
   },
   "outputs": [],
   "source": [
    "%matplotlib inline\n",
    "from utils.paths import *\n",
    "\n",
    "import pandas as pd\n",
    "import matplotlib.pyplot as plt\n",
    "import os"
   ]
  },
  {
   "cell_type": "code",
   "execution_count": 3,
   "metadata": {
    "collapsed": true
   },
   "outputs": [],
   "source": [
    "def get_scores_dataframe(dataset, dims, prefix=\"\"):\n",
    "    df = None\n",
    "\n",
    "    for prueba in pruebas:\n",
    "        path = os.path.join(scores_path, dataset, prueba, \"%s%d.csv\" % (prefix, dims))\n",
    "        \n",
    "        if os.path.exists(path):\n",
    "            #print path\n",
    "            if df is None:\n",
    "                df = pd.read_csv(path, sep=',', header=0)\n",
    "            else:\n",
    "                new_df = pd.read_csv(path, sep=',', header=0)\n",
    "                df = df.append(new_df, ignore_index=True)\n",
    "    \n",
    "    if df is None:\n",
    "        return pd.DataFrame(columns=dataframe_columns)\n",
    "                \n",
    "    #se dejan disponibles solamente la tarea, el tipo de adaptacion y el error\n",
    "    df_a = df[['Adaptacion', 'Tarea', 'Transfer loss']]\n",
    "    \n",
    "    # se manipula el dataframe para dejar la adaptacion como columna \n",
    "    df_a = df_a.groupby(['Tarea', 'Adaptacion'], as_index=True ).max()\n",
    "    df_a = df_a.unstack(level=1)\n",
    "    df_a.columns = df_a.columns.levels[1]\n",
    "    \n",
    "    return df_a"
   ]
  },
  {
   "cell_type": "markdown",
   "metadata": {},
   "source": [
    "# Dataset Amazon\n",
    "\n",
    "### El dataset Amazon posee las siguientes características:\n",
    "\n",
    "| Dominio     | Entrenamiento | Prueba |  % Positivos  | No Etiquetados |\n",
    "|-------------|---------------|--------|---------------|----------------|\n",
    "| books       |     1600      | 400    |      50%      |      4465      |\n",
    "| dvd         |     1600      | 400    |      50%      |      5945      |\n",
    "| electronics |     1600      | 400    |      50%      |      5681      |\n",
    "| kitchen     |     1600      | 400    |      50%      |      3586      |\n"
   ]
  },
  {
   "cell_type": "markdown",
   "metadata": {},
   "source": [
    "# Transfer Loss - Amazon (3000 dimensiones) - Marco 1"
   ]
  },
  {
   "cell_type": "code",
   "execution_count": 4,
   "metadata": {},
   "outputs": [
    {
     "data": {
      "text/html": [
       "<div>\n",
       "<style>\n",
       "    .dataframe thead tr:only-child th {\n",
       "        text-align: right;\n",
       "    }\n",
       "\n",
       "    .dataframe thead th {\n",
       "        text-align: left;\n",
       "    }\n",
       "\n",
       "    .dataframe tbody tr th {\n",
       "        vertical-align: top;\n",
       "    }\n",
       "</style>\n",
       "<table border=\"1\" class=\"dataframe\">\n",
       "  <thead>\n",
       "    <tr style=\"text-align: right;\">\n",
       "      <th>Adaptacion</th>\n",
       "      <th>Baseline</th>\n",
       "      <th>GFK</th>\n",
       "      <th>PCA</th>\n",
       "      <th>SDA</th>\n",
       "      <th>mSDA</th>\n",
       "    </tr>\n",
       "    <tr>\n",
       "      <th>Tarea</th>\n",
       "      <th></th>\n",
       "      <th></th>\n",
       "      <th></th>\n",
       "      <th></th>\n",
       "      <th></th>\n",
       "    </tr>\n",
       "  </thead>\n",
       "  <tbody>\n",
       "    <tr>\n",
       "      <th>b-&gt;d</th>\n",
       "      <td>2.707568</td>\n",
       "      <td>3.390085</td>\n",
       "      <td>3.235081</td>\n",
       "      <td>3.190080</td>\n",
       "      <td>4.505113</td>\n",
       "    </tr>\n",
       "    <tr>\n",
       "      <th>b-&gt;e</th>\n",
       "      <td>7.957699</td>\n",
       "      <td>12.435311</td>\n",
       "      <td>10.462762</td>\n",
       "      <td>15.182880</td>\n",
       "      <td>12.600315</td>\n",
       "    </tr>\n",
       "    <tr>\n",
       "      <th>b-&gt;k</th>\n",
       "      <td>11.112778</td>\n",
       "      <td>8.032701</td>\n",
       "      <td>13.217830</td>\n",
       "      <td>11.927798</td>\n",
       "      <td>12.050301</td>\n",
       "    </tr>\n",
       "    <tr>\n",
       "      <th>d-&gt;b</th>\n",
       "      <td>10.650266</td>\n",
       "      <td>7.605190</td>\n",
       "      <td>14.427861</td>\n",
       "      <td>10.470262</td>\n",
       "      <td>7.627691</td>\n",
       "    </tr>\n",
       "    <tr>\n",
       "      <th>d-&gt;e</th>\n",
       "      <td>14.135353</td>\n",
       "      <td>10.295257</td>\n",
       "      <td>18.780470</td>\n",
       "      <td>16.537913</td>\n",
       "      <td>12.250306</td>\n",
       "    </tr>\n",
       "    <tr>\n",
       "      <th>d-&gt;k</th>\n",
       "      <td>9.495237</td>\n",
       "      <td>6.105153</td>\n",
       "      <td>12.215305</td>\n",
       "      <td>10.650266</td>\n",
       "      <td>8.517713</td>\n",
       "    </tr>\n",
       "    <tr>\n",
       "      <th>e-&gt;b</th>\n",
       "      <td>13.335333</td>\n",
       "      <td>13.337833</td>\n",
       "      <td>15.142879</td>\n",
       "      <td>16.230406</td>\n",
       "      <td>11.147779</td>\n",
       "    </tr>\n",
       "    <tr>\n",
       "      <th>e-&gt;d</th>\n",
       "      <td>11.710293</td>\n",
       "      <td>8.830221</td>\n",
       "      <td>13.222831</td>\n",
       "      <td>17.910448</td>\n",
       "      <td>10.475262</td>\n",
       "    </tr>\n",
       "    <tr>\n",
       "      <th>e-&gt;k</th>\n",
       "      <td>1.735043</td>\n",
       "      <td>1.715043</td>\n",
       "      <td>2.950074</td>\n",
       "      <td>4.465112</td>\n",
       "      <td>0.960024</td>\n",
       "    </tr>\n",
       "    <tr>\n",
       "      <th>k-&gt;b</th>\n",
       "      <td>15.412885</td>\n",
       "      <td>14.005350</td>\n",
       "      <td>15.410385</td>\n",
       "      <td>12.890322</td>\n",
       "      <td>14.887872</td>\n",
       "    </tr>\n",
       "    <tr>\n",
       "      <th>k-&gt;d</th>\n",
       "      <td>10.350259</td>\n",
       "      <td>11.417785</td>\n",
       "      <td>12.705318</td>\n",
       "      <td>13.307833</td>\n",
       "      <td>12.322808</td>\n",
       "    </tr>\n",
       "    <tr>\n",
       "      <th>k-&gt;e</th>\n",
       "      <td>1.497537</td>\n",
       "      <td>2.592565</td>\n",
       "      <td>1.975049</td>\n",
       "      <td>2.662567</td>\n",
       "      <td>1.210030</td>\n",
       "    </tr>\n",
       "  </tbody>\n",
       "</table>\n",
       "</div>"
      ],
      "text/plain": [
       "Adaptacion   Baseline        GFK        PCA        SDA       mSDA\n",
       "Tarea                                                            \n",
       "b->d         2.707568   3.390085   3.235081   3.190080   4.505113\n",
       "b->e         7.957699  12.435311  10.462762  15.182880  12.600315\n",
       "b->k        11.112778   8.032701  13.217830  11.927798  12.050301\n",
       "d->b        10.650266   7.605190  14.427861  10.470262   7.627691\n",
       "d->e        14.135353  10.295257  18.780470  16.537913  12.250306\n",
       "d->k         9.495237   6.105153  12.215305  10.650266   8.517713\n",
       "e->b        13.335333  13.337833  15.142879  16.230406  11.147779\n",
       "e->d        11.710293   8.830221  13.222831  17.910448  10.475262\n",
       "e->k         1.735043   1.715043   2.950074   4.465112   0.960024\n",
       "k->b        15.412885  14.005350  15.410385  12.890322  14.887872\n",
       "k->d        10.350259  11.417785  12.705318  13.307833  12.322808\n",
       "k->e         1.497537   2.592565   1.975049   2.662567   1.210030"
      ]
     },
     "execution_count": 4,
     "metadata": {},
     "output_type": "execute_result"
    }
   ],
   "source": [
    "dims = 3000\n",
    "df_amazon = get_scores_dataframe(datasets[0], dims, \"me1_\")\n",
    "df_amazon"
   ]
  },
  {
   "cell_type": "code",
   "execution_count": 5,
   "metadata": {},
   "outputs": [
    {
     "data": {
      "image/png": "[encoded data removed]",
      "text/plain": [
       "<matplotlib.figure.Figure at 0x7feeae5fb990>"
      ]
     },
     "metadata": {},
     "output_type": "display_data"
    }
   ],
   "source": [
    "amazon_plot = df_amazon.plot(kind='bar', figsize=(20,10), rot=45, fontsize=15, legend=False)\n",
    "patches, labels = amazon_plot.get_legend_handles_labels()\n",
    "\n",
    "amazon_plot.legend(patches, labels, loc='best', fontsize=15)\n",
    "amazon_plot.yaxis.grid(which='major')\n",
    "\n",
    "amazon_plot.set_ylabel(\"Transfer Loss %\", labelpad=25,fontsize=20, weight='bold')\n",
    "amazon_plot.set_xlabel(\"Tarea\", labelpad=25,fontsize=20, weight='bold')\n",
    "\n",
    "figure_path = os.path.join(graficos_path, datasets[0], \"me1_tloss_%d.png\" % dims)\n",
    "plt.savefig(figure_path, bbox_inches='tight')"
   ]
  },
  {
   "cell_type": "markdown",
   "metadata": {},
   "source": [
    "## Transfer Loss - Amazon (3000 dimensiones) - Marco 2"
   ]
  },
  {
   "cell_type": "code",
   "execution_count": 6,
   "metadata": {},
   "outputs": [
    {
     "data": {
      "text/html": [
       "<div>\n",
       "<style>\n",
       "    .dataframe thead tr:only-child th {\n",
       "        text-align: right;\n",
       "    }\n",
       "\n",
       "    .dataframe thead th {\n",
       "        text-align: left;\n",
       "    }\n",
       "\n",
       "    .dataframe tbody tr th {\n",
       "        vertical-align: top;\n",
       "    }\n",
       "</style>\n",
       "<table border=\"1\" class=\"dataframe\">\n",
       "  <thead>\n",
       "    <tr style=\"text-align: right;\">\n",
       "      <th>Adaptacion</th>\n",
       "      <th>Baseline</th>\n",
       "      <th>GFK</th>\n",
       "      <th>PCA</th>\n",
       "    </tr>\n",
       "    <tr>\n",
       "      <th>Tarea</th>\n",
       "      <th></th>\n",
       "      <th></th>\n",
       "      <th></th>\n",
       "    </tr>\n",
       "  </thead>\n",
       "  <tbody>\n",
       "    <tr>\n",
       "      <th>b-&gt;d</th>\n",
       "      <td>2.707568</td>\n",
       "      <td>1.840046</td>\n",
       "      <td>2.685067</td>\n",
       "    </tr>\n",
       "    <tr>\n",
       "      <th>b-&gt;e</th>\n",
       "      <td>7.957699</td>\n",
       "      <td>11.372784</td>\n",
       "      <td>8.400210</td>\n",
       "    </tr>\n",
       "    <tr>\n",
       "      <th>b-&gt;k</th>\n",
       "      <td>11.112778</td>\n",
       "      <td>7.495187</td>\n",
       "      <td>13.562839</td>\n",
       "    </tr>\n",
       "    <tr>\n",
       "      <th>d-&gt;b</th>\n",
       "      <td>10.650266</td>\n",
       "      <td>8.700218</td>\n",
       "      <td>10.727768</td>\n",
       "    </tr>\n",
       "    <tr>\n",
       "      <th>d-&gt;e</th>\n",
       "      <td>14.135353</td>\n",
       "      <td>11.340284</td>\n",
       "      <td>15.382885</td>\n",
       "    </tr>\n",
       "    <tr>\n",
       "      <th>d-&gt;k</th>\n",
       "      <td>9.495237</td>\n",
       "      <td>4.752619</td>\n",
       "      <td>12.302808</td>\n",
       "    </tr>\n",
       "    <tr>\n",
       "      <th>e-&gt;b</th>\n",
       "      <td>13.335333</td>\n",
       "      <td>13.305333</td>\n",
       "      <td>14.880372</td>\n",
       "    </tr>\n",
       "    <tr>\n",
       "      <th>e-&gt;d</th>\n",
       "      <td>11.710293</td>\n",
       "      <td>8.615215</td>\n",
       "      <td>11.737793</td>\n",
       "    </tr>\n",
       "    <tr>\n",
       "      <th>e-&gt;k</th>\n",
       "      <td>1.735043</td>\n",
       "      <td>2.205055</td>\n",
       "      <td>1.347534</td>\n",
       "    </tr>\n",
       "    <tr>\n",
       "      <th>k-&gt;b</th>\n",
       "      <td>15.412885</td>\n",
       "      <td>16.647916</td>\n",
       "      <td>16.390410</td>\n",
       "    </tr>\n",
       "    <tr>\n",
       "      <th>k-&gt;d</th>\n",
       "      <td>10.350259</td>\n",
       "      <td>10.500263</td>\n",
       "      <td>11.582790</td>\n",
       "    </tr>\n",
       "    <tr>\n",
       "      <th>k-&gt;e</th>\n",
       "      <td>1.497537</td>\n",
       "      <td>3.942599</td>\n",
       "      <td>1.655041</td>\n",
       "    </tr>\n",
       "  </tbody>\n",
       "</table>\n",
       "</div>"
      ],
      "text/plain": [
       "Adaptacion   Baseline        GFK        PCA\n",
       "Tarea                                      \n",
       "b->d         2.707568   1.840046   2.685067\n",
       "b->e         7.957699  11.372784   8.400210\n",
       "b->k        11.112778   7.495187  13.562839\n",
       "d->b        10.650266   8.700218  10.727768\n",
       "d->e        14.135353  11.340284  15.382885\n",
       "d->k         9.495237   4.752619  12.302808\n",
       "e->b        13.335333  13.305333  14.880372\n",
       "e->d        11.710293   8.615215  11.737793\n",
       "e->k         1.735043   2.205055   1.347534\n",
       "k->b        15.412885  16.647916  16.390410\n",
       "k->d        10.350259  10.500263  11.582790\n",
       "k->e         1.497537   3.942599   1.655041"
      ]
     },
     "execution_count": 6,
     "metadata": {},
     "output_type": "execute_result"
    }
   ],
   "source": [
    "dims = 3000\n",
    "df_amazon = get_scores_dataframe(datasets[0], dims, \"me2_\")\n",
    "df_amazon"
   ]
  },
  {
   "cell_type": "code",
   "execution_count": 7,
   "metadata": {},
   "outputs": [
    {
     "data": {
      "image/png": "[encoded data removed]",
      "text/plain": [
       "<matplotlib.figure.Figure at 0x7f90643107d0>"
      ]
     },
     "metadata": {},
     "output_type": "display_data"
    }
   ],
   "source": [
    "amazon_plot = df_amazon.plot(kind='bar', figsize=(20,10), rot=45, fontsize=15, legend=False)\n",
    "patches, labels = amazon_plot.get_legend_handles_labels()\n",
    "\n",
    "amazon_plot.legend(patches, labels, loc='best', fontsize=15)\n",
    "amazon_plot.yaxis.grid(which='major')\n",
    "\n",
    "amazon_plot.set_ylabel(\"Transfer Loss %\", labelpad=25,fontsize=20, weight='bold')\n",
    "amazon_plot.set_xlabel(\"Tarea\", labelpad=25,fontsize=20, weight='bold')\n",
    "\n",
    "figure_path = os.path.join(graficos_path, datasets[0], \"me2_tloss_%d.png\" % dims)\n",
    "plt.savefig(figure_path, bbox_inches='tight')"
   ]
  },
  {
   "cell_type": "markdown",
   "metadata": {},
   "source": [
    "# Gráficos del dataset Twitter (2000 dimensiones)\n",
    "\n",
    "\n",
    "### El dataset Twitter posee las siguientes características:\n",
    "\n",
    "| Dominio  | Entrenamiento | Prueba |  Total  |\n",
    "|----------|---------------|--------|---------|\n",
    "| thevoice |      518      |   130  |   648   |\n",
    "| rio2016  |      380      |   96   |   476   |\n"
   ]
  },
  {
   "cell_type": "markdown",
   "metadata": {},
   "source": [
    "## Transfer Loss - Twitter (2000 dimensiones) - Marco 1"
   ]
  },
  {
   "cell_type": "code",
   "execution_count": 7,
   "metadata": {},
   "outputs": [
    {
     "data": {
      "text/html": [
       "<div>\n",
       "<style>\n",
       "    .dataframe thead tr:only-child th {\n",
       "        text-align: right;\n",
       "    }\n",
       "\n",
       "    .dataframe thead th {\n",
       "        text-align: left;\n",
       "    }\n",
       "\n",
       "    .dataframe tbody tr th {\n",
       "        vertical-align: top;\n",
       "    }\n",
       "</style>\n",
       "<table border=\"1\" class=\"dataframe\">\n",
       "  <thead>\n",
       "    <tr style=\"text-align: right;\">\n",
       "      <th>Adaptacion</th>\n",
       "      <th>Baseline</th>\n",
       "      <th>GFK</th>\n",
       "      <th>PCA</th>\n",
       "      <th>SDA</th>\n",
       "      <th>mSDA</th>\n",
       "    </tr>\n",
       "    <tr>\n",
       "      <th>Tarea</th>\n",
       "      <th></th>\n",
       "      <th></th>\n",
       "      <th></th>\n",
       "      <th></th>\n",
       "      <th></th>\n",
       "    </tr>\n",
       "  </thead>\n",
       "  <tbody>\n",
       "    <tr>\n",
       "      <th>g-&gt;r</th>\n",
       "      <td>13.974592</td>\n",
       "      <td>13.929220</td>\n",
       "      <td>17.286751</td>\n",
       "      <td>21.823956</td>\n",
       "      <td>9.709619</td>\n",
       "    </tr>\n",
       "    <tr>\n",
       "      <th>g-&gt;t</th>\n",
       "      <td>15.873580</td>\n",
       "      <td>21.354167</td>\n",
       "      <td>12.405303</td>\n",
       "      <td>20.785985</td>\n",
       "      <td>7.812500</td>\n",
       "    </tr>\n",
       "    <tr>\n",
       "      <th>r-&gt;g</th>\n",
       "      <td>16.118364</td>\n",
       "      <td>17.294151</td>\n",
       "      <td>16.624896</td>\n",
       "      <td>15.436944</td>\n",
       "      <td>17.725633</td>\n",
       "    </tr>\n",
       "    <tr>\n",
       "      <th>r-&gt;t</th>\n",
       "      <td>13.482481</td>\n",
       "      <td>17.732008</td>\n",
       "      <td>14.512311</td>\n",
       "      <td>21.425189</td>\n",
       "      <td>13.920455</td>\n",
       "    </tr>\n",
       "    <tr>\n",
       "      <th>t-&gt;g</th>\n",
       "      <td>12.876514</td>\n",
       "      <td>14.491816</td>\n",
       "      <td>13.035795</td>\n",
       "      <td>14.807623</td>\n",
       "      <td>13.388783</td>\n",
       "    </tr>\n",
       "    <tr>\n",
       "      <th>t-&gt;r</th>\n",
       "      <td>3.539020</td>\n",
       "      <td>13.929220</td>\n",
       "      <td>3.266788</td>\n",
       "      <td>16.878403</td>\n",
       "      <td>1.542650</td>\n",
       "    </tr>\n",
       "  </tbody>\n",
       "</table>\n",
       "</div>"
      ],
      "text/plain": [
       "Adaptacion   Baseline        GFK        PCA        SDA       mSDA\n",
       "Tarea                                                            \n",
       "g->r        13.974592  13.929220  17.286751  21.823956   9.709619\n",
       "g->t        15.873580  21.354167  12.405303  20.785985   7.812500\n",
       "r->g        16.118364  17.294151  16.624896  15.436944  17.725633\n",
       "r->t        13.482481  17.732008  14.512311  21.425189  13.920455\n",
       "t->g        12.876514  14.491816  13.035795  14.807623  13.388783\n",
       "t->r         3.539020  13.929220   3.266788  16.878403   1.542650"
      ]
     },
     "execution_count": 7,
     "metadata": {},
     "output_type": "execute_result"
    }
   ],
   "source": [
    "dims = 2000\n",
    "df_twitter = get_scores_dataframe(datasets[1], dims, \"me1_\")\n",
    "df_twitter"
   ]
  },
  {
   "cell_type": "code",
   "execution_count": 8,
   "metadata": {},
   "outputs": [
    {
     "data": {
      "image/png": "[encoded data removed]",
      "text/plain": [
       "<matplotlib.figure.Figure at 0x7feeab0f5390>"
      ]
     },
     "metadata": {},
     "output_type": "display_data"
    }
   ],
   "source": [
    "twitter_plot = df_twitter.plot(kind='bar', figsize=(20,10), rot=45, fontsize=15, legend=False)\n",
    "patches, labels = twitter_plot.get_legend_handles_labels()\n",
    "\n",
    "twitter_plot.legend(patches, labels, loc='best', fontsize=15)\n",
    "twitter_plot.yaxis.grid(which='major')\n",
    "\n",
    "twitter_plot.set_ylabel(\"Transfer Loss %\", labelpad=25,fontsize=20, weight='bold')\n",
    "twitter_plot.set_xlabel(\"Tarea\", labelpad=25,fontsize=20, weight='bold')\n",
    "\n",
    "figure_path = os.path.join(graficos_path, datasets[1], \"me1_tloss_%d.png\" % dims)\n",
    "plt.savefig(figure_path, bbox_inches='tight')"
   ]
  },
  {
   "cell_type": "markdown",
   "metadata": {},
   "source": [
    "## Transfer Loss - Twitter (2000 dimensiones) - Marco 2"
   ]
  },
  {
   "cell_type": "code",
   "execution_count": 9,
   "metadata": {},
   "outputs": [
    {
     "data": {
      "text/html": [
       "<div>\n",
       "<style>\n",
       "    .dataframe thead tr:only-child th {\n",
       "        text-align: right;\n",
       "    }\n",
       "\n",
       "    .dataframe thead th {\n",
       "        text-align: left;\n",
       "    }\n",
       "\n",
       "    .dataframe tbody tr th {\n",
       "        vertical-align: top;\n",
       "    }\n",
       "</style>\n",
       "<table border=\"1\" class=\"dataframe\">\n",
       "  <thead>\n",
       "    <tr style=\"text-align: right;\">\n",
       "      <th>Adaptacion</th>\n",
       "      <th>Baseline</th>\n",
       "      <th>GFK</th>\n",
       "      <th>PCA</th>\n",
       "      <th>SDA</th>\n",
       "      <th>mSDA</th>\n",
       "    </tr>\n",
       "    <tr>\n",
       "      <th>Tarea</th>\n",
       "      <th></th>\n",
       "      <th></th>\n",
       "      <th></th>\n",
       "      <th></th>\n",
       "      <th></th>\n",
       "    </tr>\n",
       "  </thead>\n",
       "  <tbody>\n",
       "    <tr>\n",
       "      <th>g-&gt;r</th>\n",
       "      <td>13.974592</td>\n",
       "      <td>13.112523</td>\n",
       "      <td>9.618875</td>\n",
       "      <td>15.471869</td>\n",
       "      <td>9.301270</td>\n",
       "    </tr>\n",
       "    <tr>\n",
       "      <th>g-&gt;t</th>\n",
       "      <td>15.873580</td>\n",
       "      <td>18.726326</td>\n",
       "      <td>11.339962</td>\n",
       "      <td>23.035038</td>\n",
       "      <td>10.392992</td>\n",
       "    </tr>\n",
       "    <tr>\n",
       "      <th>r-&gt;g</th>\n",
       "      <td>16.118364</td>\n",
       "      <td>16.977425</td>\n",
       "      <td>16.486271</td>\n",
       "      <td>16.426139</td>\n",
       "      <td>17.690747</td>\n",
       "    </tr>\n",
       "    <tr>\n",
       "      <th>r-&gt;t</th>\n",
       "      <td>13.482481</td>\n",
       "      <td>16.690341</td>\n",
       "      <td>13.517992</td>\n",
       "      <td>14.275568</td>\n",
       "      <td>17.945076</td>\n",
       "    </tr>\n",
       "    <tr>\n",
       "      <th>t-&gt;g</th>\n",
       "      <td>12.876514</td>\n",
       "      <td>11.748694</td>\n",
       "      <td>13.525113</td>\n",
       "      <td>14.915035</td>\n",
       "      <td>14.158565</td>\n",
       "    </tr>\n",
       "    <tr>\n",
       "      <th>t-&gt;r</th>\n",
       "      <td>3.539020</td>\n",
       "      <td>16.061706</td>\n",
       "      <td>3.539020</td>\n",
       "      <td>6.215971</td>\n",
       "      <td>0.544465</td>\n",
       "    </tr>\n",
       "  </tbody>\n",
       "</table>\n",
       "</div>"
      ],
      "text/plain": [
       "Adaptacion   Baseline        GFK        PCA        SDA       mSDA\n",
       "Tarea                                                            \n",
       "g->r        13.974592  13.112523   9.618875  15.471869   9.301270\n",
       "g->t        15.873580  18.726326  11.339962  23.035038  10.392992\n",
       "r->g        16.118364  16.977425  16.486271  16.426139  17.690747\n",
       "r->t        13.482481  16.690341  13.517992  14.275568  17.945076\n",
       "t->g        12.876514  11.748694  13.525113  14.915035  14.158565\n",
       "t->r         3.539020  16.061706   3.539020   6.215971   0.544465"
      ]
     },
     "execution_count": 9,
     "metadata": {},
     "output_type": "execute_result"
    }
   ],
   "source": [
    "dims = 2000\n",
    "df_twitter = get_scores_dataframe(datasets[1], dims, \"me2_\")\n",
    "df_twitter"
   ]
  },
  {
   "cell_type": "code",
   "execution_count": 10,
   "metadata": {},
   "outputs": [
    {
     "data": {
      "image/png": "[encoded data removed]",
      "text/plain": [
       "<matplotlib.figure.Figure at 0x7feeaaf7ae50>"
      ]
     },
     "metadata": {},
     "output_type": "display_data"
    }
   ],
   "source": [
    "twitter_plot = df_twitter.plot(kind='bar', figsize=(20,10), rot=45, fontsize=15, legend=False)\n",
    "patches, labels = twitter_plot.get_legend_handles_labels()\n",
    "\n",
    "twitter_plot.legend(patches, labels, loc='best', fontsize=15)\n",
    "twitter_plot.yaxis.grid(which='major')\n",
    "\n",
    "twitter_plot.set_ylabel(\"Transfer Loss %\", labelpad=25,fontsize=20, weight='bold')\n",
    "twitter_plot.set_xlabel(\"Tarea\", labelpad=25,fontsize=20, weight='bold')\n",
    "\n",
    "figure_path = os.path.join(graficos_path, datasets[1], \"me2_tloss_%d.png\" % dims)\n",
    "plt.savefig(figure_path, bbox_inches='tight')"
   ]
  },
  {
   "cell_type": "markdown",
   "metadata": {},
   "source": [
    "# Gráficos de Tiempo con el dataset Amazon (3000 dimensiones)"
   ]
  },
  {
   "cell_type": "code",
   "execution_count": null,
   "metadata": {
    "collapsed": true
   },
   "outputs": [],
   "source": [
    "def get_times_dataframe():\n",
    "    df = None\n",
    "    \n",
    "    for prueba in pruebas:\n",
    "        if prueba is not \"baseline\":\n",
    "            file_path = os.path.join(times_path, \"%s.csv\" % prueba)\n",
    "            \n",
    "            if os.path.exists(file_path):\n",
    "                if df is None:\n",
    "                    df = pd.read_csv(file_path, sep=',', header=0)\n",
    "                else:\n",
    "                    new_df = pd.read_csv(file_path, sep=',', header=0)\n",
    "                    df = df.append(new_df, ignore_index=True)\n",
    "    \n",
    "    if df is None:\n",
    "        return pd.DataFrame(columns=dataframe_time_columns)\n",
    "    \n",
    "    return df[dataframe_time_columns]"
   ]
  },
  {
   "cell_type": "code",
   "execution_count": null,
   "metadata": {
    "collapsed": true
   },
   "outputs": [],
   "source": [
    "df_tiempos = get_times_dataframe()"
   ]
  },
  {
   "cell_type": "code",
   "execution_count": null,
   "metadata": {
    "collapsed": true
   },
   "outputs": [],
   "source": [
    "df_tiempos = df_tiempos.sort_values('Tiempo').reset_index()[dataframe_time_columns]\n",
    "df_tiempos.index = df_tiempos['Adaptacion']"
   ]
  },
  {
   "cell_type": "code",
   "execution_count": null,
   "metadata": {
    "collapsed": true
   },
   "outputs": [],
   "source": [
    "df_tiempos"
   ]
  },
  {
   "cell_type": "code",
   "execution_count": null,
   "metadata": {
    "collapsed": true
   },
   "outputs": [],
   "source": [
    "colores = {\n",
    "    \"GFK\": 'blue',\n",
    "    'PCA': 'red',\n",
    "    'mSDA': 'green',\n",
    "    'SDA': 'magenta',\n",
    "}\n",
    "\n",
    "time_plot = df_tiempos.plot(style='o', figsize=(20,10), rot=65, fontsize=15, legend=False,\n",
    "                            xlim=(-1, 15), ylim=(-1, 39))\n",
    "time_plot.set_ylabel(\"Tiempo de entrenamiento [m]\", labelpad=25,fontsize=20, weight='bold')\n",
    "time_axes = time_plot.axes\n",
    "\n",
    "xaxis = time_axes.xaxis\n",
    "xaxis.set_visible(False)\n",
    "\n",
    "\n",
    "time_fig = time_plot.figure\n",
    "ax = time_fig.add_subplot(111)\n",
    "\n",
    "for i in xrange(df_tiempos.shape[0]):\n",
    "    i\n",
    "    y = df_tiempos['Tiempo'][i]\n",
    "    text = df_tiempos['Adaptacion'][i]\n",
    "    color = colores[text.split(\" \")[0]]\n",
    "    #ax.annotate(text, xy=(i, y), xytext=(i-0.5, y+0.003))\n",
    "    ax.text(i-0.7, y+0.004, text, fontsize=14, rotation=-15, color=color)\n",
    "    \n",
    "save_path = os.path.join(graficos_path, datasets[0], \"tiempos_3000.png\")\n",
    "plt.savefig(save_path, bbox_inches='tight')"
   ]
  }
 ],
 "metadata": {
  "kernelspec": {
   "display_name": "Python 2",
   "language": "python",
   "name": "python2"
  },
  "language_info": {
   "codemirror_mode": {
    "name": "ipython",
    "version": 2
   },
   "file_extension": ".py",
   "mimetype": "text/x-python",
   "name": "python",
   "nbconvert_exporter": "python",
   "pygments_lexer": "ipython2",
   "version": "2.7.13"
  }
 },
 "nbformat": 4,
 "nbformat_minor": 2
}
