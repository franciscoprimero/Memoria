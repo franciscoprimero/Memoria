{
 "cells": [
  {
   "cell_type": "code",
   "execution_count": 1,
   "metadata": {
    "collapsed": true
   },
   "outputs": [],
   "source": [
    "%matplotlib inline\n",
    "from utils.paths import *\n",
    "\n",
    "import pandas as pd\n",
    "import matplotlib.pyplot as plt\n",
    "import os"
   ]
  },
  {
   "cell_type": "code",
   "execution_count": 2,
   "metadata": {},
   "outputs": [
    {
     "name": "stdout",
     "output_type": "stream",
     "text": [
      "['baseline', 'msda', 'gfk', 'pca', 'sda']\n",
      "['amazon', 'twitter']\n",
      "['Adaptacion', 'Tarea', 'Fuente', 'Objetivo', 'Baseline error', 'Transfer error', 'Transfer loss']\n"
     ]
    }
   ],
   "source": [
    "print pruebas\n",
    "print datasets\n",
    "print dataframe_columns"
   ]
  },
  {
   "cell_type": "code",
   "execution_count": 3,
   "metadata": {
    "collapsed": true
   },
   "outputs": [],
   "source": [
    "def get_scores_dataframe(dataset):\n",
    "    df = None\n",
    "\n",
    "    for prueba in pruebas:\n",
    "        path = os.path.join(scores_path, prueba, dataset+'.csv')\n",
    "                \n",
    "        if os.path.exists(path):\n",
    "            print path\n",
    "            if df is None:\n",
    "                df = pd.read_csv(path, sep=',', header=0)\n",
    "            else:\n",
    "                new_df = pd.read_csv(path, sep=',', header=0)\n",
    "                df = df.append(new_df, ignore_index=True)\n",
    "    \n",
    "    if df is None:\n",
    "        return pd.DataFrame(columns=dataframe_columns)\n",
    "                \n",
    "    #se dejan disponibles solamente la tarea, el tipo de adaptacion y el error\n",
    "    df_a = df[['Adaptacion', 'Tarea', 'Transfer loss']]\n",
    "    \n",
    "    # se manipula el dataframe para \n",
    "    df_a = df_a.groupby(['Tarea', 'Adaptacion'], as_index=True ).max()\n",
    "    df_a = df_a.unstack(level=1)\n",
    "    df_a.columns = df_a.columns.levels[1]\n",
    "    \n",
    "    return df_a"
   ]
  },
  {
   "cell_type": "markdown",
   "metadata": {},
   "source": [
    "# Gráficos del dataset Amazon"
   ]
  },
  {
   "cell_type": "code",
   "execution_count": 9,
   "metadata": {},
   "outputs": [
    {
     "name": "stdout",
     "output_type": "stream",
     "text": [
      "scores/baseline/amazon.csv\n",
      "scores/msda/amazon.csv\n",
      "scores/gfk/amazon.csv\n",
      "scores/sda/amazon.csv\n"
     ]
    },
    {
     "data": {
      "text/html": [
       "<div>\n",
       "<style>\n",
       "    .dataframe thead tr:only-child th {\n",
       "        text-align: right;\n",
       "    }\n",
       "\n",
       "    .dataframe thead th {\n",
       "        text-align: left;\n",
       "    }\n",
       "\n",
       "    .dataframe tbody tr th {\n",
       "        vertical-align: top;\n",
       "    }\n",
       "</style>\n",
       "<table border=\"1\" class=\"dataframe\">\n",
       "  <thead>\n",
       "    <tr style=\"text-align: right;\">\n",
       "      <th>Adaptacion</th>\n",
       "      <th>Baseline</th>\n",
       "      <th>GFK</th>\n",
       "      <th>SDA</th>\n",
       "      <th>mSDA</th>\n",
       "    </tr>\n",
       "    <tr>\n",
       "      <th>Tarea</th>\n",
       "      <th></th>\n",
       "      <th></th>\n",
       "      <th></th>\n",
       "      <th></th>\n",
       "    </tr>\n",
       "  </thead>\n",
       "  <tbody>\n",
       "    <tr>\n",
       "      <th>b-&gt;d</th>\n",
       "      <td>0.057356</td>\n",
       "      <td>27.251800</td>\n",
       "      <td>3.00</td>\n",
       "      <td>6.001800</td>\n",
       "    </tr>\n",
       "    <tr>\n",
       "      <th>b-&gt;e</th>\n",
       "      <td>11.206835</td>\n",
       "      <td>29.061722</td>\n",
       "      <td>9.75</td>\n",
       "      <td>9.311722</td>\n",
       "    </tr>\n",
       "    <tr>\n",
       "      <th>b-&gt;k</th>\n",
       "      <td>10.753776</td>\n",
       "      <td>28.260006</td>\n",
       "      <td>13.75</td>\n",
       "      <td>15.510006</td>\n",
       "    </tr>\n",
       "    <tr>\n",
       "      <th>d-&gt;b</th>\n",
       "      <td>3.361320</td>\n",
       "      <td>23.008483</td>\n",
       "      <td>3.75</td>\n",
       "      <td>6.508483</td>\n",
       "    </tr>\n",
       "    <tr>\n",
       "      <th>d-&gt;e</th>\n",
       "      <td>9.061722</td>\n",
       "      <td>28.561722</td>\n",
       "      <td>12.25</td>\n",
       "      <td>6.061722</td>\n",
       "    </tr>\n",
       "    <tr>\n",
       "      <th>d-&gt;k</th>\n",
       "      <td>11.508394</td>\n",
       "      <td>30.510006</td>\n",
       "      <td>15.75</td>\n",
       "      <td>14.010006</td>\n",
       "    </tr>\n",
       "    <tr>\n",
       "      <th>e-&gt;b</th>\n",
       "      <td>9.357509</td>\n",
       "      <td>22.258483</td>\n",
       "      <td>11.00</td>\n",
       "      <td>12.508483</td>\n",
       "    </tr>\n",
       "    <tr>\n",
       "      <th>e-&gt;d</th>\n",
       "      <td>9.966178</td>\n",
       "      <td>25.251800</td>\n",
       "      <td>8.50</td>\n",
       "      <td>13.501800</td>\n",
       "    </tr>\n",
       "    <tr>\n",
       "      <th>e-&gt;k</th>\n",
       "      <td>6.510769</td>\n",
       "      <td>30.760006</td>\n",
       "      <td>14.00</td>\n",
       "      <td>8.510006</td>\n",
       "    </tr>\n",
       "    <tr>\n",
       "      <th>k-&gt;b</th>\n",
       "      <td>11.771819</td>\n",
       "      <td>25.008483</td>\n",
       "      <td>9.75</td>\n",
       "      <td>8.758483</td>\n",
       "    </tr>\n",
       "    <tr>\n",
       "      <th>k-&gt;d</th>\n",
       "      <td>10.609150</td>\n",
       "      <td>23.501800</td>\n",
       "      <td>8.75</td>\n",
       "      <td>9.251800</td>\n",
       "    </tr>\n",
       "    <tr>\n",
       "      <th>k-&gt;e</th>\n",
       "      <td>2.168500</td>\n",
       "      <td>26.311722</td>\n",
       "      <td>7.25</td>\n",
       "      <td>3.561722</td>\n",
       "    </tr>\n",
       "  </tbody>\n",
       "</table>\n",
       "</div>"
      ],
      "text/plain": [
       "Adaptacion   Baseline        GFK    SDA       mSDA\n",
       "Tarea                                             \n",
       "b->d         0.057356  27.251800   3.00   6.001800\n",
       "b->e        11.206835  29.061722   9.75   9.311722\n",
       "b->k        10.753776  28.260006  13.75  15.510006\n",
       "d->b         3.361320  23.008483   3.75   6.508483\n",
       "d->e         9.061722  28.561722  12.25   6.061722\n",
       "d->k        11.508394  30.510006  15.75  14.010006\n",
       "e->b         9.357509  22.258483  11.00  12.508483\n",
       "e->d         9.966178  25.251800   8.50  13.501800\n",
       "e->k         6.510769  30.760006  14.00   8.510006\n",
       "k->b        11.771819  25.008483   9.75   8.758483\n",
       "k->d        10.609150  23.501800   8.75   9.251800\n",
       "k->e         2.168500  26.311722   7.25   3.561722"
      ]
     },
     "execution_count": 9,
     "metadata": {},
     "output_type": "execute_result"
    }
   ],
   "source": [
    "df_amazon = get_scores_dataframe(datasets[0])\n",
    "df_amazon"
   ]
  },
  {
   "cell_type": "code",
   "execution_count": 10,
   "metadata": {},
   "outputs": [
    {
     "data": {
      "text/plain": [
       "<matplotlib.axes._subplots.AxesSubplot at 0x7f6efad77290>"
      ]
     },
     "execution_count": 10,
     "metadata": {},
     "output_type": "execute_result"
    },
    {
     "data": {
      "image/png": "[encoded data removed]",
      "text/plain": [
       "<matplotlib.figure.Figure at 0x7f6efe26f290>"
      ]
     },
     "metadata": {},
     "output_type": "display_data"
    }
   ],
   "source": [
    "df_amazon.plot.bar()"
   ]
  },
  {
   "cell_type": "markdown",
   "metadata": {},
   "source": [
    "# Gráficos del dataset Twitter"
   ]
  },
  {
   "cell_type": "code",
   "execution_count": 4,
   "metadata": {},
   "outputs": [
    {
     "name": "stdout",
     "output_type": "stream",
     "text": [
      "scores/baseline/twitter.csv\n",
      "scores/msda/twitter.csv\n",
      "scores/gfk/twitter.csv\n"
     ]
    },
    {
     "data": {
      "text/html": [
       "<div>\n",
       "<style>\n",
       "    .dataframe thead tr:only-child th {\n",
       "        text-align: right;\n",
       "    }\n",
       "\n",
       "    .dataframe thead th {\n",
       "        text-align: left;\n",
       "    }\n",
       "\n",
       "    .dataframe tbody tr th {\n",
       "        vertical-align: top;\n",
       "    }\n",
       "</style>\n",
       "<table border=\"1\" class=\"dataframe\">\n",
       "  <thead>\n",
       "    <tr style=\"text-align: right;\">\n",
       "      <th>Adaptacion</th>\n",
       "      <th>Baseline</th>\n",
       "      <th>GFK</th>\n",
       "      <th>SDA</th>\n",
       "    </tr>\n",
       "    <tr>\n",
       "      <th>Tarea</th>\n",
       "      <th></th>\n",
       "      <th></th>\n",
       "      <th></th>\n",
       "    </tr>\n",
       "  </thead>\n",
       "  <tbody>\n",
       "    <tr>\n",
       "      <th>r-&gt;t</th>\n",
       "      <td>5.348675</td>\n",
       "      <td>42.379945</td>\n",
       "      <td>12.379945</td>\n",
       "    </tr>\n",
       "    <tr>\n",
       "      <th>t-&gt;r</th>\n",
       "      <td>0.958318</td>\n",
       "      <td>29.312639</td>\n",
       "      <td>4.312639</td>\n",
       "    </tr>\n",
       "  </tbody>\n",
       "</table>\n",
       "</div>"
      ],
      "text/plain": [
       "Adaptacion  Baseline        GFK        SDA\n",
       "Tarea                                     \n",
       "r->t        5.348675  42.379945  12.379945\n",
       "t->r        0.958318  29.312639   4.312639"
      ]
     },
     "execution_count": 4,
     "metadata": {},
     "output_type": "execute_result"
    }
   ],
   "source": [
    "df_twitter = get_scores_dataframe(datasets[1])\n",
    "df_twitter"
   ]
  },
  {
   "cell_type": "code",
   "execution_count": 5,
   "metadata": {},
   "outputs": [
    {
     "data": {
      "text/plain": [
       "<matplotlib.axes._subplots.AxesSubplot at 0x7f7b3db4dc90>"
      ]
     },
     "execution_count": 5,
     "metadata": {},
     "output_type": "execute_result"
    },
    {
     "data": {
      "image/png": "[encoded data removed]",
      "text/plain": [
       "<matplotlib.figure.Figure at 0x7f7b64216250>"
      ]
     },
     "metadata": {},
     "output_type": "display_data"
    }
   ],
   "source": [
    "df_twitter.plot.bar()"
   ]
  }
 ],
 "metadata": {
  "kernelspec": {
   "display_name": "Python 2",
   "language": "python",
   "name": "python2"
  },
  "language_info": {
   "codemirror_mode": {
    "name": "ipython",
    "version": 2
   },
   "file_extension": ".py",
   "mimetype": "text/x-python",
   "name": "python",
   "nbconvert_exporter": "python",
   "pygments_lexer": "ipython2",
   "version": "2.7.13"
  }
 },
 "nbformat": 4,
 "nbformat_minor": 2
}
