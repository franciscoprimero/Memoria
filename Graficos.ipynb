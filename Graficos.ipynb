{
 "cells": [
  {
   "cell_type": "code",
   "execution_count": 22,
   "metadata": {
    "collapsed": true
   },
   "outputs": [],
   "source": [
    "%load_ext autoreload\n",
    "%autoreload 2"
   ]
  },
  {
   "cell_type": "code",
   "execution_count": 25,
   "metadata": {},
   "outputs": [],
   "source": [
    "%matplotlib inline\n",
    "from utils.paths import *\n",
    "\n",
    "import pandas as pd\n",
    "import matplotlib.pyplot as plt\n",
    "import os"
   ]
  },
  {
   "cell_type": "code",
   "execution_count": 40,
   "metadata": {
    "collapsed": true
   },
   "outputs": [],
   "source": [
    "def get_scores_dataframe(dataset, dims):\n",
    "    df = None\n",
    "\n",
    "    for prueba in pruebas:\n",
    "        path = os.path.join(scores_path, prueba, \"%s_%d.csv\" % (dataset, dims))\n",
    "                \n",
    "        if os.path.exists(path):\n",
    "            #print path\n",
    "            if df is None:\n",
    "                df = pd.read_csv(path, sep=',', header=0)\n",
    "            else:\n",
    "                new_df = pd.read_csv(path, sep=',', header=0)\n",
    "                df = df.append(new_df, ignore_index=True)\n",
    "    \n",
    "    if df is None:\n",
    "        return pd.DataFrame(columns=dataframe_columns)\n",
    "                \n",
    "    #se dejan disponibles solamente la tarea, el tipo de adaptacion y el error\n",
    "    df_a = df[['Adaptacion', 'Tarea', 'Transfer loss']]\n",
    "    \n",
    "    # se manipula el dataframe para dejar la adaptacion como columna \n",
    "    df_a = df_a.groupby(['Tarea', 'Adaptacion'], as_index=True ).max()\n",
    "    df_a = df_a.unstack(level=1)\n",
    "    df_a.columns = df_a.columns.levels[1]\n",
    "    \n",
    "    return df_a"
   ]
  },
  {
   "cell_type": "markdown",
   "metadata": {},
   "source": [
    "# Gráficos del dataset Amazon (3000 dimensiones)"
   ]
  },
  {
   "cell_type": "code",
   "execution_count": 41,
   "metadata": {},
   "outputs": [
    {
     "data": {
      "text/html": [
       "<div>\n",
       "<style>\n",
       "    .dataframe thead tr:only-child th {\n",
       "        text-align: right;\n",
       "    }\n",
       "\n",
       "    .dataframe thead th {\n",
       "        text-align: left;\n",
       "    }\n",
       "\n",
       "    .dataframe tbody tr th {\n",
       "        vertical-align: top;\n",
       "    }\n",
       "</style>\n",
       "<table border=\"1\" class=\"dataframe\">\n",
       "  <thead>\n",
       "    <tr style=\"text-align: right;\">\n",
       "      <th>Adaptacion</th>\n",
       "      <th>Baseline</th>\n",
       "      <th>GFK</th>\n",
       "      <th>PCA</th>\n",
       "      <th>SDA</th>\n",
       "      <th>mSDA</th>\n",
       "    </tr>\n",
       "    <tr>\n",
       "      <th>Tarea</th>\n",
       "      <th></th>\n",
       "      <th></th>\n",
       "      <th></th>\n",
       "      <th></th>\n",
       "      <th></th>\n",
       "    </tr>\n",
       "  </thead>\n",
       "  <tbody>\n",
       "    <tr>\n",
       "      <th>b-&gt;d</th>\n",
       "      <td>3.00</td>\n",
       "      <td>0.25</td>\n",
       "      <td>4.50</td>\n",
       "      <td>6.00</td>\n",
       "      <td>3.25</td>\n",
       "    </tr>\n",
       "    <tr>\n",
       "      <th>b-&gt;e</th>\n",
       "      <td>6.75</td>\n",
       "      <td>5.25</td>\n",
       "      <td>9.25</td>\n",
       "      <td>22.50</td>\n",
       "      <td>7.25</td>\n",
       "    </tr>\n",
       "    <tr>\n",
       "      <th>b-&gt;k</th>\n",
       "      <td>10.00</td>\n",
       "      <td>7.25</td>\n",
       "      <td>10.50</td>\n",
       "      <td>20.00</td>\n",
       "      <td>10.75</td>\n",
       "    </tr>\n",
       "    <tr>\n",
       "      <th>d-&gt;b</th>\n",
       "      <td>11.50</td>\n",
       "      <td>11.00</td>\n",
       "      <td>10.25</td>\n",
       "      <td>12.25</td>\n",
       "      <td>9.50</td>\n",
       "    </tr>\n",
       "    <tr>\n",
       "      <th>d-&gt;e</th>\n",
       "      <td>11.75</td>\n",
       "      <td>10.25</td>\n",
       "      <td>14.50</td>\n",
       "      <td>10.00</td>\n",
       "      <td>12.00</td>\n",
       "    </tr>\n",
       "    <tr>\n",
       "      <th>d-&gt;k</th>\n",
       "      <td>7.75</td>\n",
       "      <td>8.50</td>\n",
       "      <td>7.50</td>\n",
       "      <td>15.00</td>\n",
       "      <td>8.50</td>\n",
       "    </tr>\n",
       "    <tr>\n",
       "      <th>e-&gt;b</th>\n",
       "      <td>13.25</td>\n",
       "      <td>13.75</td>\n",
       "      <td>14.00</td>\n",
       "      <td>16.25</td>\n",
       "      <td>12.25</td>\n",
       "    </tr>\n",
       "    <tr>\n",
       "      <th>e-&gt;d</th>\n",
       "      <td>9.00</td>\n",
       "      <td>4.50</td>\n",
       "      <td>11.50</td>\n",
       "      <td>13.25</td>\n",
       "      <td>8.75</td>\n",
       "    </tr>\n",
       "    <tr>\n",
       "      <th>e-&gt;k</th>\n",
       "      <td>2.00</td>\n",
       "      <td>2.25</td>\n",
       "      <td>4.75</td>\n",
       "      <td>8.50</td>\n",
       "      <td>2.50</td>\n",
       "    </tr>\n",
       "    <tr>\n",
       "      <th>k-&gt;b</th>\n",
       "      <td>13.00</td>\n",
       "      <td>14.50</td>\n",
       "      <td>13.75</td>\n",
       "      <td>14.00</td>\n",
       "      <td>13.00</td>\n",
       "    </tr>\n",
       "    <tr>\n",
       "      <th>k-&gt;d</th>\n",
       "      <td>9.50</td>\n",
       "      <td>7.50</td>\n",
       "      <td>7.00</td>\n",
       "      <td>11.25</td>\n",
       "      <td>9.25</td>\n",
       "    </tr>\n",
       "    <tr>\n",
       "      <th>k-&gt;e</th>\n",
       "      <td>1.50</td>\n",
       "      <td>-1.75</td>\n",
       "      <td>0.00</td>\n",
       "      <td>6.00</td>\n",
       "      <td>-1.25</td>\n",
       "    </tr>\n",
       "  </tbody>\n",
       "</table>\n",
       "</div>"
      ],
      "text/plain": [
       "Adaptacion  Baseline    GFK    PCA    SDA   mSDA\n",
       "Tarea                                           \n",
       "b->d            3.00   0.25   4.50   6.00   3.25\n",
       "b->e            6.75   5.25   9.25  22.50   7.25\n",
       "b->k           10.00   7.25  10.50  20.00  10.75\n",
       "d->b           11.50  11.00  10.25  12.25   9.50\n",
       "d->e           11.75  10.25  14.50  10.00  12.00\n",
       "d->k            7.75   8.50   7.50  15.00   8.50\n",
       "e->b           13.25  13.75  14.00  16.25  12.25\n",
       "e->d            9.00   4.50  11.50  13.25   8.75\n",
       "e->k            2.00   2.25   4.75   8.50   2.50\n",
       "k->b           13.00  14.50  13.75  14.00  13.00\n",
       "k->d            9.50   7.50   7.00  11.25   9.25\n",
       "k->e            1.50  -1.75   0.00   6.00  -1.25"
      ]
     },
     "execution_count": 41,
     "metadata": {},
     "output_type": "execute_result"
    }
   ],
   "source": [
    "dims = 3000\n",
    "df_amazon = get_scores_dataframe(datasets[0], dims)\n",
    "df_amazon"
   ]
  },
  {
   "cell_type": "code",
   "execution_count": 27,
   "metadata": {},
   "outputs": [
    {
     "data": {
      "image/png": "[encoded data removed]",
      "text/plain": [
       "<matplotlib.figure.Figure at 0x7ff4f5b07cd0>"
      ]
     },
     "metadata": {},
     "output_type": "display_data"
    }
   ],
   "source": [
    "amazon_plot = df_amazon.plot(kind='bar', figsize=(20,10), rot=45, fontsize=15, legend=False)\n",
    "patches, labels = amazon_plot.get_legend_handles_labels()\n",
    "\n",
    "amazon_plot.legend(patches, labels, loc='best', fontsize=15)\n",
    "amazon_plot.yaxis.grid(which='major')\n",
    "\n",
    "amazon_plot.set_ylabel(\"Transfer Loss %\", labelpad=25,fontsize=20, weight='bold')\n",
    "amazon_plot.set_xlabel(\"Tarea\", labelpad=25,fontsize=20, weight='bold')\n",
    "\n",
    "figure_path = os.path.join(graficos_path, datasets[0], \"%d.png\" % dims)\n",
    "plt.savefig(figure_path)\n"
   ]
  },
  {
   "cell_type": "markdown",
   "metadata": {},
   "source": [
    "# Gráficos del dataset Twitter (2000 dimensiones)"
   ]
  },
  {
   "cell_type": "code",
   "execution_count": 28,
   "metadata": {},
   "outputs": [
    {
     "data": {
      "text/html": [
       "<div>\n",
       "<style>\n",
       "    .dataframe thead tr:only-child th {\n",
       "        text-align: right;\n",
       "    }\n",
       "\n",
       "    .dataframe thead th {\n",
       "        text-align: left;\n",
       "    }\n",
       "\n",
       "    .dataframe tbody tr th {\n",
       "        vertical-align: top;\n",
       "    }\n",
       "</style>\n",
       "<table border=\"1\" class=\"dataframe\">\n",
       "  <thead>\n",
       "    <tr style=\"text-align: right;\">\n",
       "      <th>Adaptacion</th>\n",
       "      <th>Baseline</th>\n",
       "      <th>GFK</th>\n",
       "      <th>PCA</th>\n",
       "      <th>SDA</th>\n",
       "      <th>mSDA</th>\n",
       "    </tr>\n",
       "    <tr>\n",
       "      <th>Tarea</th>\n",
       "      <th></th>\n",
       "      <th></th>\n",
       "      <th></th>\n",
       "      <th></th>\n",
       "      <th></th>\n",
       "    </tr>\n",
       "  </thead>\n",
       "  <tbody>\n",
       "    <tr>\n",
       "      <th>r-&gt;t</th>\n",
       "      <td>5.384615</td>\n",
       "      <td>11.538462</td>\n",
       "      <td>6.923077</td>\n",
       "      <td>19.230769</td>\n",
       "      <td>10.769231</td>\n",
       "    </tr>\n",
       "    <tr>\n",
       "      <th>t-&gt;r</th>\n",
       "      <td>2.083333</td>\n",
       "      <td>13.541667</td>\n",
       "      <td>2.083333</td>\n",
       "      <td>20.833333</td>\n",
       "      <td>0.000000</td>\n",
       "    </tr>\n",
       "  </tbody>\n",
       "</table>\n",
       "</div>"
      ],
      "text/plain": [
       "Adaptacion  Baseline        GFK       PCA        SDA       mSDA\n",
       "Tarea                                                          \n",
       "r->t        5.384615  11.538462  6.923077  19.230769  10.769231\n",
       "t->r        2.083333  13.541667  2.083333  20.833333   0.000000"
      ]
     },
     "execution_count": 28,
     "metadata": {},
     "output_type": "execute_result"
    }
   ],
   "source": [
    "dims = 2000\n",
    "df_twitter = get_scores_dataframe(datasets[1], dims)\n",
    "df_twitter"
   ]
  },
  {
   "cell_type": "code",
   "execution_count": 29,
   "metadata": {},
   "outputs": [
    {
     "data": {
      "image/png": "[encoded data removed]",
      "text/plain": [
       "<matplotlib.figure.Figure at 0x7ff4f71007d0>"
      ]
     },
     "metadata": {},
     "output_type": "display_data"
    }
   ],
   "source": [
    "twitter_plot = df_twitter.plot(kind='bar', figsize=(20,10), rot=45, fontsize=15, legend=False)\n",
    "patches, labels = twitter_plot.get_legend_handles_labels()\n",
    "\n",
    "twitter_plot.legend(patches, labels, loc='best', fontsize=15)\n",
    "twitter_plot.yaxis.grid(which='major')\n",
    "\n",
    "twitter_plot.set_ylabel(\"Transfer Loss %\", labelpad=25,fontsize=20, weight='bold')\n",
    "twitter_plot.set_xlabel(\"Tarea\", labelpad=25,fontsize=20, weight='bold')\n",
    "\n",
    "figure_path = os.path.join(graficos_path, datasets[1], \"%d.png\" % dims)\n",
    "plt.savefig(figure_path)"
   ]
  },
  {
   "cell_type": "code",
   "execution_count": null,
   "metadata": {
    "collapsed": true
   },
   "outputs": [],
   "source": []
  }
 ],
 "metadata": {
  "kernelspec": {
   "display_name": "Python 2",
   "language": "python",
   "name": "python2"
  },
  "language_info": {
   "codemirror_mode": {
    "name": "ipython",
    "version": 2
   },
   "file_extension": ".py",
   "mimetype": "text/x-python",
   "name": "python",
   "nbconvert_exporter": "python",
   "pygments_lexer": "ipython2",
   "version": "2.7.13"
  }
 },
 "nbformat": 4,
 "nbformat_minor": 2
}
