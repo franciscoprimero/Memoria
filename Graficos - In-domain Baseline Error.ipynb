{
 "cells": [
  {
   "cell_type": "code",
   "execution_count": 1,
   "metadata": {
    "collapsed": true
   },
   "outputs": [],
   "source": [
    "%load_ext autoreload\n",
    "%autoreload 2"
   ]
  },
  {
   "cell_type": "code",
   "execution_count": 2,
   "metadata": {
    "collapsed": true
   },
   "outputs": [],
   "source": [
    "%matplotlib inline"
   ]
  },
  {
   "cell_type": "code",
   "execution_count": 3,
   "metadata": {
    "collapsed": true
   },
   "outputs": [],
   "source": [
    "from utils.DatasetStorage import Dataset\n",
    "from utils.paths import *\n",
    "\n",
    "import os\n",
    "import itertools\n",
    "\n",
    "import matplotlib.pyplot as plt\n",
    "\n",
    "# clasificador\n",
    "from sklearn.svm import SVC\n",
    "from sklearn.model_selection import train_test_split\n",
    "from sklearn.model_selection import GridSearchCV, cross_val_score\n",
    "import numpy as np\n",
    "import pandas as pd"
   ]
  },
  {
   "cell_type": "code",
   "execution_count": 4,
   "metadata": {
    "collapsed": true
   },
   "outputs": [],
   "source": [
    "def get_baseline_indomain(dimensions, dataset_name):\n",
    "    df = None\n",
    "    \n",
    "    for dim in dimensions:\n",
    "        load_scores_path = os.path.join(scores_path,dataset_name, 'baseline', \"me1_%d.csv\" % (dim))\n",
    "        df_temp = pd.read_csv(load_scores_path, sep=',', header=0, index_col=0)\n",
    "        \n",
    "        if df is None:\n",
    "            df = df_temp[['Objetivo']]\n",
    "        \n",
    "        df['%d Dimensiones' % dim] = df_temp['Baseline error']\n",
    "        \n",
    "    return df.drop_duplicates()"
   ]
  },
  {
   "cell_type": "markdown",
   "metadata": {},
   "source": [
    "# Amazon"
   ]
  },
  {
   "cell_type": "code",
   "execution_count": 5,
   "metadata": {
    "collapsed": true
   },
   "outputs": [],
   "source": [
    "dataset_name = datasets[0]"
   ]
  },
  {
   "cell_type": "code",
   "execution_count": 6,
   "metadata": {},
   "outputs": [
    {
     "name": "stderr",
     "output_type": "stream",
     "text": [
      "/home/ubuntu/anaconda2/envs/env_memoria/lib/python2.7/site-packages/ipykernel_launcher.py:11: SettingWithCopyWarning: \n",
      "A value is trying to be set on a copy of a slice from a DataFrame.\n",
      "Try using .loc[row_indexer,col_indexer] = value instead\n",
      "\n",
      "See the caveats in the documentation: http://pandas.pydata.org/pandas-docs/stable/indexing.html#indexing-view-versus-copy\n",
      "  # This is added back by InteractiveShellApp.init_path()\n"
     ]
    },
    {
     "data": {
      "text/html": [
       "<div>\n",
       "<style>\n",
       "    .dataframe thead tr:only-child th {\n",
       "        text-align: right;\n",
       "    }\n",
       "\n",
       "    .dataframe thead th {\n",
       "        text-align: left;\n",
       "    }\n",
       "\n",
       "    .dataframe tbody tr th {\n",
       "        vertical-align: top;\n",
       "    }\n",
       "</style>\n",
       "<table border=\"1\" class=\"dataframe\">\n",
       "  <thead>\n",
       "    <tr style=\"text-align: right;\">\n",
       "      <th></th>\n",
       "      <th>Objetivo</th>\n",
       "      <th>1000 Dimensiones</th>\n",
       "      <th>3000 Dimensiones</th>\n",
       "    </tr>\n",
       "  </thead>\n",
       "  <tbody>\n",
       "    <tr>\n",
       "      <th>0</th>\n",
       "      <td>dvd</td>\n",
       "      <td>16.900423</td>\n",
       "      <td>15.762894</td>\n",
       "    </tr>\n",
       "    <tr>\n",
       "      <th>1</th>\n",
       "      <td>kitchen</td>\n",
       "      <td>16.215405</td>\n",
       "      <td>8.587715</td>\n",
       "    </tr>\n",
       "    <tr>\n",
       "      <th>2</th>\n",
       "      <td>books</td>\n",
       "      <td>23.710593</td>\n",
       "      <td>15.157879</td>\n",
       "    </tr>\n",
       "    <tr>\n",
       "      <th>3</th>\n",
       "      <td>electronics</td>\n",
       "      <td>16.397910</td>\n",
       "      <td>11.127778</td>\n",
       "    </tr>\n",
       "  </tbody>\n",
       "</table>\n",
       "</div>"
      ],
      "text/plain": [
       "      Objetivo  1000 Dimensiones  3000 Dimensiones\n",
       "0          dvd         16.900423         15.762894\n",
       "1      kitchen         16.215405          8.587715\n",
       "2        books         23.710593         15.157879\n",
       "3  electronics         16.397910         11.127778"
      ]
     },
     "execution_count": 6,
     "metadata": {},
     "output_type": "execute_result"
    }
   ],
   "source": [
    "df_amazon = get_baseline_indomain([1000, 3000], dataset_name)\n",
    "df_amazon"
   ]
  },
  {
   "cell_type": "code",
   "execution_count": 7,
   "metadata": {},
   "outputs": [
    {
     "name": "stdout",
     "output_type": "stream",
     "text": [
      "Guardando en scores/amazon/baseline_indomain.csv\n",
      "Resultados guardados.\n"
     ]
    }
   ],
   "source": [
    "save_scores_path = os.path.join(scores_path, dataset_name, \"baseline_indomain.csv\")\n",
    "print \"Guardando en %s\" % save_scores_path\n",
    "df_amazon.to_csv(save_scores_path, columns=df_amazon.columns)\n",
    "print \"Resultados guardados.\""
   ]
  },
  {
   "cell_type": "code",
   "execution_count": 8,
   "metadata": {
    "scrolled": false
   },
   "outputs": [
    {
     "data": {
      "image/png": "[encoded data removed]",
      "text/plain": [
       "<matplotlib.figure.Figure at 0x7f6549db1d90>"
      ]
     },
     "metadata": {},
     "output_type": "display_data"
    }
   ],
   "source": [
    "amazon_plot = df_amazon.plot(kind='bar', figsize=(20,10), rot=45, fontsize=15, legend=False)\n",
    "patches, labels = amazon_plot.get_legend_handles_labels()\n",
    "\n",
    "amazon_plot.legend(patches, labels, loc='best', fontsize=15)\n",
    "amazon_plot.yaxis.grid(which='major')\n",
    "amazon_plot.xaxis.set_ticklabels(df_amazon['Objetivo'])\n",
    "\n",
    "amazon_plot.set_ylabel(\"Baseline In-domain Error %\", labelpad=25,fontsize=20, weight='bold')\n",
    "amazon_plot.set_xlabel(\"Dominio\", labelpad=25,fontsize=20, weight='bold')\n",
    "\n",
    "figure_path = os.path.join(graficos_path, dataset_name, \"baseline_indomain.eps\")\n",
    "plt.savefig(figure_path, bbox_inches='tight')"
   ]
  },
  {
   "cell_type": "markdown",
   "metadata": {},
   "source": [
    "# Twitter"
   ]
  },
  {
   "cell_type": "code",
   "execution_count": 9,
   "metadata": {
    "collapsed": true
   },
   "outputs": [],
   "source": [
    "dataset_name = datasets[1]"
   ]
  },
  {
   "cell_type": "code",
   "execution_count": 10,
   "metadata": {},
   "outputs": [
    {
     "name": "stderr",
     "output_type": "stream",
     "text": [
      "/home/ubuntu/anaconda2/envs/env_memoria/lib/python2.7/site-packages/ipykernel_launcher.py:11: SettingWithCopyWarning: \n",
      "A value is trying to be set on a copy of a slice from a DataFrame.\n",
      "Try using .loc[row_indexer,col_indexer] = value instead\n",
      "\n",
      "See the caveats in the documentation: http://pandas.pydata.org/pandas-docs/stable/indexing.html#indexing-view-versus-copy\n",
      "  # This is added back by InteractiveShellApp.init_path()\n"
     ]
    },
    {
     "data": {
      "text/html": [
       "<div>\n",
       "<style>\n",
       "    .dataframe thead tr:only-child th {\n",
       "        text-align: right;\n",
       "    }\n",
       "\n",
       "    .dataframe thead th {\n",
       "        text-align: left;\n",
       "    }\n",
       "\n",
       "    .dataframe tbody tr th {\n",
       "        vertical-align: top;\n",
       "    }\n",
       "</style>\n",
       "<table border=\"1\" class=\"dataframe\">\n",
       "  <thead>\n",
       "    <tr style=\"text-align: right;\">\n",
       "      <th></th>\n",
       "      <th>Objetivo</th>\n",
       "      <th>1000 Dimensiones</th>\n",
       "      <th>2000 Dimensiones</th>\n",
       "    </tr>\n",
       "  </thead>\n",
       "  <tbody>\n",
       "    <tr>\n",
       "      <th>0</th>\n",
       "      <td>thevoice</td>\n",
       "      <td>19.045928</td>\n",
       "      <td>7.362689</td>\n",
       "    </tr>\n",
       "    <tr>\n",
       "      <th>1</th>\n",
       "      <td>general</td>\n",
       "      <td>30.407980</td>\n",
       "      <td>26.998127</td>\n",
       "    </tr>\n",
       "    <tr>\n",
       "      <th>2</th>\n",
       "      <td>rio2016</td>\n",
       "      <td>7.372958</td>\n",
       "      <td>10.208711</td>\n",
       "    </tr>\n",
       "  </tbody>\n",
       "</table>\n",
       "</div>"
      ],
      "text/plain": [
       "   Objetivo  1000 Dimensiones  2000 Dimensiones\n",
       "0  thevoice         19.045928          7.362689\n",
       "1   general         30.407980         26.998127\n",
       "2   rio2016          7.372958         10.208711"
      ]
     },
     "execution_count": 10,
     "metadata": {},
     "output_type": "execute_result"
    }
   ],
   "source": [
    "df_twitter = get_baseline_indomain([1000, 2000], dataset_name)\n",
    "df_twitter"
   ]
  },
  {
   "cell_type": "code",
   "execution_count": 11,
   "metadata": {},
   "outputs": [
    {
     "name": "stdout",
     "output_type": "stream",
     "text": [
      "Guardando en scores/twitter/baseline_indomain.csv\n",
      "Resultados guardados.\n"
     ]
    }
   ],
   "source": [
    "save_scores_path = os.path.join(scores_path, dataset_name, \"baseline_indomain.csv\")\n",
    "print \"Guardando en %s\" % save_scores_path\n",
    "df_twitter.to_csv(save_scores_path, columns=df_twitter.columns)\n",
    "print \"Resultados guardados.\""
   ]
  },
  {
   "cell_type": "code",
   "execution_count": 12,
   "metadata": {
    "scrolled": false
   },
   "outputs": [
    {
     "data": {
      "image/png": "[encoded data removed]",
      "text/plain": [
       "<matplotlib.figure.Figure at 0x7f65469999d0>"
      ]
     },
     "metadata": {},
     "output_type": "display_data"
    }
   ],
   "source": [
    "twitter_plot = df_twitter.plot(kind='bar', figsize=(20,10), rot=45, fontsize=15, legend=False)\n",
    "patches, labels = twitter_plot.get_legend_handles_labels()\n",
    "\n",
    "twitter_plot.legend(patches, labels, loc='best', fontsize=15)\n",
    "twitter_plot.yaxis.grid(which='major')\n",
    "twitter_plot.xaxis.set_ticklabels(df_twitter['Objetivo'])\n",
    "\n",
    "twitter_plot.set_ylabel(\"Baseline In-domain Error %\", labelpad=25,fontsize=20, weight='bold')\n",
    "twitter_plot.set_xlabel(\"Dominio\", labelpad=25,fontsize=20, weight='bold')\n",
    "\n",
    "figure_path = os.path.join(graficos_path, dataset_name, \"baseline_indomain.eps\")\n",
    "plt.savefig(figure_path, bbox_inches='tight')"
   ]
  }
 ],
 "metadata": {
  "kernelspec": {
   "display_name": "Python 2",
   "language": "python",
   "name": "python2"
  },
  "language_info": {
   "codemirror_mode": {
    "name": "ipython",
    "version": 2
   },
   "file_extension": ".py",
   "mimetype": "text/x-python",
   "name": "python",
   "nbconvert_exporter": "python",
   "pygments_lexer": "ipython2",
   "version": "2.7.13"
  }
 },
 "nbformat": 4,
 "nbformat_minor": 2
}
