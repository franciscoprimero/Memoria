{
 "cells": [
  {
   "cell_type": "code",
   "execution_count": 1,
   "metadata": {},
   "outputs": [
    {
     "name": "stderr",
     "output_type": "stream",
     "text": [
      "Using Theano backend.\n",
      "/home/ubuntu/anaconda2/envs/env_memoria/lib/python2.7/site-packages/sklearn/cross_validation.py:44: DeprecationWarning: This module was deprecated in version 0.18 in favor of the model_selection module into which all the refactored classes and functions are moved. Also note that the interface of the new CV iterators are different from that of this module. This module will be removed in 0.20.\n",
      "  \"This module will be removed in 0.20.\", DeprecationWarning)\n",
      "/home/ubuntu/anaconda2/envs/env_memoria/lib/python2.7/site-packages/sklearn/grid_search.py:43: DeprecationWarning: This module was deprecated in version 0.18 in favor of the model_selection module into which all the refactored classes and functions are moved. This module will be removed in 0.20.\n",
      "  DeprecationWarning)\n"
     ]
    }
   ],
   "source": [
    "#carga de datasets\n",
    "from utils.DatasetStorage import Dataset\n",
    "from utils.paths import *\n",
    "\n",
    "#adaptacion\n",
    "from utils.adaptacion import create_SDA\n",
    "\n",
    "# clasificadores\n",
    "from sklearn.svm import SVC\n",
    "from utils.clasificacion import *\n",
    "\n",
    "import os\n",
    "import time\n",
    "import pandas as pd\n",
    "import numpy as np\n",
    "\n",
    "#variables para guardar los resultados\n",
    "tipo = pruebas[1]\n",
    "dataset_name = datasets[1]\n",
    "dims = dimensions[dataset_name]"
   ]
  },
  {
   "cell_type": "markdown",
   "metadata": {
    "collapsed": true
   },
   "source": [
    "# Dataset de Twitter"
   ]
  },
  {
   "cell_type": "code",
   "execution_count": 2,
   "metadata": {},
   "outputs": [
    {
     "name": "stdout",
     "output_type": "stream",
     "text": [
      "msda\n",
      "twitter\n",
      "data\n"
     ]
    }
   ],
   "source": [
    "print tipo\n",
    "print dataset_name\n",
    "print data_path"
   ]
  },
  {
   "cell_type": "code",
   "execution_count": 3,
   "metadata": {
    "collapsed": true
   },
   "outputs": [],
   "source": [
    "# cargando dataset de Twitter\n",
    "dataset_path = os.path.join(data_path, dataset_name+'.pkl')\n",
    "dataset_object = Dataset().load(dataset_path)\n",
    "\n",
    "dataset_object.split_dataset(test_size=0.2)\n",
    "\n",
    "labeled = dataset_object.labeled\n",
    "domains = dataset_object.domains"
   ]
  },
  {
   "cell_type": "code",
   "execution_count": 4,
   "metadata": {},
   "outputs": [
    {
     "name": "stdout",
     "output_type": "stream",
     "text": [
      "Todos los datos disponibles obtenidos\n"
     ]
    }
   ],
   "source": [
    "# se obtienen todos los valores X disponibles para realizar adaptacion\n",
    "X = dataset_object.get_all_X()\n",
    "X = np.asarray(X)\n",
    "\n",
    "print \"Todos los datos disponibles obtenidos\""
   ]
  },
  {
   "cell_type": "code",
   "execution_count": 5,
   "metadata": {},
   "outputs": [
    {
     "name": "stdout",
     "output_type": "stream",
     "text": [
      "Creando Stacked Autoencoder...\n",
      "Stacked Autoencoder creado.\n"
     ]
    }
   ],
   "source": [
    "#autoencoder, encoder = create_SDA(784, [128, 64, 32, 16, 8])\n",
    "print \"Creando Stacked Autoencoder...\"\n",
    "autoencoder, encoder = create_SDA(dims, [1000])\n",
    "print \"Stacked Autoencoder creado.\""
   ]
  },
  {
   "cell_type": "code",
   "execution_count": 6,
   "metadata": {},
   "outputs": [
    {
     "name": "stdout",
     "output_type": "stream",
     "text": [
      "Train on 1124 samples, validate on 1124 samples\n",
      "Epoch 1/50\n",
      "1124/1124 [==============================] - 1s - loss: 0.7945 - val_loss: 0.7183\n",
      "Epoch 2/50\n",
      "1124/1124 [==============================] - 1s - loss: 0.7930 - val_loss: 0.7167\n",
      "Epoch 3/50\n",
      "1124/1124 [==============================] - 1s - loss: 0.7918 - val_loss: 0.7151\n",
      "Epoch 4/50\n",
      "1124/1124 [==============================] - 1s - loss: 0.7897 - val_loss: 0.7135\n",
      "Epoch 5/50\n",
      "1124/1124 [==============================] - 1s - loss: 0.7876 - val_loss: 0.7120\n",
      "Epoch 6/50\n",
      "1124/1124 [==============================] - 1s - loss: 0.7866 - val_loss: 0.7104\n",
      "Epoch 7/50\n",
      "1124/1124 [==============================] - 1s - loss: 0.7850 - val_loss: 0.7088\n",
      "Epoch 8/50\n",
      "1124/1124 [==============================] - 1s - loss: 0.7836 - val_loss: 0.7072\n",
      "Epoch 9/50\n",
      "1124/1124 [==============================] - 1s - loss: 0.7822 - val_loss: 0.7057\n",
      "Epoch 10/50\n",
      "1124/1124 [==============================] - 1s - loss: 0.7801 - val_loss: 0.7041\n",
      "Epoch 11/50\n",
      "1124/1124 [==============================] - 1s - loss: 0.7789 - val_loss: 0.7025\n",
      "Epoch 12/50\n",
      "1124/1124 [==============================] - 1s - loss: 0.7769 - val_loss: 0.7010\n",
      "Epoch 13/50\n",
      "1124/1124 [==============================] - 1s - loss: 0.7756 - val_loss: 0.6994\n",
      "Epoch 14/50\n",
      "1124/1124 [==============================] - 1s - loss: 0.7739 - val_loss: 0.6979\n",
      "Epoch 15/50\n",
      "1124/1124 [==============================] - 1s - loss: 0.7729 - val_loss: 0.6963\n",
      "Epoch 16/50\n",
      "1124/1124 [==============================] - 1s - loss: 0.7717 - val_loss: 0.6948\n",
      "Epoch 17/50\n",
      "1124/1124 [==============================] - 1s - loss: 0.7689 - val_loss: 0.6933\n",
      "Epoch 18/50\n",
      "1124/1124 [==============================] - 1s - loss: 0.7681 - val_loss: 0.6917\n",
      "Epoch 19/50\n",
      "1124/1124 [==============================] - 1s - loss: 0.7662 - val_loss: 0.6902\n",
      "Epoch 20/50\n",
      "1124/1124 [==============================] - 1s - loss: 0.7648 - val_loss: 0.6887\n",
      "Epoch 21/50\n",
      "1124/1124 [==============================] - 1s - loss: 0.7636 - val_loss: 0.6872\n",
      "Epoch 22/50\n",
      "1124/1124 [==============================] - 1s - loss: 0.7620 - val_loss: 0.6857\n",
      "Epoch 23/50\n",
      "1124/1124 [==============================] - 1s - loss: 0.7607 - val_loss: 0.6842\n",
      "Epoch 24/50\n",
      "1124/1124 [==============================] - 1s - loss: 0.7581 - val_loss: 0.6827\n",
      "Epoch 25/50\n",
      "1124/1124 [==============================] - 1s - loss: 0.7572 - val_loss: 0.6812\n",
      "Epoch 26/50\n",
      "1124/1124 [==============================] - 1s - loss: 0.7555 - val_loss: 0.6797\n",
      "Epoch 27/50\n",
      "1124/1124 [==============================] - 1s - loss: 0.7543 - val_loss: 0.6782\n",
      "Epoch 28/50\n",
      "1124/1124 [==============================] - 1s - loss: 0.7525 - val_loss: 0.6767\n",
      "Epoch 29/50\n",
      "1124/1124 [==============================] - 1s - loss: 0.7518 - val_loss: 0.6752\n",
      "Epoch 30/50\n",
      "1124/1124 [==============================] - 1s - loss: 0.7502 - val_loss: 0.6737\n",
      "Epoch 31/50\n",
      "1124/1124 [==============================] - 1s - loss: 0.7483 - val_loss: 0.6723\n",
      "Epoch 32/50\n",
      "1124/1124 [==============================] - 1s - loss: 0.7466 - val_loss: 0.6708\n",
      "Epoch 33/50\n",
      "1124/1124 [==============================] - 1s - loss: 0.7452 - val_loss: 0.6693\n",
      "Epoch 34/50\n",
      "1124/1124 [==============================] - 1s - loss: 0.7443 - val_loss: 0.6678\n",
      "Epoch 35/50\n",
      "1124/1124 [==============================] - 1s - loss: 0.7421 - val_loss: 0.6664\n",
      "Epoch 36/50\n",
      "1124/1124 [==============================] - 1s - loss: 0.7410 - val_loss: 0.6649\n",
      "Epoch 37/50\n",
      "1124/1124 [==============================] - 1s - loss: 0.7397 - val_loss: 0.6635\n",
      "Epoch 38/50\n",
      "1124/1124 [==============================] - 1s - loss: 0.7379 - val_loss: 0.6620\n",
      "Epoch 39/50\n",
      "1124/1124 [==============================] - 1s - loss: 0.7370 - val_loss: 0.6606\n",
      "Epoch 40/50\n",
      "1124/1124 [==============================] - 1s - loss: 0.7353 - val_loss: 0.6592\n",
      "Epoch 41/50\n",
      "1124/1124 [==============================] - 1s - loss: 0.7333 - val_loss: 0.6577\n",
      "Epoch 42/50\n",
      "1124/1124 [==============================] - 1s - loss: 0.7320 - val_loss: 0.6563\n",
      "Epoch 43/50\n",
      "1124/1124 [==============================] - 1s - loss: 0.7314 - val_loss: 0.6549\n",
      "Epoch 44/50\n",
      "1124/1124 [==============================] - 1s - loss: 0.7298 - val_loss: 0.6535\n",
      "Epoch 45/50\n",
      "1124/1124 [==============================] - 1s - loss: 0.7280 - val_loss: 0.6521\n",
      "Epoch 46/50\n",
      "1124/1124 [==============================] - 1s - loss: 0.7266 - val_loss: 0.6506\n",
      "Epoch 47/50\n",
      "1124/1124 [==============================] - 1s - loss: 0.7247 - val_loss: 0.6492\n",
      "Epoch 48/50\n",
      "1124/1124 [==============================] - 1s - loss: 0.7235 - val_loss: 0.6478\n",
      "Epoch 49/50\n",
      "1124/1124 [==============================] - 1s - loss: 0.7225 - val_loss: 0.6464\n",
      "Epoch 50/50\n",
      "1124/1124 [==============================] - 1s - loss: 0.7208 - val_loss: 0.6450\n"
     ]
    },
    {
     "data": {
      "text/plain": [
       "<keras.callbacks.History at 0x7fcd6e8767d0>"
      ]
     },
     "execution_count": 6,
     "metadata": {},
     "output_type": "execute_result"
    }
   ],
   "source": [
    "X_train = X[:, :dims]\n",
    "\n",
    "#TODO: resolver lo de validation data\n",
    "autoencoder.fit(X_train, X_train,\n",
    "               epochs=50,\n",
    "               batch_size=256,\n",
    "               shuffle=True,\n",
    "               validation_data=(X_train, X_train))"
   ]
  },
  {
   "cell_type": "code",
   "execution_count": 7,
   "metadata": {},
   "outputs": [
    {
     "name": "stdout",
     "output_type": "stream",
     "text": [
      "Adaptando rio2016\n",
      "Adaptando thevoice\n"
     ]
    }
   ],
   "source": [
    "#diccionario para mantener los dominios adaptados\n",
    "adapted = {}\n",
    "\n",
    "for domain in domains:\n",
    "    print \"Adaptando %s\" % domain\n",
    "    X_tr = np.asarray(labeled[domain]['X_tr'][:, :dims].todense())\n",
    "    X_ts = np.asarray(labeled[domain]['X_ts'][:, :dims].todense())\n",
    "    \n",
    "    tr_reps = encoder.predict(X_tr[:, :dims])\n",
    "    ts_reps = encoder.predict(X_ts[:, :dims])\n",
    "    \n",
    "    adapted[domain] = {\n",
    "        'X_tr': tr_reps,\n",
    "        'X_ts': ts_reps\n",
    "    }"
   ]
  },
  {
   "cell_type": "code",
   "execution_count": 8,
   "metadata": {},
   "outputs": [
    {
     "name": "stdout",
     "output_type": "stream",
     "text": [
      "Tarea 1 de 2\n",
      "Cargando modelo existente.\n",
      "Tarea 2 de 2\n",
      "Cargando modelo existente.\n",
      "Pruebas completadas.\n"
     ]
    }
   ],
   "source": [
    "df = pd.DataFrame(columns=dataframe_columns)\n",
    "\n",
    "i = 0\n",
    "# por cada par posible para adaptar\n",
    "for src in domains:\n",
    "    for tgt in domains:\n",
    "        if src is not tgt:\n",
    "            print \"Tarea %d de 2\" % (i+1)\n",
    "            \n",
    "            #baseline in-domain error\n",
    "            #e_b(T,T)\n",
    "            #entrenado en dominio tgt y probado en dominio tgt\n",
    "            X_tr = np.asarray(labeled[tgt]['X_tr'][:, :dims].todense())\n",
    "            y_tr = np.asarray(labeled[tgt]['y_tr'].todense()).argmax(axis=1)\n",
    "            \n",
    "            X_ts = np.asarray(labeled[tgt]['X_ts'][:, :dims].todense())\n",
    "            y_ts = np.asarray(labeled[tgt]['y_ts'].todense()).argmax(axis=1)\n",
    "            \n",
    "            # se crean las rutas para cargar o crear los modelos\n",
    "            #model_name = \"%s_%s_%s.pkl\" % (tipo,src, tgt)\n",
    "            model_name = \"indomain_%s.pkl\" % (tgt)\n",
    "            model_path = os.path.join(models_path, dataset_name, model_name)\n",
    "            \n",
    "            #Se realiza una clasificacion, estimando los parametros mediante cv\n",
    "            svc = load_best_score(model_path, X_tr, y_tr)\n",
    "            b_error = 1-svc.score(X_ts, y_ts)\n",
    "            \n",
    "            #transfer error\n",
    "            #entrenado en dominio src y probado en dominio tgt adaptados\n",
    "            X_tr_a = adapted[src]['X_tr']\n",
    "            y_tr = np.asarray(labeled[src]['y_tr'].todense()).argmax(axis=1)\n",
    "            \n",
    "            X_ts_a = adapted[tgt]['X_ts']\n",
    "            y_ts = np.asarray(labeled[tgt]['y_ts'].todense()).argmax(axis=1)\n",
    "            \n",
    "            svc_a = SVC(kernel='linear')\n",
    "            svc_a = svc_a.fit(X_tr_a, y_tr)\n",
    "            \n",
    "            t_error = 1-svc_a.score(X_ts_a, y_ts)\n",
    "            \n",
    "            # transfer loss t\n",
    "            # t_error - b_error\n",
    "            t_loss = t_error - b_error\n",
    "            \n",
    "            tarea = src[0]+'->'+tgt[0]\n",
    "            df.loc[i] = ['SDA',tarea,src,tgt,b_error*100,t_error*100, t_loss*100]\n",
    "            i+=1\n",
    "\n",
    "print \"Pruebas completadas.\""
   ]
  },
  {
   "cell_type": "code",
   "execution_count": 9,
   "metadata": {},
   "outputs": [
    {
     "data": {
      "text/html": [
       "<div>\n",
       "<style>\n",
       "    .dataframe thead tr:only-child th {\n",
       "        text-align: right;\n",
       "    }\n",
       "\n",
       "    .dataframe thead th {\n",
       "        text-align: left;\n",
       "    }\n",
       "\n",
       "    .dataframe tbody tr th {\n",
       "        vertical-align: top;\n",
       "    }\n",
       "</style>\n",
       "<table border=\"1\" class=\"dataframe\">\n",
       "  <thead>\n",
       "    <tr style=\"text-align: right;\">\n",
       "      <th></th>\n",
       "      <th>Adaptacion</th>\n",
       "      <th>Tarea</th>\n",
       "      <th>Fuente</th>\n",
       "      <th>Objetivo</th>\n",
       "      <th>Baseline error</th>\n",
       "      <th>Transfer error</th>\n",
       "      <th>Transfer loss</th>\n",
       "    </tr>\n",
       "  </thead>\n",
       "  <tbody>\n",
       "    <tr>\n",
       "      <th>0</th>\n",
       "      <td>SDA</td>\n",
       "      <td>r-&gt;t</td>\n",
       "      <td>rio2016</td>\n",
       "      <td>thevoice</td>\n",
       "      <td>16.081594</td>\n",
       "      <td>28.461538</td>\n",
       "      <td>12.379945</td>\n",
       "    </tr>\n",
       "    <tr>\n",
       "      <th>1</th>\n",
       "      <td>SDA</td>\n",
       "      <td>t-&gt;r</td>\n",
       "      <td>thevoice</td>\n",
       "      <td>rio2016</td>\n",
       "      <td>20.687361</td>\n",
       "      <td>25.000000</td>\n",
       "      <td>4.312639</td>\n",
       "    </tr>\n",
       "  </tbody>\n",
       "</table>\n",
       "</div>"
      ],
      "text/plain": [
       "  Adaptacion Tarea    Fuente  Objetivo  Baseline error  Transfer error  \\\n",
       "0        SDA  r->t   rio2016  thevoice       16.081594       28.461538   \n",
       "1        SDA  t->r  thevoice   rio2016       20.687361       25.000000   \n",
       "\n",
       "   Transfer loss  \n",
       "0      12.379945  \n",
       "1       4.312639  "
      ]
     },
     "execution_count": 9,
     "metadata": {},
     "output_type": "execute_result"
    }
   ],
   "source": [
    "df"
   ]
  },
  {
   "cell_type": "code",
   "execution_count": 10,
   "metadata": {},
   "outputs": [
    {
     "name": "stdout",
     "output_type": "stream",
     "text": [
      "Guardando en scores/msda/twitter.csv\n",
      "Resultados guardados.\n"
     ]
    }
   ],
   "source": [
    "new_scores_path = os.path.join(scores_path, tipo, dataset_name+\".csv\")\n",
    "\n",
    "print \"Guardando en %s\" % new_scores_path\n",
    "df.to_csv(new_scores_path, columns=df.columns)\n",
    "print \"Resultados guardados.\"\n"
   ]
  }
 ],
 "metadata": {
  "kernelspec": {
   "display_name": "Python 2",
   "language": "python",
   "name": "python2"
  },
  "language_info": {
   "codemirror_mode": {
    "name": "ipython",
    "version": 2
   },
   "file_extension": ".py",
   "mimetype": "text/x-python",
   "name": "python",
   "nbconvert_exporter": "python",
   "pygments_lexer": "ipython2",
   "version": "2.7.13"
  }
 },
 "nbformat": 4,
 "nbformat_minor": 2
}
