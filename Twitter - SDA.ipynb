{
 "cells": [
  {
   "cell_type": "code",
   "execution_count": 1,
   "metadata": {
    "scrolled": false
   },
   "outputs": [],
   "source": [
    "%load_ext autoreload\n",
    "%autoreload 2"
   ]
  },
  {
   "cell_type": "code",
   "execution_count": 2,
   "metadata": {
    "scrolled": false
   },
   "outputs": [
    {
     "name": "stderr",
     "output_type": "stream",
     "text": [
      "Using Theano backend.\n",
      "/home/ubuntu/anaconda2/envs/env_memoria/lib/python2.7/site-packages/sklearn/cross_validation.py:44: DeprecationWarning: This module was deprecated in version 0.18 in favor of the model_selection module into which all the refactored classes and functions are moved. Also note that the interface of the new CV iterators are different from that of this module. This module will be removed in 0.20.\n",
      "  \"This module will be removed in 0.20.\", DeprecationWarning)\n",
      "/home/ubuntu/anaconda2/envs/env_memoria/lib/python2.7/site-packages/sklearn/grid_search.py:43: DeprecationWarning: This module was deprecated in version 0.18 in favor of the model_selection module into which all the refactored classes and functions are moved. This module will be removed in 0.20.\n",
      "  DeprecationWarning)\n"
     ]
    }
   ],
   "source": [
    "#carga de datasets\n",
    "from utils.DatasetStorage import Dataset\n",
    "from utils.paths import *\n",
    "\n",
    "#clasificadores\n",
    "from utils.clasificacion import *\n",
    "\n",
    "#adaptacion\n",
    "from utils.adaptacion import *\n",
    "from keras.models import load_model\n",
    "\n",
    "\n",
    "import os\n",
    "import time\n",
    "import pandas as pd\n",
    "import numpy as np\n",
    "from sklearn.externals import joblib\n",
    "\n",
    "#variables para guardar los resultados\n",
    "tipo = pruebas[4]\n",
    "dataset_name = datasets[1]\n",
    "dims = dimensions[dataset_name]"
   ]
  },
  {
   "cell_type": "markdown",
   "metadata": {
    "collapsed": true
   },
   "source": [
    "# Dataset de Twitter"
   ]
  },
  {
   "cell_type": "code",
   "execution_count": 3,
   "metadata": {
    "scrolled": false
   },
   "outputs": [
    {
     "name": "stdout",
     "output_type": "stream",
     "text": [
      "sda\n",
      "twitter\n",
      "data\n",
      "1000\n"
     ]
    }
   ],
   "source": [
    "print tipo\n",
    "print dataset_name\n",
    "print data_path\n",
    "print dims"
   ]
  },
  {
   "cell_type": "code",
   "execution_count": 4,
   "metadata": {
    "scrolled": false
   },
   "outputs": [
    {
     "name": "stdout",
     "output_type": "stream",
     "text": [
      "Dataset already splitted\n"
     ]
    }
   ],
   "source": [
    "# cargando dataset de Twitter\n",
    "dataset_path = os.path.join(data_path, dataset_name+'.pkl')\n",
    "dataset_object = Dataset().load(dataset_path)\n",
    "\n",
    "dataset_object.split_dataset(test_size=0.2)\n",
    "\n",
    "labeled = dataset_object.labeled\n",
    "domains = dataset_object.domains"
   ]
  },
  {
   "cell_type": "code",
   "execution_count": 5,
   "metadata": {
    "scrolled": false
   },
   "outputs": [
    {
     "name": "stdout",
     "output_type": "stream",
     "text": [
      "Todos los datos disponibles obtenidos\n"
     ]
    }
   ],
   "source": [
    "# se obtienen todos los valores X disponibles para realizar adaptacion\n",
    "X = dataset_object.get_all_X()\n",
    "X = np.asarray(X)\n",
    "\n",
    "print \"Todos los datos disponibles obtenidos\""
   ]
  },
  {
   "cell_type": "code",
   "execution_count": 6,
   "metadata": {
    "scrolled": false
   },
   "outputs": [
    {
     "name": "stdout",
     "output_type": "stream",
     "text": [
      "Creando modelos de adaptacion...\n",
      "pr: 0.500 - epochs: 50 - layers: [500]\n",
      "\tEntrenando autoencoder...\n",
      "\tGuardando autoencoder en models/sda/twitter_ae_0.h5\n",
      "\tGuardando encoder en models/sda/twitter_e_0.h5\n",
      "pr: 0.500 - epochs: 100 - layers: [500]\n",
      "\tEntrenando autoencoder...\n",
      "\tGuardando autoencoder en models/sda/twitter_ae_1.h5\n",
      "\tGuardando encoder en models/sda/twitter_e_1.h5\n",
      "pr: 0.500 - epochs: 250 - layers: [500]\n",
      "\tEntrenando autoencoder...\n",
      "\tGuardando autoencoder en models/sda/twitter_ae_2.h5\n",
      "\tGuardando encoder en models/sda/twitter_e_2.h5\n",
      "pr: 0.500 - epochs: 50 - layers: [500, 250]\n",
      "\tEntrenando autoencoder...\n",
      "\tGuardando autoencoder en models/sda/twitter_ae_3.h5\n",
      "\tGuardando encoder en models/sda/twitter_e_3.h5\n",
      "pr: 0.500 - epochs: 100 - layers: [500, 250]\n",
      "\tEntrenando autoencoder...\n",
      "\tGuardando autoencoder en models/sda/twitter_ae_4.h5\n",
      "\tGuardando encoder en models/sda/twitter_e_4.h5\n",
      "pr: 0.500 - epochs: 250 - layers: [500, 250]\n",
      "\tEntrenando autoencoder...\n",
      "\tGuardando autoencoder en models/sda/twitter_ae_5.h5\n",
      "\tGuardando encoder en models/sda/twitter_e_5.h5\n",
      "pr: 0.500 - epochs: 50 - layers: [500, 250, 200]\n",
      "\tEntrenando autoencoder...\n",
      "\tGuardando autoencoder en models/sda/twitter_ae_6.h5\n",
      "\tGuardando encoder en models/sda/twitter_e_6.h5\n",
      "pr: 0.500 - epochs: 100 - layers: [500, 250, 200]\n",
      "\tEntrenando autoencoder...\n",
      "\tGuardando autoencoder en models/sda/twitter_ae_7.h5\n",
      "\tGuardando encoder en models/sda/twitter_e_7.h5\n",
      "pr: 0.500 - epochs: 250 - layers: [500, 250, 200]\n",
      "\tEntrenando autoencoder...\n",
      "\tGuardando autoencoder en models/sda/twitter_ae_8.h5\n",
      "\tGuardando encoder en models/sda/twitter_e_8.h5\n",
      "pr: 0.800 - epochs: 50 - layers: [500]\n",
      "\tEntrenando autoencoder...\n",
      "\tGuardando autoencoder en models/sda/twitter_ae_9.h5\n",
      "\tGuardando encoder en models/sda/twitter_e_9.h5\n",
      "pr: 0.800 - epochs: 100 - layers: [500]\n",
      "\tEntrenando autoencoder...\n",
      "\tGuardando autoencoder en models/sda/twitter_ae_10.h5\n",
      "\tGuardando encoder en models/sda/twitter_e_10.h5\n",
      "pr: 0.800 - epochs: 250 - layers: [500]\n",
      "\tEntrenando autoencoder...\n",
      "\tGuardando autoencoder en models/sda/twitter_ae_11.h5\n",
      "\tGuardando encoder en models/sda/twitter_e_11.h5\n",
      "pr: 0.800 - epochs: 50 - layers: [500, 250]\n",
      "\tEntrenando autoencoder...\n",
      "\tGuardando autoencoder en models/sda/twitter_ae_12.h5\n",
      "\tGuardando encoder en models/sda/twitter_e_12.h5\n",
      "pr: 0.800 - epochs: 100 - layers: [500, 250]\n",
      "\tEntrenando autoencoder...\n",
      "\tGuardando autoencoder en models/sda/twitter_ae_13.h5\n",
      "\tGuardando encoder en models/sda/twitter_e_13.h5\n",
      "pr: 0.800 - epochs: 250 - layers: [500, 250]\n",
      "\tEntrenando autoencoder...\n",
      "\tGuardando autoencoder en models/sda/twitter_ae_14.h5\n",
      "\tGuardando encoder en models/sda/twitter_e_14.h5\n",
      "pr: 0.800 - epochs: 50 - layers: [500, 250, 200]\n",
      "\tEntrenando autoencoder...\n",
      "\tGuardando autoencoder en models/sda/twitter_ae_15.h5\n",
      "\tGuardando encoder en models/sda/twitter_e_15.h5\n",
      "pr: 0.800 - epochs: 100 - layers: [500, 250, 200]\n",
      "\tEntrenando autoencoder...\n",
      "\tGuardando autoencoder en models/sda/twitter_ae_16.h5\n",
      "\tGuardando encoder en models/sda/twitter_e_16.h5\n",
      "pr: 0.800 - epochs: 250 - layers: [500, 250, 200]\n",
      "\tEntrenando autoencoder...\n",
      "\tGuardando autoencoder en models/sda/twitter_ae_17.h5\n",
      "\tGuardando encoder en models/sda/twitter_e_17.h5\n",
      "Modelos creados.\n",
      "\n",
      "Guardando rutas en models/sda/twitter_paths.pkl\n"
     ]
    }
   ],
   "source": [
    "sda_paths = os.path.join(models_path, tipo, \"%s_paths.pkl\" % dataset_name)\n",
    "\n",
    "if os.path.exists(sda_paths):\n",
    "    print \"Cargando rutas de modelos adaptados.\"\n",
    "    saved_paths = joblib.load(sda_paths)\n",
    "else:\n",
    "    print \"Creando modelos de adaptacion...\"\n",
    "\n",
    "    noises = [0.5, 0.8]\n",
    "    layers = [[int(dims/2)], [int(dims/2), int(dims/4)], [int(dims/2), int(dims/4), int(dims/5)]]\n",
    "    epochs = [50, 100, 250]\n",
    "\n",
    "    parametros = {\n",
    "        'noise': noises,\n",
    "        'layers': layers,\n",
    "        'epochs': epochs,\n",
    "    }\n",
    "    \n",
    "    saved_paths = sda_pseudo_grid_search(X, parametros, models_path, tipo, dataset_name)\n",
    "\n",
    "    print \"Modelos creados.\\n\"\n",
    "    \n",
    "    joblib.dump(saved_paths, sda_paths)\n",
    "    print \"Guardando rutas en %s\" % sda_paths"
   ]
  },
  {
   "cell_type": "code",
   "execution_count": 7,
   "metadata": {
    "scrolled": false
   },
   "outputs": [
    {
     "data": {
      "text/plain": [
       "[{'autoencoder': 'models/sda/twitter_ae_0.h5',\n",
       "  'encoder': 'models/sda/twitter_e_0.h5'},\n",
       " {'autoencoder': 'models/sda/twitter_ae_1.h5',\n",
       "  'encoder': 'models/sda/twitter_e_1.h5'},\n",
       " {'autoencoder': 'models/sda/twitter_ae_2.h5',\n",
       "  'encoder': 'models/sda/twitter_e_2.h5'},\n",
       " {'autoencoder': 'models/sda/twitter_ae_3.h5',\n",
       "  'encoder': 'models/sda/twitter_e_3.h5'},\n",
       " {'autoencoder': 'models/sda/twitter_ae_4.h5',\n",
       "  'encoder': 'models/sda/twitter_e_4.h5'},\n",
       " {'autoencoder': 'models/sda/twitter_ae_5.h5',\n",
       "  'encoder': 'models/sda/twitter_e_5.h5'},\n",
       " {'autoencoder': 'models/sda/twitter_ae_6.h5',\n",
       "  'encoder': 'models/sda/twitter_e_6.h5'},\n",
       " {'autoencoder': 'models/sda/twitter_ae_7.h5',\n",
       "  'encoder': 'models/sda/twitter_e_7.h5'},\n",
       " {'autoencoder': 'models/sda/twitter_ae_8.h5',\n",
       "  'encoder': 'models/sda/twitter_e_8.h5'},\n",
       " {'autoencoder': 'models/sda/twitter_ae_9.h5',\n",
       "  'encoder': 'models/sda/twitter_e_9.h5'},\n",
       " {'autoencoder': 'models/sda/twitter_ae_10.h5',\n",
       "  'encoder': 'models/sda/twitter_e_10.h5'},\n",
       " {'autoencoder': 'models/sda/twitter_ae_11.h5',\n",
       "  'encoder': 'models/sda/twitter_e_11.h5'},\n",
       " {'autoencoder': 'models/sda/twitter_ae_12.h5',\n",
       "  'encoder': 'models/sda/twitter_e_12.h5'},\n",
       " {'autoencoder': 'models/sda/twitter_ae_13.h5',\n",
       "  'encoder': 'models/sda/twitter_e_13.h5'},\n",
       " {'autoencoder': 'models/sda/twitter_ae_14.h5',\n",
       "  'encoder': 'models/sda/twitter_e_14.h5'},\n",
       " {'autoencoder': 'models/sda/twitter_ae_15.h5',\n",
       "  'encoder': 'models/sda/twitter_e_15.h5'},\n",
       " {'autoencoder': 'models/sda/twitter_ae_16.h5',\n",
       "  'encoder': 'models/sda/twitter_e_16.h5'},\n",
       " {'autoencoder': 'models/sda/twitter_ae_17.h5',\n",
       "  'encoder': 'models/sda/twitter_e_17.h5'}]"
      ]
     },
     "execution_count": 7,
     "metadata": {},
     "output_type": "execute_result"
    }
   ],
   "source": [
    "saved_paths"
   ]
  },
  {
   "cell_type": "code",
   "execution_count": 8,
   "metadata": {
    "scrolled": false
   },
   "outputs": [
    {
     "name": "stdout",
     "output_type": "stream",
     "text": [
      "Obteniendo mejor clasificador para rio2016...\n"
     ]
    },
    {
     "name": "stderr",
     "output_type": "stream",
     "text": [
      "/home/ubuntu/anaconda2/envs/env_memoria/lib/python2.7/site-packages/keras/models.py:240: UserWarning: No training configuration found in save file: the model was *not* compiled. Compile it manually.\n",
      "  warnings.warn('No training configuration found in save file: '\n"
     ]
    },
    {
     "name": "stdout",
     "output_type": "stream",
     "text": [
      "1 - score: 0.7947\n",
      "2 - score: 0.7927\n",
      "3 - score: 0.8100\n"
     ]
    },
    {
     "name": "stderr",
     "output_type": "stream",
     "text": [
      "/home/ubuntu/anaconda2/envs/env_memoria/lib/python2.7/site-packages/sklearn/metrics/classification.py:1113: UndefinedMetricWarning: Precision is ill-defined and being set to 0.0 in labels with no predicted samples.\n",
      "  'precision', 'predicted', average, warn_for)\n"
     ]
    },
    {
     "name": "stdout",
     "output_type": "stream",
     "text": [
      "4 - score: 0.7748\n",
      "5 - score: 0.8033\n",
      "6 - score: 0.7796\n",
      "7 - score: 0.7313\n",
      "8 - score: 0.7458\n",
      "9 - score: 0.7674\n",
      "10 - score: 0.7931\n",
      "11 - score: 0.7864\n",
      "12 - score: 0.8004\n",
      "13 - score: 0.7630\n",
      "14 - score: 0.7508\n",
      "15 - score: 0.7218\n",
      "16 - score: 0.7629\n",
      "17 - score: 0.7458\n",
      "18 - score: 0.7078\n",
      "Guardando en models/sda/twitter_rio2016_encoder.pkl\n",
      "Obteniendo mejor clasificador para thevoice...\n",
      "1 - score: 0.7956\n",
      "2 - score: 0.8010\n",
      "3 - score: 0.8050\n",
      "4 - score: 0.7540\n",
      "5 - score: 0.7580\n",
      "6 - score: 0.7643\n",
      "7 - score: 0.7328\n",
      "8 - score: 0.7138\n",
      "9 - score: 0.7130\n",
      "10 - score: 0.7889\n",
      "11 - score: 0.7941\n",
      "12 - score: 0.7815\n",
      "13 - score: 0.7511\n",
      "14 - score: 0.7492\n",
      "15 - score: 0.7495\n",
      "16 - score: 0.7542\n",
      "17 - score: 0.7180\n",
      "18 - score: 0.7268\n",
      "Guardando en models/sda/twitter_thevoice_encoder.pkl\n",
      "Guardando rutas en models/sda/best_twitter_paths.pkl\n"
     ]
    }
   ],
   "source": [
    "best_sda_paths = os.path.join(models_path, tipo, \"best_%s_paths.pkl\" % dataset_name )\n",
    "if os.path.exists(best_sda_paths):\n",
    "    #se cargan las rutas de los modelos guardados\n",
    "    domain_sda_paths = joblib.load(best_sda_paths)   \n",
    "else:\n",
    "    domain_sda_paths = []\n",
    "    #por cada dominio\n",
    "    for domain in domains:\n",
    "        #por cada modelo\n",
    "        print \"Obteniendo mejor clasificador para %s...\" % domain\n",
    "        \n",
    "        i = 1\n",
    "        best_score = 0\n",
    "        best_encoder = None\n",
    "        \n",
    "        for temp_path in saved_paths:\n",
    "            #autoencoder = load_model(temp_path['autoencoder'])\n",
    "            encoder = load_model(temp_path['encoder'])\n",
    "\n",
    "        \n",
    "            X_tr = np.asarray(labeled[domain]['X_tr'].todense())\n",
    "            y_tr = np.asarray(labeled[domain]['y_tr'].todense()).argmax(axis=1)\n",
    "            \n",
    "            X_ts = np.asarray(labeled[domain]['X_ts'].todense())\n",
    "            \n",
    "            #se adapta el dominio segun el modelo\n",
    "            X_deep = encoder.predict(X_tr)\n",
    "\n",
    "            #se crea un clasificador y se obtiene su score\n",
    "            new_clf = get_best_score(X_deep, y_tr, clasifier='SVC')\n",
    "            new_score = new_clf.best_score_\n",
    "            \n",
    "            print \"%d - score: %.4f\" % (i, new_score)\n",
    "            # se guarda si es el mejor para el modelo\n",
    "            if new_score > best_score:\n",
    "                best_score = new_score\n",
    "                best_encoder = encoder\n",
    "                \n",
    "            i= i+1\n",
    "            \n",
    "        best_encoder_path = os.path.join(models_path, tipo, \"%s_%s_encoder.pkl\" % (dataset_name, domain))\n",
    "        print \"Guardando en %s\" % best_encoder_path\n",
    "        encoder.save(best_encoder_path)\n",
    "        \n",
    "        domain_sda_paths.append(best_encoder_path)\n",
    "        \n",
    "    print \"Guardando rutas en %s\" % best_sda_paths\n",
    "    joblib.dump(domain_sda_paths, best_sda_paths)"
   ]
  },
  {
   "cell_type": "code",
   "execution_count": 9,
   "metadata": {
    "scrolled": false
   },
   "outputs": [
    {
     "data": {
      "text/plain": [
       "['models/sda/twitter_rio2016_encoder.pkl',\n",
       " 'models/sda/twitter_thevoice_encoder.pkl']"
      ]
     },
     "execution_count": 9,
     "metadata": {},
     "output_type": "execute_result"
    }
   ],
   "source": [
    "domain_sda_paths"
   ]
  },
  {
   "cell_type": "code",
   "execution_count": 10,
   "metadata": {
    "scrolled": false
   },
   "outputs": [
    {
     "name": "stdout",
     "output_type": "stream",
     "text": [
      "Cargando mejor modelo para rio2016\n",
      "Adaptando dominio\n",
      "Cargando mejor modelo para thevoice\n",
      "Adaptando dominio\n",
      "2/2 dominios adaptados\n"
     ]
    }
   ],
   "source": [
    "#diccionario para mantener los dominios adaptados\n",
    "adapted = {}\n",
    "\n",
    "i = 0\n",
    "for domain in domains:\n",
    "    best_sda_path = os.path.join(models_path, tipo, \"%s_%s_encoder.pkl\" % (dataset_name, domain))\n",
    "    \n",
    "    if os.path.exists(best_sda_path):\n",
    "        print \"Cargando mejor modelo para %s\" % domain\n",
    "        encoder = load_model(best_sda_path)\n",
    "        \n",
    "        print \"Adaptando dominio\"\n",
    "        X_tr = np.asarray(labeled[domain]['X_tr'].todense())\n",
    "        X_ts = np.asarray(labeled[domain]['X_ts'].todense())\n",
    "        \n",
    "        \n",
    "        tr_reps = encoder.predict(X_tr)\n",
    "        ts_reps = encoder.predict(X_ts)\n",
    "\n",
    "        adapted[domain] = {\n",
    "            'X_tr': tr_reps,\n",
    "            'X_ts': ts_reps\n",
    "        }\n",
    "        \n",
    "        i = i+1\n",
    "    else:\n",
    "        print \"Generar mejor modelo para %s\" % domain\n",
    "        \n",
    "print \"%d/%d dominios adaptados\" % (i, len(domains))"
   ]
  },
  {
   "cell_type": "code",
   "execution_count": 11,
   "metadata": {
    "scrolled": false
   },
   "outputs": [
    {
     "name": "stdout",
     "output_type": "stream",
     "text": [
      "Tarea 1 de 2\n",
      "Cargando modelo existente.\n",
      "Entrenando clasificador adaptado.\n",
      "Tarea 2 de 2\n",
      "Cargando modelo existente.\n",
      "Entrenando clasificador adaptado.\n",
      "Pruebas completadas.\n"
     ]
    }
   ],
   "source": [
    "df = pd.DataFrame(columns=dataframe_columns)\n",
    "\n",
    "i = 0\n",
    "# por cada par posible para adaptar\n",
    "for src in domains:\n",
    "    for tgt in domains:\n",
    "        if src is not tgt:\n",
    "            print \"Tarea %d de 2\" % (i+1)\n",
    "            \n",
    "            #baseline in-domain error\n",
    "            #e_b(T,T)\n",
    "            #entrenado en dominio tgt y probado en dominio tgt\n",
    "            X_tr = np.asarray(labeled[tgt]['X_tr'][:, :dims].todense())\n",
    "            y_tr = np.asarray(labeled[tgt]['y_tr'].todense()).argmax(axis=1)\n",
    "            \n",
    "            X_ts = np.asarray(labeled[tgt]['X_ts'][:, :dims].todense())\n",
    "            y_ts = np.asarray(labeled[tgt]['y_ts'].todense()).argmax(axis=1)\n",
    "            \n",
    "            # se crean las rutas para cargar o crear los modelos\n",
    "            #model_name = \"%s_%s_%s.pkl\" % (tipo,src, tgt)\n",
    "            model_name = \"indomain_%s.pkl\" % (tgt)\n",
    "            model_path = os.path.join(models_path, dataset_name, model_name)\n",
    "            \n",
    "            #Se realiza una clasificacion, estimando los parametros mediante cv\n",
    "            svc = load_best_score(model_path, X_tr, y_tr)\n",
    "            b_error = 1-svc.score(X_ts, y_ts)\n",
    "            \n",
    "            #transfer error\n",
    "            #entrenado en dominio src y probado en dominio tgt adaptados\n",
    "            X_tr_a = adapted[src]['X_tr']\n",
    "            y_tr = np.asarray(labeled[src]['y_tr'].todense()).argmax(axis=1)\n",
    "            \n",
    "            X_ts_a = adapted[tgt]['X_ts']\n",
    "            y_ts = np.asarray(labeled[tgt]['y_ts'].todense()).argmax(axis=1)\n",
    "            \n",
    "            print \"Entrenando clasificador adaptado.\"\n",
    "            svc_a = get_best_score(X_tr_a, y_tr)\n",
    "            \n",
    "            t_error = 1-svc_a.score(X_ts_a, y_ts)\n",
    "            \n",
    "            # transfer loss t\n",
    "            # t_error - b_error\n",
    "            t_loss = t_error - b_error\n",
    "            \n",
    "            tarea = src[0]+'->'+tgt[0]\n",
    "            df.loc[i] = ['SDA',tarea,src,tgt,b_error*100,t_error*100, t_loss*100]\n",
    "            i+=1\n",
    "\n",
    "print \"Pruebas completadas.\""
   ]
  },
  {
   "cell_type": "code",
   "execution_count": 12,
   "metadata": {
    "scrolled": false
   },
   "outputs": [
    {
     "data": {
      "text/html": [
       "<div>\n",
       "<style>\n",
       "    .dataframe thead tr:only-child th {\n",
       "        text-align: right;\n",
       "    }\n",
       "\n",
       "    .dataframe thead th {\n",
       "        text-align: left;\n",
       "    }\n",
       "\n",
       "    .dataframe tbody tr th {\n",
       "        vertical-align: top;\n",
       "    }\n",
       "</style>\n",
       "<table border=\"1\" class=\"dataframe\">\n",
       "  <thead>\n",
       "    <tr style=\"text-align: right;\">\n",
       "      <th></th>\n",
       "      <th>Adaptacion</th>\n",
       "      <th>Tarea</th>\n",
       "      <th>Fuente</th>\n",
       "      <th>Objetivo</th>\n",
       "      <th>Baseline error</th>\n",
       "      <th>Transfer error</th>\n",
       "      <th>Transfer loss</th>\n",
       "    </tr>\n",
       "  </thead>\n",
       "  <tbody>\n",
       "    <tr>\n",
       "      <th>0</th>\n",
       "      <td>SDA</td>\n",
       "      <td>r-&gt;t</td>\n",
       "      <td>rio2016</td>\n",
       "      <td>thevoice</td>\n",
       "      <td>15.351812</td>\n",
       "      <td>31.878788</td>\n",
       "      <td>16.526976</td>\n",
       "    </tr>\n",
       "    <tr>\n",
       "      <th>1</th>\n",
       "      <td>SDA</td>\n",
       "      <td>t-&gt;r</td>\n",
       "      <td>thevoice</td>\n",
       "      <td>rio2016</td>\n",
       "      <td>19.642857</td>\n",
       "      <td>38.430913</td>\n",
       "      <td>18.788056</td>\n",
       "    </tr>\n",
       "  </tbody>\n",
       "</table>\n",
       "</div>"
      ],
      "text/plain": [
       "  Adaptacion Tarea    Fuente  Objetivo  Baseline error  Transfer error  \\\n",
       "0        SDA  r->t   rio2016  thevoice       15.351812       31.878788   \n",
       "1        SDA  t->r  thevoice   rio2016       19.642857       38.430913   \n",
       "\n",
       "   Transfer loss  \n",
       "0      16.526976  \n",
       "1      18.788056  "
      ]
     },
     "execution_count": 12,
     "metadata": {},
     "output_type": "execute_result"
    }
   ],
   "source": [
    "df"
   ]
  },
  {
   "cell_type": "code",
   "execution_count": 13,
   "metadata": {
    "scrolled": false
   },
   "outputs": [
    {
     "name": "stdout",
     "output_type": "stream",
     "text": [
      "Guardando en scores/sda/twitter.csv\n",
      "Resultados guardados.\n"
     ]
    }
   ],
   "source": [
    "new_scores_path = os.path.join(scores_path, tipo, dataset_name+\".csv\")\n",
    "\n",
    "print \"Guardando en %s\" % new_scores_path\n",
    "df.to_csv(new_scores_path, columns=df.columns)\n",
    "print \"Resultados guardados.\"\n"
   ]
  }
 ],
 "metadata": {
  "kernelspec": {
   "display_name": "Python 2",
   "language": "python",
   "name": "python2"
  },
  "language_info": {
   "codemirror_mode": {
    "name": "ipython",
    "version": 2
   },
   "file_extension": ".py",
   "mimetype": "text/x-python",
   "name": "python",
   "nbconvert_exporter": "python",
   "pygments_lexer": "ipython2",
   "version": "2.7.13"
  }
 },
 "nbformat": 4,
 "nbformat_minor": 2
}
