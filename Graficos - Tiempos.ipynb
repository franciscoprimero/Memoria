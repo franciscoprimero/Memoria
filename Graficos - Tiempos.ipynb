{
 "cells": [
  {
   "cell_type": "code",
   "execution_count": 1,
   "metadata": {
    "collapsed": true
   },
   "outputs": [],
   "source": [
    "%load_ext autoreload\n",
    "%autoreload 2"
   ]
  },
  {
   "cell_type": "code",
   "execution_count": 2,
   "metadata": {
    "collapsed": true
   },
   "outputs": [],
   "source": [
    "%matplotlib inline\n",
    "from utils.paths import *\n",
    "\n",
    "import pandas as pd\n",
    "import matplotlib.pyplot as plt\n",
    "import os"
   ]
  },
  {
   "cell_type": "code",
   "execution_count": null,
   "metadata": {
    "collapsed": true
   },
   "outputs": [],
   "source": [
    "def get_scores_dataframe(dataset, dims, prefix=\"\"):\n",
    "    df = None\n",
    "\n",
    "    for prueba in pruebas:\n",
    "        path = os.path.join(scores_path, dataset, prueba, \"%s%d.csv\" % (prefix, dims))\n",
    "        \n",
    "        if os.path.exists(path):\n",
    "            #print path\n",
    "            if df is None:\n",
    "                df = pd.read_csv(path, sep=',', header=0)\n",
    "            else:\n",
    "                new_df = pd.read_csv(path, sep=',', header=0)\n",
    "                df = df.append(new_df, ignore_index=True)\n",
    "    \n",
    "    if df is None:\n",
    "        return pd.DataFrame(columns=dataframe_columns)\n",
    "                \n",
    "    #se dejan disponibles solamente la tarea, el tipo de adaptacion y el error\n",
    "    df_a = df[['Adaptacion', 'Tarea', 'Transfer loss']]\n",
    "    \n",
    "    # se manipula el dataframe para dejar la adaptacion como columna \n",
    "    df_a = df_a.groupby(['Tarea', 'Adaptacion'], as_index=True ).max()\n",
    "    df_a = df_a.unstack(level=1)\n",
    "    df_a.columns = df_a.columns.levels[1]\n",
    "    \n",
    "    return df_a"
   ]
  },
  {
   "cell_type": "code",
   "execution_count": null,
   "metadata": {
    "collapsed": true
   },
   "outputs": [],
   "source": [
    "def get_comparison_dataframe(dataset, dims, method):\n",
    "    df = None\n",
    "\n",
    "    for prefix in [\"me1_\", \"me2_\"]:\n",
    "        path = os.path.join(scores_path, dataset, method, \"%s%d.csv\" % (prefix, dims))\n",
    "        \n",
    "        if os.path.exists(path):\n",
    "            if df is None:\n",
    "                df = pd.read_csv(path, sep=',', header=0)\n",
    "                \n",
    "                if prefix == \"me1_\":\n",
    "                    df['Adaptacion'] = df['Adaptacion'] + \" (ME1)\"\n",
    "                elif prefix is \"me2_\":\n",
    "                    df['Adaptacion'] = df['Adaptacion'] + \" (ME2)\"\n",
    "                \n",
    "            else:\n",
    "                new_df = pd.read_csv(path, sep=',', header=0)\n",
    "                \n",
    "                \n",
    "                if prefix == \"me1_\":\n",
    "                    new_df['Adaptacion'] = new_df['Adaptacion'] + \" (ME1)\"\n",
    "                elif prefix is \"me2_\":\n",
    "                    new_df['Adaptacion'] = new_df['Adaptacion'] + \" (ME2)\"\n",
    "                \n",
    "                df = df.append(new_df, ignore_index=True)\n",
    "           \n",
    "    if df is None:\n",
    "        return pd.DataFrame(columns=dataframe_columns)\n",
    "                \n",
    "    #se dejan disponibles solamente la tarea, el tipo de adaptacion y el error\n",
    "    df_a = df[['Adaptacion', 'Tarea', 'Transfer loss']]\n",
    "    \n",
    "    # se manipula el dataframe para dejar la adaptacion como columna \n",
    "    df_a = df_a.groupby(['Tarea', 'Adaptacion'], as_index=True ).max()\n",
    "    df_a = df_a.unstack(level=1)\n",
    "    df_a.columns = df_a.columns.levels[1]\n",
    "    \n",
    "    return df_a"
   ]
  },
  {
   "cell_type": "code",
   "execution_count": 3,
   "metadata": {
    "collapsed": true
   },
   "outputs": [],
   "source": [
    "def get_times_dataframe(prefix=\"\"):\n",
    "    df = None\n",
    "    \n",
    "    for prueba in pruebas:\n",
    "        if prueba is not \"baseline\":\n",
    "            file_path = os.path.join(times_path, \"%s%s.csv\" % (prefix, prueba))\n",
    "            \n",
    "            if os.path.exists(file_path):\n",
    "                if df is None:\n",
    "                    df = pd.read_csv(file_path, sep=',', header=0)\n",
    "                else:\n",
    "                    new_df = pd.read_csv(file_path, sep=',', header=0)\n",
    "                    df = df.append(new_df, ignore_index=True)\n",
    "    \n",
    "    if df is None:\n",
    "        return pd.DataFrame(columns=dataframe_time_columns)\n",
    "    \n",
    "    return df[dataframe_time_columns]"
   ]
  },
  {
   "cell_type": "markdown",
   "metadata": {},
   "source": [
    "# Dataset Amazon\n",
    "\n",
    "### El dataset Amazon posee las siguientes características:\n",
    "\n",
    "| Dominio     | Entrenamiento | Prueba |  % Positivos  | No Etiquetados |\n",
    "|-------------|---------------|--------|---------------|----------------|\n",
    "| books       |     1600      | 400    |      50%      |      4465      |\n",
    "| dvd         |     1600      | 400    |      50%      |      5945      |\n",
    "| electronics |     1600      | 400    |      50%      |      5681      |\n",
    "| kitchen     |     1600      | 400    |      50%      |      3586      |\n"
   ]
  },
  {
   "cell_type": "markdown",
   "metadata": {},
   "source": [
    "# Gráficos de Tiempo con el dataset Amazon (3000 dimensiones)\n",
    "# Marco Experimental 1"
   ]
  },
  {
   "cell_type": "code",
   "execution_count": 4,
   "metadata": {
    "collapsed": true
   },
   "outputs": [],
   "source": [
    "dims = 3000"
   ]
  },
  {
   "cell_type": "code",
   "execution_count": 5,
   "metadata": {
    "collapsed": true
   },
   "outputs": [],
   "source": [
    "df_tiempos = get_times_dataframe(\"me1_\")"
   ]
  },
  {
   "cell_type": "code",
   "execution_count": 6,
   "metadata": {
    "collapsed": true
   },
   "outputs": [],
   "source": [
    "df_tiempos = df_tiempos.sort_values('Tiempo').reset_index()[dataframe_time_columns]\n",
    "df_tiempos.index = df_tiempos['Adaptacion']"
   ]
  },
  {
   "cell_type": "code",
   "execution_count": 7,
   "metadata": {},
   "outputs": [
    {
     "data": {
      "text/html": [
       "<div>\n",
       "<style>\n",
       "    .dataframe thead tr:only-child th {\n",
       "        text-align: right;\n",
       "    }\n",
       "\n",
       "    .dataframe thead th {\n",
       "        text-align: left;\n",
       "    }\n",
       "\n",
       "    .dataframe tbody tr th {\n",
       "        vertical-align: top;\n",
       "    }\n",
       "</style>\n",
       "<table border=\"1\" class=\"dataframe\">\n",
       "  <thead>\n",
       "    <tr style=\"text-align: right;\">\n",
       "      <th></th>\n",
       "      <th>Adaptacion</th>\n",
       "      <th>Tiempo</th>\n",
       "    </tr>\n",
       "    <tr>\n",
       "      <th>Adaptacion</th>\n",
       "      <th></th>\n",
       "      <th></th>\n",
       "    </tr>\n",
       "  </thead>\n",
       "  <tbody>\n",
       "    <tr>\n",
       "      <th>PCA (n=750)</th>\n",
       "      <td>PCA (n=750)</td>\n",
       "      <td>0.360805</td>\n",
       "    </tr>\n",
       "    <tr>\n",
       "      <th>GFK (n_dims=10)</th>\n",
       "      <td>GFK (n_dims=10)</td>\n",
       "      <td>0.655807</td>\n",
       "    </tr>\n",
       "    <tr>\n",
       "      <th>GFK (n_dims=20)</th>\n",
       "      <td>GFK (n_dims=20)</td>\n",
       "      <td>0.660452</td>\n",
       "    </tr>\n",
       "    <tr>\n",
       "      <th>GFK (n_dims=50)</th>\n",
       "      <td>GFK (n_dims=50)</td>\n",
       "      <td>0.664512</td>\n",
       "    </tr>\n",
       "    <tr>\n",
       "      <th>PCA (n=1500)</th>\n",
       "      <td>PCA (n=1500)</td>\n",
       "      <td>0.751653</td>\n",
       "    </tr>\n",
       "    <tr>\n",
       "      <th>mSDA (l=1)</th>\n",
       "      <td>mSDA (l=1)</td>\n",
       "      <td>2.368892</td>\n",
       "    </tr>\n",
       "    <tr>\n",
       "      <th>SDA (l=1, epochs=25)</th>\n",
       "      <td>SDA (l=1, epochs=25)</td>\n",
       "      <td>7.076742</td>\n",
       "    </tr>\n",
       "    <tr>\n",
       "      <th>mSDA (l=3)</th>\n",
       "      <td>mSDA (l=3)</td>\n",
       "      <td>7.107120</td>\n",
       "    </tr>\n",
       "    <tr>\n",
       "      <th>mSDA (l=5)</th>\n",
       "      <td>mSDA (l=5)</td>\n",
       "      <td>11.863423</td>\n",
       "    </tr>\n",
       "    <tr>\n",
       "      <th>SDA (l=3, epochs=25)</th>\n",
       "      <td>SDA (l=3, epochs=25)</td>\n",
       "      <td>12.715725</td>\n",
       "    </tr>\n",
       "    <tr>\n",
       "      <th>SDA (l=1, epochs=50)</th>\n",
       "      <td>SDA (l=1, epochs=50)</td>\n",
       "      <td>13.916246</td>\n",
       "    </tr>\n",
       "    <tr>\n",
       "      <th>SDA (l=5, epochs=25)</th>\n",
       "      <td>SDA (l=5, epochs=25)</td>\n",
       "      <td>18.425558</td>\n",
       "    </tr>\n",
       "    <tr>\n",
       "      <th>SDA (l=3, epochs=50)</th>\n",
       "      <td>SDA (l=3, epochs=50)</td>\n",
       "      <td>25.310955</td>\n",
       "    </tr>\n",
       "    <tr>\n",
       "      <th>SDA (l=5, epochs=50)</th>\n",
       "      <td>SDA (l=5, epochs=50)</td>\n",
       "      <td>36.720142</td>\n",
       "    </tr>\n",
       "  </tbody>\n",
       "</table>\n",
       "</div>"
      ],
      "text/plain": [
       "                                Adaptacion     Tiempo\n",
       "Adaptacion                                           \n",
       "PCA (n=750)                    PCA (n=750)   0.360805\n",
       "GFK (n_dims=10)            GFK (n_dims=10)   0.655807\n",
       "GFK (n_dims=20)            GFK (n_dims=20)   0.660452\n",
       "GFK (n_dims=50)            GFK (n_dims=50)   0.664512\n",
       "PCA (n=1500)                  PCA (n=1500)   0.751653\n",
       "mSDA (l=1)                      mSDA (l=1)   2.368892\n",
       "SDA (l=1, epochs=25)  SDA (l=1, epochs=25)   7.076742\n",
       "mSDA (l=3)                      mSDA (l=3)   7.107120\n",
       "mSDA (l=5)                      mSDA (l=5)  11.863423\n",
       "SDA (l=3, epochs=25)  SDA (l=3, epochs=25)  12.715725\n",
       "SDA (l=1, epochs=50)  SDA (l=1, epochs=50)  13.916246\n",
       "SDA (l=5, epochs=25)  SDA (l=5, epochs=25)  18.425558\n",
       "SDA (l=3, epochs=50)  SDA (l=3, epochs=50)  25.310955\n",
       "SDA (l=5, epochs=50)  SDA (l=5, epochs=50)  36.720142"
      ]
     },
     "execution_count": 7,
     "metadata": {},
     "output_type": "execute_result"
    }
   ],
   "source": [
    "df_tiempos"
   ]
  },
  {
   "cell_type": "code",
   "execution_count": 8,
   "metadata": {},
   "outputs": [
    {
     "data": {
      "image/png": "[encoded data removed]",
      "text/plain": [
       "<matplotlib.figure.Figure at 0x7f621eded250>"
      ]
     },
     "metadata": {},
     "output_type": "display_data"
    }
   ],
   "source": [
    "colores = {\n",
    "    \"GFK\": 'blue',\n",
    "    'PCA': 'red',\n",
    "    'mSDA': 'green',\n",
    "    'SDA': 'magenta',\n",
    "}\n",
    "\n",
    "time_plot = df_tiempos.plot(style='o', figsize=(20,10), rot=65, fontsize=15, legend=False,\n",
    "                            xlim=(-1, 15), ylim=(-1, 39))\n",
    "time_plot.set_ylabel(\"Tiempo de entrenamiento [m]\", labelpad=25,fontsize=20, weight='bold')\n",
    "time_axes = time_plot.axes\n",
    "\n",
    "xaxis = time_axes.xaxis\n",
    "xaxis.set_visible(False)\n",
    "\n",
    "\n",
    "time_fig = time_plot.figure\n",
    "ax = time_fig.add_subplot(111)\n",
    "\n",
    "for i in xrange(df_tiempos.shape[0]):\n",
    "    i\n",
    "    y = df_tiempos['Tiempo'][i]\n",
    "    text = df_tiempos['Adaptacion'][i]\n",
    "    color = colores[text.split(\" \")[0]]\n",
    "    #ax.annotate(text, xy=(i, y), xytext=(i-0.5, y+0.003))\n",
    "    ax.text(i-0.7, y+0.004, text, fontsize=14, rotation=-15, color=color)\n",
    "    \n",
    "figure_path = os.path.join(graficos_path, datasets[0], \"me1_tiempos_%d.eps\" % dims)\n",
    "plt.savefig(figure_path, bbox_inches='tight')"
   ]
  },
  {
   "cell_type": "markdown",
   "metadata": {},
   "source": [
    "#  Marco Experimental 2"
   ]
  },
  {
   "cell_type": "code",
   "execution_count": 9,
   "metadata": {
    "collapsed": true
   },
   "outputs": [],
   "source": [
    "df_tiempos = get_times_dataframe(\"me2_\")"
   ]
  },
  {
   "cell_type": "code",
   "execution_count": 10,
   "metadata": {
    "collapsed": true
   },
   "outputs": [],
   "source": [
    "df_tiempos = df_tiempos.sort_values('Tiempo').reset_index()[dataframe_time_columns]\n",
    "df_tiempos.index = df_tiempos['Adaptacion']"
   ]
  },
  {
   "cell_type": "code",
   "execution_count": 11,
   "metadata": {},
   "outputs": [
    {
     "data": {
      "text/html": [
       "<div>\n",
       "<style>\n",
       "    .dataframe thead tr:only-child th {\n",
       "        text-align: right;\n",
       "    }\n",
       "\n",
       "    .dataframe thead th {\n",
       "        text-align: left;\n",
       "    }\n",
       "\n",
       "    .dataframe tbody tr th {\n",
       "        vertical-align: top;\n",
       "    }\n",
       "</style>\n",
       "<table border=\"1\" class=\"dataframe\">\n",
       "  <thead>\n",
       "    <tr style=\"text-align: right;\">\n",
       "      <th></th>\n",
       "      <th>Adaptacion</th>\n",
       "      <th>Tiempo</th>\n",
       "    </tr>\n",
       "    <tr>\n",
       "      <th>Adaptacion</th>\n",
       "      <th></th>\n",
       "      <th></th>\n",
       "    </tr>\n",
       "  </thead>\n",
       "  <tbody>\n",
       "    <tr>\n",
       "      <th>GFK (n_dims=10)</th>\n",
       "      <td>GFK (n_dims=10)</td>\n",
       "      <td>0.106289</td>\n",
       "    </tr>\n",
       "    <tr>\n",
       "      <th>GFK (n_dims=50)</th>\n",
       "      <td>GFK (n_dims=50)</td>\n",
       "      <td>0.109967</td>\n",
       "    </tr>\n",
       "    <tr>\n",
       "      <th>GFK (n_dims=100)</th>\n",
       "      <td>GFK (n_dims=100)</td>\n",
       "      <td>0.118441</td>\n",
       "    </tr>\n",
       "  </tbody>\n",
       "</table>\n",
       "</div>"
      ],
      "text/plain": [
       "                        Adaptacion    Tiempo\n",
       "Adaptacion                                  \n",
       "GFK (n_dims=10)    GFK (n_dims=10)  0.106289\n",
       "GFK (n_dims=50)    GFK (n_dims=50)  0.109967\n",
       "GFK (n_dims=100)  GFK (n_dims=100)  0.118441"
      ]
     },
     "execution_count": 11,
     "metadata": {},
     "output_type": "execute_result"
    }
   ],
   "source": [
    "df_tiempos"
   ]
  },
  {
   "cell_type": "code",
   "execution_count": 12,
   "metadata": {},
   "outputs": [
    {
     "data": {
      "image/png": "[encoded data removed]",
      "text/plain": [
       "<matplotlib.figure.Figure at 0x7f61f085ca90>"
      ]
     },
     "metadata": {},
     "output_type": "display_data"
    }
   ],
   "source": [
    "colores = {\n",
    "    \"GFK\": 'blue',\n",
    "    'PCA': 'red',\n",
    "    'mSDA': 'green',\n",
    "    'SDA': 'magenta',\n",
    "}\n",
    "\n",
    "time_plot = df_tiempos.plot(style='o', figsize=(20,10), rot=65, fontsize=15, legend=False,\n",
    "                            xlim=(-1, 15), ylim=(-1, 39))\n",
    "time_plot.set_ylabel(\"Tiempo de entrenamiento [m]\", labelpad=25,fontsize=20, weight='bold')\n",
    "time_axes = time_plot.axes\n",
    "\n",
    "xaxis = time_axes.xaxis\n",
    "xaxis.set_visible(False)\n",
    "\n",
    "\n",
    "time_fig = time_plot.figure\n",
    "ax = time_fig.add_subplot(111)\n",
    "\n",
    "for i in xrange(df_tiempos.shape[0]):\n",
    "    i\n",
    "    y = df_tiempos['Tiempo'][i]\n",
    "    text = df_tiempos['Adaptacion'][i]\n",
    "    color = colores[text.split(\" \")[0]]\n",
    "    #ax.annotate(text, xy=(i, y), xytext=(i-0.5, y+0.003))\n",
    "    ax.text(i-0.7, y+0.004, text, fontsize=14, rotation=-15, color=color)\n",
    "    \n",
    "figure_path = os.path.join(graficos_path, datasets[0], \"me2_tiempos_%d.eps\" % dims)\n",
    "plt.savefig(figure_path, bbox_inches='tight')"
   ]
  }
 ],
 "metadata": {
  "kernelspec": {
   "display_name": "Python 2",
   "language": "python",
   "name": "python2"
  },
  "language_info": {
   "codemirror_mode": {
    "name": "ipython",
    "version": 2
   },
   "file_extension": ".py",
   "mimetype": "text/x-python",
   "name": "python",
   "nbconvert_exporter": "python",
   "pygments_lexer": "ipython2",
   "version": "2.7.13"
  }
 },
 "nbformat": 4,
 "nbformat_minor": 2
}
