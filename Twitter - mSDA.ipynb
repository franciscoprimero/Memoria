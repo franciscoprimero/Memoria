{
 "cells": [
  {
   "cell_type": "code",
   "execution_count": 1,
   "metadata": {
    "collapsed": true
   },
   "outputs": [],
   "source": [
    "%load_ext autoreload\n",
    "%autoreload 2"
   ]
  },
  {
   "cell_type": "code",
   "execution_count": 2,
   "metadata": {},
   "outputs": [
    {
     "name": "stderr",
     "output_type": "stream",
     "text": [
      "Using Theano backend.\n",
      "/home/francisco/miniconda2/envs/env_memoria/lib/python2.7/site-packages/sklearn/cross_validation.py:44: DeprecationWarning: This module was deprecated in version 0.18 in favor of the model_selection module into which all the refactored classes and functions are moved. Also note that the interface of the new CV iterators are different from that of this module. This module will be removed in 0.20.\n",
      "  \"This module will be removed in 0.20.\", DeprecationWarning)\n",
      "/home/francisco/miniconda2/envs/env_memoria/lib/python2.7/site-packages/sklearn/grid_search.py:43: DeprecationWarning: This module was deprecated in version 0.18 in favor of the model_selection module into which all the refactored classes and functions are moved. This module will be removed in 0.20.\n",
      "  DeprecationWarning)\n"
     ]
    }
   ],
   "source": [
    "#carga de datasets\n",
    "from utils.DatasetStorage import Dataset\n",
    "from utils.paths import *\n",
    "\n",
    "#clasificadores\n",
    "from utils.clasificacion import *\n",
    "\n",
    "#adaptacion\n",
    "from mSDA import msda\n",
    "from utils.adaptacion import *\n",
    "\n",
    "#otros\n",
    "import os\n",
    "import numpy as np\n",
    "import pandas as pd\n",
    "from sklearn.externals import joblib\n",
    "\n",
    "tipo = pruebas[1]\n",
    "dataset_name = datasets[1]\n",
    "dims = dimensions[dataset_name]"
   ]
  },
  {
   "cell_type": "markdown",
   "metadata": {},
   "source": [
    "## Pruebas con el dataset Twitter"
   ]
  },
  {
   "cell_type": "code",
   "execution_count": 3,
   "metadata": {},
   "outputs": [
    {
     "name": "stdout",
     "output_type": "stream",
     "text": [
      "msda\n",
      "twitter\n",
      "2000\n",
      "data\n"
     ]
    }
   ],
   "source": [
    "print tipo\n",
    "print dataset_name\n",
    "print dims\n",
    "print data_path"
   ]
  },
  {
   "cell_type": "code",
   "execution_count": 4,
   "metadata": {},
   "outputs": [
    {
     "name": "stdout",
     "output_type": "stream",
     "text": [
      "Dataset already splitted\n"
     ]
    }
   ],
   "source": [
    "# cargando dataset Twitter\n",
    "dataset_path = os.path.join(data_path, dataset_name+'.pkl')\n",
    "dataset_object = Dataset().load(dataset_path)\n",
    "\n",
    "dataset_object.split_dataset(test_size=0.2)\n",
    "\n",
    "labeled = dataset_object.labeled\n",
    "domains = dataset_object.domains"
   ]
  },
  {
   "cell_type": "code",
   "execution_count": 5,
   "metadata": {},
   "outputs": [
    {
     "name": "stdout",
     "output_type": "stream",
     "text": [
      "Todos los datos disponibles obtenidos\n"
     ]
    }
   ],
   "source": [
    "# se obtienen todos los valores X disponibles para realizar adaptacion\n",
    "X = dataset_object.get_all_X()\n",
    "X = np.asarray(X)\n",
    "\n",
    "print \"Todos los datos disponibles obtenidos\""
   ]
  },
  {
   "cell_type": "markdown",
   "metadata": {},
   "source": [
    "```python\n",
    "\n",
    "saved_paths = [ruta_1,...,ruta_n]\n",
    "```"
   ]
  },
  {
   "cell_type": "code",
   "execution_count": 6,
   "metadata": {},
   "outputs": [
    {
     "name": "stdout",
     "output_type": "stream",
     "text": [
      "Creando modelos de adaptacion...\n",
      "pr: 0.300 - l: 1\n",
      "Guardando modelo en models/msda/twitter_0.pkl\n",
      "pr: 0.300 - l: 3\n",
      "Guardando modelo en models/msda/twitter_1.pkl\n",
      "pr: 0.300 - l: 5\n",
      "Guardando modelo en models/msda/twitter_2.pkl\n",
      "pr: 0.500 - l: 1\n",
      "Guardando modelo en models/msda/twitter_3.pkl\n",
      "pr: 0.500 - l: 3\n",
      "Guardando modelo en models/msda/twitter_4.pkl\n",
      "pr: 0.500 - l: 5\n",
      "Guardando modelo en models/msda/twitter_5.pkl\n",
      "pr: 0.800 - l: 1\n",
      "Guardando modelo en models/msda/twitter_6.pkl\n",
      "pr: 0.800 - l: 3\n",
      "Guardando modelo en models/msda/twitter_7.pkl\n",
      "pr: 0.800 - l: 5\n",
      "Guardando modelo en models/msda/twitter_8.pkl\n",
      "Modelos creados.\n",
      "\n",
      "Guardando rutas en models/msda/twitter_paths.pkl\n",
      "\n",
      "Creacion de modelos terminada.\n",
      "\n",
      "CPU times: user 49.8 s, sys: 764 ms, total: 50.6 s\n",
      "Wall time: 30.4 s\n"
     ]
    }
   ],
   "source": [
    "%%time\n",
    "\n",
    "msda_paths = os.path.join(models_path, tipo, \"%s_paths.pkl\" % dataset_name)\n",
    "\n",
    "if os.path.exists(msda_paths):\n",
    "    print \"Cargando rutas de modelos adaptados.\"\n",
    "    saved_paths = joblib.load(msda_paths)\n",
    "else:\n",
    "    print \"Creando modelos de adaptacion...\"\n",
    "\n",
    "    noises = [0.3, 0.5, 0.8]\n",
    "    layers_sizes = [1, 3, 5]\n",
    "\n",
    "    parametros = {\n",
    "        'noises': noises,\n",
    "        'layers': layers_sizes\n",
    "    }\n",
    "\n",
    "\n",
    "    saved_paths = msda_pseudo_grid_search(X.transpose(), parametros, models_path, tipo, dataset_name)\n",
    "\n",
    "    print \"Modelos creados.\\n\"\n",
    "    \n",
    "    joblib.dump(saved_paths, msda_paths)\n",
    "    print \"Guardando rutas en %s\" % msda_paths\n",
    "\n",
    "print \"\\nCreacion de modelos terminada.\\n\""
   ]
  },
  {
   "cell_type": "markdown",
   "metadata": {},
   "source": [
    "```python\n",
    "domain_msda_paths = [ruta_1,...,ruta_n]\n",
    "```"
   ]
  },
  {
   "cell_type": "code",
   "execution_count": 7,
   "metadata": {},
   "outputs": [
    {
     "name": "stdout",
     "output_type": "stream",
     "text": [
      "Obteniendo mejor clasificador para rio2016\n",
      "l=1, pr=0.300  score: 0.8447\n",
      "l=3, pr=0.300  score: 0.8500\n",
      "l=5, pr=0.300  score: 0.8395\n",
      "l=1, pr=0.500  score: 0.8526\n",
      "l=3, pr=0.500  score: 0.8289\n",
      "l=5, pr=0.500  score: 0.8316\n",
      "l=1, pr=0.800  score: 0.8553\n",
      "l=3, pr=0.800  score: 0.7842\n",
      "l=5, pr=0.800  score: 0.7079\n",
      "Mejor modelo: l=1, pr=0.800\n",
      "Guardando en models/msda/twitter_rio2016.pkl\n",
      "Obteniendo mejor clasificador para thevoice\n",
      "l=1, pr=0.300  score: 0.8301\n",
      "l=3, pr=0.300  score: 0.8205\n",
      "l=5, pr=0.300  score: 0.8243\n",
      "l=1, pr=0.500  score: 0.8282\n",
      "l=3, pr=0.500  score: 0.8224\n",
      "l=5, pr=0.500  score: 0.7954\n",
      "l=1, pr=0.800  score: 0.8282\n",
      "l=3, pr=0.800  score: 0.7432\n",
      "l=5, pr=0.800  score: 0.7162\n",
      "Mejor modelo: l=1, pr=0.300\n",
      "Guardando en models/msda/twitter_thevoice.pkl\n",
      "Guardando rutas en models/msda/best_twitter_paths.pkl\n",
      "\n",
      "Obtencion de mejores modelos terminada.\n",
      "\n",
      "CPU times: user 42.7 s, sys: 1.48 s, total: 44.2 s\n",
      "Wall time: 1min 15s\n"
     ]
    }
   ],
   "source": [
    "%%time\n",
    "\n",
    "best_msda_paths = os.path.join(models_path, tipo, \"best_%s_paths.pkl\" % dataset_name )\n",
    "if os.path.exists(best_msda_paths):\n",
    "    #se cargan las rutas de los modelos guardados\n",
    "    domain_msda_paths = joblib.load(best_msda_paths)   \n",
    "else:\n",
    "    domain_msda_paths = []\n",
    "    #se obtienen los mejores modelos \n",
    "    for domain in domains:\n",
    "        print \"Obteniendo mejor clasificador para %s\" % domain\n",
    "        i = 1\n",
    "\n",
    "        best_score = 0\n",
    "        best_model = None\n",
    "        for msda_model_path in saved_paths:\n",
    "            #print \"Modelo %d de %d\" % (i, len(saved_paths))\n",
    "\n",
    "\n",
    "            msda_model = joblib.load(msda_model_path)\n",
    "            mapping = msda_model['mapping']\n",
    "            pr = msda_model['pr']\n",
    "            n_layers = msda_model['l']\n",
    "\n",
    "            print \"l=%d, pr=%.3f \" % (msda_model['l'], msda_model['pr']),\n",
    "\n",
    "            # se obtienen los datos del dominio\n",
    "            X_tr = np.asarray(labeled[domain]['X_tr'][:, :dims].todense())\n",
    "            y_tr = np.asarray(labeled[domain]['y_tr'].todense()).argmax(axis=1)\n",
    "\n",
    "            # se adaptan los datos\n",
    "            X_deep = msda.mSDA(X_tr.transpose(), pr, n_layers, mapping)[1][:][:][-1]\n",
    "            X_deep = X_deep.transpose()\n",
    "            \n",
    "            # se obtiene el mejor score con GridSearch\n",
    "            new_clf = get_best_score(X_deep, y_tr, clasifier='SVC', n_jobs=4)\n",
    "            new_score = new_clf.best_score_\n",
    "            print \"score: %.4f\" % new_score\n",
    "            # se guarda si es el mejor para el modelo\n",
    "            if new_score > best_score:\n",
    "                best_score = new_score\n",
    "                best_model = msda_model\n",
    "\n",
    "            i = i+1\n",
    "\n",
    "        #se guarda el mejor modelo para este dominio\n",
    "        print \"Mejor modelo: l=%d, pr=%.3f\" % (best_model['l'], best_model['pr'])\n",
    "        best_msda_path = os.path.join(models_path, tipo, \"%s_%s.pkl\" % (dataset_name, domain))\n",
    "        print \"Guardando en %s\" % best_msda_path\n",
    "        joblib.dump(best_model, best_msda_path)\n",
    "        \n",
    "        domain_msda_paths.append(best_msda_path)\n",
    "    \n",
    "    print \"Guardando rutas en %s\" % best_msda_paths\n",
    "    joblib.dump(domain_msda_paths, best_msda_paths)\n",
    "\n",
    "print \"\\nObtencion de mejores modelos terminada.\\n\""
   ]
  },
  {
   "cell_type": "code",
   "execution_count": 8,
   "metadata": {},
   "outputs": [
    {
     "data": {
      "text/plain": [
       "['models/msda/twitter_rio2016.pkl', 'models/msda/twitter_thevoice.pkl']"
      ]
     },
     "execution_count": 8,
     "metadata": {},
     "output_type": "execute_result"
    }
   ],
   "source": [
    "domain_msda_paths"
   ]
  },
  {
   "cell_type": "code",
   "execution_count": 9,
   "metadata": {},
   "outputs": [
    {
     "name": "stdout",
     "output_type": "stream",
     "text": [
      "Cargando mejor modelo para rio2016\n",
      "Adaptando dominio\n",
      "Cargando mejor modelo para thevoice\n",
      "Adaptando dominio\n",
      "\n",
      "2/2 dominios adaptados.\n",
      "\n",
      "CPU times: user 4.8 s, sys: 116 ms, total: 4.91 s\n",
      "Wall time: 1.83 s\n"
     ]
    }
   ],
   "source": [
    "%%time\n",
    "#diccionario para mantener los dominios adaptados\n",
    "adapted = {}\n",
    "\n",
    "i = 0\n",
    "for domain in domains:\n",
    "    best_msda_path = os.path.join(models_path, tipo, \"%s_%s.pkl\" % (dataset_name, domain))\n",
    "    \n",
    "    if os.path.exists(best_msda_path):\n",
    "        print \"Cargando mejor modelo para %s\" % domain\n",
    "        msda_model = joblib.load(best_msda_path)\n",
    "        mapping = msda_model['mapping']\n",
    "        \n",
    "        print \"Adaptando dominio\"\n",
    "        X_tr = np.asarray(labeled[domain]['X_tr'].todense())\n",
    "        X_ts = np.asarray(labeled[domain]['X_ts'].todense())\n",
    "        \n",
    "        \n",
    "        tr_reps = msda.mSDA(X_tr.transpose(), pr, n_layers, mapping)[1][:][:][-1]\n",
    "        ts_reps = msda.mSDA(X_ts.transpose(), pr, n_layers, mapping)[1][:][:][-1]\n",
    "\n",
    "        adapted[domain] = {\n",
    "            'X_tr': tr_reps.transpose(),\n",
    "            'X_ts': ts_reps.transpose()\n",
    "        }\n",
    "        \n",
    "        i = i+1\n",
    "    else:\n",
    "        print \"Generar mejor modelo para %s\" % domain\n",
    "        \n",
    "print \"\\n%d/%d dominios adaptados.\\n\" % (i, len(domains))"
   ]
  },
  {
   "cell_type": "code",
   "execution_count": 16,
   "metadata": {},
   "outputs": [
    {
     "name": "stdout",
     "output_type": "stream",
     "text": [
      "Tarea 1 de 2\n",
      "Cargando modelo existente.\n",
      "Entrenando clasificador adaptado.\n",
      "Tarea 2 de 2\n",
      "Cargando modelo existente.\n",
      "Entrenando clasificador adaptado.\n",
      "\n",
      "Pruebas completadas\n",
      "CPU times: user 1.8 s, sys: 84 ms, total: 1.89 s\n",
      "Wall time: 8.44 s\n"
     ]
    }
   ],
   "source": [
    "%%time\n",
    "\n",
    "df = pd.DataFrame(columns=dataframe_columns)\n",
    "\n",
    "i=0\n",
    "# por cada par posible para adaptar\n",
    "for src in domains:\n",
    "    for tgt in domains:\n",
    "        if src is not tgt:\n",
    "            print \"Tarea %d de 2\" % (i+1)\n",
    "            \n",
    "            #baseline in-domain error\n",
    "            #e_b(T,T)\n",
    "            #entrenado en dominio tgt y probado en dominio tgt\n",
    "            X_tr = np.asarray(labeled[tgt]['X_tr'][:, :dims].todense())\n",
    "            y_tr = np.asarray(labeled[tgt]['y_tr'].todense()).argmax(axis=1)\n",
    "            \n",
    "            X_ts = np.asarray(labeled[tgt]['X_ts'][:, :dims].todense())\n",
    "            y_ts = np.asarray(labeled[tgt]['y_ts'].todense()).argmax(axis=1)\n",
    "            \n",
    "            # se crean las rutas para cargar o crear los modelos\n",
    "            #model_name = \"%s_%s_%s.pkl\" % (tipo,src, tgt)\n",
    "            model_name = \"indomain_%s.pkl\" % (tgt)\n",
    "            model_path = os.path.join(models_path, dataset_name, model_name)\n",
    "            \n",
    "            \n",
    "            #Se realiza una clasificacion, estimando los parametros mediante cv\n",
    "            #svc = get_best_score(X_tr, y_tr)\n",
    "            svc = load_best_score(model_path, X_tr, y_tr)\n",
    "            b_error = 1-svc.score(X_ts, y_ts)\n",
    "            \n",
    "            #transfer error\n",
    "            #entrenado en dominio src y probado en dominio tgt adaptados\n",
    "            X_tr_a = adapted[src]['X_tr']\n",
    "            y_tr = np.asarray(labeled[src]['y_tr'].todense()).argmax(axis=1)\n",
    "            \n",
    "            X_ts_a = adapted[tgt]['X_ts']\n",
    "            y_ts = np.asarray(labeled[tgt]['y_ts'].todense()).argmax(axis=1)\n",
    "            \n",
    "            print \"Entrenando clasificador adaptado.\"\n",
    "            svc_a = get_best_score(X_tr_a, y_tr, n_jobs=4)\n",
    "            #svc_a = SVC().fit(X_tr_a, y_tr)\n",
    "            \n",
    "            t_error = 1-svc_a.score(X_ts_a, y_ts)\n",
    "            \n",
    "            # transfer loss t\n",
    "            # t_error - b_error\n",
    "            t_loss = t_error - b_error\n",
    "            \n",
    "            tarea = src[0]+'->'+tgt[0]\n",
    "            df.loc[i] = ['mSDA',tarea,src,tgt,b_error*100,t_error*100, t_loss*100]\n",
    "            \n",
    "            i+=1\n",
    "\n",
    "print \"\\nPruebas completadas\""
   ]
  },
  {
   "cell_type": "code",
   "execution_count": 17,
   "metadata": {},
   "outputs": [
    {
     "data": {
      "text/html": [
       "<div>\n",
       "<style>\n",
       "    .dataframe thead tr:only-child th {\n",
       "        text-align: right;\n",
       "    }\n",
       "\n",
       "    .dataframe thead th {\n",
       "        text-align: left;\n",
       "    }\n",
       "\n",
       "    .dataframe tbody tr th {\n",
       "        vertical-align: top;\n",
       "    }\n",
       "</style>\n",
       "<table border=\"1\" class=\"dataframe\">\n",
       "  <thead>\n",
       "    <tr style=\"text-align: right;\">\n",
       "      <th></th>\n",
       "      <th>Adaptacion</th>\n",
       "      <th>Tarea</th>\n",
       "      <th>Fuente</th>\n",
       "      <th>Objetivo</th>\n",
       "      <th>Baseline error</th>\n",
       "      <th>Transfer error</th>\n",
       "      <th>Transfer loss</th>\n",
       "    </tr>\n",
       "  </thead>\n",
       "  <tbody>\n",
       "    <tr>\n",
       "      <th>0</th>\n",
       "      <td>mSDA</td>\n",
       "      <td>r-&gt;t</td>\n",
       "      <td>rio2016</td>\n",
       "      <td>thevoice</td>\n",
       "      <td>16.153846</td>\n",
       "      <td>53.846154</td>\n",
       "      <td>37.692308</td>\n",
       "    </tr>\n",
       "    <tr>\n",
       "      <th>1</th>\n",
       "      <td>mSDA</td>\n",
       "      <td>t-&gt;r</td>\n",
       "      <td>thevoice</td>\n",
       "      <td>rio2016</td>\n",
       "      <td>19.791667</td>\n",
       "      <td>60.416667</td>\n",
       "      <td>40.625000</td>\n",
       "    </tr>\n",
       "  </tbody>\n",
       "</table>\n",
       "</div>"
      ],
      "text/plain": [
       "  Adaptacion Tarea    Fuente  Objetivo  Baseline error  Transfer error  \\\n",
       "0       mSDA  r->t   rio2016  thevoice       16.153846       53.846154   \n",
       "1       mSDA  t->r  thevoice   rio2016       19.791667       60.416667   \n",
       "\n",
       "   Transfer loss  \n",
       "0      37.692308  \n",
       "1      40.625000  "
      ]
     },
     "execution_count": 17,
     "metadata": {},
     "output_type": "execute_result"
    }
   ],
   "source": [
    "df"
   ]
  },
  {
   "cell_type": "code",
   "execution_count": 18,
   "metadata": {},
   "outputs": [
    {
     "name": "stdout",
     "output_type": "stream",
     "text": [
      "Guardando en scores/msda/twitter.csv\n",
      "Resultados guardados.\n"
     ]
    }
   ],
   "source": [
    "new_scores_path = os.path.join(scores_path, tipo, dataset_name+\".csv\")\n",
    "print \"Guardando en %s\" % new_scores_path\n",
    "df.to_csv(new_scores_path, columns=df.columns)\n",
    "print \"Resultados guardados.\""
   ]
  }
 ],
 "metadata": {
  "kernelspec": {
   "display_name": "Python 2",
   "language": "python",
   "name": "python2"
  },
  "language_info": {
   "codemirror_mode": {
    "name": "ipython",
    "version": 2
   },
   "file_extension": ".py",
   "mimetype": "text/x-python",
   "name": "python",
   "nbconvert_exporter": "python",
   "pygments_lexer": "ipython2",
   "version": "2.7.13"
  }
 },
 "nbformat": 4,
 "nbformat_minor": 1
}
