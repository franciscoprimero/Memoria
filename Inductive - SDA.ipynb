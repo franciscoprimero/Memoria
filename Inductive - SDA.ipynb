{
 "cells": [
  {
   "cell_type": "code",
   "execution_count": null,
   "metadata": {
    "collapsed": true
   },
   "outputs": [],
   "source": [
    "#carga de datasets\n",
    "from utils.DatasetStorage import Dataset\n",
    "from utils.paths import *\n",
    "\n",
    "#clasificadores\n",
    "from utils.clasificacion import *\n",
    "\n",
    "#adaptacion\n",
    "from sklearn.model_selection import train_test_split\n",
    "from utils.adaptacion import create_SDA\n",
    "\n",
    "from keras.layers import Input, Dense, Dropout\n",
    "from keras.models import Model\n",
    "\n",
    "#otros\n",
    "import os\n",
    "import numpy as np\n",
    "import pandas as pd\n",
    "from sklearn.externals import joblib\n",
    "import itertools\n",
    "\n",
    "#variables para guardar los resultados\n",
    "tipo = pruebas[4]"
   ]
  },
  {
   "cell_type": "code",
   "execution_count": null,
   "metadata": {
    "collapsed": true
   },
   "outputs": [],
   "source": [
    "def split_src_tgt(X_src, X_tgt, test_size=0.2):\n",
    "    # se divide el dataset para los datos de entrenamiento y validacion del SDA\n",
    "    X_tr_src, X_val_src, _, _ = train_test_split(X_src, np.zeros(X_src.shape[0]), test_size=0.2, random_state=42)\n",
    "    \n",
    "    X_tr_tgt, X_val_tgt, _, _ = train_test_split(X_tgt, np.zeros(X_tgt.shape[0]), test_size=0.2, random_state=42)\n",
    "    \n",
    "    X_train = np.concatenate((X_tr_src, X_tr_tgt))\n",
    "    X_val = np.concatenate((X_val_src, X_val_tgt))\n",
    "    \n",
    "    return X_train, X_val"
   ]
  },
  {
   "cell_type": "markdown",
   "metadata": {},
   "source": [
    "# Pruebas con el dataset Amazon (3000 Dimensiones)"
   ]
  },
  {
   "cell_type": "code",
   "execution_count": null,
   "metadata": {
    "collapsed": true
   },
   "outputs": [],
   "source": [
    "dims = 3000\n",
    "dataset_name = datasets[0]"
   ]
  },
  {
   "cell_type": "code",
   "execution_count": null,
   "metadata": {
    "collapsed": true
   },
   "outputs": [],
   "source": [
    "print tipo\n",
    "print dataset_name\n",
    "print dims\n",
    "print data_path"
   ]
  },
  {
   "cell_type": "code",
   "execution_count": null,
   "metadata": {
    "collapsed": true
   },
   "outputs": [],
   "source": [
    "# cargando dataset\n",
    "dataset_path = os.path.join(data_path, dataset_name+'.pkl')\n",
    "dataset_object = Dataset().load(dataset_path)\n",
    "\n",
    "dataset_object.split_dataset(test_size=0.2)\n",
    "\n",
    "labeled = dataset_object.labeled\n",
    "domains = dataset_object.domains"
   ]
  },
  {
   "cell_type": "code",
   "execution_count": null,
   "metadata": {
    "collapsed": true
   },
   "outputs": [],
   "source": [
    "parametros = {\n",
    "    'noises': [0.3 , 0.5, 0.8],\n",
    "    'layers': [[int(dims/2)], [int(dims/2), int(dims/4)]],\n",
    "    'epochs': [50],\n",
    "}\n",
    "\n",
    "noise_layer_epoch =  list(itertools.product(parametros['noises'], parametros['layers'], parametros['epochs']))"
   ]
  },
  {
   "cell_type": "code",
   "execution_count": null,
   "metadata": {
    "collapsed": true
   },
   "outputs": [],
   "source": [
    "porcentajes = [25, 50, 100]\n",
    "modelos = {}\n",
    "\n",
    "pairs = list(itertools.permutations(domains, 2))\n",
    "\n",
    "for src, tgt in pairs:\n",
    "    modelos[(src, tgt)] = {}\n",
    "    for ptje in porcentajes:\n",
    "        modelos[(src, tgt)][ptje] = [100, None]"
   ]
  },
  {
   "cell_type": "code",
   "execution_count": null,
   "metadata": {
    "collapsed": true
   },
   "outputs": [],
   "source": [
    "df = pd.DataFrame(columns=dataframe_columns+['Porcentaje'])\n",
    "\n",
    "i=0\n",
    "j=0\n",
    "tareas = len(domains)*(len(domains)-1)\n",
    "pairs = list(itertools.permutations(domains, 2))\n",
    "\n",
    "porcentajes = [25, 50, 100]\n",
    "\n",
    "\n",
    "for src, tgt in pairs:\n",
    "    print \"Tarea %d de %d\" % (i+1, tareas)\n",
    "    tarea = src[0]+'->'+tgt[0]\n",
    "    \n",
    "    #datos de entrenamiento\n",
    "    X_src = labeled[src]['X_tr'][:, :dims].todense()\n",
    "    y_src = np.asarray(labeled[src]['y_tr'].todense()).argmax(axis=1)\n",
    "    \n",
    "    X_tgt = labeled[tgt]['X_tr'][:, :dims].todense()\n",
    "    y_tgt = np.asarray(labeled[tgt]['y_tr'].todense()).argmax(axis=1)\n",
    "    \n",
    "    X_train, X_val = split_src_tgt(X_src, X_tgt, test_size=0.2)\n",
    "    \n",
    "    \n",
    "    #datos de prueba\n",
    "    X_tgt_ts = labeled[tgt]['X_ts'][:, :dims].todense()\n",
    "    y_tgt_ts = np.asarray(labeled[tgt]['y_ts'].todense()).argmax(axis=1)\n",
    "    \n",
    "    \n",
    "    #baseline in-domain error\n",
    "    model_name = \"%d_%s.pkl\" % (dims, tgt)\n",
    "    model_path = os.path.join(models_path, dataset_name, \"indomain\", model_name)\n",
    "    \n",
    "    #Se realiza una clasificacion, estimando los parametros mediante cv\n",
    "    svc = load_best_score(model_path, X_tgt, y_tgt)\n",
    "    b_error = 1-svc.score(X_tgt_ts, y_tgt_ts)\n",
    "\n",
    "    k = 0    \n",
    "    for noise, layer, epoch in noise_layer_epoch:\n",
    "        print \"\\tEntrenando modelo de adaptacion %d\" % k\n",
    "        # entrenar un modelo de adaptacion\n",
    "        autoencoder, encoder = create_SDA(dims, layer, noise)\n",
    "        autoencoder.fit(X_train, X_train,\n",
    "                    epochs=epoch,\n",
    "                    batch_size=256,\n",
    "                    shuffle=True,\n",
    "                    verbose=0,\n",
    "                    validation_data=(X_val, X_val))\n",
    "\n",
    "        # entrenar un clasificador con los datos adaptados\n",
    "        X_src_a = encoder.predict(X_src)\n",
    "        clf = get_best_score(X_src_a, y_src, classifier='SVC', n_jobs=4)\n",
    "\n",
    "        # se prueba con distintos porcentajes\n",
    "        j = i*3\n",
    "        for porcentaje in porcentajes:\n",
    "            if porcentaje == 100:\n",
    "                X_test_pc, y_test_pc = X_tgt_ts, y_tgt_ts\n",
    "            else:\n",
    "                X_test_pc, _, y_test_pc, _ = train_test_split(X_tgt_ts, y_tgt_ts, train_size=porcentaje/float(100))\n",
    "            \n",
    "            X_test_pc_a = encoder.predict(X_test_pc)\n",
    "            t_error = 1-clf.score(X_test_pc_a, y_test_pc)\n",
    "            \n",
    "            if t_error <= modelos[(src, tgt)][porcentaje][0]:\n",
    "                modelos[(src, tgt)][porcentaje] = [t_error, encoder]\n",
    "                t_loss = t_error - b_error\n",
    "                df.loc[j] = ['SDA', tarea, src, tgt, b_error*100, t_error*100, t_loss*100, porcentaje]\n",
    "    \n",
    "            j += 1\n",
    "        k += 1\n",
    "    i+=1"
   ]
  },
  {
   "cell_type": "code",
   "execution_count": null,
   "metadata": {
    "collapsed": true
   },
   "outputs": [],
   "source": [
    "df"
   ]
  },
  {
   "cell_type": "code",
   "execution_count": null,
   "metadata": {
    "collapsed": true
   },
   "outputs": [],
   "source": [
    "new_scores_path = os.path.join(scores_path,dataset_name, tipo, \"inductive_%d.csv\" % (dims))\n",
    "\n",
    "print \"Guardando en %s\" % new_scores_path\n",
    "df.to_csv(new_scores_path, columns=df.columns)\n",
    "print \"Resultados guardados.\""
   ]
  },
  {
   "cell_type": "markdown",
   "metadata": {},
   "source": [
    "# Pruebas con el dataset Twitter (2000 Dimensiones)"
   ]
  },
  {
   "cell_type": "code",
   "execution_count": null,
   "metadata": {
    "collapsed": true
   },
   "outputs": [],
   "source": [
    "dims = 2000\n",
    "dataset_name = datasets[1]"
   ]
  },
  {
   "cell_type": "code",
   "execution_count": null,
   "metadata": {
    "collapsed": true
   },
   "outputs": [],
   "source": [
    "print tipo\n",
    "print dataset_name\n",
    "print dims\n",
    "print data_path"
   ]
  },
  {
   "cell_type": "code",
   "execution_count": null,
   "metadata": {
    "collapsed": true
   },
   "outputs": [],
   "source": [
    "# cargando dataset\n",
    "dataset_path = os.path.join(data_path, dataset_name+'.pkl')\n",
    "dataset_object = Dataset().load(dataset_path)\n",
    "\n",
    "dataset_object.split_dataset(test_size=0.2)\n",
    "\n",
    "labeled = dataset_object.labeled\n",
    "domains = dataset_object.domains"
   ]
  },
  {
   "cell_type": "code",
   "execution_count": null,
   "metadata": {
    "collapsed": true
   },
   "outputs": [],
   "source": [
    "parametros = {\n",
    "    'noises': [0.3 , 0.5, 0.8],\n",
    "    'layers': [[int(dims/2)], [int(dims/2), int(dims/4)]],\n",
    "    'epochs': [50],\n",
    "}\n",
    "\n",
    "noise_layer_epoch =  list(itertools.product(parametros['noises'], parametros['layers'], parametros['epochs']))"
   ]
  },
  {
   "cell_type": "code",
   "execution_count": null,
   "metadata": {
    "collapsed": true
   },
   "outputs": [],
   "source": [
    "porcentajes = [25, 50, 100]\n",
    "modelos = {}\n",
    "\n",
    "pairs = list(itertools.permutations(domains, 2))\n",
    "\n",
    "for src, tgt in pairs:\n",
    "    modelos[(src, tgt)] = {}\n",
    "    for ptje in porcentajes:\n",
    "        modelos[(src, tgt)][ptje] = [100, None]"
   ]
  },
  {
   "cell_type": "code",
   "execution_count": null,
   "metadata": {
    "collapsed": true
   },
   "outputs": [],
   "source": [
    "df = pd.DataFrame(columns=dataframe_columns+['Porcentaje'])\n",
    "\n",
    "i=0\n",
    "j=0\n",
    "tareas = len(domains)*(len(domains)-1)\n",
    "pairs = list(itertools.permutations(domains, 2))\n",
    "\n",
    "porcentajes = [25, 50, 100]\n",
    "\n",
    "\n",
    "for src, tgt in pairs:\n",
    "    print \"Tarea %d de %d\" % (i+1, tareas)\n",
    "    tarea = src[0]+'->'+tgt[0]\n",
    "    \n",
    "    #datos de entrenamiento\n",
    "    X_src = labeled[src]['X_tr'][:, :dims].todense()\n",
    "    y_src = np.asarray(labeled[src]['y_tr'].todense()).argmax(axis=1)\n",
    "    \n",
    "    X_tgt = labeled[tgt]['X_tr'][:, :dims].todense()\n",
    "    y_tgt = np.asarray(labeled[tgt]['y_tr'].todense()).argmax(axis=1)\n",
    "    \n",
    "    X_train, X_val = split_src_tgt(X_src, X_tgt, test_size=0.2)\n",
    "    \n",
    "    \n",
    "    #datos de prueba\n",
    "    X_tgt_ts = labeled[tgt]['X_ts'][:, :dims].todense()\n",
    "    y_tgt_ts = np.asarray(labeled[tgt]['y_ts'].todense()).argmax(axis=1)\n",
    "    \n",
    "    \n",
    "    #baseline in-domain error\n",
    "    model_name = \"%d_%s.pkl\" % (dims, tgt)\n",
    "    model_path = os.path.join(models_path, dataset_name, \"indomain\", model_name)\n",
    "    \n",
    "    #Se realiza una clasificacion, estimando los parametros mediante cv\n",
    "    svc = load_best_score(model_path, X_tgt, y_tgt)\n",
    "    b_error = 1-svc.score(X_tgt_ts, y_tgt_ts)\n",
    "\n",
    "    k = 0    \n",
    "    for noise, layer, epoch in noise_layer_epoch:\n",
    "        print \"\\tEntrenando modelo de adaptacion %d\" % k\n",
    "        # entrenar un modelo de adaptacion\n",
    "        autoencoder, encoder = create_SDA(dims, layer, noise)\n",
    "        autoencoder.fit(X_train, X_train,\n",
    "                    epochs=epoch,\n",
    "                    batch_size=256,\n",
    "                    shuffle=True,\n",
    "                    verbose=0,\n",
    "                    validation_data=(X_val, X_val))\n",
    "\n",
    "        # entrenar un clasificador con los datos adaptados\n",
    "        X_src_a = encoder.predict(X_src)\n",
    "        clf = get_best_score(X_src_a, y_src, classifier='SVC', n_jobs=4)\n",
    "\n",
    "        # se prueba con distintos porcentajes\n",
    "        j = i*3\n",
    "        for porcentaje in porcentajes:\n",
    "            if porcentaje == 100:\n",
    "                X_test_pc, y_test_pc = X_tgt_ts, y_tgt_ts\n",
    "            else:\n",
    "                X_test_pc, _, y_test_pc, _ = train_test_split(X_tgt_ts, y_tgt_ts, train_size=porcentaje/float(100))\n",
    "            \n",
    "            X_test_pc_a = encoder.predict(X_test_pc)\n",
    "            t_error = 1-clf.score(X_test_pc_a, y_test_pc)\n",
    "            \n",
    "            if t_error <= modelos[(src, tgt)][porcentaje][0]:\n",
    "                modelos[(src, tgt)][porcentaje] = [t_error, encoder]\n",
    "                t_loss = t_error - b_error\n",
    "                df.loc[j] = ['SDA', tarea, src, tgt, b_error*100, t_error*100, t_loss*100, porcentaje]\n",
    "    \n",
    "            j += 1\n",
    "        k += 1\n",
    "    i+=1"
   ]
  },
  {
   "cell_type": "code",
   "execution_count": null,
   "metadata": {
    "collapsed": true
   },
   "outputs": [],
   "source": [
    "df"
   ]
  },
  {
   "cell_type": "code",
   "execution_count": null,
   "metadata": {
    "collapsed": true
   },
   "outputs": [],
   "source": [
    "new_scores_path = os.path.join(scores_path,dataset_name, tipo, \"inductive_%d.csv\" % (dims))\n",
    "\n",
    "print \"Guardando en %s\" % new_scores_path\n",
    "df.to_csv(new_scores_path, columns=df.columns)\n",
    "print \"Resultados guardados.\""
   ]
  }
 ],
 "metadata": {
  "kernelspec": {
   "display_name": "Python 2",
   "language": "python",
   "name": "python2"
  },
  "language_info": {
   "codemirror_mode": {
    "name": "ipython",
    "version": 2
   },
   "file_extension": ".py",
   "mimetype": "text/x-python",
   "name": "python",
   "nbconvert_exporter": "python",
   "pygments_lexer": "ipython2",
   "version": "2.7.13"
  }
 },
 "nbformat": 4,
 "nbformat_minor": 2
}
