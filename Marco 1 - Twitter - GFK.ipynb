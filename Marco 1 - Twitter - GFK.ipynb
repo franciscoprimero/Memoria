{
 "cells": [
  {
   "cell_type": "markdown",
   "metadata": {},
   "source": [
    "# GFK"
   ]
  },
  {
   "cell_type": "code",
   "execution_count": 1,
   "metadata": {
    "collapsed": true
   },
   "outputs": [],
   "source": [
    "%load_ext autoreload\n",
    "%autoreload 2"
   ]
  },
  {
   "cell_type": "code",
   "execution_count": 2,
   "metadata": {},
   "outputs": [
    {
     "name": "stderr",
     "output_type": "stream",
     "text": [
      "Using Theano backend.\n",
      "/home/ubuntu/anaconda2/envs/env_memoria/lib/python2.7/site-packages/sklearn/cross_validation.py:44: DeprecationWarning: This module was deprecated in version 0.18 in favor of the model_selection module into which all the refactored classes and functions are moved. Also note that the interface of the new CV iterators are different from that of this module. This module will be removed in 0.20.\n",
      "  \"This module will be removed in 0.20.\", DeprecationWarning)\n",
      "/home/ubuntu/anaconda2/envs/env_memoria/lib/python2.7/site-packages/sklearn/grid_search.py:43: DeprecationWarning: This module was deprecated in version 0.18 in favor of the model_selection module into which all the refactored classes and functions are moved. This module will be removed in 0.20.\n",
      "  DeprecationWarning)\n"
     ]
    }
   ],
   "source": [
    "#adaptacion\n",
    "from utils.adaptacion import gfk_train_all, transform_gfk, gfk_compute_accuracy\n",
    "\n",
    "#clasificadores\n",
    "from sklearn.neighbors import KNeighborsClassifier\n",
    "from sklearn.svm import SVC\n",
    "from utils.clasificacion import *\n",
    "\n",
    "#carga de datasets\n",
    "from utils.DatasetStorage import Dataset\n",
    "from utils.paths import *\n",
    "\n",
    "#otros\n",
    "import os\n",
    "import numpy as np\n",
    "import pandas as pd\n",
    "from sklearn.externals import joblib\n",
    "import itertools\n",
    "\n",
    "#variables para guardar los resultados\n",
    "tipo = pruebas[2]\n",
    "dataset_name = datasets[1]"
   ]
  },
  {
   "cell_type": "code",
   "execution_count": 3,
   "metadata": {
    "collapsed": true
   },
   "outputs": [],
   "source": [
    "def get_source_target_train_data(target_domain, dataset_object):\n",
    "    X = None\n",
    "    X_tgt = None\n",
    "    for domain in dataset_object.domains:\n",
    "        if target_domain == domain:\n",
    "            X_tgt = dataset_object.get_all_domain_X(target_domain)\n",
    "        else:\n",
    "            if X is None:\n",
    "                X = dataset_object.get_all_domain_X(domain)\n",
    "            else:\n",
    "                X_tmp = dataset_object.get_all_domain_X(domain)\n",
    "                X = np.concatenate([X, X_tmp])\n",
    "    \n",
    "    return X, X_tgt"
   ]
  },
  {
   "cell_type": "markdown",
   "metadata": {},
   "source": [
    "# Adaptación\n",
    "\n",
    "## Creación de modelos de adaptación.\n",
    "\n",
    "Para cada dominio se entrenan distintos modelos según los parámetros enviados.\n",
    "\n",
    "Cada modelo es guardado en la ruta: models/twitter/gfk/me1\\_[dominio\\_objetivo]_[numero_de_modelo].pkl\n",
    "\n",
    "Todas las rutas son guardadas en un diccionario separado por dominios, en donde cada dominio contiene una lista con las rutas. El diccionario es almacenado en: models/twitter/gfk/me1_models_paths.pkl\n"
   ]
  },
  {
   "cell_type": "markdown",
   "metadata": {},
   "source": [
    "## Busqueda del mejor modelo por dominio\n",
    "\n",
    "Por cada dominio se busca el mejor modelo de adaptación.\n",
    "\n",
    "Esto se obtiene adaptando los datos de entrenamiento de cada dominio por cada modelo creado y realizando Grid-Search y Cross-Validation con estos datos.\n",
    "\n",
    "El modelo que logre un mejor valor de Cross-Validation es considerado el mejor modelo para adaptar y queda guardado en un diccionario de la forma:\n",
    "\n",
    "```python\n",
    "best_models = {\n",
    "    [dominio_1] = ruta,\n",
    "    .\n",
    "    .\n",
    "    .\n",
    "    [dominio_n] = ruta,\n",
    "}\n",
    "```\n",
    "\n",
    "Este diccionario queda almacenado en la ruta:\n",
    "    models/twitter/gfk/best_models.pkl"
   ]
  },
  {
   "cell_type": "markdown",
   "metadata": {},
   "source": [
    "# Pruebas con el dataset Twitter (2000 Dimensiones)"
   ]
  },
  {
   "cell_type": "code",
   "execution_count": 4,
   "metadata": {
    "collapsed": true
   },
   "outputs": [],
   "source": [
    "dims = 2000"
   ]
  },
  {
   "cell_type": "code",
   "execution_count": 5,
   "metadata": {},
   "outputs": [
    {
     "name": "stdout",
     "output_type": "stream",
     "text": [
      "gfk\n",
      "twitter\n",
      "2000\n",
      "data\n"
     ]
    }
   ],
   "source": [
    "print tipo\n",
    "print dataset_name\n",
    "print dims\n",
    "print data_path"
   ]
  },
  {
   "cell_type": "code",
   "execution_count": 6,
   "metadata": {},
   "outputs": [
    {
     "name": "stdout",
     "output_type": "stream",
     "text": [
      "Dataset already splitted\n"
     ]
    }
   ],
   "source": [
    "# cargando dataset Twitter\n",
    "dataset_path = os.path.join(data_path, dataset_name+'.pkl')\n",
    "dataset_object = Dataset().load(dataset_path)\n",
    "\n",
    "dataset_object.split_dataset(test_size=0.2)\n",
    "\n",
    "labeled = dataset_object.labeled\n",
    "domains = dataset_object.domains"
   ]
  },
  {
   "cell_type": "markdown",
   "metadata": {},
   "source": [
    "## Creación de modelos de adaptación"
   ]
  },
  {
   "cell_type": "code",
   "execution_count": 10,
   "metadata": {},
   "outputs": [
    {
     "name": "stdout",
     "output_type": "stream",
     "text": [
      "Cargando rutas de modelos adaptados.\n",
      "Rutas cargadas en la variable 'paths_dict'\n"
     ]
    }
   ],
   "source": [
    "models_paths = os.path.join(models_path, dataset_name, tipo, 'me1_%d_models_paths.pkl' % dims)\n",
    "paths_dict = {}\n",
    "\n",
    "# si existe el archivo con las rutas\n",
    "# se carga la lista con las rutas\n",
    "if os.path.exists(models_paths):    \n",
    "    print \"Cargando rutas de modelos adaptados.\"\n",
    "    paths_dict = joblib.load(models_paths)\n",
    "    print \"Rutas cargadas en la variable 'paths_dict'\"\n",
    "\n",
    "# si no\n",
    "# se entrenan los modelos y se obtiene la lista con rutas\n",
    "else:\n",
    "    #se establecen los parametros para los modelos\n",
    "    parameters = {\n",
    "        'dims': [int(dims/4), int(dims/2)],\n",
    "        'n_subs': [10, 20, 50]\n",
    "    }\n",
    "    \n",
    "    print \"Creando modelos de adaptacion...\"\n",
    "    for target_domain in domains:\n",
    "        print target_domain\n",
    "        X , X_tgt = get_source_target_train_data(target_domain, dataset_object)\n",
    "        X = X[:, :dims]\n",
    "        X_tgt = X_tgt[:, :dims]\n",
    "        \n",
    "        folder_path = os.path.join(models_path, dataset_name, tipo)\n",
    "        prefix = \"me1_%d_%s_\" % (dims, target_domain)\n",
    "        \n",
    "        new_paths = gfk_train_all(X, X_tgt, parameters, folder_path, prefix)\n",
    "    \n",
    "        paths_dict[target_domain] = new_paths\n",
    "    \n",
    "    print \"\\nCreacion de modelos terminada\\nGuardando rutas en %s\" % models_paths\n",
    "    joblib.dump(paths_dict, models_paths)\n",
    "    print \"Rutas cargadas en la variable 'paths_dict'\""
   ]
  },
  {
   "cell_type": "code",
   "execution_count": 11,
   "metadata": {},
   "outputs": [
    {
     "name": "stdout",
     "output_type": "stream",
     "text": [
      "Modelos almacenados en:\n",
      "thevoice\n",
      "\tmodels/twitter/gfk/me1_2000_thevoice_0.pkl\n",
      "\tmodels/twitter/gfk/me1_2000_thevoice_1.pkl\n",
      "\tmodels/twitter/gfk/me1_2000_thevoice_2.pkl\n",
      "\tmodels/twitter/gfk/me1_2000_thevoice_3.pkl\n",
      "\tmodels/twitter/gfk/me1_2000_thevoice_4.pkl\n",
      "\tmodels/twitter/gfk/me1_2000_thevoice_5.pkl\n",
      "rio2016\n",
      "\tmodels/twitter/gfk/me1_2000_rio2016_0.pkl\n",
      "\tmodels/twitter/gfk/me1_2000_rio2016_1.pkl\n",
      "\tmodels/twitter/gfk/me1_2000_rio2016_2.pkl\n",
      "\tmodels/twitter/gfk/me1_2000_rio2016_3.pkl\n",
      "\tmodels/twitter/gfk/me1_2000_rio2016_4.pkl\n",
      "\tmodels/twitter/gfk/me1_2000_rio2016_5.pkl\n",
      "general\n",
      "\tmodels/twitter/gfk/me1_2000_general_0.pkl\n",
      "\tmodels/twitter/gfk/me1_2000_general_1.pkl\n",
      "\tmodels/twitter/gfk/me1_2000_general_2.pkl\n",
      "\tmodels/twitter/gfk/me1_2000_general_3.pkl\n",
      "\tmodels/twitter/gfk/me1_2000_general_4.pkl\n",
      "\tmodels/twitter/gfk/me1_2000_general_5.pkl\n"
     ]
    }
   ],
   "source": [
    "print \"Modelos almacenados en:\"\n",
    "for dominio, rutas in paths_dict.items():\n",
    "    print dominio\n",
    "    for ruta in rutas:\n",
    "        print \"\\t\", ruta     "
   ]
  },
  {
   "cell_type": "code",
   "execution_count": 13,
   "metadata": {},
   "outputs": [
    {
     "name": "stdout",
     "output_type": "stream",
     "text": [
      "Obteniendo mejores modelos...\n",
      "src: rio2016 - tgt: thevoice\n",
      "score: 0.7125\n",
      "score: 0.7567\n",
      "score: 0.8532\n",
      "score: 0.7125\n",
      "score: 0.7567\n",
      "score: 0.8532\n",
      "src: rio2016 - tgt: general\n",
      "score: 0.7869\n",
      "score: 0.8404\n",
      "score: 0.8617\n",
      "score: 0.7868\n",
      "score: 0.8396\n",
      "score: 0.8583\n",
      "src: thevoice - tgt: rio2016\n",
      "score: 0.7554\n",
      "score: 0.7707\n",
      "score: 0.8152\n",
      "score: 0.7489\n",
      "score: 0.7707\n",
      "score: 0.8152\n",
      "src: thevoice - tgt: general\n",
      "score: 0.7919\n",
      "score: 0.7991\n",
      "score: 0.8421\n",
      "score: 0.7944\n",
      "score: 0.8024\n",
      "score: 0.8401\n",
      "src: general - tgt: rio2016\n",
      "score: 0.6655\n",
      "score: 0.6855\n",
      "score: 0.7022\n",
      "score: 0.6657\n",
      "score: 0.6854\n",
      "score: 0.7022\n",
      "src: general - tgt: thevoice\n",
      "score: 0.6658\n",
      "score: 0.6861\n",
      "score: 0.7046\n",
      "score: 0.6667\n",
      "score: 0.6851\n",
      "score: 0.7046\n",
      "Rutas guardadas en  models/twitter/gfk/me1_2000_best_models.pkl\n"
     ]
    }
   ],
   "source": [
    "best_models_paths = os.path.join(models_path, dataset_name, tipo, \"me1_%d_best_models.pkl\" % dims)\n",
    "best_models = {}\n",
    "\n",
    "if os.path.exists(best_models_paths):\n",
    "    print \"Cargando rutas de los mejores modelos...\"\n",
    "    best_models = joblib.load(best_models_paths)\n",
    "    print \"Rutas cargadas\"\n",
    "else:\n",
    "    print \"Obteniendo mejores modelos...\"\n",
    "    pairs = list(itertools.permutations(domains, 2))\n",
    "    \n",
    "    for src, tgt in pairs:\n",
    "        print \"src: %s - tgt: %s\" % (src, tgt)\n",
    "        rutas = paths_dict[tgt]\n",
    "        \n",
    "         # se obtienen los datos del dominio\n",
    "        X_tr = labeled[src]['X_tr'][:, :dims].todense()\n",
    "        y_tr = np.asarray(labeled[src]['y_tr'].todense()).argmax(axis=1)\n",
    "        \n",
    "        mejor_score = 0\n",
    "        best_path = None\n",
    "        for ruta in rutas:\n",
    "            gfk = joblib.load(ruta)\n",
    "            X_deep = transform_gfk(X_tr, gfk)\n",
    "            \n",
    "            # se obtiene el mejor score con GridSearch\n",
    "            new_clf = get_best_score(X_deep, y_tr, classifier='SVC', n_jobs=4)\n",
    "            new_score = new_clf.best_score_\n",
    "            \n",
    "            print \"score: %.4f\" % new_score\n",
    "            # se guarda si es el mejor para el modelo\n",
    "            if new_score > mejor_score:\n",
    "                mejor_score = new_score\n",
    "                best_path = ruta\n",
    "        \n",
    "        # se guarda la ruta del mejor modelo\n",
    "        best_models[(src, tgt)] = best_path\n",
    "    \n",
    "    # se guarda el diccionario con las mejores rutas\n",
    "    joblib.dump(best_models, best_models_paths)\n",
    "    print \"Rutas guardadas en \", best_models_paths"
   ]
  },
  {
   "cell_type": "code",
   "execution_count": 14,
   "metadata": {},
   "outputs": [
    {
     "name": "stdout",
     "output_type": "stream",
     "text": [
      "('general', 'thevoice') - models/twitter/gfk/me1_2000_thevoice_2.pkl\n",
      "('rio2016', 'general') - models/twitter/gfk/me1_2000_general_2.pkl\n",
      "('general', 'rio2016') - models/twitter/gfk/me1_2000_rio2016_2.pkl\n",
      "('thevoice', 'general') - models/twitter/gfk/me1_2000_general_2.pkl\n",
      "('thevoice', 'rio2016') - models/twitter/gfk/me1_2000_rio2016_2.pkl\n",
      "('rio2016', 'thevoice') - models/twitter/gfk/me1_2000_thevoice_2.pkl\n"
     ]
    }
   ],
   "source": [
    "for dominios, ruta in best_models.items():\n",
    "    print \"%s - %s\" % (dominios, ruta)"
   ]
  },
  {
   "cell_type": "markdown",
   "metadata": {
    "collapsed": true
   },
   "source": [
    "## Pruebas de clasificación"
   ]
  },
  {
   "cell_type": "code",
   "execution_count": 15,
   "metadata": {},
   "outputs": [
    {
     "name": "stdout",
     "output_type": "stream",
     "text": [
      "Tarea 1 de 6\n",
      "Cargando modelo existente.\n",
      "Adaptando dominios...\n",
      "Tarea 2 de 6\n",
      "Cargando modelo existente.\n",
      "Adaptando dominios...\n",
      "Tarea 3 de 6\n",
      "Cargando modelo existente.\n",
      "Adaptando dominios...\n",
      "Tarea 4 de 6\n",
      "Cargando modelo existente.\n",
      "Adaptando dominios...\n",
      "Tarea 5 de 6\n",
      "Cargando modelo existente.\n",
      "Adaptando dominios...\n",
      "Tarea 6 de 6\n",
      "Cargando modelo existente.\n",
      "Adaptando dominios...\n",
      "\n",
      "Pruebas completadas.\n"
     ]
    }
   ],
   "source": [
    "df = pd.DataFrame(columns=dataframe_columns)\n",
    "\n",
    "i=0\n",
    "tareas = len(domains)*(len(domains)-1)\n",
    "pairs = list(itertools.permutations(domains, 2))\n",
    "\n",
    "# por cada par posible para adaptar\n",
    "for src, tgt in pairs:\n",
    "    #se carga el mejor modelo para el par de dominios\n",
    "    ruta = best_models[(src, tgt)]\n",
    "    modelo = joblib.load(ruta)\n",
    "\n",
    "    print \"Tarea %d de %d\" % (i+1, tareas)\n",
    "\n",
    "    #baseline in-domain error\n",
    "    #e_b(T,T)\n",
    "    #entrenado en dominio tgt y probado en dominio tgt\n",
    "    X_tr = labeled[tgt]['X_tr'][:, :dims].todense()\n",
    "    y_tr = np.asarray(labeled[tgt]['y_tr'].todense()).argmax(axis=1)\n",
    "\n",
    "    X_ts =labeled[tgt]['X_ts'][:, :dims].todense()\n",
    "    y_ts = np.asarray(labeled[tgt]['y_ts'].todense()).argmax(axis=1)\n",
    "\n",
    "    # se crean las rutas para cargar o crear los modelos\n",
    "    model_name = \"%d_%s.pkl\" % (dims, tgt)\n",
    "    model_path = os.path.join(models_path, dataset_name, \"indomain\", model_name)\n",
    "\n",
    "    #Se realiza una clasificacion, estimando los parametros mediante cv\n",
    "    svc = load_best_score(model_path, X_tr, y_tr)\n",
    "    b_error = 1-svc.score(X_ts, y_ts)\n",
    "\n",
    "    #############\n",
    "    #### GFK ####\n",
    "    #############\n",
    "    # se adaptan los dominios usando GFK\n",
    "    print \"Adaptando dominios...\"\n",
    "    X_tr = labeled[src]['X_tr'][:, :dims].todense()\n",
    "    X_tr_a = transform_gfk(X_tr, modelo)\n",
    "    y_tr = np.asarray(labeled[src]['y_tr'].todense()).argmax(axis=1)\n",
    "\n",
    "    X_ts = labeled[tgt]['X_ts'][:, :dims].todense()\n",
    "    X_ts_a = transform_gfk(X_ts, modelo)\n",
    "    y_ts = np.asarray(labeled[tgt]['y_ts'].todense()).argmax(axis=1)\n",
    "\n",
    "    # se calcula el transfer error\n",
    "    clf = get_best_score(X_tr_a, y_tr, classifier='SVC', n_jobs=4)\n",
    "    t_error = 1-clf.score(X_ts_a, y_ts)\n",
    "\n",
    "    # transfer loss (t)\n",
    "    # t_error - b_error\n",
    "    t_loss = t_error - b_error\n",
    "\n",
    "    tarea = src[0]+'->'+tgt[0]\n",
    "    df.loc[i] = ['GFK',tarea,src,tgt,b_error*100,t_error*100, t_loss*100]\n",
    "\n",
    "    i += 1\n",
    "            \n",
    "print \"\\nPruebas completadas.\""
   ]
  },
  {
   "cell_type": "code",
   "execution_count": 16,
   "metadata": {},
   "outputs": [
    {
     "data": {
      "text/html": [
       "<div>\n",
       "<style>\n",
       "    .dataframe thead tr:only-child th {\n",
       "        text-align: right;\n",
       "    }\n",
       "\n",
       "    .dataframe thead th {\n",
       "        text-align: left;\n",
       "    }\n",
       "\n",
       "    .dataframe tbody tr th {\n",
       "        vertical-align: top;\n",
       "    }\n",
       "</style>\n",
       "<table border=\"1\" class=\"dataframe\">\n",
       "  <thead>\n",
       "    <tr style=\"text-align: right;\">\n",
       "      <th></th>\n",
       "      <th>Adaptacion</th>\n",
       "      <th>Tarea</th>\n",
       "      <th>Fuente</th>\n",
       "      <th>Objetivo</th>\n",
       "      <th>Baseline error</th>\n",
       "      <th>Transfer error</th>\n",
       "      <th>Transfer loss</th>\n",
       "    </tr>\n",
       "  </thead>\n",
       "  <tbody>\n",
       "    <tr>\n",
       "      <th>0</th>\n",
       "      <td>GFK</td>\n",
       "      <td>r-&gt;t</td>\n",
       "      <td>rio2016</td>\n",
       "      <td>thevoice</td>\n",
       "      <td>7.362689</td>\n",
       "      <td>19.507576</td>\n",
       "      <td>12.144886</td>\n",
       "    </tr>\n",
       "    <tr>\n",
       "      <th>1</th>\n",
       "      <td>GFK</td>\n",
       "      <td>r-&gt;g</td>\n",
       "      <td>rio2016</td>\n",
       "      <td>general</td>\n",
       "      <td>26.998127</td>\n",
       "      <td>41.675847</td>\n",
       "      <td>14.677720</td>\n",
       "    </tr>\n",
       "    <tr>\n",
       "      <th>2</th>\n",
       "      <td>GFK</td>\n",
       "      <td>t-&gt;r</td>\n",
       "      <td>thevoice</td>\n",
       "      <td>rio2016</td>\n",
       "      <td>10.208711</td>\n",
       "      <td>24.274047</td>\n",
       "      <td>14.065336</td>\n",
       "    </tr>\n",
       "    <tr>\n",
       "      <th>3</th>\n",
       "      <td>GFK</td>\n",
       "      <td>t-&gt;g</td>\n",
       "      <td>thevoice</td>\n",
       "      <td>general</td>\n",
       "      <td>26.998127</td>\n",
       "      <td>43.242952</td>\n",
       "      <td>16.244825</td>\n",
       "    </tr>\n",
       "    <tr>\n",
       "      <th>4</th>\n",
       "      <td>GFK</td>\n",
       "      <td>g-&gt;r</td>\n",
       "      <td>general</td>\n",
       "      <td>rio2016</td>\n",
       "      <td>10.208711</td>\n",
       "      <td>22.368421</td>\n",
       "      <td>12.159710</td>\n",
       "    </tr>\n",
       "    <tr>\n",
       "      <th>5</th>\n",
       "      <td>GFK</td>\n",
       "      <td>g-&gt;t</td>\n",
       "      <td>general</td>\n",
       "      <td>thevoice</td>\n",
       "      <td>7.362689</td>\n",
       "      <td>25.426136</td>\n",
       "      <td>18.063447</td>\n",
       "    </tr>\n",
       "  </tbody>\n",
       "</table>\n",
       "</div>"
      ],
      "text/plain": [
       "  Adaptacion Tarea    Fuente  Objetivo  Baseline error  Transfer error  \\\n",
       "0        GFK  r->t   rio2016  thevoice        7.362689       19.507576   \n",
       "1        GFK  r->g   rio2016   general       26.998127       41.675847   \n",
       "2        GFK  t->r  thevoice   rio2016       10.208711       24.274047   \n",
       "3        GFK  t->g  thevoice   general       26.998127       43.242952   \n",
       "4        GFK  g->r   general   rio2016       10.208711       22.368421   \n",
       "5        GFK  g->t   general  thevoice        7.362689       25.426136   \n",
       "\n",
       "   Transfer loss  \n",
       "0      12.144886  \n",
       "1      14.677720  \n",
       "2      14.065336  \n",
       "3      16.244825  \n",
       "4      12.159710  \n",
       "5      18.063447  "
      ]
     },
     "execution_count": 16,
     "metadata": {},
     "output_type": "execute_result"
    }
   ],
   "source": [
    "df"
   ]
  },
  {
   "cell_type": "code",
   "execution_count": 17,
   "metadata": {},
   "outputs": [
    {
     "name": "stdout",
     "output_type": "stream",
     "text": [
      "Guardando en scores/twitter/gfk/me1_2000.csv\n",
      "Resultados guardados.\n"
     ]
    }
   ],
   "source": [
    "new_scores_path = os.path.join(scores_path,dataset_name, tipo, \"me1_%d.csv\" % (dims))\n",
    "\n",
    "print \"Guardando en %s\" % new_scores_path\n",
    "df.to_csv(new_scores_path, columns=df.columns)\n",
    "print \"Resultados guardados.\""
   ]
  },
  {
   "cell_type": "markdown",
   "metadata": {},
   "source": [
    "# Pruebas con el dataset Twitter (1000 Dimensiones)"
   ]
  },
  {
   "cell_type": "code",
   "execution_count": 18,
   "metadata": {
    "collapsed": true
   },
   "outputs": [],
   "source": [
    "dims = 1000"
   ]
  },
  {
   "cell_type": "code",
   "execution_count": 19,
   "metadata": {},
   "outputs": [
    {
     "name": "stdout",
     "output_type": "stream",
     "text": [
      "gfk\n",
      "twitter\n",
      "1000\n",
      "data\n"
     ]
    }
   ],
   "source": [
    "print tipo\n",
    "print dataset_name\n",
    "print dims\n",
    "print data_path"
   ]
  },
  {
   "cell_type": "code",
   "execution_count": 20,
   "metadata": {},
   "outputs": [
    {
     "name": "stdout",
     "output_type": "stream",
     "text": [
      "Dataset already splitted\n"
     ]
    }
   ],
   "source": [
    "# cargando dataset Twitter\n",
    "dataset_path = os.path.join(data_path, dataset_name+'.pkl')\n",
    "dataset_object = Dataset().load(dataset_path)\n",
    "\n",
    "dataset_object.split_dataset(test_size=0.2)\n",
    "\n",
    "labeled = dataset_object.labeled\n",
    "domains = dataset_object.domains"
   ]
  },
  {
   "cell_type": "markdown",
   "metadata": {},
   "source": [
    "## Creación de modelos de adaptación"
   ]
  },
  {
   "cell_type": "code",
   "execution_count": 21,
   "metadata": {},
   "outputs": [
    {
     "name": "stdout",
     "output_type": "stream",
     "text": [
      "Creando modelos de adaptacion...\n",
      "rio2016\n",
      "\tEntrenando modelo 0\n",
      "\tGuardando modelo en models/twitter/gfk/me1_1000_rio2016_0.pkl\n",
      "\tEntrenando modelo 1\n",
      "\tGuardando modelo en models/twitter/gfk/me1_1000_rio2016_1.pkl\n",
      "\tEntrenando modelo 2\n",
      "\tGuardando modelo en models/twitter/gfk/me1_1000_rio2016_2.pkl\n",
      "\tEntrenando modelo 3\n",
      "\tGuardando modelo en models/twitter/gfk/me1_1000_rio2016_3.pkl\n",
      "\tEntrenando modelo 4\n",
      "\tGuardando modelo en models/twitter/gfk/me1_1000_rio2016_4.pkl\n",
      "\tEntrenando modelo 5\n",
      "\tGuardando modelo en models/twitter/gfk/me1_1000_rio2016_5.pkl\n",
      "thevoice\n",
      "\tEntrenando modelo 0\n",
      "\tGuardando modelo en models/twitter/gfk/me1_1000_thevoice_0.pkl\n",
      "\tEntrenando modelo 1\n",
      "\tGuardando modelo en models/twitter/gfk/me1_1000_thevoice_1.pkl\n",
      "\tEntrenando modelo 2\n",
      "\tGuardando modelo en models/twitter/gfk/me1_1000_thevoice_2.pkl\n",
      "\tEntrenando modelo 3\n",
      "\tGuardando modelo en models/twitter/gfk/me1_1000_thevoice_3.pkl\n",
      "\tEntrenando modelo 4\n",
      "\tGuardando modelo en models/twitter/gfk/me1_1000_thevoice_4.pkl\n",
      "\tEntrenando modelo 5\n",
      "\tGuardando modelo en models/twitter/gfk/me1_1000_thevoice_5.pkl\n",
      "general\n",
      "\tEntrenando modelo 0\n",
      "\tGuardando modelo en models/twitter/gfk/me1_1000_general_0.pkl\n",
      "\tEntrenando modelo 1\n",
      "\tGuardando modelo en models/twitter/gfk/me1_1000_general_1.pkl\n",
      "\tEntrenando modelo 2\n",
      "\tGuardando modelo en models/twitter/gfk/me1_1000_general_2.pkl\n",
      "\tEntrenando modelo 3\n",
      "\tGuardando modelo en models/twitter/gfk/me1_1000_general_3.pkl\n",
      "\tEntrenando modelo 4\n",
      "\tGuardando modelo en models/twitter/gfk/me1_1000_general_4.pkl\n",
      "\tEntrenando modelo 5\n",
      "\tGuardando modelo en models/twitter/gfk/me1_1000_general_5.pkl\n",
      "\n",
      "Creacion de modelos terminada\n",
      "Guardando rutas en models/twitter/gfk/me1_1000_models_paths.pkl\n",
      "Rutas cargadas en la variable 'paths_dict'\n"
     ]
    }
   ],
   "source": [
    "models_paths = os.path.join(models_path, dataset_name, tipo, 'me1_%d_models_paths.pkl' % dims)\n",
    "paths_dict = {}\n",
    "\n",
    "# si existe el archivo con las rutas\n",
    "# se carga la lista con las rutas\n",
    "if os.path.exists(models_paths):    \n",
    "    print \"Cargando rutas de modelos adaptados.\"\n",
    "    paths_dict = joblib.load(models_paths)\n",
    "    print \"Rutas cargadas en la variable 'paths_dict'\"\n",
    "\n",
    "# si no\n",
    "# se entrenan los modelos y se obtiene la lista con rutas\n",
    "else:\n",
    "    #se establecen los parametros para los modelos\n",
    "    parameters = {\n",
    "        'dims': [int(dims/4), int(dims/2)],\n",
    "        'n_subs': [10, 20, 50]\n",
    "    }\n",
    "    \n",
    "    print \"Creando modelos de adaptacion...\"\n",
    "    for target_domain in domains:\n",
    "        print target_domain\n",
    "        X , X_tgt = get_source_target_train_data(target_domain, dataset_object)\n",
    "        X = X[:, :dims]\n",
    "        X_tgt = X_tgt[:, :dims]\n",
    "        \n",
    "        folder_path = os.path.join(models_path, dataset_name, tipo)\n",
    "        prefix = \"me1_%d_%s_\" % (dims, target_domain)\n",
    "        \n",
    "        new_paths = gfk_train_all(X, X_tgt, parameters, folder_path, prefix)\n",
    "    \n",
    "        paths_dict[target_domain] = new_paths\n",
    "    \n",
    "    print \"\\nCreacion de modelos terminada\\nGuardando rutas en %s\" % models_paths\n",
    "    joblib.dump(paths_dict, models_paths)\n",
    "    print \"Rutas cargadas en la variable 'paths_dict'\""
   ]
  },
  {
   "cell_type": "code",
   "execution_count": 22,
   "metadata": {},
   "outputs": [
    {
     "name": "stdout",
     "output_type": "stream",
     "text": [
      "Modelos almacenados en:\n",
      "thevoice\n",
      "\tmodels/twitter/gfk/me1_1000_thevoice_0.pkl\n",
      "\tmodels/twitter/gfk/me1_1000_thevoice_1.pkl\n",
      "\tmodels/twitter/gfk/me1_1000_thevoice_2.pkl\n",
      "\tmodels/twitter/gfk/me1_1000_thevoice_3.pkl\n",
      "\tmodels/twitter/gfk/me1_1000_thevoice_4.pkl\n",
      "\tmodels/twitter/gfk/me1_1000_thevoice_5.pkl\n",
      "rio2016\n",
      "\tmodels/twitter/gfk/me1_1000_rio2016_0.pkl\n",
      "\tmodels/twitter/gfk/me1_1000_rio2016_1.pkl\n",
      "\tmodels/twitter/gfk/me1_1000_rio2016_2.pkl\n",
      "\tmodels/twitter/gfk/me1_1000_rio2016_3.pkl\n",
      "\tmodels/twitter/gfk/me1_1000_rio2016_4.pkl\n",
      "\tmodels/twitter/gfk/me1_1000_rio2016_5.pkl\n",
      "general\n",
      "\tmodels/twitter/gfk/me1_1000_general_0.pkl\n",
      "\tmodels/twitter/gfk/me1_1000_general_1.pkl\n",
      "\tmodels/twitter/gfk/me1_1000_general_2.pkl\n",
      "\tmodels/twitter/gfk/me1_1000_general_3.pkl\n",
      "\tmodels/twitter/gfk/me1_1000_general_4.pkl\n",
      "\tmodels/twitter/gfk/me1_1000_general_5.pkl\n"
     ]
    }
   ],
   "source": [
    "print \"Modelos almacenados en:\"\n",
    "for dominio, rutas in paths_dict.items():\n",
    "    print dominio\n",
    "    for ruta in rutas:\n",
    "        print \"\\t\", ruta     "
   ]
  },
  {
   "cell_type": "code",
   "execution_count": 23,
   "metadata": {},
   "outputs": [
    {
     "name": "stdout",
     "output_type": "stream",
     "text": [
      "Obteniendo mejores modelos...\n",
      "src: rio2016 - tgt: thevoice\n",
      "score: 0.7387\n",
      "score: 0.8107\n",
      "score: 0.8463\n",
      "score: 0.7367\n",
      "score: 0.8107\n",
      "score: 0.8463\n",
      "src: rio2016 - tgt: general\n",
      "score: 0.7568\n",
      "score: 0.8369\n",
      "score: 0.8644\n",
      "score: 0.7555\n",
      "score: 0.8369\n",
      "score: 0.8644\n",
      "src: thevoice - tgt: rio2016\n",
      "score: 0.6464\n",
      "score: 0.6987\n",
      "score: 0.7763\n",
      "score: 0.6464\n",
      "score: 0.6973\n",
      "score: 0.7763\n",
      "src: thevoice - tgt: general\n",
      "score: 0.6297\n",
      "score: 0.7234\n",
      "score: 0.7924\n",
      "score: 0.6292\n",
      "score: 0.7243\n",
      "score: 0.7924\n",
      "src: general - tgt: rio2016\n",
      "score: 0.5950\n",
      "score: 0.6269\n",
      "score: 0.6383\n",
      "score: 0.5938\n",
      "score: 0.6269\n",
      "score: 0.6390\n",
      "src: general - tgt: thevoice\n",
      "score: 0.6199\n",
      "score: 0.6384\n",
      "score: 0.6505\n",
      "score: 0.6199\n",
      "score: 0.6365\n",
      "score: 0.6532\n",
      "Rutas guardadas en  models/twitter/gfk/me1_1000_best_models.pkl\n"
     ]
    }
   ],
   "source": [
    "best_models_paths = os.path.join(models_path, dataset_name, tipo, \"me1_%d_best_models.pkl\" % dims)\n",
    "best_models = {}\n",
    "\n",
    "if os.path.exists(best_models_paths):\n",
    "    print \"Cargando rutas de los mejores modelos...\"\n",
    "    best_models = joblib.load(best_models_paths)\n",
    "    print \"Rutas cargadas\"\n",
    "else:\n",
    "    print \"Obteniendo mejores modelos...\"\n",
    "    pairs = list(itertools.permutations(domains, 2))\n",
    "    \n",
    "    for src, tgt in pairs:\n",
    "        print \"src: %s - tgt: %s\" % (src, tgt)\n",
    "        rutas = paths_dict[tgt]\n",
    "        \n",
    "         # se obtienen los datos del dominio\n",
    "        X_tr = labeled[src]['X_tr'][:, :dims].todense()\n",
    "        y_tr = np.asarray(labeled[src]['y_tr'].todense()).argmax(axis=1)\n",
    "        \n",
    "        mejor_score = 0\n",
    "        best_path = None\n",
    "        for ruta in rutas:\n",
    "            gfk = joblib.load(ruta)\n",
    "            X_deep = transform_gfk(X_tr, gfk)\n",
    "            \n",
    "            # se obtiene el mejor score con GridSearch\n",
    "            new_clf = get_best_score(X_deep, y_tr, classifier='SVC', n_jobs=4)\n",
    "            new_score = new_clf.best_score_\n",
    "            \n",
    "            print \"score: %.4f\" % new_score\n",
    "            # se guarda si es el mejor para el modelo\n",
    "            if new_score > mejor_score:\n",
    "                mejor_score = new_score\n",
    "                best_path = ruta\n",
    "        \n",
    "        # se guarda la ruta del mejor modelo\n",
    "        best_models[(src, tgt)] = best_path\n",
    "    \n",
    "    # se guarda el diccionario con las mejores rutas\n",
    "    joblib.dump(best_models, best_models_paths)\n",
    "    print \"Rutas guardadas en \", best_models_paths"
   ]
  },
  {
   "cell_type": "code",
   "execution_count": 24,
   "metadata": {},
   "outputs": [
    {
     "name": "stdout",
     "output_type": "stream",
     "text": [
      "('general', 'thevoice') - models/twitter/gfk/me1_1000_thevoice_5.pkl\n",
      "('rio2016', 'general') - models/twitter/gfk/me1_1000_general_2.pkl\n",
      "('general', 'rio2016') - models/twitter/gfk/me1_1000_rio2016_5.pkl\n",
      "('thevoice', 'general') - models/twitter/gfk/me1_1000_general_2.pkl\n",
      "('thevoice', 'rio2016') - models/twitter/gfk/me1_1000_rio2016_2.pkl\n",
      "('rio2016', 'thevoice') - models/twitter/gfk/me1_1000_thevoice_2.pkl\n"
     ]
    }
   ],
   "source": [
    "for dominios, ruta in best_models.items():\n",
    "    print \"%s - %s\" % (dominios, ruta)"
   ]
  },
  {
   "cell_type": "markdown",
   "metadata": {
    "collapsed": true
   },
   "source": [
    "## Pruebas de clasificación"
   ]
  },
  {
   "cell_type": "code",
   "execution_count": 25,
   "metadata": {},
   "outputs": [
    {
     "name": "stdout",
     "output_type": "stream",
     "text": [
      "Tarea 1 de 6\n",
      "Cargando modelo existente.\n",
      "Adaptando dominios...\n",
      "Tarea 2 de 6\n",
      "Cargando modelo existente.\n",
      "Adaptando dominios...\n",
      "Tarea 3 de 6\n",
      "Cargando modelo existente.\n",
      "Adaptando dominios...\n",
      "Tarea 4 de 6\n",
      "Cargando modelo existente.\n",
      "Adaptando dominios...\n",
      "Tarea 5 de 6\n",
      "Cargando modelo existente.\n",
      "Adaptando dominios...\n",
      "Tarea 6 de 6\n",
      "Cargando modelo existente.\n",
      "Adaptando dominios...\n",
      "\n",
      "Pruebas completadas.\n"
     ]
    }
   ],
   "source": [
    "df = pd.DataFrame(columns=dataframe_columns)\n",
    "\n",
    "i=0\n",
    "tareas = len(domains)*(len(domains)-1)\n",
    "pairs = list(itertools.permutations(domains, 2))\n",
    "\n",
    "# por cada par posible para adaptar\n",
    "for src, tgt in pairs:\n",
    "    #se carga el mejor modelo para el par de dominios\n",
    "    ruta = best_models[(src, tgt)]\n",
    "    modelo = joblib.load(ruta)\n",
    "\n",
    "    print \"Tarea %d de %d\" % (i+1, tareas)\n",
    "\n",
    "    #baseline in-domain error\n",
    "    #e_b(T,T)\n",
    "    #entrenado en dominio tgt y probado en dominio tgt\n",
    "    X_tr = labeled[tgt]['X_tr'][:, :dims].todense()\n",
    "    y_tr = np.asarray(labeled[tgt]['y_tr'].todense()).argmax(axis=1)\n",
    "\n",
    "    X_ts =labeled[tgt]['X_ts'][:, :dims].todense()\n",
    "    y_ts = np.asarray(labeled[tgt]['y_ts'].todense()).argmax(axis=1)\n",
    "\n",
    "    # se crean las rutas para cargar o crear los modelos\n",
    "    model_name = \"%d_%s.pkl\" % (dims, tgt)\n",
    "    model_path = os.path.join(models_path, dataset_name, \"indomain\", model_name)\n",
    "\n",
    "    #Se realiza una clasificacion, estimando los parametros mediante cv\n",
    "    svc = load_best_score(model_path, X_tr, y_tr)\n",
    "    b_error = 1-svc.score(X_ts, y_ts)\n",
    "\n",
    "    #############\n",
    "    #### GFK ####\n",
    "    #############\n",
    "    # se adaptan los dominios usando GFK\n",
    "    print \"Adaptando dominios...\"\n",
    "    X_tr = labeled[src]['X_tr'][:, :dims].todense()\n",
    "    X_tr_a = transform_gfk(X_tr, modelo)\n",
    "    y_tr = np.asarray(labeled[src]['y_tr'].todense()).argmax(axis=1)\n",
    "\n",
    "    X_ts = labeled[tgt]['X_ts'][:, :dims].todense()\n",
    "    X_ts_a = transform_gfk(X_ts, modelo)\n",
    "    y_ts = np.asarray(labeled[tgt]['y_ts'].todense()).argmax(axis=1)\n",
    "\n",
    "    # se calcula el transfer error\n",
    "    clf = get_best_score(X_tr_a, y_tr, classifier='SVC', n_jobs=4)\n",
    "    t_error = 1-clf.score(X_ts_a, y_ts)\n",
    "\n",
    "    # transfer loss (t)\n",
    "    # t_error - b_error\n",
    "    t_loss = t_error - b_error\n",
    "\n",
    "    tarea = src[0]+'->'+tgt[0]\n",
    "    df.loc[i] = ['GFK',tarea,src,tgt,b_error*100,t_error*100, t_loss*100]\n",
    "\n",
    "    i += 1\n",
    "            \n",
    "print \"\\nPruebas completadas.\""
   ]
  },
  {
   "cell_type": "code",
   "execution_count": 26,
   "metadata": {},
   "outputs": [
    {
     "data": {
      "text/html": [
       "<div>\n",
       "<style>\n",
       "    .dataframe thead tr:only-child th {\n",
       "        text-align: right;\n",
       "    }\n",
       "\n",
       "    .dataframe thead th {\n",
       "        text-align: left;\n",
       "    }\n",
       "\n",
       "    .dataframe tbody tr th {\n",
       "        vertical-align: top;\n",
       "    }\n",
       "</style>\n",
       "<table border=\"1\" class=\"dataframe\">\n",
       "  <thead>\n",
       "    <tr style=\"text-align: right;\">\n",
       "      <th></th>\n",
       "      <th>Adaptacion</th>\n",
       "      <th>Tarea</th>\n",
       "      <th>Fuente</th>\n",
       "      <th>Objetivo</th>\n",
       "      <th>Baseline error</th>\n",
       "      <th>Transfer error</th>\n",
       "      <th>Transfer loss</th>\n",
       "    </tr>\n",
       "  </thead>\n",
       "  <tbody>\n",
       "    <tr>\n",
       "      <th>0</th>\n",
       "      <td>GFK</td>\n",
       "      <td>r-&gt;t</td>\n",
       "      <td>rio2016</td>\n",
       "      <td>thevoice</td>\n",
       "      <td>19.045928</td>\n",
       "      <td>23.839962</td>\n",
       "      <td>4.794034</td>\n",
       "    </tr>\n",
       "    <tr>\n",
       "      <th>1</th>\n",
       "      <td>GFK</td>\n",
       "      <td>r-&gt;g</td>\n",
       "      <td>rio2016</td>\n",
       "      <td>general</td>\n",
       "      <td>30.407980</td>\n",
       "      <td>43.374691</td>\n",
       "      <td>12.966712</td>\n",
       "    </tr>\n",
       "    <tr>\n",
       "      <th>2</th>\n",
       "      <td>GFK</td>\n",
       "      <td>t-&gt;r</td>\n",
       "      <td>thevoice</td>\n",
       "      <td>rio2016</td>\n",
       "      <td>7.372958</td>\n",
       "      <td>21.211434</td>\n",
       "      <td>13.838475</td>\n",
       "    </tr>\n",
       "    <tr>\n",
       "      <th>3</th>\n",
       "      <td>GFK</td>\n",
       "      <td>t-&gt;g</td>\n",
       "      <td>thevoice</td>\n",
       "      <td>general</td>\n",
       "      <td>30.407980</td>\n",
       "      <td>44.225261</td>\n",
       "      <td>13.817281</td>\n",
       "    </tr>\n",
       "    <tr>\n",
       "      <th>4</th>\n",
       "      <td>GFK</td>\n",
       "      <td>g-&gt;r</td>\n",
       "      <td>general</td>\n",
       "      <td>rio2016</td>\n",
       "      <td>7.372958</td>\n",
       "      <td>21.438294</td>\n",
       "      <td>14.065336</td>\n",
       "    </tr>\n",
       "    <tr>\n",
       "      <th>5</th>\n",
       "      <td>GFK</td>\n",
       "      <td>g-&gt;t</td>\n",
       "      <td>general</td>\n",
       "      <td>thevoice</td>\n",
       "      <td>19.045928</td>\n",
       "      <td>26.136364</td>\n",
       "      <td>7.090436</td>\n",
       "    </tr>\n",
       "  </tbody>\n",
       "</table>\n",
       "</div>"
      ],
      "text/plain": [
       "  Adaptacion Tarea    Fuente  Objetivo  Baseline error  Transfer error  \\\n",
       "0        GFK  r->t   rio2016  thevoice       19.045928       23.839962   \n",
       "1        GFK  r->g   rio2016   general       30.407980       43.374691   \n",
       "2        GFK  t->r  thevoice   rio2016        7.372958       21.211434   \n",
       "3        GFK  t->g  thevoice   general       30.407980       44.225261   \n",
       "4        GFK  g->r   general   rio2016        7.372958       21.438294   \n",
       "5        GFK  g->t   general  thevoice       19.045928       26.136364   \n",
       "\n",
       "   Transfer loss  \n",
       "0       4.794034  \n",
       "1      12.966712  \n",
       "2      13.838475  \n",
       "3      13.817281  \n",
       "4      14.065336  \n",
       "5       7.090436  "
      ]
     },
     "execution_count": 26,
     "metadata": {},
     "output_type": "execute_result"
    }
   ],
   "source": [
    "df"
   ]
  },
  {
   "cell_type": "code",
   "execution_count": 27,
   "metadata": {},
   "outputs": [
    {
     "name": "stdout",
     "output_type": "stream",
     "text": [
      "Guardando en scores/twitter/gfk/me1_1000.csv\n",
      "Resultados guardados.\n"
     ]
    }
   ],
   "source": [
    "new_scores_path = os.path.join(scores_path,dataset_name, tipo, \"me1_%d.csv\" % (dims))\n",
    "\n",
    "print \"Guardando en %s\" % new_scores_path\n",
    "df.to_csv(new_scores_path, columns=df.columns)\n",
    "print \"Resultados guardados.\""
   ]
  }
 ],
 "metadata": {
  "kernelspec": {
   "display_name": "Python 2",
   "language": "python",
   "name": "python2"
  },
  "language_info": {
   "codemirror_mode": {
    "name": "ipython",
    "version": 2
   },
   "file_extension": ".py",
   "mimetype": "text/x-python",
   "name": "python",
   "nbconvert_exporter": "python",
   "pygments_lexer": "ipython2",
   "version": "2.7.13"
  }
 },
 "nbformat": 4,
 "nbformat_minor": 2
}
