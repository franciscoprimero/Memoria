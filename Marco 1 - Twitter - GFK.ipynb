{
 "cells": [
  {
   "cell_type": "markdown",
   "metadata": {},
   "source": [
    "# GFK"
   ]
  },
  {
   "cell_type": "code",
   "execution_count": 1,
   "metadata": {
    "collapsed": true
   },
   "outputs": [],
   "source": [
    "%load_ext autoreload\n",
    "%autoreload 2"
   ]
  },
  {
   "cell_type": "code",
   "execution_count": 2,
   "metadata": {},
   "outputs": [
    {
     "name": "stderr",
     "output_type": "stream",
     "text": [
      "Using Theano backend.\n",
      "/home/francisco/miniconda2/envs/env_memoria/lib/python2.7/site-packages/sklearn/cross_validation.py:44: DeprecationWarning: This module was deprecated in version 0.18 in favor of the model_selection module into which all the refactored classes and functions are moved. Also note that the interface of the new CV iterators are different from that of this module. This module will be removed in 0.20.\n",
      "  \"This module will be removed in 0.20.\", DeprecationWarning)\n",
      "/home/francisco/miniconda2/envs/env_memoria/lib/python2.7/site-packages/sklearn/grid_search.py:43: DeprecationWarning: This module was deprecated in version 0.18 in favor of the model_selection module into which all the refactored classes and functions are moved. This module will be removed in 0.20.\n",
      "  DeprecationWarning)\n"
     ]
    }
   ],
   "source": [
    "#adaptacion\n",
    "from utils.adaptacion import gfk_train_all, transform_gfk, gfk_compute_accuracy\n",
    "\n",
    "#clasificadores\n",
    "from sklearn.neighbors import KNeighborsClassifier\n",
    "from sklearn.svm import SVC\n",
    "from utils.clasificacion import *\n",
    "\n",
    "#carga de datasets\n",
    "from utils.DatasetStorage import Dataset\n",
    "from utils.paths import *\n",
    "\n",
    "#otros\n",
    "import os\n",
    "import numpy as np\n",
    "import pandas as pd\n",
    "from sklearn.externals import joblib\n",
    "\n",
    "#variables para guardar los resultados\n",
    "tipo = pruebas[2]\n",
    "dataset_name = datasets[1]\n",
    "dims = dimensions[dataset_name]"
   ]
  },
  {
   "cell_type": "markdown",
   "metadata": {},
   "source": [
    "## Pruebas con el dataset Amazon"
   ]
  },
  {
   "cell_type": "code",
   "execution_count": 3,
   "metadata": {},
   "outputs": [
    {
     "name": "stdout",
     "output_type": "stream",
     "text": [
      "gfk\n",
      "twitter\n",
      "1000\n",
      "data\n"
     ]
    }
   ],
   "source": [
    "print tipo\n",
    "print dataset_name\n",
    "print dims\n",
    "print data_path"
   ]
  },
  {
   "cell_type": "code",
   "execution_count": 4,
   "metadata": {},
   "outputs": [
    {
     "name": "stdout",
     "output_type": "stream",
     "text": [
      "Dataset already splitted\n"
     ]
    }
   ],
   "source": [
    "# cargando dataset Amazon\n",
    "dataset_path = os.path.join(data_path, dataset_name+'.pkl')\n",
    "dataset_object = Dataset().load(dataset_path)\n",
    "\n",
    "dataset_object.split_dataset(test_size=0.2)\n",
    "\n",
    "labeled = dataset_object.labeled\n",
    "domains = dataset_object.domains"
   ]
  },
  {
   "cell_type": "code",
   "execution_count": 5,
   "metadata": {},
   "outputs": [
    {
     "name": "stdout",
     "output_type": "stream",
     "text": [
      "(5792, 1000)\n",
      "Todos los datos disponibles obtenidos\n"
     ]
    }
   ],
   "source": [
    "# se obtienen todos los valores X disponibles para realizar adaptacion\n",
    "X = dataset_object.get_all_X()\n",
    "X = np.asarray(X)\n",
    "\n",
    "print X.shape\n",
    "\n",
    "print \"Todos los datos disponibles obtenidos\""
   ]
  },
  {
   "cell_type": "markdown",
   "metadata": {},
   "source": [
    "# Adaptación\n",
    "\n",
    "## Creación de modelos de adaptación.\n",
    "\n",
    "Para cada dominio se entrenan distintos modelos según los parámetros enviados.\n",
    "\n",
    "Cada modelo es guardado en la ruta: models/twitter/gfk/me1\\_[dominio\\_objetivo]_[numero_de_modelo].pkl\n",
    "\n",
    "Todas las rutas son guardadas en un diccionario separado por dominios, en donde cada dominio contiene una lista con las rutas. El diccionario es almacenado en: models/twitter/gfk/me1_models_paths.pkl\n"
   ]
  },
  {
   "cell_type": "code",
   "execution_count": 6,
   "metadata": {},
   "outputs": [
    {
     "name": "stdout",
     "output_type": "stream",
     "text": [
      "Creando modelos de adaptacion...\n",
      "thevoice\n",
      "\tEntrenando modelo 0\n",
      "\tGuardando modelo en models/twitter/gfk/me1_thevoice_0.pkl \n",
      "\tEntrenando modelo 1\n",
      "\tGuardando modelo en models/twitter/gfk/me1_thevoice_1.pkl \n",
      "\tEntrenando modelo 2\n",
      "\tGuardando modelo en models/twitter/gfk/me1_thevoice_2.pkl \n",
      "\tEntrenando modelo 3\n",
      "\tGuardando modelo en models/twitter/gfk/me1_thevoice_3.pkl \n",
      "\tEntrenando modelo 4\n",
      "\tGuardando modelo en models/twitter/gfk/me1_thevoice_4.pkl \n",
      "\tEntrenando modelo 5\n",
      "\tGuardando modelo en models/twitter/gfk/me1_thevoice_5.pkl \n",
      "general\n",
      "\tEntrenando modelo 0\n",
      "\tGuardando modelo en models/twitter/gfk/me1_general_0.pkl \n",
      "\tEntrenando modelo 1\n",
      "\tGuardando modelo en models/twitter/gfk/me1_general_1.pkl \n",
      "\tEntrenando modelo 2\n",
      "\tGuardando modelo en models/twitter/gfk/me1_general_2.pkl \n",
      "\tEntrenando modelo 3\n",
      "\tGuardando modelo en models/twitter/gfk/me1_general_3.pkl \n",
      "\tEntrenando modelo 4\n",
      "\tGuardando modelo en models/twitter/gfk/me1_general_4.pkl \n",
      "\tEntrenando modelo 5\n",
      "\tGuardando modelo en models/twitter/gfk/me1_general_5.pkl \n",
      "rio2016\n",
      "\tEntrenando modelo 0\n",
      "\tGuardando modelo en models/twitter/gfk/me1_rio2016_0.pkl \n",
      "\tEntrenando modelo 1\n",
      "\tGuardando modelo en models/twitter/gfk/me1_rio2016_1.pkl \n",
      "\tEntrenando modelo 2\n",
      "\tGuardando modelo en models/twitter/gfk/me1_rio2016_2.pkl \n",
      "\tEntrenando modelo 3\n",
      "\tGuardando modelo en models/twitter/gfk/me1_rio2016_3.pkl \n",
      "\tEntrenando modelo 4\n",
      "\tGuardando modelo en models/twitter/gfk/me1_rio2016_4.pkl \n",
      "\tEntrenando modelo 5\n",
      "\tGuardando modelo en models/twitter/gfk/me1_rio2016_5.pkl \n",
      "\n",
      "Creacion de modelos terminada\n",
      "Guardando rutas en models/twitter/gfk/me1_models_paths.pkl\n",
      "Rutas cargadas en la variable 'paths_dict'\n"
     ]
    }
   ],
   "source": [
    "models_paths = os.path.join(models_path, dataset_name, tipo, 'me1_models_paths.pkl')\n",
    "paths_dict = {}\n",
    "\n",
    "# si existe el archivo con las rutas\n",
    "# se carga la lista con las rutas\n",
    "if os.path.exists(models_paths):    \n",
    "    print \"Cargando rutas de modelos adaptados.\"\n",
    "    paths_dict = joblib.load(models_paths)\n",
    "    print \"Rutas cargadas en la variable 'paths_dict'\"\n",
    "\n",
    "# si no\n",
    "# se entrenan los modelos y se obtiene la lista con rutas\n",
    "else:\n",
    "    #se establecen los parametros para los modelos\n",
    "    parameters = {\n",
    "        'dims': [int(dims/4), int(dims/2)],\n",
    "        'n_subs': [10, 20, 50]\n",
    "    }\n",
    "    \n",
    "    print \"Creando modelos de adaptacion...\"\n",
    "    for domain in domains:\n",
    "        print domain\n",
    "        X_tgt = np.asarray(labeled[domain]['X_tr'].todense())\n",
    "        \n",
    "        folder_path = os.path.join(models_path, dataset_name, tipo)\n",
    "        prefix = \"me1_\"+domain+\"_\"\n",
    "        \n",
    "        new_paths = gfk_train_all(X, X_tgt, parameters, folder_path, prefix)\n",
    "    \n",
    "        paths_dict[domain] = new_paths\n",
    "    \n",
    "    print \"\\nCreacion de modelos terminada\\nGuardando rutas en %s\" % models_paths\n",
    "    joblib.dump(paths_dict, models_paths)\n",
    "    print \"Rutas cargadas en la variable 'paths_dict'\""
   ]
  },
  {
   "cell_type": "code",
   "execution_count": 7,
   "metadata": {},
   "outputs": [
    {
     "name": "stdout",
     "output_type": "stream",
     "text": [
      "Modelos almacenados en:\n",
      "thevoice\n",
      "\tmodels/twitter/gfk/me1_thevoice_0.pkl \n",
      "\tmodels/twitter/gfk/me1_thevoice_1.pkl \n",
      "\tmodels/twitter/gfk/me1_thevoice_2.pkl \n",
      "\tmodels/twitter/gfk/me1_thevoice_3.pkl \n",
      "\tmodels/twitter/gfk/me1_thevoice_4.pkl \n",
      "\tmodels/twitter/gfk/me1_thevoice_5.pkl \n",
      "rio2016\n",
      "\tmodels/twitter/gfk/me1_rio2016_0.pkl \n",
      "\tmodels/twitter/gfk/me1_rio2016_1.pkl \n",
      "\tmodels/twitter/gfk/me1_rio2016_2.pkl \n",
      "\tmodels/twitter/gfk/me1_rio2016_3.pkl \n",
      "\tmodels/twitter/gfk/me1_rio2016_4.pkl \n",
      "\tmodels/twitter/gfk/me1_rio2016_5.pkl \n",
      "general\n",
      "\tmodels/twitter/gfk/me1_general_0.pkl \n",
      "\tmodels/twitter/gfk/me1_general_1.pkl \n",
      "\tmodels/twitter/gfk/me1_general_2.pkl \n",
      "\tmodels/twitter/gfk/me1_general_3.pkl \n",
      "\tmodels/twitter/gfk/me1_general_4.pkl \n",
      "\tmodels/twitter/gfk/me1_general_5.pkl \n"
     ]
    }
   ],
   "source": [
    "print \"Modelos almacenados en:\"\n",
    "for dominio, rutas in paths_dict.items():\n",
    "    print dominio\n",
    "    for ruta in rutas:\n",
    "        print \"\\t\", ruta     "
   ]
  },
  {
   "cell_type": "markdown",
   "metadata": {},
   "source": [
    "## Busqueda del mejor modelo por dominio\n",
    "\n",
    "Por cada dominio se busca el mejor modelo de adaptación.\n",
    "\n",
    "Esto se obtiene adaptando los datos de entrenamiento de cada dominio por cada modelo creado y realizando Grid-Search y Cross-Validation con estos datos.\n",
    "\n",
    "El modelo que logre un mejor valor de Cross-Validation es considerado el mejor modelo para adaptar y queda guardado en un diccionario de la forma:\n",
    "\n",
    "```python\n",
    "best_models = {\n",
    "    [dominio_1] = ruta,\n",
    "    .\n",
    "    .\n",
    "    .\n",
    "    [dominio_n] = ruta,\n",
    "}\n",
    "```\n",
    "\n",
    "Este diccionario queda almacenado en la ruta:\n",
    "    models/twitter/gfk/best_models.pkl"
   ]
  },
  {
   "cell_type": "code",
   "execution_count": 8,
   "metadata": {},
   "outputs": [
    {
     "name": "stdout",
     "output_type": "stream",
     "text": [
      "Obteniendo mejores modelos...\n",
      "thevoice\n"
     ]
    },
    {
     "name": "stderr",
     "output_type": "stream",
     "text": [
      "/home/francisco/miniconda2/envs/env_memoria/lib/python2.7/site-packages/sklearn/svm/base.py:220: ConvergenceWarning: Solver terminated early (max_iter=50000).  Consider pre-processing your data with StandardScaler or MinMaxScaler.\n",
      "  % self.max_iter, ConvergenceWarning)\n",
      "/home/francisco/miniconda2/envs/env_memoria/lib/python2.7/site-packages/sklearn/svm/base.py:220: ConvergenceWarning: Solver terminated early (max_iter=50000).  Consider pre-processing your data with StandardScaler or MinMaxScaler.\n",
      "  % self.max_iter, ConvergenceWarning)\n",
      "/home/francisco/miniconda2/envs/env_memoria/lib/python2.7/site-packages/sklearn/svm/base.py:220: ConvergenceWarning: Solver terminated early (max_iter=50000).  Consider pre-processing your data with StandardScaler or MinMaxScaler.\n",
      "  % self.max_iter, ConvergenceWarning)\n",
      "/home/francisco/miniconda2/envs/env_memoria/lib/python2.7/site-packages/sklearn/svm/base.py:220: ConvergenceWarning: Solver terminated early (max_iter=50000).  Consider pre-processing your data with StandardScaler or MinMaxScaler.\n",
      "  % self.max_iter, ConvergenceWarning)\n"
     ]
    },
    {
     "name": "stdout",
     "output_type": "stream",
     "text": [
      "score: 0.7046\n"
     ]
    },
    {
     "name": "stderr",
     "output_type": "stream",
     "text": [
      "/home/francisco/miniconda2/envs/env_memoria/lib/python2.7/site-packages/sklearn/svm/base.py:220: ConvergenceWarning: Solver terminated early (max_iter=50000).  Consider pre-processing your data with StandardScaler or MinMaxScaler.\n",
      "  % self.max_iter, ConvergenceWarning)\n"
     ]
    },
    {
     "name": "stdout",
     "output_type": "stream",
     "text": [
      "score: 0.7278\n",
      "score: 0.7645\n",
      "score: 0.7046\n",
      "score: 0.7278\n",
      "score: 0.7645\n",
      "general\n",
      "score: 0.5961\n",
      "score: 0.6237\n",
      "score: 0.6575\n",
      "score: 0.5961\n",
      "score: 0.6237\n",
      "score: 0.6577\n",
      "rio2016\n",
      "score: 0.7211\n",
      "score: 0.7737\n",
      "score: 0.7816\n",
      "score: 0.7211\n",
      "score: 0.7737\n",
      "score: 0.7816\n",
      "Rutas guardadas en  models/twitter/gfk/me1_best_models.pkl\n"
     ]
    }
   ],
   "source": [
    "best_models_paths = os.path.join(models_path, dataset_name, tipo, \"me1_best_models.pkl\")\n",
    "best_models = {}\n",
    "\n",
    "if os.path.exists(best_models_paths):\n",
    "    print \"Cargando rutas de los mejores modelos...\"\n",
    "    best_models = joblib.load(best_models_paths)\n",
    "    print \"Rutas cargadas\"\n",
    "else:\n",
    "    print \"Obteniendo mejores modelos...\"\n",
    "    for domain in domains:\n",
    "        print domain\n",
    "        rutas = paths_dict[domain]\n",
    "        \n",
    "         # se obtienen los datos del dominio\n",
    "        X_tr = np.asarray(labeled[domain]['X_tr'].todense())\n",
    "        y_tr = np.asarray(labeled[domain]['y_tr'].todense()).argmax(axis=1)\n",
    "        \n",
    "        mejor_score = 0\n",
    "        best_path = None\n",
    "        for ruta in rutas:\n",
    "            gfk = joblib.load(ruta)\n",
    "            X_deep = transform_gfk(X_tr, gfk)\n",
    "            \n",
    "            # se obtiene el mejor score con GridSearch\n",
    "            new_clf = get_best_score(X_deep, y_tr, classifier='SVC', n_jobs=4)\n",
    "            new_score = new_clf.best_score_\n",
    "            \n",
    "            print \"score: %.4f\" % new_score\n",
    "            # se guarda si es el mejor para el modelo\n",
    "            if new_score > mejor_score:\n",
    "                mejor_score = new_score\n",
    "                best_path = ruta\n",
    "        \n",
    "        # se guarda la ruta del mejor modelo\n",
    "        best_models[domain] = best_path\n",
    "    \n",
    "    # se guarda el diccionario con las mejores rutas\n",
    "    joblib.dump(best_models, best_models_paths)\n",
    "    print \"Rutas guardadas en \", best_models_paths"
   ]
  },
  {
   "cell_type": "code",
   "execution_count": 9,
   "metadata": {},
   "outputs": [
    {
     "name": "stdout",
     "output_type": "stream",
     "text": [
      "thevoice - models/twitter/gfk/me1_thevoice_2.pkl \n",
      "rio2016 - models/twitter/gfk/me1_rio2016_2.pkl \n",
      "general - models/twitter/gfk/me1_general_5.pkl \n"
     ]
    }
   ],
   "source": [
    "for dominio, ruta in best_models.items():\n",
    "    print \"%s - %s\" % (dominio, ruta)"
   ]
  },
  {
   "cell_type": "markdown",
   "metadata": {
    "collapsed": true
   },
   "source": [
    "## Pruebas de clasificación"
   ]
  },
  {
   "cell_type": "code",
   "execution_count": 10,
   "metadata": {},
   "outputs": [
    {
     "name": "stdout",
     "output_type": "stream",
     "text": [
      "Tarea 1 de 6\n",
      "Cargando modelo existente.\n",
      "Adaptando dominios...\n",
      "Tarea 2 de 6\n",
      "Cargando modelo existente.\n",
      "Adaptando dominios...\n",
      "Tarea 3 de 6\n",
      "Cargando modelo existente.\n",
      "Adaptando dominios...\n",
      "Tarea 4 de 6\n",
      "Cargando modelo existente.\n",
      "Adaptando dominios...\n",
      "Tarea 5 de 6\n",
      "Cargando modelo existente.\n",
      "Adaptando dominios...\n",
      "Tarea 6 de 6\n",
      "Cargando modelo existente.\n",
      "Adaptando dominios...\n",
      "\n",
      "Pruebas completadas.\n"
     ]
    }
   ],
   "source": [
    "df = pd.DataFrame(columns=dataframe_columns)\n",
    "\n",
    "i=1\n",
    "tareas = len(domains)*(len(domains)-1)\n",
    "\n",
    "# por cada par posible para adaptar\n",
    "for src in domains:\n",
    "    #se carga el mejor modelo para el dominio fuente\n",
    "    ruta = best_models[src]\n",
    "    modelo = joblib.load(ruta)\n",
    "    \n",
    "    for tgt in domains:\n",
    "        if src is not tgt:\n",
    "            print \"Tarea %d de %d\" % (i, tareas)\n",
    "            \n",
    "            #baseline in-domain error\n",
    "            #e_b(T,T)\n",
    "            #entrenado en dominio tgt y probado en dominio tgt\n",
    "            X_tr = np.asarray(labeled[tgt]['X_tr'].todense())\n",
    "            y_tr = np.asarray(labeled[tgt]['y_tr'].todense()).argmax(axis=1)\n",
    "            \n",
    "            X_ts = np.asarray(labeled[tgt]['X_ts'].todense())\n",
    "            y_ts = np.asarray(labeled[tgt]['y_ts'].todense()).argmax(axis=1)\n",
    "            \n",
    "            # se crean las rutas para cargar o crear los modelos\n",
    "            model_name = \"%s.pkl\" % (tgt)\n",
    "            model_path = os.path.join(models_path, dataset_name, \"indomain\", model_name)\n",
    "            \n",
    "            #Se realiza una clasificacion, estimando los parametros mediante cv\n",
    "            svc = load_best_score(model_path, X_tr, y_tr)\n",
    "            b_error = 1-svc.score(X_ts, y_ts)\n",
    "            \n",
    "            #############\n",
    "            #### GFK ####\n",
    "            #############\n",
    "            # se adaptan los dominios usando GFK\n",
    "            print \"Adaptando dominios...\"\n",
    "            X_tr = np.asarray(labeled[src]['X_tr'].todense())\n",
    "            X_tr_a = transform_gfk(X_tr, modelo)\n",
    "            y_tr = np.asarray(labeled[src]['y_tr'].todense()).argmax(axis=1)\n",
    "            \n",
    "            X_ts = np.asarray(labeled[tgt]['X_ts'].todense())\n",
    "            X_ts_a = transform_gfk(X_ts, modelo)\n",
    "            y_ts = np.asarray(labeled[tgt]['y_ts'].todense()).argmax(axis=1)\n",
    "            \n",
    "            # se calcula el transfer error\n",
    "            clf = get_best_score(X_tr_a, y_tr, classifier='SVC', n_jobs=4)\n",
    "            t_error = 1-clf.score(X_ts_a, y_ts)\n",
    "            \n",
    "            # transfer loss (t)\n",
    "            # t_error - b_error\n",
    "            t_loss = t_error - b_error\n",
    "            \n",
    "            tarea = src[0]+'->'+tgt[0]\n",
    "            df.loc[i] = ['GFK',tarea,src,tgt,b_error*100,t_error*100, t_loss*100]\n",
    "            \n",
    "            i += 1\n",
    "            \n",
    "print \"\\nPruebas completadas.\""
   ]
  },
  {
   "cell_type": "code",
   "execution_count": 11,
   "metadata": {},
   "outputs": [
    {
     "data": {
      "text/html": [
       "<div>\n",
       "<style>\n",
       "    .dataframe thead tr:only-child th {\n",
       "        text-align: right;\n",
       "    }\n",
       "\n",
       "    .dataframe thead th {\n",
       "        text-align: left;\n",
       "    }\n",
       "\n",
       "    .dataframe tbody tr th {\n",
       "        vertical-align: top;\n",
       "    }\n",
       "</style>\n",
       "<table border=\"1\" class=\"dataframe\">\n",
       "  <thead>\n",
       "    <tr style=\"text-align: right;\">\n",
       "      <th></th>\n",
       "      <th>Adaptacion</th>\n",
       "      <th>Tarea</th>\n",
       "      <th>Fuente</th>\n",
       "      <th>Objetivo</th>\n",
       "      <th>Baseline error</th>\n",
       "      <th>Transfer error</th>\n",
       "      <th>Transfer loss</th>\n",
       "    </tr>\n",
       "  </thead>\n",
       "  <tbody>\n",
       "    <tr>\n",
       "      <th>1</th>\n",
       "      <td>GFK</td>\n",
       "      <td>t-&gt;g</td>\n",
       "      <td>thevoice</td>\n",
       "      <td>general</td>\n",
       "      <td>34.582441</td>\n",
       "      <td>43.834508</td>\n",
       "      <td>9.252067</td>\n",
       "    </tr>\n",
       "    <tr>\n",
       "      <th>2</th>\n",
       "      <td>GFK</td>\n",
       "      <td>t-&gt;r</td>\n",
       "      <td>thevoice</td>\n",
       "      <td>rio2016</td>\n",
       "      <td>18.750000</td>\n",
       "      <td>18.058076</td>\n",
       "      <td>-0.691924</td>\n",
       "    </tr>\n",
       "    <tr>\n",
       "      <th>3</th>\n",
       "      <td>GFK</td>\n",
       "      <td>g-&gt;t</td>\n",
       "      <td>general</td>\n",
       "      <td>thevoice</td>\n",
       "      <td>16.923077</td>\n",
       "      <td>29.088757</td>\n",
       "      <td>12.165680</td>\n",
       "    </tr>\n",
       "    <tr>\n",
       "      <th>4</th>\n",
       "      <td>GFK</td>\n",
       "      <td>g-&gt;r</td>\n",
       "      <td>general</td>\n",
       "      <td>rio2016</td>\n",
       "      <td>18.750000</td>\n",
       "      <td>25.862069</td>\n",
       "      <td>7.112069</td>\n",
       "    </tr>\n",
       "    <tr>\n",
       "      <th>5</th>\n",
       "      <td>GFK</td>\n",
       "      <td>r-&gt;t</td>\n",
       "      <td>rio2016</td>\n",
       "      <td>thevoice</td>\n",
       "      <td>16.923077</td>\n",
       "      <td>20.662722</td>\n",
       "      <td>3.739645</td>\n",
       "    </tr>\n",
       "    <tr>\n",
       "      <th>6</th>\n",
       "      <td>GFK</td>\n",
       "      <td>r-&gt;g</td>\n",
       "      <td>rio2016</td>\n",
       "      <td>general</td>\n",
       "      <td>34.582441</td>\n",
       "      <td>45.354906</td>\n",
       "      <td>10.772465</td>\n",
       "    </tr>\n",
       "  </tbody>\n",
       "</table>\n",
       "</div>"
      ],
      "text/plain": [
       "  Adaptacion Tarea    Fuente  Objetivo  Baseline error  Transfer error  \\\n",
       "1        GFK  t->g  thevoice   general       34.582441       43.834508   \n",
       "2        GFK  t->r  thevoice   rio2016       18.750000       18.058076   \n",
       "3        GFK  g->t   general  thevoice       16.923077       29.088757   \n",
       "4        GFK  g->r   general   rio2016       18.750000       25.862069   \n",
       "5        GFK  r->t   rio2016  thevoice       16.923077       20.662722   \n",
       "6        GFK  r->g   rio2016   general       34.582441       45.354906   \n",
       "\n",
       "   Transfer loss  \n",
       "1       9.252067  \n",
       "2      -0.691924  \n",
       "3      12.165680  \n",
       "4       7.112069  \n",
       "5       3.739645  \n",
       "6      10.772465  "
      ]
     },
     "execution_count": 11,
     "metadata": {},
     "output_type": "execute_result"
    }
   ],
   "source": [
    "df"
   ]
  },
  {
   "cell_type": "code",
   "execution_count": 14,
   "metadata": {},
   "outputs": [
    {
     "name": "stdout",
     "output_type": "stream",
     "text": [
      "Guardando en scores/twitter/gfk/me1_1000.csv\n",
      "Resultados guardados.\n"
     ]
    }
   ],
   "source": [
    "new_scores_path = os.path.join(scores_path,dataset_name, tipo, \"me1_%d.csv\" % (dims))\n",
    "\n",
    "print \"Guardando en %s\" % new_scores_path\n",
    "df.to_csv(new_scores_path, columns=df.columns)\n",
    "print \"Resultados guardados.\""
   ]
  }
 ],
 "metadata": {
  "kernelspec": {
   "display_name": "Python 2",
   "language": "python",
   "name": "python2"
  },
  "language_info": {
   "codemirror_mode": {
    "name": "ipython",
    "version": 2
   },
   "file_extension": ".py",
   "mimetype": "text/x-python",
   "name": "python",
   "nbconvert_exporter": "python",
   "pygments_lexer": "ipython2",
   "version": "2.7.13"
  }
 },
 "nbformat": 4,
 "nbformat_minor": 2
}
