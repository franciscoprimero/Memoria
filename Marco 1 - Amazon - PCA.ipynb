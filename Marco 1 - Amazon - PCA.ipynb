{
 "cells": [
  {
   "cell_type": "code",
   "execution_count": null,
   "metadata": {
    "collapsed": true
   },
   "outputs": [],
   "source": [
    "#%load_ext autoreload\n",
    "#%autoreload 2"
   ]
  },
  {
   "cell_type": "code",
   "execution_count": 1,
   "metadata": {},
   "outputs": [
    {
     "name": "stderr",
     "output_type": "stream",
     "text": [
      "Using Theano backend.\n",
      "/home/ubuntu/anaconda2/envs/env_memoria/lib/python2.7/site-packages/sklearn/cross_validation.py:44: DeprecationWarning: This module was deprecated in version 0.18 in favor of the model_selection module into which all the refactored classes and functions are moved. Also note that the interface of the new CV iterators are different from that of this module. This module will be removed in 0.20.\n",
      "  \"This module will be removed in 0.20.\", DeprecationWarning)\n",
      "/home/ubuntu/anaconda2/envs/env_memoria/lib/python2.7/site-packages/sklearn/grid_search.py:43: DeprecationWarning: This module was deprecated in version 0.18 in favor of the model_selection module into which all the refactored classes and functions are moved. This module will be removed in 0.20.\n",
      "  DeprecationWarning)\n"
     ]
    }
   ],
   "source": [
    "#carga de datasets\n",
    "from utils.DatasetStorage import Dataset\n",
    "from utils.paths import *\n",
    "\n",
    "#clasificadores\n",
    "from utils.clasificacion import *\n",
    "\n",
    "#adaptacion\n",
    "from utils.adaptacion import pca_pseudo_grid_search\n",
    "\n",
    "#otros\n",
    "import os\n",
    "import numpy as np\n",
    "import pandas as pd\n",
    "from sklearn.externals import joblib\n",
    "import itertools\n",
    "\n",
    "#variables para guardar los resultados\n",
    "tipo = pruebas[3]\n",
    "dataset_name = datasets[0]"
   ]
  },
  {
   "cell_type": "markdown",
   "metadata": {},
   "source": [
    "# Adaptación\n",
    "\n",
    "\n",
    "## Creación de modelos de adaptación.\n",
    "\n",
    "Para cada dominio se entrenan distintos modelos según los parámetros enviados.\n",
    "\n",
    "Cada modelo es guardado en la ruta: models/amazon/pca/me1\\_[dominio\\_objetivo]_[numero_de_modelo].pkl\n",
    "\n",
    "Todas las rutas son guardadas en una lista, la cual es almacenada en: models/amazon/pca/me1_models_paths.pkl\n",
    "\n",
    "```python\n",
    "paths_list = [ruta1, ..., ruta_n]\n",
    "```"
   ]
  },
  {
   "cell_type": "markdown",
   "metadata": {},
   "source": [
    "## Busqueda del mejor modelo por dominio\n",
    "\n",
    "Por cada dominio se busca el mejor modelo de adaptación.\n",
    "\n",
    "Esto se obtiene adaptando los datos de entrenamiento de cada dominio por cada modelo creado y realizando Grid-Search y Cross-Validation con estos datos.\n",
    "\n",
    "El modelo que logre un mejor valor de Cross-Validation es considerado el mejor modelo para adaptar y queda guardado en un diccionario de la forma:\n",
    "\n",
    "```python\n",
    "best_models = {\n",
    "    [dominio_1] = ruta,\n",
    "    .\n",
    "    .\n",
    "    .\n",
    "    [dominio_n] = ruta,\n",
    "}\n",
    "```\n",
    "\n",
    "Este diccionario queda almacenado en la ruta:\n",
    "    models/amazon/pca/me1_best_models.pkl"
   ]
  },
  {
   "cell_type": "markdown",
   "metadata": {},
   "source": [
    "# Pruebas con el dataset Amazon (3000 Dimensiones)"
   ]
  },
  {
   "cell_type": "code",
   "execution_count": 2,
   "metadata": {
    "collapsed": true
   },
   "outputs": [],
   "source": [
    "dims = 3000"
   ]
  },
  {
   "cell_type": "code",
   "execution_count": 3,
   "metadata": {},
   "outputs": [
    {
     "name": "stdout",
     "output_type": "stream",
     "text": [
      "pca\n",
      "amazon\n",
      "3000\n",
      "data\n"
     ]
    }
   ],
   "source": [
    "print tipo\n",
    "print dataset_name\n",
    "print dims\n",
    "print data_path"
   ]
  },
  {
   "cell_type": "code",
   "execution_count": 4,
   "metadata": {},
   "outputs": [
    {
     "name": "stdout",
     "output_type": "stream",
     "text": [
      "Dataset already splitted\n"
     ]
    }
   ],
   "source": [
    "# cargando dataset Amazon\n",
    "dataset_path = os.path.join(data_path, dataset_name+'.pkl')\n",
    "dataset_object = Dataset().load(dataset_path)\n",
    "\n",
    "dataset_object.split_dataset(test_size=0.2)\n",
    "\n",
    "labeled = dataset_object.labeled\n",
    "domains = dataset_object.domains"
   ]
  },
  {
   "cell_type": "code",
   "execution_count": 5,
   "metadata": {},
   "outputs": [
    {
     "name": "stdout",
     "output_type": "stream",
     "text": [
      "(26077, 3000)\n",
      "Todos los datos disponibles obtenidos\n"
     ]
    }
   ],
   "source": [
    "# se obtienen todos los valores X disponibles para realizar adaptacion\n",
    "X = dataset_object.get_all_X()\n",
    "X = np.asarray(X[: , :dims])\n",
    "\n",
    "print X.shape\n",
    "\n",
    "print \"Todos los datos disponibles obtenidos\""
   ]
  },
  {
   "cell_type": "code",
   "execution_count": 6,
   "metadata": {},
   "outputs": [
    {
     "name": "stdout",
     "output_type": "stream",
     "text": [
      "Creando modelos de adaptacion...\n",
      "\tn_components: 1500\n",
      "\tEntrenando modelo PCA...\n",
      "\tGuardando modelo en models/amazon/pca/me1_3000_0.pkl\n",
      "\n",
      "\tn_components: 1000\n",
      "\tEntrenando modelo PCA...\n",
      "\tGuardando modelo en models/amazon/pca/me1_3000_1.pkl\n",
      "\n",
      "\tn_components: 750\n",
      "\tEntrenando modelo PCA...\n",
      "\tGuardando modelo en models/amazon/pca/me1_3000_2.pkl\n",
      "\n",
      "\n",
      "Creacion de modelos terminada\n",
      "Guardando rutas en models/amazon/pca/me1_3000_models_paths.pkl\n",
      "Rutas cargadas en la variable 'paths_list'\n"
     ]
    }
   ],
   "source": [
    "models_paths = os.path.join(models_path, dataset_name, tipo, 'me1_%d_models_paths.pkl' % dims)\n",
    "paths_list = []\n",
    "\n",
    "# si existe el archivo con las rutas\n",
    "# se carga la lista con las rutas\n",
    "if os.path.exists(models_paths):\n",
    "    print \"Cargando rutas de modelos adaptados.\"\n",
    "    paths_list = joblib.load(models_paths)\n",
    "    print \"Rutas cargadas en la variable 'paths_list'\"\n",
    "# si no\n",
    "# se entrenan los modelos y se obtiene la lista con rutas\n",
    "else:\n",
    "    #se establecen los parametros para los modelos\n",
    "    parametros = {\n",
    "        'n_components': [int(dims/2), int(dims/3), int(dims/4)]\n",
    "    }\n",
    "\n",
    "    print \"Creando modelos de adaptacion...\"\n",
    "    \n",
    "    folder_path = os.path.join(models_path, dataset_name, tipo)\n",
    "    prefix = \"me1_%d_\" % dims\n",
    "    \n",
    "    paths_list = pca_pseudo_grid_search(X, parametros, folder_path, prefix)\n",
    "    \n",
    "    print \"\\nCreacion de modelos terminada\\nGuardando rutas en %s\" % models_paths\n",
    "    joblib.dump(paths_list, models_paths)\n",
    "    print \"Rutas cargadas en la variable 'paths_list'\""
   ]
  },
  {
   "cell_type": "code",
   "execution_count": 7,
   "metadata": {},
   "outputs": [
    {
     "name": "stdout",
     "output_type": "stream",
     "text": [
      "Modelos almacenados en:\n",
      "\tmodels/amazon/pca/me1_3000_0.pkl\n",
      "\tmodels/amazon/pca/me1_3000_1.pkl\n",
      "\tmodels/amazon/pca/me1_3000_2.pkl\n"
     ]
    }
   ],
   "source": [
    "print \"Modelos almacenados en:\"\n",
    "for ruta in paths_list:\n",
    "    print \"\\t\", ruta"
   ]
  },
  {
   "cell_type": "markdown",
   "metadata": {},
   "source": [
    "```python\n",
    "domain_msda_paths = [ruta_1,...,ruta_n]\n",
    "```"
   ]
  },
  {
   "cell_type": "code",
   "execution_count": 8,
   "metadata": {},
   "outputs": [
    {
     "name": "stdout",
     "output_type": "stream",
     "text": [
      "Obteniendo mejores modelos...\n",
      "electronics\n",
      "1) n_components=1500  score: 0.8938\n",
      "2) n_components=1000  score: 0.8854\n",
      "3) n_components=750  score: 0.8879\n",
      "Mejor modelo: n_components=1500\n",
      "dvd\n",
      "1) n_components=1500  score: 0.8304\n",
      "2) n_components=1000  score: 0.8164\n",
      "3) n_components=750  score: 0.8202\n",
      "Mejor modelo: n_components=1500\n",
      "kitchen\n",
      "1) n_components=1500  score: 0.9080\n",
      "2) n_components=1000  score: 0.9013\n",
      "3) n_components=750  score: 0.8923\n",
      "Mejor modelo: n_components=1500\n",
      "books\n",
      "1) n_components=1500  score: 0.8224\n",
      "2) n_components=1000  score: 0.8237\n",
      "3) n_components=750  score: 0.8000\n",
      "Mejor modelo: n_components=1000\n",
      "Rutas guardadas en  models/amazon/pca/me1_3000_best_models.pkl\n"
     ]
    }
   ],
   "source": [
    "best_models_paths = os.path.join(models_path, dataset_name, tipo, \"me1_%d_best_models.pkl\" % dims)\n",
    "best_models = {}\n",
    "\n",
    "if os.path.exists(best_models_paths):\n",
    "    print \"Cargando rutas de los mejores modelos...\"\n",
    "    best_models = joblib.load(best_models_paths)\n",
    "    print \"Rutas cargadas\"  \n",
    "else:\n",
    "    print \"Obteniendo mejores modelos...\"\n",
    "    for domain in domains:\n",
    "        print domain\n",
    "        i = 1\n",
    "        best_score = 0\n",
    "        best_path = None\n",
    "        best_model = None\n",
    "        \n",
    "        for pca_model_path in paths_list:\n",
    "            \n",
    "            pca_model = joblib.load(pca_model_path)\n",
    "            n_components = pca_model.n_components_\n",
    "            \n",
    "            print \"%d) n_components=%d \" % (i, n_components),\n",
    "            # se obtienen los datos del dominio\n",
    "            X_tr = labeled[domain]['X_tr'][:, :dims].todense()\n",
    "            y_tr = np.asarray(labeled[domain]['y_tr'].todense()).argmax(axis=1)\n",
    "\n",
    "            # se adaptan los datos\n",
    "            X_deep = pca_model.transform(X_tr)\n",
    "\n",
    "            # se obtiene el mejor score con GridSearch\n",
    "            new_clf = get_best_score(X_deep, y_tr, classifier='SVC', n_jobs=4)\n",
    "            new_score = new_clf.best_score_\n",
    "            print \"score: %.4f\" % new_score\n",
    "            # se guarda si es el mejor para el modelo\n",
    "            if new_score > best_score:\n",
    "                best_score = new_score\n",
    "                best_path = pca_model_path\n",
    "                best_model = pca_model\n",
    "            i = i+1\n",
    "        \n",
    "        #se guarda el mejor modelo para este dominio\n",
    "        print \"Mejor modelo: n_components=%d\" % (best_model.n_components_)\n",
    "        best_models[domain] = best_path\n",
    "        \n",
    "    \n",
    "    # se guarda el diccionario con las mejores rutas\n",
    "    joblib.dump(best_models, best_models_paths)\n",
    "    print \"Rutas guardadas en \", best_models_paths"
   ]
  },
  {
   "cell_type": "code",
   "execution_count": 9,
   "metadata": {},
   "outputs": [
    {
     "name": "stdout",
     "output_type": "stream",
     "text": [
      "dvd - models/amazon/pca/me1_3000_0.pkl\n",
      "electronics - models/amazon/pca/me1_3000_0.pkl\n",
      "books - models/amazon/pca/me1_3000_1.pkl\n",
      "kitchen - models/amazon/pca/me1_3000_0.pkl\n"
     ]
    }
   ],
   "source": [
    "for dominio, ruta in best_models.items():\n",
    "    print \"%s - %s\" % (dominio, ruta)"
   ]
  },
  {
   "cell_type": "code",
   "execution_count": 10,
   "metadata": {},
   "outputs": [
    {
     "name": "stdout",
     "output_type": "stream",
     "text": [
      "Cargando mejor modelo para electronics\n",
      "\tAdaptando dominio\n",
      "Cargando mejor modelo para dvd\n",
      "\tAdaptando dominio\n",
      "Cargando mejor modelo para kitchen\n",
      "\tAdaptando dominio\n",
      "Cargando mejor modelo para books\n",
      "\tAdaptando dominio\n",
      "4/4 dominios adaptados\n"
     ]
    }
   ],
   "source": [
    "#diccionario para mantener los dominios adaptados\n",
    "adapted = {}\n",
    "\n",
    "i = 0\n",
    "for domain in domains:\n",
    "    best_model_path = best_models[domain]\n",
    "    \n",
    "    if os.path.exists(best_model_path):\n",
    "        print \"Cargando mejor modelo para %s\" % domain\n",
    "        pca_model = joblib.load(best_model_path)\n",
    "        \n",
    "        print \"\\tAdaptando dominio\"\n",
    "        X_tr = labeled[domain]['X_tr'][:, :dims].todense()\n",
    "\n",
    "        tr_reps = pca_model.transform(X_tr)\n",
    "\n",
    "        adapted[domain] = {\n",
    "            'X_tr': tr_reps\n",
    "        }\n",
    "        \n",
    "        i = i+1\n",
    "    else:\n",
    "        print \"\\tGenerar mejor modelo para %s\" % domain\n",
    "        \n",
    "print \"%d/%d dominios adaptados\" % (i, len(domains))"
   ]
  },
  {
   "cell_type": "markdown",
   "metadata": {},
   "source": [
    "## Pruebas de clasificación"
   ]
  },
  {
   "cell_type": "code",
   "execution_count": 11,
   "metadata": {},
   "outputs": [
    {
     "name": "stdout",
     "output_type": "stream",
     "text": [
      "Tarea 1 de 12\n",
      "Cargando modelo existente.\n",
      "Entrenando clasificador adaptado.\n",
      "Tarea 2 de 12\n",
      "Cargando modelo existente.\n",
      "Entrenando clasificador adaptado.\n",
      "Tarea 3 de 12\n",
      "Cargando modelo existente.\n",
      "Entrenando clasificador adaptado.\n",
      "Tarea 4 de 12\n",
      "Cargando modelo existente.\n",
      "Entrenando clasificador adaptado.\n",
      "Tarea 5 de 12\n",
      "Cargando modelo existente.\n",
      "Entrenando clasificador adaptado.\n",
      "Tarea 6 de 12\n",
      "Cargando modelo existente.\n",
      "Entrenando clasificador adaptado.\n",
      "Tarea 7 de 12\n",
      "Cargando modelo existente.\n",
      "Entrenando clasificador adaptado.\n",
      "Tarea 8 de 12\n",
      "Cargando modelo existente.\n",
      "Entrenando clasificador adaptado.\n",
      "Tarea 9 de 12\n",
      "Cargando modelo existente.\n",
      "Entrenando clasificador adaptado.\n",
      "Tarea 10 de 12\n",
      "Cargando modelo existente.\n",
      "Entrenando clasificador adaptado.\n",
      "Tarea 11 de 12\n",
      "Cargando modelo existente.\n",
      "Entrenando clasificador adaptado.\n",
      "Tarea 12 de 12\n",
      "Cargando modelo existente.\n",
      "Entrenando clasificador adaptado.\n",
      "\n",
      "Pruebas completadas\n"
     ]
    }
   ],
   "source": [
    "df = pd.DataFrame(columns=dataframe_columns)\n",
    "\n",
    "i=0\n",
    "tareas = len(domains)*(len(domains)-1)\n",
    "pairs = list(itertools.permutations(domains, 2))\n",
    "\n",
    "# por cada par posible para adaptar\n",
    "for src, tgt in pairs:\n",
    "    #se carga el mejor modelo para el dominio fuente\n",
    "    ruta = best_models[src]\n",
    "    modelo = joblib.load(ruta)\n",
    "   \n",
    "    print \"Tarea %d de %d\" % (i+1, tareas)\n",
    "\n",
    "    #baseline in-domain error\n",
    "    #e_b(T,T)\n",
    "    #entrenado en dominio tgt y probado en dominio tgt\n",
    "    X_tr = labeled[tgt]['X_tr'][:, :dims].todense()\n",
    "    y_tr = np.asarray(labeled[tgt]['y_tr'].todense()).argmax(axis=1)\n",
    "\n",
    "    X_ts = labeled[tgt]['X_ts'][:, :dims].todense()\n",
    "    y_ts = np.asarray(labeled[tgt]['y_ts'].todense()).argmax(axis=1)\n",
    "\n",
    "    # se crean las rutas para cargar o crear los modelos\n",
    "    model_name = \"%d_%s.pkl\" % (dims, tgt)\n",
    "    model_path = os.path.join(models_path, dataset_name, \"indomain\", model_name)\n",
    "\n",
    "\n",
    "    #Se realiza una clasificacion, estimando los parametros mediante cv\n",
    "    svc = load_best_score(model_path, X_tr, y_tr)\n",
    "    b_error = 1-svc.score(X_ts, y_ts)\n",
    "\n",
    "    #############\n",
    "    #### PCA ####\n",
    "    #############\n",
    "    #entrenado en dominio src y probado en dominio tgt adaptados\n",
    "    X_tr_a = adapted[src]['X_tr']\n",
    "    y_tr = np.asarray(labeled[src]['y_tr'].todense()).argmax(axis=1)\n",
    "\n",
    "    X_ts_a = modelo.transform(X_ts)\n",
    "    y_ts = np.asarray(labeled[tgt]['y_ts'].todense()).argmax(axis=1)\n",
    "\n",
    "    print \"Entrenando clasificador adaptado.\"\n",
    "    svc_a = get_best_score(X_tr_a, y_tr, classifier='SVC', n_jobs=4)\n",
    "    t_error = 1-svc_a.score(X_ts_a, y_ts)\n",
    "\n",
    "    # transfer loss t\n",
    "    # t_error - b_error\n",
    "    t_loss = t_error - b_error\n",
    "\n",
    "    tarea = src[0]+'->'+tgt[0]\n",
    "    df.loc[i] = ['PCA',tarea,src,tgt,b_error*100,t_error*100, t_loss*100]\n",
    "\n",
    "    i+=1\n",
    "\n",
    "print \"\\nPruebas completadas\""
   ]
  },
  {
   "cell_type": "code",
   "execution_count": 12,
   "metadata": {},
   "outputs": [
    {
     "data": {
      "text/html": [
       "<div>\n",
       "<style>\n",
       "    .dataframe thead tr:only-child th {\n",
       "        text-align: right;\n",
       "    }\n",
       "\n",
       "    .dataframe thead th {\n",
       "        text-align: left;\n",
       "    }\n",
       "\n",
       "    .dataframe tbody tr th {\n",
       "        vertical-align: top;\n",
       "    }\n",
       "</style>\n",
       "<table border=\"1\" class=\"dataframe\">\n",
       "  <thead>\n",
       "    <tr style=\"text-align: right;\">\n",
       "      <th></th>\n",
       "      <th>Adaptacion</th>\n",
       "      <th>Tarea</th>\n",
       "      <th>Fuente</th>\n",
       "      <th>Objetivo</th>\n",
       "      <th>Baseline error</th>\n",
       "      <th>Transfer error</th>\n",
       "      <th>Transfer loss</th>\n",
       "    </tr>\n",
       "  </thead>\n",
       "  <tbody>\n",
       "    <tr>\n",
       "      <th>0</th>\n",
       "      <td>PCA</td>\n",
       "      <td>e-&gt;d</td>\n",
       "      <td>electronics</td>\n",
       "      <td>dvd</td>\n",
       "      <td>15.762894</td>\n",
       "      <td>29.048226</td>\n",
       "      <td>13.285332</td>\n",
       "    </tr>\n",
       "    <tr>\n",
       "      <th>1</th>\n",
       "      <td>PCA</td>\n",
       "      <td>e-&gt;k</td>\n",
       "      <td>electronics</td>\n",
       "      <td>kitchen</td>\n",
       "      <td>8.587715</td>\n",
       "      <td>10.595265</td>\n",
       "      <td>2.007550</td>\n",
       "    </tr>\n",
       "    <tr>\n",
       "      <th>2</th>\n",
       "      <td>PCA</td>\n",
       "      <td>e-&gt;b</td>\n",
       "      <td>electronics</td>\n",
       "      <td>books</td>\n",
       "      <td>15.157879</td>\n",
       "      <td>30.590765</td>\n",
       "      <td>15.432886</td>\n",
       "    </tr>\n",
       "    <tr>\n",
       "      <th>3</th>\n",
       "      <td>PCA</td>\n",
       "      <td>d-&gt;e</td>\n",
       "      <td>dvd</td>\n",
       "      <td>electronics</td>\n",
       "      <td>11.127778</td>\n",
       "      <td>26.250656</td>\n",
       "      <td>15.122878</td>\n",
       "    </tr>\n",
       "    <tr>\n",
       "      <th>4</th>\n",
       "      <td>PCA</td>\n",
       "      <td>d-&gt;k</td>\n",
       "      <td>dvd</td>\n",
       "      <td>kitchen</td>\n",
       "      <td>8.587715</td>\n",
       "      <td>18.937973</td>\n",
       "      <td>10.350259</td>\n",
       "    </tr>\n",
       "    <tr>\n",
       "      <th>5</th>\n",
       "      <td>PCA</td>\n",
       "      <td>d-&gt;b</td>\n",
       "      <td>dvd</td>\n",
       "      <td>books</td>\n",
       "      <td>15.157879</td>\n",
       "      <td>27.325683</td>\n",
       "      <td>12.167804</td>\n",
       "    </tr>\n",
       "    <tr>\n",
       "      <th>6</th>\n",
       "      <td>PCA</td>\n",
       "      <td>k-&gt;e</td>\n",
       "      <td>kitchen</td>\n",
       "      <td>electronics</td>\n",
       "      <td>11.127778</td>\n",
       "      <td>13.765344</td>\n",
       "      <td>2.637566</td>\n",
       "    </tr>\n",
       "    <tr>\n",
       "      <th>7</th>\n",
       "      <td>PCA</td>\n",
       "      <td>k-&gt;d</td>\n",
       "      <td>kitchen</td>\n",
       "      <td>dvd</td>\n",
       "      <td>15.762894</td>\n",
       "      <td>27.960699</td>\n",
       "      <td>12.197805</td>\n",
       "    </tr>\n",
       "    <tr>\n",
       "      <th>8</th>\n",
       "      <td>PCA</td>\n",
       "      <td>k-&gt;b</td>\n",
       "      <td>kitchen</td>\n",
       "      <td>books</td>\n",
       "      <td>15.157879</td>\n",
       "      <td>31.228281</td>\n",
       "      <td>16.070402</td>\n",
       "    </tr>\n",
       "    <tr>\n",
       "      <th>9</th>\n",
       "      <td>PCA</td>\n",
       "      <td>b-&gt;e</td>\n",
       "      <td>books</td>\n",
       "      <td>electronics</td>\n",
       "      <td>11.127778</td>\n",
       "      <td>24.940624</td>\n",
       "      <td>13.812845</td>\n",
       "    </tr>\n",
       "    <tr>\n",
       "      <th>10</th>\n",
       "      <td>PCA</td>\n",
       "      <td>b-&gt;d</td>\n",
       "      <td>books</td>\n",
       "      <td>dvd</td>\n",
       "      <td>15.762894</td>\n",
       "      <td>22.448061</td>\n",
       "      <td>6.685167</td>\n",
       "    </tr>\n",
       "    <tr>\n",
       "      <th>11</th>\n",
       "      <td>PCA</td>\n",
       "      <td>b-&gt;k</td>\n",
       "      <td>books</td>\n",
       "      <td>kitchen</td>\n",
       "      <td>8.587715</td>\n",
       "      <td>22.138053</td>\n",
       "      <td>13.550339</td>\n",
       "    </tr>\n",
       "  </tbody>\n",
       "</table>\n",
       "</div>"
      ],
      "text/plain": [
       "   Adaptacion Tarea       Fuente     Objetivo  Baseline error  Transfer error  \\\n",
       "0         PCA  e->d  electronics          dvd       15.762894       29.048226   \n",
       "1         PCA  e->k  electronics      kitchen        8.587715       10.595265   \n",
       "2         PCA  e->b  electronics        books       15.157879       30.590765   \n",
       "3         PCA  d->e          dvd  electronics       11.127778       26.250656   \n",
       "4         PCA  d->k          dvd      kitchen        8.587715       18.937973   \n",
       "5         PCA  d->b          dvd        books       15.157879       27.325683   \n",
       "6         PCA  k->e      kitchen  electronics       11.127778       13.765344   \n",
       "7         PCA  k->d      kitchen          dvd       15.762894       27.960699   \n",
       "8         PCA  k->b      kitchen        books       15.157879       31.228281   \n",
       "9         PCA  b->e        books  electronics       11.127778       24.940624   \n",
       "10        PCA  b->d        books          dvd       15.762894       22.448061   \n",
       "11        PCA  b->k        books      kitchen        8.587715       22.138053   \n",
       "\n",
       "    Transfer loss  \n",
       "0       13.285332  \n",
       "1        2.007550  \n",
       "2       15.432886  \n",
       "3       15.122878  \n",
       "4       10.350259  \n",
       "5       12.167804  \n",
       "6        2.637566  \n",
       "7       12.197805  \n",
       "8       16.070402  \n",
       "9       13.812845  \n",
       "10       6.685167  \n",
       "11      13.550339  "
      ]
     },
     "execution_count": 12,
     "metadata": {},
     "output_type": "execute_result"
    }
   ],
   "source": [
    "df"
   ]
  },
  {
   "cell_type": "code",
   "execution_count": 13,
   "metadata": {},
   "outputs": [
    {
     "name": "stdout",
     "output_type": "stream",
     "text": [
      "Guardando en scores/amazon/pca/me1_3000.csv\n",
      "Resultados guardados.\n"
     ]
    }
   ],
   "source": [
    "new_scores_path = os.path.join(scores_path,dataset_name, tipo, \"me1_%d.csv\" % (dims))\n",
    "print \"Guardando en %s\" % new_scores_path\n",
    "df.to_csv(new_scores_path, columns=df.columns)\n",
    "print \"Resultados guardados.\""
   ]
  },
  {
   "cell_type": "markdown",
   "metadata": {},
   "source": [
    "# Pruebas con el dataset Amazon (1000 Dimensiones)"
   ]
  },
  {
   "cell_type": "code",
   "execution_count": 14,
   "metadata": {
    "collapsed": true
   },
   "outputs": [],
   "source": [
    "dims = 1000"
   ]
  },
  {
   "cell_type": "code",
   "execution_count": 15,
   "metadata": {},
   "outputs": [
    {
     "name": "stdout",
     "output_type": "stream",
     "text": [
      "pca\n",
      "amazon\n",
      "1000\n",
      "data\n"
     ]
    }
   ],
   "source": [
    "print tipo\n",
    "print dataset_name\n",
    "print dims\n",
    "print data_path"
   ]
  },
  {
   "cell_type": "code",
   "execution_count": 16,
   "metadata": {},
   "outputs": [
    {
     "name": "stdout",
     "output_type": "stream",
     "text": [
      "Dataset already splitted\n"
     ]
    }
   ],
   "source": [
    "# cargando dataset Amazon\n",
    "dataset_path = os.path.join(data_path, dataset_name+'.pkl')\n",
    "dataset_object = Dataset().load(dataset_path)\n",
    "\n",
    "dataset_object.split_dataset(test_size=0.2)\n",
    "\n",
    "labeled = dataset_object.labeled\n",
    "domains = dataset_object.domains"
   ]
  },
  {
   "cell_type": "code",
   "execution_count": 17,
   "metadata": {},
   "outputs": [
    {
     "name": "stdout",
     "output_type": "stream",
     "text": [
      "(26077, 1000)\n",
      "Todos los datos disponibles obtenidos\n"
     ]
    }
   ],
   "source": [
    "# se obtienen todos los valores X disponibles para realizar adaptacion\n",
    "X = dataset_object.get_all_X()\n",
    "X = np.asarray(X[: , :dims])\n",
    "\n",
    "print X.shape\n",
    "\n",
    "print \"Todos los datos disponibles obtenidos\""
   ]
  },
  {
   "cell_type": "code",
   "execution_count": 18,
   "metadata": {},
   "outputs": [
    {
     "name": "stdout",
     "output_type": "stream",
     "text": [
      "Creando modelos de adaptacion...\n",
      "\tn_components: 500\n",
      "\tEntrenando modelo PCA...\n",
      "\tGuardando modelo en models/amazon/pca/me1_1000_0.pkl\n",
      "\n",
      "\tn_components: 333\n",
      "\tEntrenando modelo PCA...\n",
      "\tGuardando modelo en models/amazon/pca/me1_1000_1.pkl\n",
      "\n",
      "\tn_components: 250\n",
      "\tEntrenando modelo PCA...\n",
      "\tGuardando modelo en models/amazon/pca/me1_1000_2.pkl\n",
      "\n",
      "\n",
      "Creacion de modelos terminada\n",
      "Guardando rutas en models/amazon/pca/me1_1000_models_paths.pkl\n",
      "Rutas cargadas en la variable 'paths_list'\n"
     ]
    }
   ],
   "source": [
    "models_paths = os.path.join(models_path, dataset_name, tipo, 'me1_%d_models_paths.pkl' % dims)\n",
    "paths_list = []\n",
    "\n",
    "# si existe el archivo con las rutas\n",
    "# se carga la lista con las rutas\n",
    "if os.path.exists(models_paths):\n",
    "    print \"Cargando rutas de modelos adaptados.\"\n",
    "    paths_list = joblib.load(models_paths)\n",
    "    print \"Rutas cargadas en la variable 'paths_list'\"\n",
    "# si no\n",
    "# se entrenan los modelos y se obtiene la lista con rutas\n",
    "else:\n",
    "    #se establecen los parametros para los modelos\n",
    "    parametros = {\n",
    "        'n_components': [int(dims/2), int(dims/3), int(dims/4)]\n",
    "    }\n",
    "\n",
    "    print \"Creando modelos de adaptacion...\"\n",
    "    \n",
    "    folder_path = os.path.join(models_path, dataset_name, tipo)\n",
    "    prefix = \"me1_%d_\" % dims\n",
    "    \n",
    "    paths_list = pca_pseudo_grid_search(X, parametros, folder_path, prefix)\n",
    "    \n",
    "    print \"\\nCreacion de modelos terminada\\nGuardando rutas en %s\" % models_paths\n",
    "    joblib.dump(paths_list, models_paths)\n",
    "    print \"Rutas cargadas en la variable 'paths_list'\""
   ]
  },
  {
   "cell_type": "code",
   "execution_count": 19,
   "metadata": {},
   "outputs": [
    {
     "name": "stdout",
     "output_type": "stream",
     "text": [
      "Modelos almacenados en:\n",
      "\tmodels/amazon/pca/me1_1000_0.pkl\n",
      "\tmodels/amazon/pca/me1_1000_1.pkl\n",
      "\tmodels/amazon/pca/me1_1000_2.pkl\n"
     ]
    }
   ],
   "source": [
    "print \"Modelos almacenados en:\"\n",
    "for ruta in paths_list:\n",
    "    print \"\\t\", ruta"
   ]
  },
  {
   "cell_type": "markdown",
   "metadata": {},
   "source": [
    "```python\n",
    "domain_msda_paths = [ruta_1,...,ruta_n]\n",
    "```"
   ]
  },
  {
   "cell_type": "code",
   "execution_count": 20,
   "metadata": {},
   "outputs": [
    {
     "name": "stdout",
     "output_type": "stream",
     "text": [
      "Obteniendo mejores modelos...\n",
      "electronics\n",
      "1) n_components=500 "
     ]
    },
    {
     "name": "stderr",
     "output_type": "stream",
     "text": [
      "/home/ubuntu/anaconda2/envs/env_memoria/lib/python2.7/site-packages/sklearn/svm/base.py:220: ConvergenceWarning: Solver terminated early (max_iter=50000).  Consider pre-processing your data with StandardScaler or MinMaxScaler.\n",
      "  % self.max_iter, ConvergenceWarning)\n",
      "/home/ubuntu/anaconda2/envs/env_memoria/lib/python2.7/site-packages/sklearn/svm/base.py:220: ConvergenceWarning: Solver terminated early (max_iter=50000).  Consider pre-processing your data with StandardScaler or MinMaxScaler.\n",
      "  % self.max_iter, ConvergenceWarning)\n",
      "/home/ubuntu/anaconda2/envs/env_memoria/lib/python2.7/site-packages/sklearn/svm/base.py:220: ConvergenceWarning: Solver terminated early (max_iter=50000).  Consider pre-processing your data with StandardScaler or MinMaxScaler.\n",
      "  % self.max_iter, ConvergenceWarning)\n",
      "/home/ubuntu/anaconda2/envs/env_memoria/lib/python2.7/site-packages/sklearn/svm/base.py:220: ConvergenceWarning: Solver terminated early (max_iter=50000).  Consider pre-processing your data with StandardScaler or MinMaxScaler.\n",
      "  % self.max_iter, ConvergenceWarning)\n"
     ]
    },
    {
     "name": "stdout",
     "output_type": "stream",
     "text": [
      " score: 0.8337\n",
      "2) n_components=333 "
     ]
    },
    {
     "name": "stderr",
     "output_type": "stream",
     "text": [
      "/home/ubuntu/anaconda2/envs/env_memoria/lib/python2.7/site-packages/sklearn/svm/base.py:220: ConvergenceWarning: Solver terminated early (max_iter=50000).  Consider pre-processing your data with StandardScaler or MinMaxScaler.\n",
      "  % self.max_iter, ConvergenceWarning)\n",
      "/home/ubuntu/anaconda2/envs/env_memoria/lib/python2.7/site-packages/sklearn/svm/base.py:220: ConvergenceWarning: Solver terminated early (max_iter=50000).  Consider pre-processing your data with StandardScaler or MinMaxScaler.\n",
      "  % self.max_iter, ConvergenceWarning)\n",
      "/home/ubuntu/anaconda2/envs/env_memoria/lib/python2.7/site-packages/sklearn/svm/base.py:220: ConvergenceWarning: Solver terminated early (max_iter=50000).  Consider pre-processing your data with StandardScaler or MinMaxScaler.\n",
      "  % self.max_iter, ConvergenceWarning)\n",
      "/home/ubuntu/anaconda2/envs/env_memoria/lib/python2.7/site-packages/sklearn/svm/base.py:220: ConvergenceWarning: Solver terminated early (max_iter=50000).  Consider pre-processing your data with StandardScaler or MinMaxScaler.\n",
      "  % self.max_iter, ConvergenceWarning)\n"
     ]
    },
    {
     "name": "stdout",
     "output_type": "stream",
     "text": [
      " score: 0.8365\n",
      "3) n_components=250 "
     ]
    },
    {
     "name": "stderr",
     "output_type": "stream",
     "text": [
      "/home/ubuntu/anaconda2/envs/env_memoria/lib/python2.7/site-packages/sklearn/svm/base.py:220: ConvergenceWarning: Solver terminated early (max_iter=50000).  Consider pre-processing your data with StandardScaler or MinMaxScaler.\n",
      "  % self.max_iter, ConvergenceWarning)\n",
      "/home/ubuntu/anaconda2/envs/env_memoria/lib/python2.7/site-packages/sklearn/svm/base.py:220: ConvergenceWarning: Solver terminated early (max_iter=50000).  Consider pre-processing your data with StandardScaler or MinMaxScaler.\n",
      "  % self.max_iter, ConvergenceWarning)\n",
      "/home/ubuntu/anaconda2/envs/env_memoria/lib/python2.7/site-packages/sklearn/svm/base.py:220: ConvergenceWarning: Solver terminated early (max_iter=50000).  Consider pre-processing your data with StandardScaler or MinMaxScaler.\n",
      "  % self.max_iter, ConvergenceWarning)\n",
      "/home/ubuntu/anaconda2/envs/env_memoria/lib/python2.7/site-packages/sklearn/svm/base.py:220: ConvergenceWarning: Solver terminated early (max_iter=50000).  Consider pre-processing your data with StandardScaler or MinMaxScaler.\n",
      "  % self.max_iter, ConvergenceWarning)\n"
     ]
    },
    {
     "name": "stdout",
     "output_type": "stream",
     "text": [
      " score: 0.8408\n",
      "Mejor modelo: n_components=250\n",
      "dvd\n",
      "1) n_components=500 "
     ]
    },
    {
     "name": "stderr",
     "output_type": "stream",
     "text": [
      "/home/ubuntu/anaconda2/envs/env_memoria/lib/python2.7/site-packages/sklearn/svm/base.py:220: ConvergenceWarning: Solver terminated early (max_iter=50000).  Consider pre-processing your data with StandardScaler or MinMaxScaler.\n",
      "  % self.max_iter, ConvergenceWarning)\n",
      "/home/ubuntu/anaconda2/envs/env_memoria/lib/python2.7/site-packages/sklearn/svm/base.py:220: ConvergenceWarning: Solver terminated early (max_iter=50000).  Consider pre-processing your data with StandardScaler or MinMaxScaler.\n",
      "  % self.max_iter, ConvergenceWarning)\n",
      "/home/ubuntu/anaconda2/envs/env_memoria/lib/python2.7/site-packages/sklearn/svm/base.py:220: ConvergenceWarning: Solver terminated early (max_iter=50000).  Consider pre-processing your data with StandardScaler or MinMaxScaler.\n",
      "  % self.max_iter, ConvergenceWarning)\n",
      "/home/ubuntu/anaconda2/envs/env_memoria/lib/python2.7/site-packages/sklearn/svm/base.py:220: ConvergenceWarning: Solver terminated early (max_iter=50000).  Consider pre-processing your data with StandardScaler or MinMaxScaler.\n",
      "  % self.max_iter, ConvergenceWarning)\n"
     ]
    },
    {
     "name": "stdout",
     "output_type": "stream",
     "text": [
      " score: 0.7887\n",
      "2) n_components=333 "
     ]
    },
    {
     "name": "stderr",
     "output_type": "stream",
     "text": [
      "/home/ubuntu/anaconda2/envs/env_memoria/lib/python2.7/site-packages/sklearn/svm/base.py:220: ConvergenceWarning: Solver terminated early (max_iter=50000).  Consider pre-processing your data with StandardScaler or MinMaxScaler.\n",
      "  % self.max_iter, ConvergenceWarning)\n",
      "/home/ubuntu/anaconda2/envs/env_memoria/lib/python2.7/site-packages/sklearn/svm/base.py:220: ConvergenceWarning: Solver terminated early (max_iter=50000).  Consider pre-processing your data with StandardScaler or MinMaxScaler.\n",
      "  % self.max_iter, ConvergenceWarning)\n",
      "/home/ubuntu/anaconda2/envs/env_memoria/lib/python2.7/site-packages/sklearn/svm/base.py:220: ConvergenceWarning: Solver terminated early (max_iter=50000).  Consider pre-processing your data with StandardScaler or MinMaxScaler.\n",
      "  % self.max_iter, ConvergenceWarning)\n",
      "/home/ubuntu/anaconda2/envs/env_memoria/lib/python2.7/site-packages/sklearn/svm/base.py:220: ConvergenceWarning: Solver terminated early (max_iter=50000).  Consider pre-processing your data with StandardScaler or MinMaxScaler.\n",
      "  % self.max_iter, ConvergenceWarning)\n"
     ]
    },
    {
     "name": "stdout",
     "output_type": "stream",
     "text": [
      " score: 0.8108\n",
      "3) n_components=250 "
     ]
    },
    {
     "name": "stderr",
     "output_type": "stream",
     "text": [
      "/home/ubuntu/anaconda2/envs/env_memoria/lib/python2.7/site-packages/sklearn/svm/base.py:220: ConvergenceWarning: Solver terminated early (max_iter=50000).  Consider pre-processing your data with StandardScaler or MinMaxScaler.\n",
      "  % self.max_iter, ConvergenceWarning)\n"
     ]
    },
    {
     "name": "stdout",
     "output_type": "stream",
     "text": [
      " score: 0.7992\n",
      "Mejor modelo: n_components=333\n",
      "kitchen\n",
      "1) n_components=500  score: 0.8463\n",
      "2) n_components=333  score: 0.8509\n",
      "3) n_components=250  score: 0.8576\n",
      "Mejor modelo: n_components=250\n",
      "books\n",
      "1) n_components=500  score: 0.7796\n",
      "2) n_components=333  score: 0.7902\n",
      "3) n_components=250  score: 0.7899\n",
      "Mejor modelo: n_components=333\n",
      "Rutas guardadas en  models/amazon/pca/me1_1000_best_models.pkl\n"
     ]
    }
   ],
   "source": [
    "best_models_paths = os.path.join(models_path, dataset_name, tipo, \"me1_%d_best_models.pkl\" % dims)\n",
    "best_models = {}\n",
    "\n",
    "if os.path.exists(best_models_paths):\n",
    "    print \"Cargando rutas de los mejores modelos...\"\n",
    "    best_models = joblib.load(best_models_paths)\n",
    "    print \"Rutas cargadas\"  \n",
    "else:\n",
    "    print \"Obteniendo mejores modelos...\"\n",
    "    for domain in domains:\n",
    "        print domain\n",
    "        i = 1\n",
    "        best_score = 0\n",
    "        best_path = None\n",
    "        best_model = None\n",
    "        \n",
    "        for pca_model_path in paths_list:\n",
    "            \n",
    "            pca_model = joblib.load(pca_model_path)\n",
    "            n_components = pca_model.n_components_\n",
    "            \n",
    "            print \"%d) n_components=%d \" % (i, n_components),\n",
    "            # se obtienen los datos del dominio\n",
    "            X_tr = labeled[domain]['X_tr'][:, :dims].todense()\n",
    "            y_tr = np.asarray(labeled[domain]['y_tr'].todense()).argmax(axis=1)\n",
    "\n",
    "            # se adaptan los datos\n",
    "            X_deep = pca_model.transform(X_tr)\n",
    "\n",
    "            # se obtiene el mejor score con GridSearch\n",
    "            new_clf = get_best_score(X_deep, y_tr, classifier='SVC', n_jobs=4)\n",
    "            new_score = new_clf.best_score_\n",
    "            print \"score: %.4f\" % new_score\n",
    "            # se guarda si es el mejor para el modelo\n",
    "            if new_score > best_score:\n",
    "                best_score = new_score\n",
    "                best_path = pca_model_path\n",
    "                best_model = pca_model\n",
    "            i = i+1\n",
    "        \n",
    "        #se guarda el mejor modelo para este dominio\n",
    "        print \"Mejor modelo: n_components=%d\" % (best_model.n_components_)\n",
    "        best_models[domain] = best_path\n",
    "        \n",
    "    \n",
    "    # se guarda el diccionario con las mejores rutas\n",
    "    joblib.dump(best_models, best_models_paths)\n",
    "    print \"Rutas guardadas en \", best_models_paths"
   ]
  },
  {
   "cell_type": "code",
   "execution_count": 21,
   "metadata": {},
   "outputs": [
    {
     "name": "stdout",
     "output_type": "stream",
     "text": [
      "dvd - models/amazon/pca/me1_1000_1.pkl\n",
      "electronics - models/amazon/pca/me1_1000_2.pkl\n",
      "books - models/amazon/pca/me1_1000_1.pkl\n",
      "kitchen - models/amazon/pca/me1_1000_2.pkl\n"
     ]
    }
   ],
   "source": [
    "for dominio, ruta in best_models.items():\n",
    "    print \"%s - %s\" % (dominio, ruta)"
   ]
  },
  {
   "cell_type": "code",
   "execution_count": 22,
   "metadata": {},
   "outputs": [
    {
     "name": "stdout",
     "output_type": "stream",
     "text": [
      "Cargando mejor modelo para electronics\n",
      "\tAdaptando dominio\n",
      "Cargando mejor modelo para dvd\n",
      "\tAdaptando dominio\n",
      "Cargando mejor modelo para kitchen\n",
      "\tAdaptando dominio\n",
      "Cargando mejor modelo para books\n",
      "\tAdaptando dominio\n",
      "4/4 dominios adaptados\n"
     ]
    }
   ],
   "source": [
    "#diccionario para mantener los dominios adaptados\n",
    "adapted = {}\n",
    "\n",
    "i = 0\n",
    "for domain in domains:\n",
    "    best_model_path = best_models[domain]\n",
    "    \n",
    "    if os.path.exists(best_model_path):\n",
    "        print \"Cargando mejor modelo para %s\" % domain\n",
    "        pca_model = joblib.load(best_model_path)\n",
    "        \n",
    "        print \"\\tAdaptando dominio\"\n",
    "        X_tr = labeled[domain]['X_tr'][:, :dims].todense()\n",
    "\n",
    "        tr_reps = pca_model.transform(X_tr)\n",
    "\n",
    "        adapted[domain] = {\n",
    "            'X_tr': tr_reps\n",
    "        }\n",
    "        \n",
    "        i = i+1\n",
    "    else:\n",
    "        print \"\\tGenerar mejor modelo para %s\" % domain\n",
    "        \n",
    "print \"%d/%d dominios adaptados\" % (i, len(domains))"
   ]
  },
  {
   "cell_type": "markdown",
   "metadata": {},
   "source": [
    "## Pruebas de clasificación"
   ]
  },
  {
   "cell_type": "code",
   "execution_count": 23,
   "metadata": {},
   "outputs": [
    {
     "name": "stdout",
     "output_type": "stream",
     "text": [
      "Tarea 1 de 12\n",
      "Cargando modelo existente.\n",
      "Entrenando clasificador adaptado.\n",
      "Tarea 2 de 12\n",
      "Cargando modelo existente.\n",
      "Entrenando clasificador adaptado.\n",
      "Tarea 3 de 12\n",
      "Cargando modelo existente.\n",
      "Entrenando clasificador adaptado.\n",
      "Tarea 4 de 12\n",
      "Cargando modelo existente.\n",
      "Entrenando clasificador adaptado.\n",
      "Tarea 5 de 12\n",
      "Cargando modelo existente.\n",
      "Entrenando clasificador adaptado.\n",
      "Tarea 6 de 12\n",
      "Cargando modelo existente.\n",
      "Entrenando clasificador adaptado.\n",
      "Tarea 7 de 12\n",
      "Cargando modelo existente.\n",
      "Entrenando clasificador adaptado.\n",
      "Tarea 8 de 12\n",
      "Cargando modelo existente.\n",
      "Entrenando clasificador adaptado.\n",
      "Tarea 9 de 12\n",
      "Cargando modelo existente.\n",
      "Entrenando clasificador adaptado.\n",
      "Tarea 10 de 12\n",
      "Cargando modelo existente.\n",
      "Entrenando clasificador adaptado.\n",
      "Tarea 11 de 12\n",
      "Cargando modelo existente.\n",
      "Entrenando clasificador adaptado.\n",
      "Tarea 12 de 12\n",
      "Cargando modelo existente.\n",
      "Entrenando clasificador adaptado.\n",
      "\n",
      "Pruebas completadas\n"
     ]
    }
   ],
   "source": [
    "df = pd.DataFrame(columns=dataframe_columns)\n",
    "\n",
    "i=0\n",
    "tareas = len(domains)*(len(domains)-1)\n",
    "pairs = list(itertools.permutations(domains, 2))\n",
    "\n",
    "# por cada par posible para adaptar\n",
    "for src, tgt in pairs:\n",
    "    #se carga el mejor modelo para el dominio fuente\n",
    "    ruta = best_models[src]\n",
    "    modelo = joblib.load(ruta)\n",
    "   \n",
    "    print \"Tarea %d de %d\" % (i+1, tareas)\n",
    "\n",
    "    #baseline in-domain error\n",
    "    #e_b(T,T)\n",
    "    #entrenado en dominio tgt y probado en dominio tgt\n",
    "    X_tr = labeled[tgt]['X_tr'][:, :dims].todense()\n",
    "    y_tr = np.asarray(labeled[tgt]['y_tr'].todense()).argmax(axis=1)\n",
    "\n",
    "    X_ts = labeled[tgt]['X_ts'][:, :dims].todense()\n",
    "    y_ts = np.asarray(labeled[tgt]['y_ts'].todense()).argmax(axis=1)\n",
    "\n",
    "    # se crean las rutas para cargar o crear los modelos\n",
    "    model_name = \"%d_%s.pkl\" % (dims, tgt)\n",
    "    model_path = os.path.join(models_path, dataset_name, \"indomain\", model_name)\n",
    "\n",
    "\n",
    "    #Se realiza una clasificacion, estimando los parametros mediante cv\n",
    "    svc = load_best_score(model_path, X_tr, y_tr)\n",
    "    b_error = 1-svc.score(X_ts, y_ts)\n",
    "\n",
    "    #############\n",
    "    #### PCA ####\n",
    "    #############\n",
    "    #entrenado en dominio src y probado en dominio tgt adaptados\n",
    "    X_tr_a = adapted[src]['X_tr']\n",
    "    y_tr = np.asarray(labeled[src]['y_tr'].todense()).argmax(axis=1)\n",
    "\n",
    "    X_ts_a = modelo.transform(X_ts)\n",
    "    y_ts = np.asarray(labeled[tgt]['y_ts'].todense()).argmax(axis=1)\n",
    "\n",
    "    print \"Entrenando clasificador adaptado.\"\n",
    "    svc_a = get_best_score(X_tr_a, y_tr, classifier='SVC', n_jobs=4)\n",
    "    t_error = 1-svc_a.score(X_ts_a, y_ts)\n",
    "\n",
    "    # transfer loss t\n",
    "    # t_error - b_error\n",
    "    t_loss = t_error - b_error\n",
    "\n",
    "    tarea = src[0]+'->'+tgt[0]\n",
    "    df.loc[i] = ['PCA',tarea,src,tgt,b_error*100,t_error*100, t_loss*100]\n",
    "\n",
    "    i+=1\n",
    "\n",
    "print \"\\nPruebas completadas\""
   ]
  },
  {
   "cell_type": "code",
   "execution_count": 24,
   "metadata": {},
   "outputs": [
    {
     "data": {
      "text/html": [
       "<div>\n",
       "<style>\n",
       "    .dataframe thead tr:only-child th {\n",
       "        text-align: right;\n",
       "    }\n",
       "\n",
       "    .dataframe thead th {\n",
       "        text-align: left;\n",
       "    }\n",
       "\n",
       "    .dataframe tbody tr th {\n",
       "        vertical-align: top;\n",
       "    }\n",
       "</style>\n",
       "<table border=\"1\" class=\"dataframe\">\n",
       "  <thead>\n",
       "    <tr style=\"text-align: right;\">\n",
       "      <th></th>\n",
       "      <th>Adaptacion</th>\n",
       "      <th>Tarea</th>\n",
       "      <th>Fuente</th>\n",
       "      <th>Objetivo</th>\n",
       "      <th>Baseline error</th>\n",
       "      <th>Transfer error</th>\n",
       "      <th>Transfer loss</th>\n",
       "    </tr>\n",
       "  </thead>\n",
       "  <tbody>\n",
       "    <tr>\n",
       "      <th>0</th>\n",
       "      <td>PCA</td>\n",
       "      <td>e-&gt;d</td>\n",
       "      <td>electronics</td>\n",
       "      <td>dvd</td>\n",
       "      <td>16.900423</td>\n",
       "      <td>27.165679</td>\n",
       "      <td>10.265257</td>\n",
       "    </tr>\n",
       "    <tr>\n",
       "      <th>1</th>\n",
       "      <td>PCA</td>\n",
       "      <td>e-&gt;k</td>\n",
       "      <td>electronics</td>\n",
       "      <td>kitchen</td>\n",
       "      <td>16.215405</td>\n",
       "      <td>15.350384</td>\n",
       "      <td>-0.865022</td>\n",
       "    </tr>\n",
       "    <tr>\n",
       "      <th>2</th>\n",
       "      <td>PCA</td>\n",
       "      <td>e-&gt;b</td>\n",
       "      <td>electronics</td>\n",
       "      <td>books</td>\n",
       "      <td>23.710593</td>\n",
       "      <td>30.885772</td>\n",
       "      <td>7.175179</td>\n",
       "    </tr>\n",
       "    <tr>\n",
       "      <th>3</th>\n",
       "      <td>PCA</td>\n",
       "      <td>d-&gt;e</td>\n",
       "      <td>dvd</td>\n",
       "      <td>electronics</td>\n",
       "      <td>16.397910</td>\n",
       "      <td>27.055676</td>\n",
       "      <td>10.657766</td>\n",
       "    </tr>\n",
       "    <tr>\n",
       "      <th>4</th>\n",
       "      <td>PCA</td>\n",
       "      <td>d-&gt;k</td>\n",
       "      <td>dvd</td>\n",
       "      <td>kitchen</td>\n",
       "      <td>16.215405</td>\n",
       "      <td>24.010600</td>\n",
       "      <td>7.795195</td>\n",
       "    </tr>\n",
       "    <tr>\n",
       "      <th>5</th>\n",
       "      <td>PCA</td>\n",
       "      <td>d-&gt;b</td>\n",
       "      <td>dvd</td>\n",
       "      <td>books</td>\n",
       "      <td>23.710593</td>\n",
       "      <td>25.308133</td>\n",
       "      <td>1.597540</td>\n",
       "    </tr>\n",
       "    <tr>\n",
       "      <th>6</th>\n",
       "      <td>PCA</td>\n",
       "      <td>k-&gt;e</td>\n",
       "      <td>kitchen</td>\n",
       "      <td>electronics</td>\n",
       "      <td>16.397910</td>\n",
       "      <td>18.510463</td>\n",
       "      <td>2.112553</td>\n",
       "    </tr>\n",
       "    <tr>\n",
       "      <th>7</th>\n",
       "      <td>PCA</td>\n",
       "      <td>k-&gt;d</td>\n",
       "      <td>kitchen</td>\n",
       "      <td>dvd</td>\n",
       "      <td>16.900423</td>\n",
       "      <td>27.498187</td>\n",
       "      <td>10.597765</td>\n",
       "    </tr>\n",
       "    <tr>\n",
       "      <th>8</th>\n",
       "      <td>PCA</td>\n",
       "      <td>k-&gt;b</td>\n",
       "      <td>kitchen</td>\n",
       "      <td>books</td>\n",
       "      <td>23.710593</td>\n",
       "      <td>32.605815</td>\n",
       "      <td>8.895222</td>\n",
       "    </tr>\n",
       "    <tr>\n",
       "      <th>9</th>\n",
       "      <td>PCA</td>\n",
       "      <td>b-&gt;e</td>\n",
       "      <td>books</td>\n",
       "      <td>electronics</td>\n",
       "      <td>16.397910</td>\n",
       "      <td>23.840596</td>\n",
       "      <td>7.442686</td>\n",
       "    </tr>\n",
       "    <tr>\n",
       "      <th>10</th>\n",
       "      <td>PCA</td>\n",
       "      <td>b-&gt;d</td>\n",
       "      <td>books</td>\n",
       "      <td>dvd</td>\n",
       "      <td>16.900423</td>\n",
       "      <td>17.527938</td>\n",
       "      <td>0.627516</td>\n",
       "    </tr>\n",
       "    <tr>\n",
       "      <th>11</th>\n",
       "      <td>PCA</td>\n",
       "      <td>b-&gt;k</td>\n",
       "      <td>books</td>\n",
       "      <td>kitchen</td>\n",
       "      <td>16.215405</td>\n",
       "      <td>24.290607</td>\n",
       "      <td>8.075202</td>\n",
       "    </tr>\n",
       "  </tbody>\n",
       "</table>\n",
       "</div>"
      ],
      "text/plain": [
       "   Adaptacion Tarea       Fuente     Objetivo  Baseline error  Transfer error  \\\n",
       "0         PCA  e->d  electronics          dvd       16.900423       27.165679   \n",
       "1         PCA  e->k  electronics      kitchen       16.215405       15.350384   \n",
       "2         PCA  e->b  electronics        books       23.710593       30.885772   \n",
       "3         PCA  d->e          dvd  electronics       16.397910       27.055676   \n",
       "4         PCA  d->k          dvd      kitchen       16.215405       24.010600   \n",
       "5         PCA  d->b          dvd        books       23.710593       25.308133   \n",
       "6         PCA  k->e      kitchen  electronics       16.397910       18.510463   \n",
       "7         PCA  k->d      kitchen          dvd       16.900423       27.498187   \n",
       "8         PCA  k->b      kitchen        books       23.710593       32.605815   \n",
       "9         PCA  b->e        books  electronics       16.397910       23.840596   \n",
       "10        PCA  b->d        books          dvd       16.900423       17.527938   \n",
       "11        PCA  b->k        books      kitchen       16.215405       24.290607   \n",
       "\n",
       "    Transfer loss  \n",
       "0       10.265257  \n",
       "1       -0.865022  \n",
       "2        7.175179  \n",
       "3       10.657766  \n",
       "4        7.795195  \n",
       "5        1.597540  \n",
       "6        2.112553  \n",
       "7       10.597765  \n",
       "8        8.895222  \n",
       "9        7.442686  \n",
       "10       0.627516  \n",
       "11       8.075202  "
      ]
     },
     "execution_count": 24,
     "metadata": {},
     "output_type": "execute_result"
    }
   ],
   "source": [
    "df"
   ]
  },
  {
   "cell_type": "code",
   "execution_count": 25,
   "metadata": {},
   "outputs": [
    {
     "name": "stdout",
     "output_type": "stream",
     "text": [
      "Guardando en scores/amazon/pca/me1_1000.csv\n",
      "Resultados guardados.\n"
     ]
    }
   ],
   "source": [
    "new_scores_path = os.path.join(scores_path,dataset_name, tipo, \"me1_%d.csv\" % (dims))\n",
    "print \"Guardando en %s\" % new_scores_path\n",
    "df.to_csv(new_scores_path, columns=df.columns)\n",
    "print \"Resultados guardados.\""
   ]
  }
 ],
 "metadata": {
  "kernelspec": {
   "display_name": "Python 2",
   "language": "python",
   "name": "python2"
  },
  "language_info": {
   "codemirror_mode": {
    "name": "ipython",
    "version": 2
   },
   "file_extension": ".py",
   "mimetype": "text/x-python",
   "name": "python",
   "nbconvert_exporter": "python",
   "pygments_lexer": "ipython2",
   "version": "2.7.13"
  }
 },
 "nbformat": 4,
 "nbformat_minor": 2
}
