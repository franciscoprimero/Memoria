{
 "cells": [
  {
   "cell_type": "code",
   "execution_count": 1,
   "metadata": {
    "collapsed": true
   },
   "outputs": [],
   "source": [
    "import os\n",
    "from utils.paths import *"
   ]
  },
  {
   "cell_type": "markdown",
   "metadata": {},
   "source": [
    "# Eliminar modelos de amazon"
   ]
  },
  {
   "cell_type": "code",
   "execution_count": 2,
   "metadata": {
    "collapsed": true
   },
   "outputs": [],
   "source": [
    "dataset_name = datasets[0]\n",
    "initial_path = os.path.join(models_path, dataset_name)"
   ]
  },
  {
   "cell_type": "code",
   "execution_count": 3,
   "metadata": {},
   "outputs": [
    {
     "name": "stdout",
     "output_type": "stream",
     "text": [
      "models/amazon:\r\n",
      "baseline  gfk  indomain  msda  pca  sda\r\n",
      "\r\n",
      "models/amazon/baseline:\r\n",
      "books_dvd.pkl\t       dvd_electronics.pkl    electronics_kitchen.pkl\r\n",
      "books_electronics.pkl  dvd_kitchen.pkl\t      kitchen_books.pkl\r\n",
      "books_kitchen.pkl      electronics_books.pkl  kitchen_dvd.pkl\r\n",
      "dvd_books.pkl\t       electronics_dvd.pkl    kitchen_electronics.pkl\r\n",
      "\r\n",
      "models/amazon/gfk:\r\n",
      "me1_best_models.pkl  me1_electronics_0.pkl  me2_books_dvd.pkl\r\n",
      "me1_books_0.pkl      me1_electronics_1.pkl  me2_books_electronics.pkl\r\n",
      "me1_books_1.pkl      me1_electronics_2.pkl  me2_books_kitchen.pkl\r\n",
      "me1_books_2.pkl      me1_electronics_3.pkl  me2_dvd_books.pkl\r\n",
      "me1_books_3.pkl      me1_electronics_4.pkl  me2_dvd_electronics.pkl\r\n",
      "me1_books_4.pkl      me1_electronics_5.pkl  me2_dvd_kitchen.pkl\r\n",
      "me1_books_5.pkl      me1_kitchen_0.pkl\t    me2_electronics_books.pkl\r\n",
      "me1_dvd_0.pkl\t     me1_kitchen_1.pkl\t    me2_electronics_dvd.pkl\r\n",
      "me1_dvd_1.pkl\t     me1_kitchen_2.pkl\t    me2_electronics_kitchen.pkl\r\n",
      "me1_dvd_2.pkl\t     me1_kitchen_3.pkl\t    me2_kitchen_books.pkl\r\n",
      "me1_dvd_3.pkl\t     me1_kitchen_4.pkl\t    me2_kitchen_dvd.pkl\r\n",
      "me1_dvd_4.pkl\t     me1_kitchen_5.pkl\t    me2_kitchen_electronics.pkl\r\n",
      "me1_dvd_5.pkl\t     me1_models_paths.pkl\r\n",
      "\r\n",
      "models/amazon/indomain:\r\n",
      "books.pkl  dvd.pkl  electronics.pkl  kitchen.pkl\r\n",
      "\r\n",
      "models/amazon/msda:\r\n",
      "me1_0.pkl  me1_8.pkl\t\t      me2_dvd_kitchen.pkl\r\n",
      "me1_1.pkl  me1_best_models.pkl\t      me2_electronics_books.pkl\r\n",
      "me1_2.pkl  me1_models_paths.pkl       me2_electronics_dvd.pkl\r\n",
      "me1_3.pkl  me2_books_dvd.pkl\t      me2_electronics_kitchen.pkl\r\n",
      "me1_4.pkl  me2_books_electronics.pkl  me2_kitchen_books.pkl\r\n",
      "me1_5.pkl  me2_books_kitchen.pkl      me2_kitchen_dvd.pkl\r\n",
      "me1_6.pkl  me2_dvd_books.pkl\t      me2_kitchen_electronics.pkl\r\n",
      "me1_7.pkl  me2_dvd_electronics.pkl\r\n",
      "\r\n",
      "models/amazon/pca:\r\n",
      "me1_0.pkl\t      me2_books_electronics.pkl  me2_electronics_dvd.pkl\r\n",
      "me1_1.pkl\t      me2_books_kitchen.pkl\t me2_electronics_kitchen.pkl\r\n",
      "me1_2.pkl\t      me2_dvd_books.pkl\t\t me2_kitchen_books.pkl\r\n",
      "me1_best_models.pkl   me2_dvd_electronics.pkl\t me2_kitchen_dvd.pkl\r\n",
      "me1_models_paths.pkl  me2_dvd_kitchen.pkl\t me2_kitchen_electronics.pkl\r\n",
      "me2_books_dvd.pkl     me2_electronics_books.pkl\r\n",
      "\r\n",
      "models/amazon/sda:\r\n",
      "me1_ae_0.h5\t     me1_e_2.h5\t\t\t  me2_ae_electronics_kitchen.h5\r\n",
      "me1_ae_10.h5\t     me1_e_3.h5\t\t\t  me2_ae_kitchen_books.h5\r\n",
      "me1_ae_11.h5\t     me1_e_4.h5\t\t\t  me2_ae_kitchen_dvd.h5\r\n",
      "me1_ae_1.h5\t     me1_e_5.h5\t\t\t  me2_ae_kitchen_electronics.h5\r\n",
      "me1_ae_2.h5\t     me1_e_6.h5\t\t\t  me2_e_books_dvd.h5\r\n",
      "me1_ae_3.h5\t     me1_e_7.h5\t\t\t  me2_e_books_electronics.h5\r\n",
      "me1_ae_4.h5\t     me1_e_8.h5\t\t\t  me2_e_books_kitchen.h5\r\n",
      "me1_ae_5.h5\t     me1_e_9.h5\t\t\t  me2_e_dvd_books.h5\r\n",
      "me1_ae_6.h5\t     me1_models_paths.pkl\t  me2_e_dvd_electronics.h5\r\n",
      "me1_ae_7.h5\t     me2_ae_books_dvd.h5\t  me2_e_dvd_kitchen.h5\r\n",
      "me1_ae_8.h5\t     me2_ae_books_electronics.h5  me2_e_electronics_books.h5\r\n",
      "me1_ae_9.h5\t     me2_ae_books_kitchen.h5\t  me2_e_electronics_dvd.h5\r\n",
      "me1_best_models.pkl  me2_ae_dvd_books.h5\t  me2_e_electronics_kitchen.h5\r\n",
      "me1_e_0.h5\t     me2_ae_dvd_electronics.h5\t  me2_e_kitchen_books.h5\r\n",
      "me1_e_10.h5\t     me2_ae_dvd_kitchen.h5\t  me2_e_kitchen_dvd.h5\r\n",
      "me1_e_11.h5\t     me2_ae_electronics_books.h5  me2_e_kitchen_electronics.h5\r\n",
      "me1_e_1.h5\t     me2_ae_electronics_dvd.h5\r\n"
     ]
    }
   ],
   "source": [
    "! ls -R $initial_path"
   ]
  },
  {
   "cell_type": "code",
   "execution_count": 4,
   "metadata": {
    "collapsed": true
   },
   "outputs": [],
   "source": [
    "# Indomain\n",
    "indomain = os.path.join(initial_path, \"indomain\", \"*.pkl\")\n",
    "\n",
    "# Baseline\n",
    "baseline = os.path.join(initial_path, \"baseline\", \"*.pkl\")\n",
    "\n",
    "# SDA\n",
    "sda = os.path.join(initial_path, \"sda\", \"*.h5\")\n",
    "sda2 = os.path.join(initial_path, \"sda\", \"*.pkl\")\n",
    "\n",
    "# mSDA\n",
    "msda = os.path.join(initial_path, \"msda\", \"*.pkl\")\n",
    "\n",
    "# PCA\n",
    "pca = os.path.join(initial_path, \"pca\", \"*.pkl\")\n",
    "\n",
    "# GFK\n",
    "gfk = os.path.join(initial_path, \"gfk\", \"*.pkl\")\n",
    "\n",
    "! rm $indomain $baseline $sda $sda2 $msda $pca $gfk"
   ]
  },
  {
   "cell_type": "code",
   "execution_count": 5,
   "metadata": {},
   "outputs": [
    {
     "name": "stdout",
     "output_type": "stream",
     "text": [
      "models/amazon:\r\n",
      "baseline  gfk  indomain  msda  pca  sda\r\n",
      "\r\n",
      "models/amazon/baseline:\r\n",
      "\r\n",
      "models/amazon/gfk:\r\n",
      "\r\n",
      "models/amazon/indomain:\r\n",
      "\r\n",
      "models/amazon/msda:\r\n",
      "\r\n",
      "models/amazon/pca:\r\n",
      "\r\n",
      "models/amazon/sda:\r\n"
     ]
    }
   ],
   "source": [
    "! ls -R $initial_path"
   ]
  },
  {
   "cell_type": "markdown",
   "metadata": {},
   "source": [
    "# Eliminar modelos de twitter"
   ]
  },
  {
   "cell_type": "code",
   "execution_count": 6,
   "metadata": {
    "collapsed": true
   },
   "outputs": [],
   "source": [
    "dataset_name = datasets[1]\n",
    "initial_path = os.path.join(models_path, dataset_name)"
   ]
  },
  {
   "cell_type": "code",
   "execution_count": 7,
   "metadata": {},
   "outputs": [
    {
     "name": "stdout",
     "output_type": "stream",
     "text": [
      "models/twitter:\r\n",
      "baseline  gfk  indomain  msda  pca  sda\r\n",
      "\r\n",
      "models/twitter/baseline:\r\n",
      "general_rio2016.pkl   rio2016_general.pkl   thevoice_general.pkl\r\n",
      "general_thevoice.pkl  rio2016_thevoice.pkl  thevoice_rio2016.pkl\r\n",
      "\r\n",
      "models/twitter/gfk:\r\n",
      "me2_general_rio2016.pkl   me2_rio2016_general.pkl   me2_thevoice_general.pkl\r\n",
      "me2_general_thevoice.pkl  me2_rio2016_thevoice.pkl  me2_thevoice_rio2016.pkl\r\n",
      "\r\n",
      "models/twitter/indomain:\r\n",
      "general.pkl  rio2016.pkl  thevoice.pkl\r\n",
      "\r\n",
      "models/twitter/msda:\r\n",
      "me1_0.pkl  me1_6.pkl\t\t    me2_general_thevoice.pkl\r\n",
      "me1_1.pkl  me1_7.pkl\t\t    me2_rio2016_general.pkl\r\n",
      "me1_2.pkl  me1_8.pkl\t\t    me2_rio2016_thevoice.pkl\r\n",
      "me1_3.pkl  me1_best_models.pkl\t    me2_thevoice_general.pkl\r\n",
      "me1_4.pkl  me1_models_paths.pkl     me2_thevoice_rio2016.pkl\r\n",
      "me1_5.pkl  me2_general_rio2016.pkl\r\n",
      "\r\n",
      "models/twitter/pca:\r\n",
      "me1_0.pkl\t     me1_models_paths.pkl      me2_rio2016_thevoice.pkl\r\n",
      "me1_1.pkl\t     me2_general_rio2016.pkl   me2_thevoice_general.pkl\r\n",
      "me1_2.pkl\t     me2_general_thevoice.pkl  me2_thevoice_rio2016.pkl\r\n",
      "me1_best_models.pkl  me2_rio2016_general.pkl\r\n",
      "\r\n",
      "models/twitter/sda:\r\n",
      "me1_ae_0.h5\t     me1_e_0.h5\t\t   me2_ae_general_rio2016.h5\r\n",
      "me1_ae_10.h5\t     me1_e_10.h5\t   me2_ae_general_thevoice.h5\r\n",
      "me1_ae_11.h5\t     me1_e_11.h5\t   me2_ae_rio2016_general.h5\r\n",
      "me1_ae_1.h5\t     me1_e_1.h5\t\t   me2_ae_rio2016_thevoice.h5\r\n",
      "me1_ae_2.h5\t     me1_e_2.h5\t\t   me2_ae_thevoice_general.h5\r\n",
      "me1_ae_3.h5\t     me1_e_3.h5\t\t   me2_ae_thevoice_rio2016.h5\r\n",
      "me1_ae_4.h5\t     me1_e_4.h5\t\t   me2_e_general_rio2016.h5\r\n",
      "me1_ae_5.h5\t     me1_e_5.h5\t\t   me2_e_general_thevoice.h5\r\n",
      "me1_ae_6.h5\t     me1_e_6.h5\t\t   me2_e_rio2016_general.h5\r\n",
      "me1_ae_7.h5\t     me1_e_7.h5\t\t   me2_e_rio2016_thevoice.h5\r\n",
      "me1_ae_8.h5\t     me1_e_8.h5\t\t   me2_e_thevoice_general.h5\r\n",
      "me1_ae_9.h5\t     me1_e_9.h5\t\t   me2_e_thevoice_rio2016.h5\r\n",
      "me1_best_models.pkl  me1_models_paths.pkl\r\n"
     ]
    }
   ],
   "source": [
    "! ls -R $initial_path"
   ]
  },
  {
   "cell_type": "code",
   "execution_count": 8,
   "metadata": {
    "collapsed": true
   },
   "outputs": [],
   "source": [
    "# Indomain\n",
    "indomain = os.path.join(initial_path, \"indomain\", \"*.pkl\")\n",
    "\n",
    "# Baseline\n",
    "baseline = os.path.join(initial_path, \"baseline\", \"*.pkl\")\n",
    "\n",
    "# SDA\n",
    "sda = os.path.join(initial_path, \"sda\", \"*.h5\")\n",
    "sda2 = os.path.join(initial_path, \"sda\", \"*.pkl\")\n",
    "\n",
    "# mSDA\n",
    "msda = os.path.join(initial_path, \"msda\", \"*.pkl\")\n",
    "\n",
    "# PCA\n",
    "pca = os.path.join(initial_path, \"pca\", \"*.pkl\")\n",
    "\n",
    "# GFK\n",
    "gfk = os.path.join(initial_path, \"gfk\", \"*.pkl\")\n",
    "\n",
    "! rm $indomain $baseline $sda $sda2 $msda $pca $gfk"
   ]
  },
  {
   "cell_type": "code",
   "execution_count": 9,
   "metadata": {},
   "outputs": [
    {
     "name": "stdout",
     "output_type": "stream",
     "text": [
      "models/twitter:\r\n",
      "baseline  gfk  indomain  msda  pca  sda\r\n",
      "\r\n",
      "models/twitter/baseline:\r\n",
      "\r\n",
      "models/twitter/gfk:\r\n",
      "\r\n",
      "models/twitter/indomain:\r\n",
      "\r\n",
      "models/twitter/msda:\r\n",
      "\r\n",
      "models/twitter/pca:\r\n",
      "\r\n",
      "models/twitter/sda:\r\n"
     ]
    }
   ],
   "source": [
    "! ls -R $initial_path"
   ]
  }
 ],
 "metadata": {
  "kernelspec": {
   "display_name": "Python 2",
   "language": "python",
   "name": "python2"
  },
  "language_info": {
   "codemirror_mode": {
    "name": "ipython",
    "version": 2
   },
   "file_extension": ".py",
   "mimetype": "text/x-python",
   "name": "python",
   "nbconvert_exporter": "python",
   "pygments_lexer": "ipython2",
   "version": "2.7.13"
  }
 },
 "nbformat": 4,
 "nbformat_minor": 2
}
