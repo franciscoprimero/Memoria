{
 "cells": [
  {
   "cell_type": "code",
   "execution_count": 1,
   "metadata": {
    "collapsed": true
   },
   "outputs": [],
   "source": [
    "import os\n",
    "from utils.paths import *"
   ]
  },
  {
   "cell_type": "code",
   "execution_count": 15,
   "metadata": {
    "collapsed": true
   },
   "outputs": [],
   "source": [
    "dataset_name = datasets[1]\n",
    "initial_path = os.path.join(models_path, dataset_name)"
   ]
  },
  {
   "cell_type": "code",
   "execution_count": 16,
   "metadata": {},
   "outputs": [
    {
     "name": "stdout",
     "output_type": "stream",
     "text": [
      "models/twitter:\r\n",
      "baseline  gfk  indomain  msda  pca  sda\r\n",
      "\r\n",
      "models/twitter/baseline:\r\n",
      "general_rio2016.pkl   rio2016_general.pkl   thevoice_general.pkl\r\n",
      "general_thevoice.pkl  rio2016_thevoice.pkl  thevoice_rio2016.pkl\r\n",
      "\r\n",
      "models/twitter/gfk:\r\n",
      "me1_best_models.pkl   me1_rio2016_1.pkl    me1_thevoice_4.pkl \r\n",
      "me1_general_0.pkl     me1_rio2016_2.pkl    me1_thevoice_5.pkl \r\n",
      "me1_general_1.pkl     me1_rio2016_3.pkl    me2_general_rio2016.pkl\r\n",
      "me1_general_2.pkl     me1_rio2016_4.pkl    me2_general_thevoice.pkl\r\n",
      "me1_general_3.pkl     me1_rio2016_5.pkl    me2_rio2016_general.pkl\r\n",
      "me1_general_4.pkl     me1_thevoice_0.pkl   me2_rio2016_thevoice.pkl\r\n",
      "me1_general_5.pkl     me1_thevoice_1.pkl   me2_thevoice_general.pkl\r\n",
      "me1_models_paths.pkl  me1_thevoice_2.pkl   me2_thevoice_rio2016.pkl\r\n",
      "me1_rio2016_0.pkl     me1_thevoice_3.pkl \r\n",
      "\r\n",
      "models/twitter/indomain:\r\n",
      "general.pkl  rio2016.pkl  thevoice.pkl\r\n",
      "\r\n",
      "models/twitter/msda:\r\n",
      "me1_0.pkl   me1_6.pkl \t\t     me2_general_thevoice.pkl\r\n",
      "me1_1.pkl   me1_7.pkl \t\t     me2_rio2016_general.pkl\r\n",
      "me1_2.pkl   me1_8.pkl \t\t     me2_rio2016_thevoice.pkl\r\n",
      "me1_3.pkl   me1_best_models.pkl      me2_thevoice_general.pkl\r\n",
      "me1_4.pkl   me1_models_paths.pkl     me2_thevoice_rio2016.pkl\r\n",
      "me1_5.pkl   me2_general_rio2016.pkl\r\n",
      "\r\n",
      "models/twitter/pca:\r\n",
      "me1_0.pkl\t     me1_models_paths.pkl      me2_rio2016_thevoice.pkl\r\n",
      "me1_1.pkl\t     me2_general_rio2016.pkl   me2_thevoice_general.pkl\r\n",
      "me1_2.pkl\t     me2_general_thevoice.pkl  me2_thevoice_rio2016.pkl\r\n",
      "me1_best_models.pkl  me2_rio2016_general.pkl\r\n",
      "\r\n",
      "models/twitter/sda:\r\n",
      "me1_ae_0.h5\t     me1_e_0.h5\t\t   me2_ae_general_rio2016.h5\r\n",
      "me1_ae_10.h5\t     me1_e_10.h5\t   me2_ae_general_thevoice.h5\r\n",
      "me1_ae_11.h5\t     me1_e_11.h5\t   me2_ae_rio2016_general.h5\r\n",
      "me1_ae_1.h5\t     me1_e_1.h5\t\t   me2_ae_rio2016_thevoice.h5\r\n",
      "me1_ae_2.h5\t     me1_e_2.h5\t\t   me2_ae_thevoice_general.h5\r\n",
      "me1_ae_3.h5\t     me1_e_3.h5\t\t   me2_ae_thevoice_rio2016.h5\r\n",
      "me1_ae_4.h5\t     me1_e_4.h5\t\t   me2_e_general_rio2016.h5\r\n",
      "me1_ae_5.h5\t     me1_e_5.h5\t\t   me2_e_general_thevoice.h5\r\n",
      "me1_ae_6.h5\t     me1_e_6.h5\t\t   me2_e_rio2016_general.h5\r\n",
      "me1_ae_7.h5\t     me1_e_7.h5\t\t   me2_e_rio2016_thevoice.h5\r\n",
      "me1_ae_8.h5\t     me1_e_8.h5\t\t   me2_e_thevoice_general.h5\r\n",
      "me1_ae_9.h5\t     me1_e_9.h5\t\t   me2_e_thevoice_rio2016.h5\r\n",
      "me1_best_models.pkl  me1_models_paths.pkl\r\n"
     ]
    }
   ],
   "source": [
    "! ls -R $initial_path"
   ]
  },
  {
   "cell_type": "code",
   "execution_count": 20,
   "metadata": {},
   "outputs": [
    {
     "name": "stdout",
     "output_type": "stream",
     "text": [
      "rm: no se puede borrar «*.pkl»: No existe el archivo o el directorio\r\n",
      "rm: no se puede borrar «*.h5»: No existe el archivo o el directorio\r\n"
     ]
    }
   ],
   "source": [
    "# Indomain\n",
    "indomain = os.path.join(initial_path, \"indomain\", \"*.pkl\")\n",
    "\n",
    "# Baseline\n",
    "baseline = os.path.join(initial_path, \"baseline\", \"*.pkl\")\n",
    "\n",
    "# SDA\n",
    "sda = os.path.join(initial_path, \"sda\", \"*.h5\")\n",
    "sda2 = os.path.join(initial_path, \"sda\", \"*.pkl\")\n",
    "\n",
    "# mSDA\n",
    "msda = os.path.join(initial_path, \"msda\", \"*.pkl\")\n",
    "\n",
    "# PCA\n",
    "pca = os.path.join(initial_path, \"pca\", \"*.pkl\")\n",
    "\n",
    "# GFK\n",
    "gfk = os.path.join(initial_path, \"gfk\", \"*.pkl\")\n",
    "\n",
    "#! rm $indomain $baseline $sda $sda2 $msda $pca $gfk\n",
    "!rm -r *.pkl *.h5"
   ]
  },
  {
   "cell_type": "code",
   "execution_count": 19,
   "metadata": {},
   "outputs": [
    {
     "name": "stdout",
     "output_type": "stream",
     "text": [
      "models/twitter:\r\n",
      "baseline  gfk  indomain  msda  pca  sda\r\n",
      "\r\n",
      "models/twitter/baseline:\r\n",
      "\r\n",
      "models/twitter/gfk:\r\n",
      "\r\n",
      "models/twitter/indomain:\r\n",
      "\r\n",
      "models/twitter/msda:\r\n",
      "\r\n",
      "models/twitter/pca:\r\n",
      "\r\n",
      "models/twitter/sda:\r\n"
     ]
    }
   ],
   "source": [
    "! ls -R $initial_path"
   ]
  }
 ],
 "metadata": {
  "kernelspec": {
   "display_name": "Python 2",
   "language": "python",
   "name": "python2"
  },
  "language_info": {
   "codemirror_mode": {
    "name": "ipython",
    "version": 2
   },
   "file_extension": ".py",
   "mimetype": "text/x-python",
   "name": "python",
   "nbconvert_exporter": "python",
   "pygments_lexer": "ipython2",
   "version": "2.7.13"
  }
 },
 "nbformat": 4,
 "nbformat_minor": 2
}
