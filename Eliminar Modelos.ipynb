{
 "cells": [
  {
   "cell_type": "code",
   "execution_count": 1,
   "metadata": {
    "collapsed": true
   },
   "outputs": [],
   "source": [
    "import os\n",
    "from utils.paths import *"
   ]
  },
  {
   "cell_type": "code",
   "execution_count": 2,
   "metadata": {},
   "outputs": [
    {
     "name": "stdout",
     "output_type": "stream",
     "text": [
      "models:\r\n",
      "amazon\ttwitter\r\n",
      "\r\n",
      "models/amazon:\r\n",
      "baseline  gfk  indomain  msda  pca  sda\r\n",
      "\r\n",
      "models/amazon/baseline:\r\n",
      "books_dvd.pkl\t       dvd_electronics.pkl    electronics_kitchen.pkl\r\n",
      "books_electronics.pkl  dvd_kitchen.pkl\t      kitchen_books.pkl\r\n",
      "books_kitchen.pkl      electronics_books.pkl  kitchen_dvd.pkl\r\n",
      "dvd_books.pkl\t       electronics_dvd.pkl    kitchen_electronics.pkl\r\n",
      "\r\n",
      "models/amazon/gfk:\r\n",
      "me1_books_0.pkl   me1_electronics_0.pkl   me1_kitchen_2.pkl \r\n",
      "me1_books_1.pkl   me1_electronics_1.pkl   me1_kitchen_3.pkl \r\n",
      "me1_dvd_0.pkl \t  me1_kitchen_0.pkl \t  me1_kitchen_4.pkl \r\n",
      "me1_dvd_1.pkl \t  me1_kitchen_1.pkl \t  me1_kitchen_5.pkl \r\n",
      "\r\n",
      "models/amazon/indomain:\r\n",
      "books.pkl  dvd.pkl  electronics.pkl  kitchen.pkl\r\n",
      "\r\n",
      "models/amazon/msda:\r\n",
      "me1_0.pkl   me1_3.pkl \tme1_6.pkl   me1_best_models.pkl\r\n",
      "me1_1.pkl   me1_4.pkl \tme1_7.pkl   me1_models_paths.pkl\r\n",
      "me1_2.pkl   me1_5.pkl \tme1_8.pkl \r\n",
      "\r\n",
      "models/amazon/pca:\r\n",
      "\r\n",
      "models/amazon/sda:\r\n",
      "\r\n",
      "models/twitter:\r\n",
      "baseline  gfk  indomain  msda  pca  sda\r\n",
      "\r\n",
      "models/twitter/baseline:\r\n",
      "\r\n",
      "models/twitter/gfk:\r\n",
      "\r\n",
      "models/twitter/indomain:\r\n",
      "\r\n",
      "models/twitter/msda:\r\n",
      "\r\n",
      "models/twitter/pca:\r\n",
      "\r\n",
      "models/twitter/sda:\r\n"
     ]
    }
   ],
   "source": [
    "! ls -R $models_path"
   ]
  },
  {
   "cell_type": "markdown",
   "metadata": {},
   "source": [
    "# Modelos de Twitter"
   ]
  },
  {
   "cell_type": "code",
   "execution_count": 7,
   "metadata": {
    "collapsed": true
   },
   "outputs": [],
   "source": [
    "dataset_name = datasets[1]\n",
    "initial_path = os.path.join(models_path, dataset_name)"
   ]
  },
  {
   "cell_type": "code",
   "execution_count": 8,
   "metadata": {},
   "outputs": [
    {
     "name": "stdout",
     "output_type": "stream",
     "text": [
      "models/twitter:\r\n",
      "baseline  gfk  indomain  msda  pca  sda\r\n",
      "\r\n",
      "models/twitter/baseline:\r\n",
      "\r\n",
      "models/twitter/gfk:\r\n",
      "\r\n",
      "models/twitter/indomain:\r\n",
      "\r\n",
      "models/twitter/msda:\r\n",
      "\r\n",
      "models/twitter/pca:\r\n",
      "\r\n",
      "models/twitter/sda:\r\n"
     ]
    }
   ],
   "source": [
    "! ls -R $initial_path"
   ]
  },
  {
   "cell_type": "code",
   "execution_count": 8,
   "metadata": {
    "collapsed": true
   },
   "outputs": [],
   "source": [
    "# Baseline\n",
    "baseline_path = os.path.join(models_path, dataset_name, \"*.pkl\")\n",
    "! rm $baseline_path"
   ]
  },
  {
   "cell_type": "code",
   "execution_count": 9,
   "metadata": {
    "collapsed": true
   },
   "outputs": [],
   "source": [
    "# SDA\n",
    "sda1 = os.path.join(models_path, \"sda\", \"twitter_*\")\n",
    "sda2 = os.path.join(models_path, \"sda\", \"best_twitter_paths.pkl\")\n",
    "\n",
    "! rm $sda1 $sda2"
   ]
  },
  {
   "cell_type": "code",
   "execution_count": 10,
   "metadata": {
    "collapsed": true
   },
   "outputs": [],
   "source": [
    "# mSDA\n",
    "msda1 = os.path.join(models_path, \"msda\", \"twitter_*\")\n",
    "msda2 = os.path.join(models_path, \"msda\", \"best_twitter_paths.pkl\")\n",
    "\n",
    "! rm $msda1 $msda2"
   ]
  },
  {
   "cell_type": "code",
   "execution_count": 11,
   "metadata": {
    "collapsed": true
   },
   "outputs": [],
   "source": [
    "# PCA\n",
    "pca1 = os.path.join(models_path, \"pca\", \"twitter_*\")\n",
    "pca2 = os.path.join(models_path, \"pca\", \"best_twitter_paths.pkl\")\n",
    "\n",
    "! rm $pca1 $pca2"
   ]
  },
  {
   "cell_type": "code",
   "execution_count": 12,
   "metadata": {
    "collapsed": true
   },
   "outputs": [],
   "source": [
    "# GFK\n",
    "gfk1 = os.path.join(models_path, \"gfk\", \"twitter_*\")\n",
    "#gfk2 = os.path.join(models_path, \"gfk\", \"best_twitter_paths.pkl\")\n",
    "\n",
    "! rm $gfk1"
   ]
  },
  {
   "cell_type": "code",
   "execution_count": 14,
   "metadata": {},
   "outputs": [
    {
     "name": "stdout",
     "output_type": "stream",
     "text": [
      "models:\r\n",
      "amazon\tgfk  msda  pca\tsda  twitter\r\n",
      "\r\n",
      "models/amazon:\r\n",
      "baseline_books_dvd.pkl\t\tbaseline_electronics_kitchen.pkl\r\n",
      "baseline_books_electronics.pkl\tbaseline_kitchen_books.pkl\r\n",
      "baseline_books_kitchen.pkl\tbaseline_kitchen_dvd.pkl\r\n",
      "baseline_dvd_books.pkl\t\tbaseline_kitchen_electronics.pkl\r\n",
      "baseline_dvd_electronics.pkl\tindomain_books.pkl\r\n",
      "baseline_dvd_kitchen.pkl\tindomain_dvd.pkl\r\n",
      "baseline_electronics_books.pkl\tindomain_electronics.pkl\r\n",
      "baseline_electronics_dvd.pkl\tindomain_kitchen.pkl\r\n",
      "\r\n",
      "models/gfk:\r\n",
      "amazon_books_dvd.pkl\t      amazon_electronics_books.pkl\r\n",
      "amazon_books_electronics.pkl  amazon_electronics_dvd.pkl\r\n",
      "amazon_books_kitchen.pkl      amazon_electronics_kitchen.pkl\r\n",
      "amazon_dvd_books.pkl\t      amazon_kitchen_books.pkl\r\n",
      "amazon_dvd_electronics.pkl    amazon_kitchen_dvd.pkl\r\n",
      "amazon_dvd_kitchen.pkl\t      amazon_kitchen_electronics.pkl\r\n",
      "\r\n",
      "models/msda:\r\n",
      "amazon_0.pkl  amazon_1.pkl\r\n",
      "\r\n",
      "models/pca:\r\n",
      "amazon_0.pkl  amazon_books.pkl\t      amazon_kitchen.pkl\r\n",
      "amazon_1.pkl  amazon_dvd.pkl\t      amazon_paths.pkl\r\n",
      "amazon_2.pkl  amazon_electronics.pkl  best_amazon_paths.pkl\r\n",
      "\r\n",
      "models/sda:\r\n",
      "\r\n",
      "models/twitter:\r\n"
     ]
    }
   ],
   "source": [
    "! ls -R $models_path"
   ]
  },
  {
   "cell_type": "markdown",
   "metadata": {},
   "source": [
    "# Modelos de Amazon"
   ]
  },
  {
   "cell_type": "code",
   "execution_count": 11,
   "metadata": {
    "collapsed": true
   },
   "outputs": [],
   "source": [
    "dataset_name = datasets[0]\n",
    "initial_path = os.path.join(models_path, dataset_name)"
   ]
  },
  {
   "cell_type": "code",
   "execution_count": 12,
   "metadata": {},
   "outputs": [
    {
     "name": "stdout",
     "output_type": "stream",
     "text": [
      "models/amazon:\r\n",
      "baseline  gfk  indomain  msda  pca  sda\r\n",
      "\r\n",
      "models/amazon/baseline:\r\n",
      "books_dvd.pkl\t       dvd_electronics.pkl    electronics_kitchen.pkl\r\n",
      "books_electronics.pkl  dvd_kitchen.pkl\t      kitchen_books.pkl\r\n",
      "books_kitchen.pkl      electronics_books.pkl  kitchen_dvd.pkl\r\n",
      "dvd_books.pkl\t       electronics_dvd.pkl    kitchen_electronics.pkl\r\n",
      "\r\n",
      "models/amazon/gfk:\r\n",
      "me1_books_0.pkl   me1_dvd_3.pkl \t  me1_kitchen_0.pkl \r\n",
      "me1_books_1.pkl   me1_dvd_4.pkl \t  me1_kitchen_1.pkl \r\n",
      "me1_books_2.pkl   me1_dvd_5.pkl \t  me1_kitchen_2.pkl \r\n",
      "me1_books_3.pkl   me1_electronics_0.pkl   me1_kitchen_3.pkl \r\n",
      "me1_books_4.pkl   me1_electronics_1.pkl   me1_kitchen_4.pkl \r\n",
      "me1_books_5.pkl   me1_electronics_2.pkl   me1_kitchen_5.pkl \r\n",
      "me1_dvd_0.pkl \t  me1_electronics_3.pkl   me1_models_paths.pkl\r\n",
      "me1_dvd_1.pkl \t  me1_electronics_4.pkl \r\n",
      "me1_dvd_2.pkl \t  me1_electronics_5.pkl \r\n",
      "\r\n",
      "models/amazon/indomain:\r\n",
      "books.pkl  dvd.pkl  electronics.pkl  kitchen.pkl\r\n",
      "\r\n",
      "models/amazon/msda:\r\n",
      "me1_0.pkl   me1_3.pkl \tme1_6.pkl   me1_best_models.pkl\r\n",
      "me1_1.pkl   me1_4.pkl \tme1_7.pkl   me1_models_paths.pkl\r\n",
      "me1_2.pkl   me1_5.pkl \tme1_8.pkl \r\n",
      "\r\n",
      "models/amazon/pca:\r\n",
      "\r\n",
      "models/amazon/sda:\r\n"
     ]
    }
   ],
   "source": [
    "! ls -R $initial_path"
   ]
  },
  {
   "cell_type": "code",
   "execution_count": 13,
   "metadata": {},
   "outputs": [
    {
     "data": {
      "text/plain": [
       "'models/amazon/baseline/*.pkl'"
      ]
     },
     "execution_count": 13,
     "metadata": {},
     "output_type": "execute_result"
    }
   ],
   "source": [
    "# Baseline\n",
    "baseline_path = os.path.join(initial_path, \"baseline\", \"*.pkl\")\n",
    "\n",
    "! rm $baseline_path"
   ]
  },
  {
   "cell_type": "code",
   "execution_count": 8,
   "metadata": {},
   "outputs": [
    {
     "name": "stdout",
     "output_type": "stream",
     "text": [
      "rm: no se puede borrar «models/sda/amazon_*»: No existe el archivo o el directorio\r\n",
      "rm: no se puede borrar «models/sda/best_amazon_paths.pkl»: No existe el archivo o el directorio\r\n"
     ]
    }
   ],
   "source": [
    "# SDA\n",
    "sda1 = os.path.join(initial_path, \"sda\", \"*.pkl\")\n",
    "! rm $sda1"
   ]
  },
  {
   "cell_type": "code",
   "execution_count": 10,
   "metadata": {},
   "outputs": [
    {
     "name": "stdout",
     "output_type": "stream",
     "text": [
      "rm: no se puede borrar «models/msda/best_amazon_paths.pkl»: No existe el archivo o el directorio\r\n"
     ]
    }
   ],
   "source": [
    "# mSDA\n",
    "msda1 = os.path.join(initial_path, \"msda\", \"*.pkl\")\n",
    "\n",
    "! rm $msda1"
   ]
  },
  {
   "cell_type": "code",
   "execution_count": 12,
   "metadata": {
    "collapsed": true
   },
   "outputs": [],
   "source": [
    "# PCA\n",
    "sda1 = os.path.join(initial_path, \"pca\", \"*.pkl\")\n",
    "\n",
    "! rm $pca1"
   ]
  },
  {
   "cell_type": "code",
   "execution_count": 14,
   "metadata": {
    "collapsed": true
   },
   "outputs": [],
   "source": [
    "# GFK\n",
    "gfk1 = os.path.join(initial_path, \"gfk\", \"*.pkl\")\n",
    "\n",
    "! rm $gfk1"
   ]
  },
  {
   "cell_type": "code",
   "execution_count": 14,
   "metadata": {},
   "outputs": [
    {
     "name": "stdout",
     "output_type": "stream",
     "text": [
      "models/amazon:\r\n",
      "baseline  gfk  indomain  msda  pca  sda\r\n",
      "\r\n",
      "models/amazon/baseline:\r\n",
      "books_dvd.pkl\t       dvd_electronics.pkl    electronics_kitchen.pkl\r\n",
      "books_electronics.pkl  dvd_kitchen.pkl\t      kitchen_books.pkl\r\n",
      "books_kitchen.pkl      electronics_books.pkl  kitchen_dvd.pkl\r\n",
      "dvd_books.pkl\t       electronics_dvd.pkl    kitchen_electronics.pkl\r\n",
      "\r\n",
      "models/amazon/gfk:\r\n",
      "me1_books_0.pkl   me1_dvd_3.pkl \t  me1_kitchen_0.pkl \r\n",
      "me1_books_1.pkl   me1_dvd_4.pkl \t  me1_kitchen_1.pkl \r\n",
      "me1_books_2.pkl   me1_dvd_5.pkl \t  me1_kitchen_2.pkl \r\n",
      "me1_books_3.pkl   me1_electronics_0.pkl   me1_kitchen_3.pkl \r\n",
      "me1_books_4.pkl   me1_electronics_1.pkl   me1_kitchen_4.pkl \r\n",
      "me1_books_5.pkl   me1_electronics_2.pkl   me1_kitchen_5.pkl \r\n",
      "me1_dvd_0.pkl \t  me1_electronics_3.pkl   me1_models_paths.pkl\r\n",
      "me1_dvd_1.pkl \t  me1_electronics_4.pkl \r\n",
      "me1_dvd_2.pkl \t  me1_electronics_5.pkl \r\n",
      "\r\n",
      "models/amazon/indomain:\r\n",
      "books.pkl  dvd.pkl  electronics.pkl  kitchen.pkl\r\n",
      "\r\n",
      "models/amazon/msda:\r\n",
      "me1_0.pkl   me1_3.pkl \tme1_6.pkl   me1_best_models.pkl\r\n",
      "me1_1.pkl   me1_4.pkl \tme1_7.pkl   me1_models_paths.pkl\r\n",
      "me1_2.pkl   me1_5.pkl \tme1_8.pkl \r\n",
      "\r\n",
      "models/amazon/pca:\r\n",
      "\r\n",
      "models/amazon/sda:\r\n"
     ]
    }
   ],
   "source": [
    "! ls -R $initial_path"
   ]
  }
 ],
 "metadata": {
  "kernelspec": {
   "display_name": "Python 2",
   "language": "python",
   "name": "python2"
  },
  "language_info": {
   "codemirror_mode": {
    "name": "ipython",
    "version": 2
   },
   "file_extension": ".py",
   "mimetype": "text/x-python",
   "name": "python",
   "nbconvert_exporter": "python",
   "pygments_lexer": "ipython2",
   "version": "2.7.13"
  }
 },
 "nbformat": 4,
 "nbformat_minor": 2
}
