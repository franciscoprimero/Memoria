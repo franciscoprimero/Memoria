{
 "cells": [
  {
   "cell_type": "code",
   "execution_count": 1,
   "metadata": {
    "collapsed": true
   },
   "outputs": [],
   "source": [
    "%load_ext autoreload\n",
    "%autoreload 2"
   ]
  },
  {
   "cell_type": "code",
   "execution_count": 2,
   "metadata": {},
   "outputs": [
    {
     "name": "stderr",
     "output_type": "stream",
     "text": [
      "Using Theano backend.\n",
      "/home/francisco/miniconda2/envs/env_memoria/lib/python2.7/site-packages/sklearn/cross_validation.py:44: DeprecationWarning: This module was deprecated in version 0.18 in favor of the model_selection module into which all the refactored classes and functions are moved. Also note that the interface of the new CV iterators are different from that of this module. This module will be removed in 0.20.\n",
      "  \"This module will be removed in 0.20.\", DeprecationWarning)\n",
      "/home/francisco/miniconda2/envs/env_memoria/lib/python2.7/site-packages/sklearn/grid_search.py:43: DeprecationWarning: This module was deprecated in version 0.18 in favor of the model_selection module into which all the refactored classes and functions are moved. This module will be removed in 0.20.\n",
      "  DeprecationWarning)\n"
     ]
    }
   ],
   "source": [
    "#carga de datasets\n",
    "from utils.DatasetStorage import Dataset\n",
    "from utils.paths import *\n",
    "\n",
    "#clasificadores\n",
    "from utils.clasificacion import *\n",
    "\n",
    "#adaptacion\n",
    "from utils.adaptacion import sda_pseudo_grid_search\n",
    "from keras.models import load_model\n",
    "\n",
    "\n",
    "import os\n",
    "import time\n",
    "import pandas as pd\n",
    "import numpy as np\n",
    "from sklearn.externals import joblib\n",
    "from sklearn.model_selection import train_test_split\n",
    "\n",
    "#variables para guardar los resultados\n",
    "tipo = pruebas[4]\n",
    "dataset_name = datasets[1]\n",
    "dims = dimensions[dataset_name]"
   ]
  },
  {
   "cell_type": "markdown",
   "metadata": {
    "collapsed": true
   },
   "source": [
    "# Dataset de Twitter"
   ]
  },
  {
   "cell_type": "code",
   "execution_count": 3,
   "metadata": {},
   "outputs": [
    {
     "name": "stdout",
     "output_type": "stream",
     "text": [
      "sda\n",
      "twitter\n",
      "data\n",
      "1000\n"
     ]
    }
   ],
   "source": [
    "print tipo\n",
    "print dataset_name\n",
    "print data_path\n",
    "print dims"
   ]
  },
  {
   "cell_type": "code",
   "execution_count": 4,
   "metadata": {},
   "outputs": [
    {
     "name": "stdout",
     "output_type": "stream",
     "text": [
      "Dataset already splitted\n"
     ]
    }
   ],
   "source": [
    "# cargando dataset de Twitter\n",
    "dataset_path = os.path.join(data_path, dataset_name+'.pkl')\n",
    "dataset_object = Dataset().load(dataset_path)\n",
    "\n",
    "dataset_object.split_dataset(test_size=0.2)\n",
    "\n",
    "labeled = dataset_object.labeled\n",
    "domains = dataset_object.domains"
   ]
  },
  {
   "cell_type": "code",
   "execution_count": 5,
   "metadata": {},
   "outputs": [
    {
     "name": "stdout",
     "output_type": "stream",
     "text": [
      "(5792, 1000)\n",
      "Todos los datos disponibles obtenidos\n"
     ]
    }
   ],
   "source": [
    "# se obtienen todos los valores X disponibles para realizar adaptacion\n",
    "X = dataset_object.get_all_X()\n",
    "X = np.asarray(X)\n",
    "\n",
    "print X.shape\n",
    "\n",
    "print \"Todos los datos disponibles obtenidos\""
   ]
  },
  {
   "cell_type": "code",
   "execution_count": 6,
   "metadata": {},
   "outputs": [
    {
     "name": "stdout",
     "output_type": "stream",
     "text": [
      "(4633, 1000)\n",
      "(1159, 1000)\n"
     ]
    }
   ],
   "source": [
    "# se divide el dataset para los datos de entrenamiento y validacion del SDA\n",
    "X_train, X_val, _, _ = train_test_split(X, np.zeros(X.shape[0]), test_size=0.2, random_state=42)\n",
    "\n",
    "print X_train.shape\n",
    "print X_val.shape"
   ]
  },
  {
   "cell_type": "markdown",
   "metadata": {},
   "source": [
    "# Adaptación\n",
    "\n",
    "\n",
    "## Creación de modelos de adaptación.\n",
    "\n",
    "Para cada dominio se entrenan distintos modelos según los parámetros enviados.\n",
    "\n",
    "Cada modelo es guardado en la ruta: models/twitter/sda/me1\\_[dominio\\_objetivo]_[numero_de_modelo].pkl\n",
    "\n",
    "Todas las rutas son guardadas en una lista, la cual es almacenada en: models/twitter/sda/me1_models_paths.pkl\n",
    "\n",
    "```python\n",
    "paths_list = [{'autoencoder': ruta_autoencoder, 'encoder': ruta_encoder}, ..., {'autoencoder': ruta_autoencoder, 'encoder': ruta_encoder}]\n",
    "```"
   ]
  },
  {
   "cell_type": "code",
   "execution_count": 7,
   "metadata": {},
   "outputs": [
    {
     "name": "stdout",
     "output_type": "stream",
     "text": [
      "Creando modelos de adaptacion...\n",
      "pr: 0.300 - epochs: 50 - layers: [500]\n",
      "\tEntrenando autoencoder...\n",
      "\tGuardando autoencoder en models/twitter/sda/me1_ae_0.h5\n",
      "\tGuardando encoder en models/twitter/sda/me1_e_0.h5\n",
      "pr: 0.300 - epochs: 25 - layers: [500]\n",
      "\tEntrenando autoencoder...\n",
      "\tGuardando autoencoder en models/twitter/sda/me1_ae_1.h5\n",
      "\tGuardando encoder en models/twitter/sda/me1_e_1.h5\n",
      "pr: 0.300 - epochs: 50 - layers: [500, 250]\n",
      "\tEntrenando autoencoder...\n",
      "\tGuardando autoencoder en models/twitter/sda/me1_ae_2.h5\n",
      "\tGuardando encoder en models/twitter/sda/me1_e_2.h5\n",
      "pr: 0.300 - epochs: 25 - layers: [500, 250]\n",
      "\tEntrenando autoencoder...\n",
      "\tGuardando autoencoder en models/twitter/sda/me1_ae_3.h5\n",
      "\tGuardando encoder en models/twitter/sda/me1_e_3.h5\n",
      "pr: 0.500 - epochs: 50 - layers: [500]\n",
      "\tEntrenando autoencoder...\n",
      "\tGuardando autoencoder en models/twitter/sda/me1_ae_4.h5\n",
      "\tGuardando encoder en models/twitter/sda/me1_e_4.h5\n",
      "pr: 0.500 - epochs: 25 - layers: [500]\n",
      "\tEntrenando autoencoder...\n",
      "\tGuardando autoencoder en models/twitter/sda/me1_ae_5.h5\n",
      "\tGuardando encoder en models/twitter/sda/me1_e_5.h5\n",
      "pr: 0.500 - epochs: 50 - layers: [500, 250]\n",
      "\tEntrenando autoencoder...\n",
      "\tGuardando autoencoder en models/twitter/sda/me1_ae_6.h5\n",
      "\tGuardando encoder en models/twitter/sda/me1_e_6.h5\n",
      "pr: 0.500 - epochs: 25 - layers: [500, 250]\n",
      "\tEntrenando autoencoder...\n",
      "\tGuardando autoencoder en models/twitter/sda/me1_ae_7.h5\n",
      "\tGuardando encoder en models/twitter/sda/me1_e_7.h5\n",
      "pr: 0.800 - epochs: 50 - layers: [500]\n",
      "\tEntrenando autoencoder...\n",
      "\tGuardando autoencoder en models/twitter/sda/me1_ae_8.h5\n",
      "\tGuardando encoder en models/twitter/sda/me1_e_8.h5\n",
      "pr: 0.800 - epochs: 25 - layers: [500]\n",
      "\tEntrenando autoencoder...\n",
      "\tGuardando autoencoder en models/twitter/sda/me1_ae_9.h5\n",
      "\tGuardando encoder en models/twitter/sda/me1_e_9.h5\n",
      "pr: 0.800 - epochs: 50 - layers: [500, 250]\n",
      "\tEntrenando autoencoder...\n",
      "\tGuardando autoencoder en models/twitter/sda/me1_ae_10.h5\n",
      "\tGuardando encoder en models/twitter/sda/me1_e_10.h5\n",
      "pr: 0.800 - epochs: 25 - layers: [500, 250]\n",
      "\tEntrenando autoencoder...\n",
      "\tGuardando autoencoder en models/twitter/sda/me1_ae_11.h5\n",
      "\tGuardando encoder en models/twitter/sda/me1_e_11.h5\n",
      "\n",
      "Creacion de modelos terminada\n",
      "Guardando rutas en models/twitter/sda/me1_models_paths.pkl\n",
      "Rutas cargadas en la variable 'paths_list'\n"
     ]
    }
   ],
   "source": [
    "models_paths = os.path.join(models_path, dataset_name, tipo, \"me1_models_paths.pkl\")\n",
    "paths_list = []\n",
    "\n",
    "# si existe el archivo con las rutas\n",
    "# se carga la lista con las rutas\n",
    "if os.path.exists(models_paths):\n",
    "    print \"Cargando rutas de modelos adaptados.\"\n",
    "    paths_list = joblib.load(models_paths)\n",
    "    print \"Rutas cargadas en la variable 'paths_list'\"\n",
    "# si no\n",
    "# se entrenan los modelos y se obtiene la lista con rutas\n",
    "else:\n",
    "    #se establecen los parametros para los modelos\n",
    "    parametros = {\n",
    "        'noises': [0.3 , 0.5, 0.8],\n",
    "        'layers': [[int(dims/2)], [int(dims/2), int(dims/4)]],\n",
    "        'epochs': [50, 25],\n",
    "    }\n",
    "\n",
    "    print \"Creando modelos de adaptacion...\"\n",
    "    \n",
    "    folder_path = os.path.join(models_path, dataset_name, tipo)\n",
    "    prefix = \"me1_\"\n",
    "        \n",
    "    paths_list = sda_pseudo_grid_search(X_train, X_val, parametros, folder_path, prefix)\n",
    "\n",
    "    print \"\\nCreacion de modelos terminada\\nGuardando rutas en %s\" % models_paths\n",
    "    joblib.dump(paths_list, models_paths)\n",
    "    print \"Rutas cargadas en la variable 'paths_list'\""
   ]
  },
  {
   "cell_type": "code",
   "execution_count": 8,
   "metadata": {},
   "outputs": [
    {
     "name": "stdout",
     "output_type": "stream",
     "text": [
      "Modelos almacenados en:\n",
      "\tautoencoder- models/twitter/sda/me1_ae_0.h5\n",
      "encoder - models/twitter/sda/me1_e_0.h5\n",
      "\n",
      "\tautoencoder- models/twitter/sda/me1_ae_1.h5\n",
      "encoder - models/twitter/sda/me1_e_1.h5\n",
      "\n",
      "\tautoencoder- models/twitter/sda/me1_ae_2.h5\n",
      "encoder - models/twitter/sda/me1_e_2.h5\n",
      "\n",
      "\tautoencoder- models/twitter/sda/me1_ae_3.h5\n",
      "encoder - models/twitter/sda/me1_e_3.h5\n",
      "\n",
      "\tautoencoder- models/twitter/sda/me1_ae_4.h5\n",
      "encoder - models/twitter/sda/me1_e_4.h5\n",
      "\n",
      "\tautoencoder- models/twitter/sda/me1_ae_5.h5\n",
      "encoder - models/twitter/sda/me1_e_5.h5\n",
      "\n",
      "\tautoencoder- models/twitter/sda/me1_ae_6.h5\n",
      "encoder - models/twitter/sda/me1_e_6.h5\n",
      "\n",
      "\tautoencoder- models/twitter/sda/me1_ae_7.h5\n",
      "encoder - models/twitter/sda/me1_e_7.h5\n",
      "\n",
      "\tautoencoder- models/twitter/sda/me1_ae_8.h5\n",
      "encoder - models/twitter/sda/me1_e_8.h5\n",
      "\n",
      "\tautoencoder- models/twitter/sda/me1_ae_9.h5\n",
      "encoder - models/twitter/sda/me1_e_9.h5\n",
      "\n",
      "\tautoencoder- models/twitter/sda/me1_ae_10.h5\n",
      "encoder - models/twitter/sda/me1_e_10.h5\n",
      "\n",
      "\tautoencoder- models/twitter/sda/me1_ae_11.h5\n",
      "encoder - models/twitter/sda/me1_e_11.h5\n",
      "\n"
     ]
    }
   ],
   "source": [
    "print \"Modelos almacenados en:\"\n",
    "for rutas in paths_list:\n",
    "    print \"\\tautoencoder- %s\\nencoder - %s\\n\" % (rutas['autoencoder'], rutas['encoder'])"
   ]
  },
  {
   "cell_type": "markdown",
   "metadata": {},
   "source": [
    "## Busqueda del mejor modelo por dominio\n",
    "\n",
    "Por cada dominio se busca el mejor modelo de adaptación.\n",
    "\n",
    "Esto se obtiene adaptando los datos de entrenamiento de cada dominio por cada modelo creado y realizando Grid-Search y Cross-Validation con estos datos.\n",
    "\n",
    "El modelo que logre un mejor valor de Cross-Validation es considerado el mejor modelo para adaptar y queda guardado en un diccionario de la forma:\n",
    "\n",
    "```python\n",
    "best_models = {\n",
    "    [dominio_1] = {'autoencoder': ruta_autoencoder, 'encoder': ruta_encoder},\n",
    "    .\n",
    "    .\n",
    "    .\n",
    "    [dominio_n] = {'autoencoder': ruta_autoencoder, 'encoder': ruta_encoder},\n",
    "}\n",
    "```\n",
    "\n",
    "Este diccionario queda almacenado en la ruta:\n",
    "    models/twitter/sda/me1_best_models.pkl"
   ]
  },
  {
   "cell_type": "code",
   "execution_count": 9,
   "metadata": {},
   "outputs": [
    {
     "name": "stdout",
     "output_type": "stream",
     "text": [
      "Obteniendo mejores modelos...\n",
      "thevoice\n"
     ]
    },
    {
     "name": "stderr",
     "output_type": "stream",
     "text": [
      "/home/francisco/miniconda2/envs/env_memoria/lib/python2.7/site-packages/keras/models.py:240: UserWarning: No training configuration found in save file: the model was *not* compiled. Compile it manually.\n",
      "  warnings.warn('No training configuration found in save file: '\n"
     ]
    },
    {
     "name": "stdout",
     "output_type": "stream",
     "text": [
      "\t1 - score: 0.8799\n",
      "\t2 - score: 0.8837\n",
      "\t3 - score: 0.8353\n",
      "\t4 - score: 0.8431\n",
      "\t5 - score: 0.8539\n",
      "\t6 - score: 0.8788\n",
      "\t7 - score: 0.8193\n",
      "\t8 - score: 0.8563\n",
      "\t9 - score: 0.8589\n",
      "\t10 - score: 0.8903\n",
      "\t11 - score: 0.8167\n",
      "\t12 - score: 0.8280\n",
      "general\n"
     ]
    },
    {
     "name": "stderr",
     "output_type": "stream",
     "text": [
      "/home/francisco/miniconda2/envs/env_memoria/lib/python2.7/site-packages/sklearn/svm/base.py:220: ConvergenceWarning: Solver terminated early (max_iter=50000).  Consider pre-processing your data with StandardScaler or MinMaxScaler.\n",
      "  % self.max_iter, ConvergenceWarning)\n",
      "/home/francisco/miniconda2/envs/env_memoria/lib/python2.7/site-packages/sklearn/svm/base.py:220: ConvergenceWarning: Solver terminated early (max_iter=50000).  Consider pre-processing your data with StandardScaler or MinMaxScaler.\n",
      "  % self.max_iter, ConvergenceWarning)\n",
      "/home/francisco/miniconda2/envs/env_memoria/lib/python2.7/site-packages/sklearn/svm/base.py:220: ConvergenceWarning: Solver terminated early (max_iter=50000).  Consider pre-processing your data with StandardScaler or MinMaxScaler.\n",
      "  % self.max_iter, ConvergenceWarning)\n",
      "/home/francisco/miniconda2/envs/env_memoria/lib/python2.7/site-packages/sklearn/svm/base.py:220: ConvergenceWarning: Solver terminated early (max_iter=50000).  Consider pre-processing your data with StandardScaler or MinMaxScaler.\n",
      "  % self.max_iter, ConvergenceWarning)\n"
     ]
    },
    {
     "name": "stdout",
     "output_type": "stream",
     "text": [
      "\t1 - score: 0.7284\n"
     ]
    },
    {
     "name": "stderr",
     "output_type": "stream",
     "text": [
      "/home/francisco/miniconda2/envs/env_memoria/lib/python2.7/site-packages/sklearn/svm/base.py:220: ConvergenceWarning: Solver terminated early (max_iter=50000).  Consider pre-processing your data with StandardScaler or MinMaxScaler.\n",
      "  % self.max_iter, ConvergenceWarning)\n",
      "/home/francisco/miniconda2/envs/env_memoria/lib/python2.7/site-packages/sklearn/svm/base.py:220: ConvergenceWarning: Solver terminated early (max_iter=50000).  Consider pre-processing your data with StandardScaler or MinMaxScaler.\n",
      "  % self.max_iter, ConvergenceWarning)\n",
      "/home/francisco/miniconda2/envs/env_memoria/lib/python2.7/site-packages/sklearn/svm/base.py:220: ConvergenceWarning: Solver terminated early (max_iter=50000).  Consider pre-processing your data with StandardScaler or MinMaxScaler.\n",
      "  % self.max_iter, ConvergenceWarning)\n",
      "/home/francisco/miniconda2/envs/env_memoria/lib/python2.7/site-packages/sklearn/svm/base.py:220: ConvergenceWarning: Solver terminated early (max_iter=50000).  Consider pre-processing your data with StandardScaler or MinMaxScaler.\n",
      "  % self.max_iter, ConvergenceWarning)\n"
     ]
    },
    {
     "name": "stdout",
     "output_type": "stream",
     "text": [
      "\t2 - score: 0.7226\n"
     ]
    },
    {
     "name": "stderr",
     "output_type": "stream",
     "text": [
      "/home/francisco/miniconda2/envs/env_memoria/lib/python2.7/site-packages/sklearn/svm/base.py:220: ConvergenceWarning: Solver terminated early (max_iter=50000).  Consider pre-processing your data with StandardScaler or MinMaxScaler.\n",
      "  % self.max_iter, ConvergenceWarning)\n",
      "/home/francisco/miniconda2/envs/env_memoria/lib/python2.7/site-packages/sklearn/svm/base.py:220: ConvergenceWarning: Solver terminated early (max_iter=50000).  Consider pre-processing your data with StandardScaler or MinMaxScaler.\n",
      "  % self.max_iter, ConvergenceWarning)\n",
      "/home/francisco/miniconda2/envs/env_memoria/lib/python2.7/site-packages/sklearn/svm/base.py:220: ConvergenceWarning: Solver terminated early (max_iter=50000).  Consider pre-processing your data with StandardScaler or MinMaxScaler.\n",
      "  % self.max_iter, ConvergenceWarning)\n",
      "/home/francisco/miniconda2/envs/env_memoria/lib/python2.7/site-packages/sklearn/svm/base.py:220: ConvergenceWarning: Solver terminated early (max_iter=50000).  Consider pre-processing your data with StandardScaler or MinMaxScaler.\n",
      "  % self.max_iter, ConvergenceWarning)\n"
     ]
    },
    {
     "name": "stdout",
     "output_type": "stream",
     "text": [
      "\t3 - score: 0.7173\n"
     ]
    },
    {
     "name": "stderr",
     "output_type": "stream",
     "text": [
      "/home/francisco/miniconda2/envs/env_memoria/lib/python2.7/site-packages/sklearn/svm/base.py:220: ConvergenceWarning: Solver terminated early (max_iter=50000).  Consider pre-processing your data with StandardScaler or MinMaxScaler.\n",
      "  % self.max_iter, ConvergenceWarning)\n",
      "/home/francisco/miniconda2/envs/env_memoria/lib/python2.7/site-packages/sklearn/svm/base.py:220: ConvergenceWarning: Solver terminated early (max_iter=50000).  Consider pre-processing your data with StandardScaler or MinMaxScaler.\n",
      "  % self.max_iter, ConvergenceWarning)\n",
      "/home/francisco/miniconda2/envs/env_memoria/lib/python2.7/site-packages/sklearn/svm/base.py:220: ConvergenceWarning: Solver terminated early (max_iter=50000).  Consider pre-processing your data with StandardScaler or MinMaxScaler.\n",
      "  % self.max_iter, ConvergenceWarning)\n",
      "/home/francisco/miniconda2/envs/env_memoria/lib/python2.7/site-packages/sklearn/svm/base.py:220: ConvergenceWarning: Solver terminated early (max_iter=50000).  Consider pre-processing your data with StandardScaler or MinMaxScaler.\n",
      "  % self.max_iter, ConvergenceWarning)\n"
     ]
    },
    {
     "name": "stdout",
     "output_type": "stream",
     "text": [
      "\t4 - score: 0.7041\n"
     ]
    },
    {
     "name": "stderr",
     "output_type": "stream",
     "text": [
      "/home/francisco/miniconda2/envs/env_memoria/lib/python2.7/site-packages/sklearn/svm/base.py:220: ConvergenceWarning: Solver terminated early (max_iter=50000).  Consider pre-processing your data with StandardScaler or MinMaxScaler.\n",
      "  % self.max_iter, ConvergenceWarning)\n",
      "/home/francisco/miniconda2/envs/env_memoria/lib/python2.7/site-packages/sklearn/svm/base.py:220: ConvergenceWarning: Solver terminated early (max_iter=50000).  Consider pre-processing your data with StandardScaler or MinMaxScaler.\n",
      "  % self.max_iter, ConvergenceWarning)\n",
      "/home/francisco/miniconda2/envs/env_memoria/lib/python2.7/site-packages/sklearn/svm/base.py:220: ConvergenceWarning: Solver terminated early (max_iter=50000).  Consider pre-processing your data with StandardScaler or MinMaxScaler.\n",
      "  % self.max_iter, ConvergenceWarning)\n",
      "/home/francisco/miniconda2/envs/env_memoria/lib/python2.7/site-packages/sklearn/svm/base.py:220: ConvergenceWarning: Solver terminated early (max_iter=50000).  Consider pre-processing your data with StandardScaler or MinMaxScaler.\n",
      "  % self.max_iter, ConvergenceWarning)\n"
     ]
    },
    {
     "name": "stdout",
     "output_type": "stream",
     "text": [
      "\t5 - score: 0.7291\n"
     ]
    },
    {
     "name": "stderr",
     "output_type": "stream",
     "text": [
      "/home/francisco/miniconda2/envs/env_memoria/lib/python2.7/site-packages/sklearn/svm/base.py:220: ConvergenceWarning: Solver terminated early (max_iter=50000).  Consider pre-processing your data with StandardScaler or MinMaxScaler.\n",
      "  % self.max_iter, ConvergenceWarning)\n",
      "/home/francisco/miniconda2/envs/env_memoria/lib/python2.7/site-packages/sklearn/svm/base.py:220: ConvergenceWarning: Solver terminated early (max_iter=50000).  Consider pre-processing your data with StandardScaler or MinMaxScaler.\n",
      "  % self.max_iter, ConvergenceWarning)\n",
      "/home/francisco/miniconda2/envs/env_memoria/lib/python2.7/site-packages/sklearn/svm/base.py:220: ConvergenceWarning: Solver terminated early (max_iter=50000).  Consider pre-processing your data with StandardScaler or MinMaxScaler.\n",
      "  % self.max_iter, ConvergenceWarning)\n",
      "/home/francisco/miniconda2/envs/env_memoria/lib/python2.7/site-packages/sklearn/svm/base.py:220: ConvergenceWarning: Solver terminated early (max_iter=50000).  Consider pre-processing your data with StandardScaler or MinMaxScaler.\n",
      "  % self.max_iter, ConvergenceWarning)\n"
     ]
    },
    {
     "name": "stdout",
     "output_type": "stream",
     "text": [
      "\t6 - score: 0.7239\n"
     ]
    },
    {
     "name": "stderr",
     "output_type": "stream",
     "text": [
      "/home/francisco/miniconda2/envs/env_memoria/lib/python2.7/site-packages/sklearn/svm/base.py:220: ConvergenceWarning: Solver terminated early (max_iter=50000).  Consider pre-processing your data with StandardScaler or MinMaxScaler.\n",
      "  % self.max_iter, ConvergenceWarning)\n",
      "/home/francisco/miniconda2/envs/env_memoria/lib/python2.7/site-packages/sklearn/svm/base.py:220: ConvergenceWarning: Solver terminated early (max_iter=50000).  Consider pre-processing your data with StandardScaler or MinMaxScaler.\n",
      "  % self.max_iter, ConvergenceWarning)\n",
      "/home/francisco/miniconda2/envs/env_memoria/lib/python2.7/site-packages/sklearn/svm/base.py:220: ConvergenceWarning: Solver terminated early (max_iter=50000).  Consider pre-processing your data with StandardScaler or MinMaxScaler.\n",
      "  % self.max_iter, ConvergenceWarning)\n",
      "/home/francisco/miniconda2/envs/env_memoria/lib/python2.7/site-packages/sklearn/svm/base.py:220: ConvergenceWarning: Solver terminated early (max_iter=50000).  Consider pre-processing your data with StandardScaler or MinMaxScaler.\n",
      "  % self.max_iter, ConvergenceWarning)\n"
     ]
    },
    {
     "name": "stdout",
     "output_type": "stream",
     "text": [
      "\t7 - score: 0.6991\n"
     ]
    },
    {
     "name": "stderr",
     "output_type": "stream",
     "text": [
      "/home/francisco/miniconda2/envs/env_memoria/lib/python2.7/site-packages/sklearn/svm/base.py:220: ConvergenceWarning: Solver terminated early (max_iter=50000).  Consider pre-processing your data with StandardScaler or MinMaxScaler.\n",
      "  % self.max_iter, ConvergenceWarning)\n",
      "/home/francisco/miniconda2/envs/env_memoria/lib/python2.7/site-packages/sklearn/svm/base.py:220: ConvergenceWarning: Solver terminated early (max_iter=50000).  Consider pre-processing your data with StandardScaler or MinMaxScaler.\n",
      "  % self.max_iter, ConvergenceWarning)\n",
      "/home/francisco/miniconda2/envs/env_memoria/lib/python2.7/site-packages/sklearn/svm/base.py:220: ConvergenceWarning: Solver terminated early (max_iter=50000).  Consider pre-processing your data with StandardScaler or MinMaxScaler.\n",
      "  % self.max_iter, ConvergenceWarning)\n",
      "/home/francisco/miniconda2/envs/env_memoria/lib/python2.7/site-packages/sklearn/svm/base.py:220: ConvergenceWarning: Solver terminated early (max_iter=50000).  Consider pre-processing your data with StandardScaler or MinMaxScaler.\n",
      "  % self.max_iter, ConvergenceWarning)\n"
     ]
    },
    {
     "name": "stdout",
     "output_type": "stream",
     "text": [
      "\t8 - score: 0.7053\n"
     ]
    },
    {
     "name": "stderr",
     "output_type": "stream",
     "text": [
      "/home/francisco/miniconda2/envs/env_memoria/lib/python2.7/site-packages/sklearn/svm/base.py:220: ConvergenceWarning: Solver terminated early (max_iter=50000).  Consider pre-processing your data with StandardScaler or MinMaxScaler.\n",
      "  % self.max_iter, ConvergenceWarning)\n",
      "/home/francisco/miniconda2/envs/env_memoria/lib/python2.7/site-packages/sklearn/svm/base.py:220: ConvergenceWarning: Solver terminated early (max_iter=50000).  Consider pre-processing your data with StandardScaler or MinMaxScaler.\n",
      "  % self.max_iter, ConvergenceWarning)\n",
      "/home/francisco/miniconda2/envs/env_memoria/lib/python2.7/site-packages/sklearn/svm/base.py:220: ConvergenceWarning: Solver terminated early (max_iter=50000).  Consider pre-processing your data with StandardScaler or MinMaxScaler.\n",
      "  % self.max_iter, ConvergenceWarning)\n",
      "/home/francisco/miniconda2/envs/env_memoria/lib/python2.7/site-packages/sklearn/svm/base.py:220: ConvergenceWarning: Solver terminated early (max_iter=50000).  Consider pre-processing your data with StandardScaler or MinMaxScaler.\n",
      "  % self.max_iter, ConvergenceWarning)\n"
     ]
    },
    {
     "name": "stdout",
     "output_type": "stream",
     "text": [
      "\t9 - score: 0.7156\n"
     ]
    },
    {
     "name": "stderr",
     "output_type": "stream",
     "text": [
      "/home/francisco/miniconda2/envs/env_memoria/lib/python2.7/site-packages/sklearn/svm/base.py:220: ConvergenceWarning: Solver terminated early (max_iter=50000).  Consider pre-processing your data with StandardScaler or MinMaxScaler.\n",
      "  % self.max_iter, ConvergenceWarning)\n",
      "/home/francisco/miniconda2/envs/env_memoria/lib/python2.7/site-packages/sklearn/svm/base.py:220: ConvergenceWarning: Solver terminated early (max_iter=50000).  Consider pre-processing your data with StandardScaler or MinMaxScaler.\n",
      "  % self.max_iter, ConvergenceWarning)\n",
      "/home/francisco/miniconda2/envs/env_memoria/lib/python2.7/site-packages/sklearn/svm/base.py:220: ConvergenceWarning: Solver terminated early (max_iter=50000).  Consider pre-processing your data with StandardScaler or MinMaxScaler.\n",
      "  % self.max_iter, ConvergenceWarning)\n",
      "/home/francisco/miniconda2/envs/env_memoria/lib/python2.7/site-packages/sklearn/svm/base.py:220: ConvergenceWarning: Solver terminated early (max_iter=50000).  Consider pre-processing your data with StandardScaler or MinMaxScaler.\n",
      "  % self.max_iter, ConvergenceWarning)\n"
     ]
    },
    {
     "name": "stdout",
     "output_type": "stream",
     "text": [
      "\t10 - score: 0.7281\n"
     ]
    },
    {
     "name": "stderr",
     "output_type": "stream",
     "text": [
      "/home/francisco/miniconda2/envs/env_memoria/lib/python2.7/site-packages/sklearn/svm/base.py:220: ConvergenceWarning: Solver terminated early (max_iter=50000).  Consider pre-processing your data with StandardScaler or MinMaxScaler.\n",
      "  % self.max_iter, ConvergenceWarning)\n",
      "/home/francisco/miniconda2/envs/env_memoria/lib/python2.7/site-packages/sklearn/svm/base.py:220: ConvergenceWarning: Solver terminated early (max_iter=50000).  Consider pre-processing your data with StandardScaler or MinMaxScaler.\n",
      "  % self.max_iter, ConvergenceWarning)\n",
      "/home/francisco/miniconda2/envs/env_memoria/lib/python2.7/site-packages/sklearn/svm/base.py:220: ConvergenceWarning: Solver terminated early (max_iter=50000).  Consider pre-processing your data with StandardScaler or MinMaxScaler.\n",
      "  % self.max_iter, ConvergenceWarning)\n",
      "/home/francisco/miniconda2/envs/env_memoria/lib/python2.7/site-packages/sklearn/svm/base.py:220: ConvergenceWarning: Solver terminated early (max_iter=50000).  Consider pre-processing your data with StandardScaler or MinMaxScaler.\n",
      "  % self.max_iter, ConvergenceWarning)\n",
      "/home/francisco/miniconda2/envs/env_memoria/lib/python2.7/site-packages/sklearn/svm/base.py:220: ConvergenceWarning: Solver terminated early (max_iter=50000).  Consider pre-processing your data with StandardScaler or MinMaxScaler.\n",
      "  % self.max_iter, ConvergenceWarning)\n"
     ]
    },
    {
     "name": "stdout",
     "output_type": "stream",
     "text": [
      "\t11 - score: 0.7019\n",
      "\t12 - score: 0.6992\n",
      "rio2016\n",
      "\t1 - score: 0.8758\n",
      "\t2 - score: 0.8537\n",
      "\t3 - score: 0.8328\n",
      "\t4 - score: 0.8254\n",
      "\t5 - score: 0.8662\n",
      "\t6 - score: 0.8656\n",
      "\t7 - score: 0.8610\n",
      "\t8 - score: 0.8339\n",
      "\t9 - score: 0.8591\n",
      "\t10 - score: 0.8610\n",
      "\t11 - score: 0.8645\n",
      "\t12 - score: 0.8509\n",
      "Rutas guardadas en  models/twitter/sda/me1_best_models.pkl\n"
     ]
    }
   ],
   "source": [
    "best_models_paths = os.path.join(models_path, dataset_name, tipo, \"me1_best_models.pkl\")\n",
    "best_models = {}\n",
    "\n",
    "if os.path.exists(best_models_paths):\n",
    "    print \"Cargando rutas de los mejores modelos...\"\n",
    "    best_models = joblib.load(best_models_paths)\n",
    "    print \"Rutas cargadas\"  \n",
    "else:\n",
    "    print \"Obteniendo mejores modelos...\"\n",
    "    for domain in domains:\n",
    "        print domain\n",
    "        i = 1\n",
    "        best_score = 0\n",
    "        best_path = None\n",
    "        best_model = None\n",
    "        \n",
    "        for sda_model_path in paths_list:\n",
    "            encoder = load_model(sda_model_path['encoder'])\n",
    "\n",
    "            # se obtienen los datos del dominio\n",
    "            X_tr = np.asarray(labeled[domain]['X_tr'].todense())\n",
    "            y_tr = np.asarray(labeled[domain]['y_tr'].todense()).argmax(axis=1)\n",
    "\n",
    "            #se adapta el dominio segun el modelo\n",
    "            X_deep = encoder.predict(X_tr)\n",
    "\n",
    "            # se obtiene el mejor score con GridSearch\n",
    "            new_clf = get_best_score(X_deep, y_tr, classifier='SVC', n_jobs=4)\n",
    "            new_score = new_clf.best_score_\n",
    "            \n",
    "            print \"\\t%d - score: %.4f\" % (i, new_score)\n",
    "            \n",
    "            # se guarda si es el mejor para el modelo\n",
    "            if new_score > best_score:\n",
    "                best_score = new_score\n",
    "                best_path = sda_model_path['encoder']\n",
    "            i = i+1\n",
    "\n",
    "        #se guarda el mejor modelo para este dominio\n",
    "        best_models[domain] = best_path\n",
    "\n",
    "    # se guarda el diccionario con las mejores rutas\n",
    "    joblib.dump(best_models, best_models_paths)\n",
    "    print \"Rutas guardadas en \", best_models_paths"
   ]
  },
  {
   "cell_type": "code",
   "execution_count": 10,
   "metadata": {},
   "outputs": [
    {
     "name": "stdout",
     "output_type": "stream",
     "text": [
      "thevoice - models/twitter/sda/me1_e_9.h5\n",
      "rio2016 - models/twitter/sda/me1_e_0.h5\n",
      "general - models/twitter/sda/me1_e_4.h5\n"
     ]
    }
   ],
   "source": [
    "for dominio, ruta in best_models.items():\n",
    "    print \"%s - %s\" % (dominio, ruta)"
   ]
  },
  {
   "cell_type": "code",
   "execution_count": 11,
   "metadata": {},
   "outputs": [
    {
     "name": "stdout",
     "output_type": "stream",
     "text": [
      "Cargando mejor modelo para thevoice\n",
      "Adaptando dominio\n",
      "Cargando mejor modelo para general\n",
      "Adaptando dominio\n",
      "Cargando mejor modelo para rio2016\n",
      "Adaptando dominio\n",
      "3/3 dominios adaptados\n"
     ]
    }
   ],
   "source": [
    "#diccionario para mantener los dominios adaptados\n",
    "adapted = {}\n",
    "\n",
    "i = 0\n",
    "for domain in domains:\n",
    "    best_model_path = best_models[domain]\n",
    "    \n",
    "    if os.path.exists(best_model_path):\n",
    "        print \"Cargando mejor modelo para %s\" % domain\n",
    "        encoder = load_model(best_model_path)\n",
    "        \n",
    "        print \"Adaptando dominio\"\n",
    "        X_tr = np.asarray(labeled[domain]['X_tr'].todense())\n",
    "        \n",
    "        tr_reps = encoder.predict(X_tr)\n",
    "\n",
    "        adapted[domain] = {\n",
    "            'X_tr': tr_reps,\n",
    "        }\n",
    "        \n",
    "        i = i+1\n",
    "    else:\n",
    "        print \"Generar mejor modelo para %s\" % domain\n",
    "        \n",
    "print \"%d/%d dominios adaptados\" % (i, len(domains))"
   ]
  },
  {
   "cell_type": "markdown",
   "metadata": {},
   "source": [
    "## Pruebas de clasificación"
   ]
  },
  {
   "cell_type": "code",
   "execution_count": 12,
   "metadata": {},
   "outputs": [
    {
     "name": "stdout",
     "output_type": "stream",
     "text": [
      "Tarea 1 de 6\n",
      "Cargando modelo existente.\n",
      "Adaptando dominios...\n",
      "Entrenando clasificador adaptado.\n",
      "Tarea 2 de 6\n",
      "Cargando modelo existente.\n",
      "Adaptando dominios...\n",
      "Entrenando clasificador adaptado.\n",
      "Tarea 3 de 6\n",
      "Cargando modelo existente.\n",
      "Adaptando dominios...\n",
      "Entrenando clasificador adaptado.\n",
      "Tarea 4 de 6\n",
      "Cargando modelo existente.\n",
      "Adaptando dominios...\n",
      "Entrenando clasificador adaptado.\n",
      "Tarea 5 de 6\n",
      "Cargando modelo existente.\n",
      "Adaptando dominios...\n",
      "Entrenando clasificador adaptado.\n",
      "Tarea 6 de 6\n",
      "Cargando modelo existente.\n",
      "Adaptando dominios...\n",
      "Entrenando clasificador adaptado.\n",
      "\n",
      "Pruebas completadas.\n"
     ]
    }
   ],
   "source": [
    "df = pd.DataFrame(columns=dataframe_columns)\n",
    "\n",
    "i=1\n",
    "tareas = len(domains)*(len(domains)-1)\n",
    "\n",
    "# por cada par posible para adaptar\n",
    "for src in domains:\n",
    "    #se carga el mejor modelo para el dominio fuente\n",
    "    ruta = best_models[src]\n",
    "    sda_adapter = load_model(ruta)\n",
    "    \n",
    "    for tgt in domains:\n",
    "        if src is not tgt:\n",
    "            print \"Tarea %d de %d\" % (i, tareas)\n",
    "            \n",
    "            #baseline in-domain error\n",
    "            #e_b(T,T)\n",
    "            #entrenado en dominio tgt y probado en dominio tgt\n",
    "            X_tr = np.asarray(labeled[tgt]['X_tr'].todense())\n",
    "            y_tr = np.asarray(labeled[tgt]['y_tr'].todense()).argmax(axis=1)\n",
    "            \n",
    "            X_ts = np.asarray(labeled[tgt]['X_ts'].todense())\n",
    "            y_ts = np.asarray(labeled[tgt]['y_ts'].todense()).argmax(axis=1)\n",
    "            \n",
    "            # se crean las rutas para cargar o crear los modelos\n",
    "            model_name = \"%s.pkl\" % (tgt)\n",
    "            model_path = os.path.join(models_path, dataset_name, \"indomain\", model_name)\n",
    "            \n",
    "            #Se realiza una clasificacion, estimando los parametros mediante cv\n",
    "            svc = load_best_score(model_path, X_tr, y_tr)\n",
    "            b_error = 1-svc.score(X_ts, y_ts)\n",
    "            \n",
    "            \n",
    "            #############\n",
    "            #### SDA ####\n",
    "            #############\n",
    "            print \"Adaptando dominios...\"\n",
    "            \n",
    "            #entrenado en dominio src y probado en dominio tgt adaptados\n",
    "            X_tr_a = adapted[src]['X_tr']\n",
    "            y_tr = np.asarray(labeled[src]['y_tr'].todense()).argmax(axis=1)\n",
    "            \n",
    "            X_ts_a = sda_adapter.predict(X_ts)\n",
    "            y_ts = np.asarray(labeled[tgt]['y_ts'].todense()).argmax(axis=1)\n",
    "            \n",
    "            print \"Entrenando clasificador adaptado.\"\n",
    "            svc_a = get_best_score(X_tr_a, y_tr, classifier='SVC', n_jobs=4)\n",
    "            t_error = 1-svc_a.score(X_ts_a, y_ts)\n",
    "            \n",
    "            # transfer loss t\n",
    "            # t_error - b_error\n",
    "            t_loss = t_error - b_error\n",
    "            \n",
    "            tarea = src[0]+'->'+tgt[0]\n",
    "            df.loc[i] = ['SDA',tarea,src,tgt,b_error*100,t_error*100, t_loss*100]\n",
    "            i+=1\n",
    "\n",
    "print \"\\nPruebas completadas.\""
   ]
  },
  {
   "cell_type": "code",
   "execution_count": 13,
   "metadata": {},
   "outputs": [
    {
     "data": {
      "text/html": [
       "<div>\n",
       "<style>\n",
       "    .dataframe thead tr:only-child th {\n",
       "        text-align: right;\n",
       "    }\n",
       "\n",
       "    .dataframe thead th {\n",
       "        text-align: left;\n",
       "    }\n",
       "\n",
       "    .dataframe tbody tr th {\n",
       "        vertical-align: top;\n",
       "    }\n",
       "</style>\n",
       "<table border=\"1\" class=\"dataframe\">\n",
       "  <thead>\n",
       "    <tr style=\"text-align: right;\">\n",
       "      <th></th>\n",
       "      <th>Adaptacion</th>\n",
       "      <th>Tarea</th>\n",
       "      <th>Fuente</th>\n",
       "      <th>Objetivo</th>\n",
       "      <th>Baseline error</th>\n",
       "      <th>Transfer error</th>\n",
       "      <th>Transfer loss</th>\n",
       "    </tr>\n",
       "  </thead>\n",
       "  <tbody>\n",
       "    <tr>\n",
       "      <th>1</th>\n",
       "      <td>SDA</td>\n",
       "      <td>t-&gt;g</td>\n",
       "      <td>thevoice</td>\n",
       "      <td>general</td>\n",
       "      <td>34.582441</td>\n",
       "      <td>45.719635</td>\n",
       "      <td>11.137194</td>\n",
       "    </tr>\n",
       "    <tr>\n",
       "      <th>2</th>\n",
       "      <td>SDA</td>\n",
       "      <td>t-&gt;r</td>\n",
       "      <td>thevoice</td>\n",
       "      <td>rio2016</td>\n",
       "      <td>18.750000</td>\n",
       "      <td>24.274047</td>\n",
       "      <td>5.524047</td>\n",
       "    </tr>\n",
       "    <tr>\n",
       "      <th>3</th>\n",
       "      <td>SDA</td>\n",
       "      <td>g-&gt;t</td>\n",
       "      <td>general</td>\n",
       "      <td>thevoice</td>\n",
       "      <td>16.923077</td>\n",
       "      <td>27.195266</td>\n",
       "      <td>10.272189</td>\n",
       "    </tr>\n",
       "    <tr>\n",
       "      <th>4</th>\n",
       "      <td>SDA</td>\n",
       "      <td>g-&gt;r</td>\n",
       "      <td>general</td>\n",
       "      <td>rio2016</td>\n",
       "      <td>18.750000</td>\n",
       "      <td>25.952813</td>\n",
       "      <td>7.202813</td>\n",
       "    </tr>\n",
       "    <tr>\n",
       "      <th>5</th>\n",
       "      <td>SDA</td>\n",
       "      <td>r-&gt;t</td>\n",
       "      <td>rio2016</td>\n",
       "      <td>thevoice</td>\n",
       "      <td>16.923077</td>\n",
       "      <td>22.295858</td>\n",
       "      <td>5.372781</td>\n",
       "    </tr>\n",
       "    <tr>\n",
       "      <th>6</th>\n",
       "      <td>SDA</td>\n",
       "      <td>r-&gt;g</td>\n",
       "      <td>rio2016</td>\n",
       "      <td>general</td>\n",
       "      <td>34.582441</td>\n",
       "      <td>42.314111</td>\n",
       "      <td>7.731670</td>\n",
       "    </tr>\n",
       "  </tbody>\n",
       "</table>\n",
       "</div>"
      ],
      "text/plain": [
       "  Adaptacion Tarea    Fuente  Objetivo  Baseline error  Transfer error  \\\n",
       "1        SDA  t->g  thevoice   general       34.582441       45.719635   \n",
       "2        SDA  t->r  thevoice   rio2016       18.750000       24.274047   \n",
       "3        SDA  g->t   general  thevoice       16.923077       27.195266   \n",
       "4        SDA  g->r   general   rio2016       18.750000       25.952813   \n",
       "5        SDA  r->t   rio2016  thevoice       16.923077       22.295858   \n",
       "6        SDA  r->g   rio2016   general       34.582441       42.314111   \n",
       "\n",
       "   Transfer loss  \n",
       "1      11.137194  \n",
       "2       5.524047  \n",
       "3      10.272189  \n",
       "4       7.202813  \n",
       "5       5.372781  \n",
       "6       7.731670  "
      ]
     },
     "execution_count": 13,
     "metadata": {},
     "output_type": "execute_result"
    }
   ],
   "source": [
    "df"
   ]
  },
  {
   "cell_type": "code",
   "execution_count": 14,
   "metadata": {},
   "outputs": [
    {
     "name": "stdout",
     "output_type": "stream",
     "text": [
      "Guardando en scores/twitter/sda/me1_1000.csv\n",
      "Resultados guardados.\n"
     ]
    }
   ],
   "source": [
    "new_scores_path = os.path.join(scores_path,dataset_name, tipo, \"me1_%d.csv\" % (dims))\n",
    "\n",
    "print \"Guardando en %s\" % new_scores_path\n",
    "df.to_csv(new_scores_path, columns=df.columns)\n",
    "print \"Resultados guardados.\""
   ]
  }
 ],
 "metadata": {
  "kernelspec": {
   "display_name": "Python 2",
   "language": "python",
   "name": "python2"
  },
  "language_info": {
   "codemirror_mode": {
    "name": "ipython",
    "version": 2
   },
   "file_extension": ".py",
   "mimetype": "text/x-python",
   "name": "python",
   "nbconvert_exporter": "python",
   "pygments_lexer": "ipython2",
   "version": "2.7.13"
  }
 },
 "nbformat": 4,
 "nbformat_minor": 2
}
